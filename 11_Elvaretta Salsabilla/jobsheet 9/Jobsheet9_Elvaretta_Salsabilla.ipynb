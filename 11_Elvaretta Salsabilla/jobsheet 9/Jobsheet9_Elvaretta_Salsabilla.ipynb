{
  "nbformat": 4,
  "nbformat_minor": 0,
  "metadata": {
    "colab": {
      "provenance": []
    },
    "kernelspec": {
      "name": "python3",
      "display_name": "Python 3"
    },
    "language_info": {
      "name": "python"
    }
  },
  "cells": [
    {
      "cell_type": "markdown",
      "source": [
        "Nama : Elvaretta Salsabilla\n",
        "\n",
        "NIM : 2241720116  \n",
        "\n",
        "Kelas : 3E"
      ],
      "metadata": {
        "id": "6KaL4Juz0Zg-"
      }
    },
    {
      "cell_type": "markdown",
      "source": [
        "# Praktikum 1\n",
        "Pada pratikum ini, Anda diminta untuk melakukan klasifikasi bunga iris dengan menggunakan model Perceptron. Anda dapat menggunakan dataset iris pada praktikum sebelumnya.\n",
        "\n",
        "Untuk nembah pemahaman Anda terkait dengan model Perceptron, pada pratkikum ini Anda akan membuat model Perceptron tanpa menggunakan library."
      ],
      "metadata": {
        "id": "xlzfZS6f0g41"
      }
    },
    {
      "cell_type": "markdown",
      "source": [
        "**Langkah 1 - Import Library**"
      ],
      "metadata": {
        "id": "1Q37aqqH0onA"
      }
    },
    {
      "cell_type": "code",
      "execution_count": 67,
      "metadata": {
        "id": "oQabsEg3tbVh"
      },
      "outputs": [],
      "source": [
        "import numpy as np\n",
        "import matplotlib.pyplot as plt\n",
        "import pandas as pd\n",
        "import seaborn as sns\n",
        "from sklearn.preprocessing import LabelEncoder"
      ]
    },
    {
      "cell_type": "markdown",
      "source": [
        "**Langkah 2 - Load Data dan Visualisasi**"
      ],
      "metadata": {
        "id": "ALbHUPMx0rDm"
      }
    },
    {
      "cell_type": "code",
      "source": [
        "df = pd.read_csv('iris.csv')\n",
        "df.head()"
      ],
      "metadata": {
        "colab": {
          "base_uri": "https://localhost:8080/",
          "height": 206
        },
        "id": "jrvKVDgz28DI",
        "outputId": "9861a89b-c31b-4e40-a3ad-a81d43ee998c"
      },
      "execution_count": 68,
      "outputs": [
        {
          "output_type": "execute_result",
          "data": {
            "text/plain": [
              "   5.1  3.5  1.4  0.2  Iris-setosa\n",
              "0  4.9  3.0  1.4  0.2  Iris-setosa\n",
              "1  4.7  3.2  1.3  0.2  Iris-setosa\n",
              "2  4.6  3.1  1.5  0.2  Iris-setosa\n",
              "3  5.0  3.6  1.4  0.2  Iris-setosa\n",
              "4  5.4  3.9  1.7  0.4  Iris-setosa"
            ],
            "text/html": [
              "\n",
              "  <div id=\"df-dbd3daa5-07d2-4268-82bd-43979cb8b80d\" class=\"colab-df-container\">\n",
              "    <div>\n",
              "<style scoped>\n",
              "    .dataframe tbody tr th:only-of-type {\n",
              "        vertical-align: middle;\n",
              "    }\n",
              "\n",
              "    .dataframe tbody tr th {\n",
              "        vertical-align: top;\n",
              "    }\n",
              "\n",
              "    .dataframe thead th {\n",
              "        text-align: right;\n",
              "    }\n",
              "</style>\n",
              "<table border=\"1\" class=\"dataframe\">\n",
              "  <thead>\n",
              "    <tr style=\"text-align: right;\">\n",
              "      <th></th>\n",
              "      <th>5.1</th>\n",
              "      <th>3.5</th>\n",
              "      <th>1.4</th>\n",
              "      <th>0.2</th>\n",
              "      <th>Iris-setosa</th>\n",
              "    </tr>\n",
              "  </thead>\n",
              "  <tbody>\n",
              "    <tr>\n",
              "      <th>0</th>\n",
              "      <td>4.9</td>\n",
              "      <td>3.0</td>\n",
              "      <td>1.4</td>\n",
              "      <td>0.2</td>\n",
              "      <td>Iris-setosa</td>\n",
              "    </tr>\n",
              "    <tr>\n",
              "      <th>1</th>\n",
              "      <td>4.7</td>\n",
              "      <td>3.2</td>\n",
              "      <td>1.3</td>\n",
              "      <td>0.2</td>\n",
              "      <td>Iris-setosa</td>\n",
              "    </tr>\n",
              "    <tr>\n",
              "      <th>2</th>\n",
              "      <td>4.6</td>\n",
              "      <td>3.1</td>\n",
              "      <td>1.5</td>\n",
              "      <td>0.2</td>\n",
              "      <td>Iris-setosa</td>\n",
              "    </tr>\n",
              "    <tr>\n",
              "      <th>3</th>\n",
              "      <td>5.0</td>\n",
              "      <td>3.6</td>\n",
              "      <td>1.4</td>\n",
              "      <td>0.2</td>\n",
              "      <td>Iris-setosa</td>\n",
              "    </tr>\n",
              "    <tr>\n",
              "      <th>4</th>\n",
              "      <td>5.4</td>\n",
              "      <td>3.9</td>\n",
              "      <td>1.7</td>\n",
              "      <td>0.4</td>\n",
              "      <td>Iris-setosa</td>\n",
              "    </tr>\n",
              "  </tbody>\n",
              "</table>\n",
              "</div>\n",
              "    <div class=\"colab-df-buttons\">\n",
              "\n",
              "  <div class=\"colab-df-container\">\n",
              "    <button class=\"colab-df-convert\" onclick=\"convertToInteractive('df-dbd3daa5-07d2-4268-82bd-43979cb8b80d')\"\n",
              "            title=\"Convert this dataframe to an interactive table.\"\n",
              "            style=\"display:none;\">\n",
              "\n",
              "  <svg xmlns=\"http://www.w3.org/2000/svg\" height=\"24px\" viewBox=\"0 -960 960 960\">\n",
              "    <path d=\"M120-120v-720h720v720H120Zm60-500h600v-160H180v160Zm220 220h160v-160H400v160Zm0 220h160v-160H400v160ZM180-400h160v-160H180v160Zm440 0h160v-160H620v160ZM180-180h160v-160H180v160Zm440 0h160v-160H620v160Z\"/>\n",
              "  </svg>\n",
              "    </button>\n",
              "\n",
              "  <style>\n",
              "    .colab-df-container {\n",
              "      display:flex;\n",
              "      gap: 12px;\n",
              "    }\n",
              "\n",
              "    .colab-df-convert {\n",
              "      background-color: #E8F0FE;\n",
              "      border: none;\n",
              "      border-radius: 50%;\n",
              "      cursor: pointer;\n",
              "      display: none;\n",
              "      fill: #1967D2;\n",
              "      height: 32px;\n",
              "      padding: 0 0 0 0;\n",
              "      width: 32px;\n",
              "    }\n",
              "\n",
              "    .colab-df-convert:hover {\n",
              "      background-color: #E2EBFA;\n",
              "      box-shadow: 0px 1px 2px rgba(60, 64, 67, 0.3), 0px 1px 3px 1px rgba(60, 64, 67, 0.15);\n",
              "      fill: #174EA6;\n",
              "    }\n",
              "\n",
              "    .colab-df-buttons div {\n",
              "      margin-bottom: 4px;\n",
              "    }\n",
              "\n",
              "    [theme=dark] .colab-df-convert {\n",
              "      background-color: #3B4455;\n",
              "      fill: #D2E3FC;\n",
              "    }\n",
              "\n",
              "    [theme=dark] .colab-df-convert:hover {\n",
              "      background-color: #434B5C;\n",
              "      box-shadow: 0px 1px 3px 1px rgba(0, 0, 0, 0.15);\n",
              "      filter: drop-shadow(0px 1px 2px rgba(0, 0, 0, 0.3));\n",
              "      fill: #FFFFFF;\n",
              "    }\n",
              "  </style>\n",
              "\n",
              "    <script>\n",
              "      const buttonEl =\n",
              "        document.querySelector('#df-dbd3daa5-07d2-4268-82bd-43979cb8b80d button.colab-df-convert');\n",
              "      buttonEl.style.display =\n",
              "        google.colab.kernel.accessAllowed ? 'block' : 'none';\n",
              "\n",
              "      async function convertToInteractive(key) {\n",
              "        const element = document.querySelector('#df-dbd3daa5-07d2-4268-82bd-43979cb8b80d');\n",
              "        const dataTable =\n",
              "          await google.colab.kernel.invokeFunction('convertToInteractive',\n",
              "                                                    [key], {});\n",
              "        if (!dataTable) return;\n",
              "\n",
              "        const docLinkHtml = 'Like what you see? Visit the ' +\n",
              "          '<a target=\"_blank\" href=https://colab.research.google.com/notebooks/data_table.ipynb>data table notebook</a>'\n",
              "          + ' to learn more about interactive tables.';\n",
              "        element.innerHTML = '';\n",
              "        dataTable['output_type'] = 'display_data';\n",
              "        await google.colab.output.renderOutput(dataTable, element);\n",
              "        const docLink = document.createElement('div');\n",
              "        docLink.innerHTML = docLinkHtml;\n",
              "        element.appendChild(docLink);\n",
              "      }\n",
              "    </script>\n",
              "  </div>\n",
              "\n",
              "\n",
              "<div id=\"df-e956ce7d-187b-47fe-aa74-23514909ccba\">\n",
              "  <button class=\"colab-df-quickchart\" onclick=\"quickchart('df-e956ce7d-187b-47fe-aa74-23514909ccba')\"\n",
              "            title=\"Suggest charts\"\n",
              "            style=\"display:none;\">\n",
              "\n",
              "<svg xmlns=\"http://www.w3.org/2000/svg\" height=\"24px\"viewBox=\"0 0 24 24\"\n",
              "     width=\"24px\">\n",
              "    <g>\n",
              "        <path d=\"M19 3H5c-1.1 0-2 .9-2 2v14c0 1.1.9 2 2 2h14c1.1 0 2-.9 2-2V5c0-1.1-.9-2-2-2zM9 17H7v-7h2v7zm4 0h-2V7h2v10zm4 0h-2v-4h2v4z\"/>\n",
              "    </g>\n",
              "</svg>\n",
              "  </button>\n",
              "\n",
              "<style>\n",
              "  .colab-df-quickchart {\n",
              "      --bg-color: #E8F0FE;\n",
              "      --fill-color: #1967D2;\n",
              "      --hover-bg-color: #E2EBFA;\n",
              "      --hover-fill-color: #174EA6;\n",
              "      --disabled-fill-color: #AAA;\n",
              "      --disabled-bg-color: #DDD;\n",
              "  }\n",
              "\n",
              "  [theme=dark] .colab-df-quickchart {\n",
              "      --bg-color: #3B4455;\n",
              "      --fill-color: #D2E3FC;\n",
              "      --hover-bg-color: #434B5C;\n",
              "      --hover-fill-color: #FFFFFF;\n",
              "      --disabled-bg-color: #3B4455;\n",
              "      --disabled-fill-color: #666;\n",
              "  }\n",
              "\n",
              "  .colab-df-quickchart {\n",
              "    background-color: var(--bg-color);\n",
              "    border: none;\n",
              "    border-radius: 50%;\n",
              "    cursor: pointer;\n",
              "    display: none;\n",
              "    fill: var(--fill-color);\n",
              "    height: 32px;\n",
              "    padding: 0;\n",
              "    width: 32px;\n",
              "  }\n",
              "\n",
              "  .colab-df-quickchart:hover {\n",
              "    background-color: var(--hover-bg-color);\n",
              "    box-shadow: 0 1px 2px rgba(60, 64, 67, 0.3), 0 1px 3px 1px rgba(60, 64, 67, 0.15);\n",
              "    fill: var(--button-hover-fill-color);\n",
              "  }\n",
              "\n",
              "  .colab-df-quickchart-complete:disabled,\n",
              "  .colab-df-quickchart-complete:disabled:hover {\n",
              "    background-color: var(--disabled-bg-color);\n",
              "    fill: var(--disabled-fill-color);\n",
              "    box-shadow: none;\n",
              "  }\n",
              "\n",
              "  .colab-df-spinner {\n",
              "    border: 2px solid var(--fill-color);\n",
              "    border-color: transparent;\n",
              "    border-bottom-color: var(--fill-color);\n",
              "    animation:\n",
              "      spin 1s steps(1) infinite;\n",
              "  }\n",
              "\n",
              "  @keyframes spin {\n",
              "    0% {\n",
              "      border-color: transparent;\n",
              "      border-bottom-color: var(--fill-color);\n",
              "      border-left-color: var(--fill-color);\n",
              "    }\n",
              "    20% {\n",
              "      border-color: transparent;\n",
              "      border-left-color: var(--fill-color);\n",
              "      border-top-color: var(--fill-color);\n",
              "    }\n",
              "    30% {\n",
              "      border-color: transparent;\n",
              "      border-left-color: var(--fill-color);\n",
              "      border-top-color: var(--fill-color);\n",
              "      border-right-color: var(--fill-color);\n",
              "    }\n",
              "    40% {\n",
              "      border-color: transparent;\n",
              "      border-right-color: var(--fill-color);\n",
              "      border-top-color: var(--fill-color);\n",
              "    }\n",
              "    60% {\n",
              "      border-color: transparent;\n",
              "      border-right-color: var(--fill-color);\n",
              "    }\n",
              "    80% {\n",
              "      border-color: transparent;\n",
              "      border-right-color: var(--fill-color);\n",
              "      border-bottom-color: var(--fill-color);\n",
              "    }\n",
              "    90% {\n",
              "      border-color: transparent;\n",
              "      border-bottom-color: var(--fill-color);\n",
              "    }\n",
              "  }\n",
              "</style>\n",
              "\n",
              "  <script>\n",
              "    async function quickchart(key) {\n",
              "      const quickchartButtonEl =\n",
              "        document.querySelector('#' + key + ' button');\n",
              "      quickchartButtonEl.disabled = true;  // To prevent multiple clicks.\n",
              "      quickchartButtonEl.classList.add('colab-df-spinner');\n",
              "      try {\n",
              "        const charts = await google.colab.kernel.invokeFunction(\n",
              "            'suggestCharts', [key], {});\n",
              "      } catch (error) {\n",
              "        console.error('Error during call to suggestCharts:', error);\n",
              "      }\n",
              "      quickchartButtonEl.classList.remove('colab-df-spinner');\n",
              "      quickchartButtonEl.classList.add('colab-df-quickchart-complete');\n",
              "    }\n",
              "    (() => {\n",
              "      let quickchartButtonEl =\n",
              "        document.querySelector('#df-e956ce7d-187b-47fe-aa74-23514909ccba button');\n",
              "      quickchartButtonEl.style.display =\n",
              "        google.colab.kernel.accessAllowed ? 'block' : 'none';\n",
              "    })();\n",
              "  </script>\n",
              "</div>\n",
              "\n",
              "    </div>\n",
              "  </div>\n"
            ],
            "application/vnd.google.colaboratory.intrinsic+json": {
              "type": "dataframe",
              "variable_name": "df",
              "summary": "{\n  \"name\": \"df\",\n  \"rows\": 149,\n  \"fields\": [\n    {\n      \"column\": \"5.1\",\n      \"properties\": {\n        \"dtype\": \"number\",\n        \"std\": 0.8285940572656172,\n        \"min\": 4.3,\n        \"max\": 7.9,\n        \"num_unique_values\": 35,\n        \"samples\": [\n          6.2,\n          4.5,\n          5.6\n        ],\n        \"semantic_type\": \"\",\n        \"description\": \"\"\n      }\n    },\n    {\n      \"column\": \"3.5\",\n      \"properties\": {\n        \"dtype\": \"number\",\n        \"std\": 0.4334988777167477,\n        \"min\": 2.0,\n        \"max\": 4.4,\n        \"num_unique_values\": 23,\n        \"samples\": [\n          2.3,\n          4.4,\n          3.0\n        ],\n        \"semantic_type\": \"\",\n        \"description\": \"\"\n      }\n    },\n    {\n      \"column\": \"1.4\",\n      \"properties\": {\n        \"dtype\": \"number\",\n        \"std\": 1.7596511617753423,\n        \"min\": 1.0,\n        \"max\": 6.9,\n        \"num_unique_values\": 43,\n        \"samples\": [\n          6.7,\n          3.8,\n          3.7\n        ],\n        \"semantic_type\": \"\",\n        \"description\": \"\"\n      }\n    },\n    {\n      \"column\": \"0.2\",\n      \"properties\": {\n        \"dtype\": \"number\",\n        \"std\": 0.7612920413899608,\n        \"min\": 0.1,\n        \"max\": 2.5,\n        \"num_unique_values\": 22,\n        \"samples\": [\n          0.2,\n          1.2,\n          1.3\n        ],\n        \"semantic_type\": \"\",\n        \"description\": \"\"\n      }\n    },\n    {\n      \"column\": \"Iris-setosa\",\n      \"properties\": {\n        \"dtype\": \"category\",\n        \"num_unique_values\": 3,\n        \"samples\": [\n          \"Iris-setosa\",\n          \"Iris-versicolor\",\n          \"Iris-virginica\"\n        ],\n        \"semantic_type\": \"\",\n        \"description\": \"\"\n      }\n    }\n  ]\n}"
            }
          },
          "metadata": {},
          "execution_count": 68
        }
      ]
    },
    {
      "cell_type": "markdown",
      "source": [
        "Penjelasan: kode diatas digunakan untuk meload file csv dan menampilkan dalam bentuk tabel"
      ],
      "metadata": {
        "id": "fzXeD62eSta9"
      }
    },
    {
      "cell_type": "code",
      "source": [
        "df = pd.read_csv('iris.csv', header=None)\n",
        "setosa = df[df[4] == 'Iris-setosa']\n",
        "versicolor = df[df[4] == 'Iris-versicolor']\n",
        "virginica = df[df[4] == 'Iris-virginica']\n",
        "\n",
        "a, b = 0, 3\n",
        "plt.scatter(setosa[a], setosa[b], color='red', marker='o', label='setosa')\n",
        "plt.scatter(versicolor[a], versicolor[b], color='blue', marker='x', label='versicolor')\n",
        "\n",
        "plt.xlabel('Petal Length')\n",
        "plt.ylabel('Sepal Length')\n",
        "plt.legend(loc='upper left')\n",
        "plt.grid()\n",
        "plt.show()"
      ],
      "metadata": {
        "colab": {
          "base_uri": "https://localhost:8080/",
          "height": 449
        },
        "id": "545t7ak30yFT",
        "outputId": "96e045bf-5974-49c7-ec93-aa1116b6416e"
      },
      "execution_count": 69,
      "outputs": [
        {
          "output_type": "display_data",
          "data": {
            "text/plain": [
              "<Figure size 640x480 with 1 Axes>"
            ],
            "image/png": "[encoded data removed]"
          },
          "metadata": {}
        }
      ]
    },
    {
      "cell_type": "markdown",
      "source": [
        "Penjelasan:\n",
        "\n",
        "Kode diatas digunakan untuk memuat dan menampilkan data dari dataset Iris dengan scatter plot\n",
        "\n",
        "**Membaca Dataset:**\n",
        "\n",
        "- pd.read_csv('iris.csv', header=None) membaca data dari file iris.csv dan memuatnya ke dalam DataFrame df. Karena header=None, semua kolom dianggap tanpa nama, sehingga akses ke kolom dilakukan menggunakan indeks numerik.\n",
        "\n",
        "**Memisahkan Data Berdasarkan Kelas:**\n",
        "\n",
        "- df[df[4] == 'Iris-setosa'], df[df[4] == 'Iris-versicolor'], dan df[df[4] == 'Iris-virginica'] menyaring DataFrame df untuk mendapatkan subset data berdasarkan spesies, yaitu Iris-setosa, Iris-versicolor, dan Iris-virginica. Setiap subset disimpan dalam variabel terpisah.\n",
        "\n",
        "- Kolom ke-4 (df[4]) dalam DataFrame ini adalah kolom kelas yang berisi nama spesies bunga.\n",
        "\n",
        "**Menentukan Kolom untuk Scatter Plot:**\n",
        "\n",
        "- a, b = 0, 3 menentukan dua kolom (indeks 0 dan 3) yang akan digunakan sebagai sumbu x dan y dalam scatter plot. Pada dataset Iris, kolom ke-0 dan ke-3 adalah Petal Length dan Sepal Length.\n",
        "\n",
        "**Membuat Scatter Plot:**\n",
        "\n",
        "plt.scatter(setosa[a], setosa[b], ...) dan plt.scatter(versicolor[a], versicolor[b], ...) membuat scatter plot untuk masing-masing spesies:\n",
        "\n",
        "- Untuk Iris-setosa, data ditampilkan dengan warna merah dan marker berbentuk lingkaran.\n",
        "\n",
        "- Untuk Iris-versicolor, data ditampilkan dengan warna biru dan marker berbentuk silang.\n",
        "\n",
        "**Menambahkan Label dan Fitur Visual:**\n",
        "\n",
        "- plt.xlabel('Petal Length') dan plt.ylabel('Sepal Length') memberikan label pada sumbu x dan y untuk memperjelas data apa yang ditampilkan.\n",
        "\n",
        "- plt.legend(loc='upper left') menambahkan legenda yang menunjukkan spesies mana yang direpresentasikan oleh tiap warna dan marker, diletakkan di sudut kiri atas.\n",
        "- plt.grid() menambahkan grid pada latar belakang plot untuk membantu interpretasi visual data.\n",
        "\n",
        "**Menampilkan Plot:**\n",
        "\n",
        "- plt.show() menampilkan plot scatter secara visual, memungkinkan analisis visual perbedaan panjang petal dan sepal antara Iris-setosa dan Iris-versicolor."
      ],
      "metadata": {
        "id": "4zRHNbQUTIHl"
      }
    },
    {
      "cell_type": "markdown",
      "source": [
        "**Langkah 3 - Membuat Kelas Perceptron**"
      ],
      "metadata": {
        "id": "-e29Mq1y0zFW"
      }
    },
    {
      "cell_type": "code",
      "source": [
        "class Perceptron(object):\n",
        "    def __init__(self, eta=0.01, n_iter=10):\n",
        "        self.eta = eta\n",
        "        self.n_iter = n_iter\n",
        "\n",
        "    def fit(self, X, y):\n",
        "\n",
        "        self.w_ = np.zeros(1 + X.shape[1])\n",
        "        self.errors_ = []\n",
        "\n",
        "        for _ in range(self.n_iter):\n",
        "            errors = 0\n",
        "            for xi, target in zip(X, y):\n",
        "                update = self.eta * (target - self.predict(xi))\n",
        "                self.w_[0] += update\n",
        "                self.w_[1:] += update * xi\n",
        "                errors += int(update != 0.0)\n",
        "            self.errors_.append(errors)\n",
        "        return self\n",
        "\n",
        "    def net_input(self, X):\n",
        "        return np.dot(X, self.w_[1:]) + self.w_[0]\n",
        "\n",
        "    def predict(self, X):\n",
        "        return np.where(self.net_input(X) >= 0.0, 1, -1)"
      ],
      "metadata": {
        "id": "7dBV-VpP006H"
      },
      "execution_count": 70,
      "outputs": []
    },
    {
      "cell_type": "markdown",
      "source": [
        "Penjelasan:\n",
        "\n",
        "Kode ini adalah implementasi dari model Perceptron, yang merupakan algoritma pembelajaran mesin sederhana untuk klasifikasi biner\n",
        "\n",
        "**Kelas Perceptron**\n",
        "- class Perceptron(object): Mendefinisikan kelas Perceptron untuk membangun model perceptron.\n",
        "\n",
        "**Metode __init__**\n",
        "- def __init__(self, eta=0.01, n_iter=10): Inisialisasi parameter model.\n",
        "    - eta: Laju pembelajaran (learning rate) yang mengatur seberapa besar bobot diupdate setiap iterasi. Diatur ke nilai default 0.01.\n",
        "    - n_iter: Jumlah iterasi atau epoch yang digunakan untuk pelatihan. Diatur ke nilai default 10.\n",
        "- self.eta = eta dan self.n_iter = n_iter: Menyimpan nilai eta dan n_iter ke dalam instance.\n",
        "\n",
        "**Metode fit**\n",
        "- def fit(self, X, y): Melatih model menggunakan data input X (fitur) dan y (label/target).\n",
        "\n",
        "- self.w_ = np.zeros(1 + X.shape[1]): Menginisialisasi bobot w_ dengan vektor nol, berukuran sebanyak jumlah fitur di X plus satu (untuk bias).\n",
        "\n",
        "- self.errors_ = []: Membuat list kosong errors_ untuk menyimpan jumlah kesalahan di setiap epoch.\n",
        "\n",
        "Proses Pembaruan Bobot:\n",
        "- for _ in range(self.n_iter): Melakukan iterasi sebanyak n_iter.\n",
        "- errors = 0: Menginisialisasi jumlah kesalahan untuk setiap iterasi.\n",
        "- for xi, target in zip(X, y): Melakukan iterasi melalui pasangan data (xi, target).\n",
        "\n",
        "    - update = self.eta * (target - self.predict(xi)): Menghitung nilai update, yang didasarkan pada kesalahan (perbedaan antara target dan prediksi). Kesalahan ini dikalikan dengan eta.\n",
        "    - self.w_[0] += update: Mengupdate bias (w_[0]) dengan menambahkan nilai update.\n",
        "    - self.w_[1:] += update * xi: Mengupdate bobot lainnya dengan menambahkan update dikalikan dengan xi.\n",
        "    - errors += int(update != 0.0): Menambahkan jumlah kesalahan jika update tidak nol, menandakan prediksi salah.\n",
        "    - self.errors_.append(errors): Menyimpan jumlah kesalahan di list errors_ setelah setiap iterasi.\n",
        "    \n",
        "- return self: Mengembalikan instance dari kelas, memungkinkan chaining metode.\n",
        "\n",
        "**Metode net_input**\n",
        "- def net_input(self, X): Menghitung input bersih, yaitu hasil perkalian dot antara X dan bobot (self.w_[1:]) ditambah bias (self.w_[0]).\n",
        "- return np.dot(X, self.w_[1:]) + self.w_[0]: Mengembalikan hasil input bersih, yang akan digunakan untuk prediksi.\n",
        "\n",
        "**Metode predict**\n",
        "- def predict(self, X): Mengembalikan prediksi kelas untuk input X.\n",
        "- return np.where(self.net_input(X) >= 0.0, 1, -1): Mengembalikan 1 jika input bersih ≥ 0, dan -1 jika kurang dari 0. Ini adalah fungsi aktivasi langkah yang menentukan kelas dari input berdasarkan bobot."
      ],
      "metadata": {
        "id": "Qcg_vzNdTIxG"
      }
    },
    {
      "cell_type": "markdown",
      "source": [
        "**Langkah 4 - Pilih Data dan Encoding Label**"
      ],
      "metadata": {
        "id": "LWkqFzah02_k"
      }
    },
    {
      "cell_type": "code",
      "source": [
        "y = df.iloc[0:100, 4].values # pilih 100 data awal\n",
        "y = np.where(y == 'Iris-setosa', -1, 1) # ganti coding label\n",
        "X = df.iloc[0:100, [0, 3]].values # slice data latih"
      ],
      "metadata": {
        "id": "2va7rahS036Y"
      },
      "execution_count": 71,
      "outputs": []
    },
    {
      "cell_type": "markdown",
      "source": [
        "Penjelasan:\n",
        "\n",
        "Kode diatas mempersiapkan data untuk pelatihan model Perceptron dengan memilih subset dari dataset Iris\n",
        "\n",
        "\n",
        "- y = df.iloc[0:100, 4].values: Memilih nilai dari 100 baris pertama pada kolom ke-4 (label) sebagai target y.\n",
        "\n",
        "- y = np.where(y == 'Iris-setosa', -1, 1): Mengganti label 'Iris-setosa' dengan -1 dan label lainnya dengan 1, sehingga target menjadi biner (-1 atau 1).\n",
        "\n",
        "- X = df.iloc[0:100, [0, 3]].values: Memilih 100 baris pertama dari kolom ke-0 (sepal length) dan kolom ke-3 (petal length) sebagai fitur X."
      ],
      "metadata": {
        "id": "kicossYzTJTk"
      }
    },
    {
      "cell_type": "markdown",
      "source": [
        "**Langkah 5 - Fitting Model**"
      ],
      "metadata": {
        "id": "7ygQeE6v0421"
      }
    },
    {
      "cell_type": "code",
      "source": [
        "ppn = Perceptron(eta=0.1, n_iter=10)\n",
        "ppn.fit(X, y)"
      ],
      "metadata": {
        "colab": {
          "base_uri": "https://localhost:8080/"
        },
        "id": "puiaBcMZ07Av",
        "outputId": "19953fc6-a430-4cf0-cf77-c1fba0cab426"
      },
      "execution_count": 72,
      "outputs": [
        {
          "output_type": "execute_result",
          "data": {
            "text/plain": [
              "<__main__.Perceptron at 0x7c9fceda3e50>"
            ]
          },
          "metadata": {},
          "execution_count": 72
        }
      ]
    },
    {
      "cell_type": "markdown",
      "source": [
        "Penjelasan:\n",
        "\n",
        "Kode ini melakukan pelatihan model Perceptron pada data yang telah disiapkan (X dan y)\n",
        "\n",
        "- ppn = Perceptron(eta=0.1, n_iter=10): Membuat objek Perceptron dengan laju pembelajaran eta sebesar 0.1 dan iterasi (epoch) sebanyak 10.\n",
        "\n",
        "- ppn.fit(X, y): Melatih model Perceptron pada data fitur X dan target y dengan melakukan update bobot pada setiap iterasi, sehingga model belajar untuk mengklasifikasikan data sesuai label yang diberikan."
      ],
      "metadata": {
        "id": "IkTVa5gRTJy_"
      }
    },
    {
      "cell_type": "markdown",
      "source": [
        "**Langkah 6 - Visualisasi Nilai Error Per Epoch**"
      ],
      "metadata": {
        "id": "Jxghqp1z07pf"
      }
    },
    {
      "cell_type": "code",
      "source": [
        "plt.plot(range(1, len(ppn.errors_)+1), ppn.errors_)\n",
        "plt.xlabel('Epochs')\n",
        "plt.ylabel('Number of updates')\n",
        "plt.show()"
      ],
      "metadata": {
        "colab": {
          "base_uri": "https://localhost:8080/",
          "height": 449
        },
        "id": "R4pwSkPB1DYO",
        "outputId": "6fc471dd-2350-4522-908c-65a236fb9d77"
      },
      "execution_count": 73,
      "outputs": [
        {
          "output_type": "display_data",
          "data": {
            "text/plain": [
              "<Figure size 640x480 with 1 Axes>"
            ],
            "image/png": "[encoded data removed]"
          },
          "metadata": {}
        }
      ]
    },
    {
      "cell_type": "markdown",
      "source": [
        "Penjelasan:\n",
        "\n",
        "\n",
        "Kode ini menampilkan plot dari jumlah kesalahan (update bobot) yang terjadi pada setiap epoch selama pelatihan Perceptron\n",
        "\n",
        "- plt.plot(range(1, len(ppn.errors_)+1), ppn.errors_): Membuat grafik garis yang menunjukkan jumlah kesalahan di setiap epoch. Sumbu x adalah jumlah epoch, dan sumbu y adalah ppn.errors_, yaitu jumlah kesalahan yang tersimpan selama pelatihan.\n",
        "\n",
        "- plt.xlabel('Epochs'): Memberi label \"Epochs\" pada sumbu x, menunjukkan jumlah iterasi pelatihan.\n",
        "\n",
        "- plt.ylabel('Number of updates'): Memberi label \"Number of updates\" pada sumbu y, yang menunjukkan jumlah update bobot atau kesalahan pada tiap epoch.\n",
        "\n",
        "- plt.show(): Menampilkan plot ke layar."
      ],
      "metadata": {
        "id": "Bc714ElWTKTK"
      }
    },
    {
      "cell_type": "markdown",
      "source": [
        "**Langkah 7 - Visualiasasi Decision Boundary**"
      ],
      "metadata": {
        "id": "hZ-GKxaG1Eq6"
      }
    },
    {
      "cell_type": "code",
      "source": [
        "# buat fungsi untuk plot decision region\n",
        "\n",
        "from matplotlib.colors import ListedColormap\n",
        "\n",
        "def plot_decision_regions(X, y, classifier, resolution=0.02):\n",
        "    # setup marker generator and color map\n",
        "    markers = ('s', 'x', 'o', '^', 'v')\n",
        "    colors = ['#FF0000', '#0000FF', '#00FF00', '#000000', '#808080']\n",
        "    cmap = ListedColormap(colors[:len(np.unique(y))])\n",
        "\n",
        "    # plot the decision regions by creating a pair of grid arrays xx1 and xx2 via meshgrid function in Numpy\n",
        "    x1_min, x1_max = X[:, 0].min() - 1, X[:, 0].max() + 1\n",
        "    x2_min, x2_max = X[:, 1].min() - 1, X[:, 1].max() + 1\n",
        "    xx1, xx2 = np.meshgrid(np.arange(x1_min, x1_max, resolution), np.arange(x2_min, x2_max, resolution))\n",
        "\n",
        "    # use predict method to predict the class labels z of the grid points\n",
        "    Z = classifier.predict(np.array([xx1.ravel(),xx2.ravel()]).T)\n",
        "    Z = Z.reshape(xx1.shape)\n",
        "\n",
        "    # draw the contour using matplotlib\n",
        "    plt.contourf(xx1, xx2, Z, alpha=0.4, cmap=cmap)\n",
        "    plt.xlim(xx1.min(), xx1.max())\n",
        "    plt.ylim(xx2.min(), xx2.max())\n",
        "\n",
        "    # plot class samples\n",
        "    for i, cl in enumerate(np.unique(y)):\n",
        "        plt.scatter(x=X[y==cl, 0], y=X[y==cl, 1], alpha=0.8, c=cmap(i), marker=markers[i], label=cl)"
      ],
      "metadata": {
        "id": "aPr6i4XU1GoL"
      },
      "execution_count": 74,
      "outputs": []
    },
    {
      "cell_type": "markdown",
      "source": [
        "Penjelasan:\n",
        "\n",
        "Kode diatas mendefinisikan fungsi plot_decision_regions untuk memvisualisasikan decision boundary dari model klasifikasi\n",
        "\n",
        "\n",
        "**Pengaturan Marker dan Color Map:**\n",
        "\n",
        "- markers dan colors mendefinisikan gaya marker dan warna untuk setiap kelas.\n",
        "- cmap = ListedColormap(colors[:len(np.unique(y))]): Membuat color map khusus untuk kelas unik dalam y.\n",
        "\n",
        "**Membuat Grid Area:**\n",
        "\n",
        "- x1_min, x1_max = X[:, 0].min() - 1, X[:, 0].max() + 1 dan x2_min, x2_max = X[:, 1].min() - 1, X[:, 1].max() + 1: Menentukan rentang dari fitur pertama dan kedua dengan margin tambahan.\n",
        "- xx1, xx2 = np.meshgrid(...): Membuat grid 2D dari nilai xx1 dan xx2 dengan resolusi tertentu, yang akan digunakan untuk prediksi pada seluruh area ruang fitur.\n",
        "\n",
        "**Prediksi Label Grid:**\n",
        "\n",
        "- Z = classifier.predict(np.array([xx1.ravel(), xx2.ravel()]).T): Menghitung prediksi model (classifier.predict) untuk setiap titik pada grid yang diratakan.\n",
        "- Z = Z.reshape(xx1.shape): Mengonversi hasil prediksi ke bentuk yang sama dengan grid untuk plotting.\n",
        "\n",
        "**Visualisasi Decision Region:**\n",
        "\n",
        "- plt.contourf(xx1, xx2, Z, alpha=0.4, cmap=cmap): Membuat kontur atau batas area prediksi dengan warna yang berbeda untuk setiap kelas.\n",
        "- plt.xlim(...) dan plt.ylim(...): Membatasi rentang plot berdasarkan nilai grid xx1 dan xx2.\n",
        "\n",
        "**Plotting Sample Data:**\n",
        "\n",
        "- for i, cl in enumerate(np.unique(y)): Mengiterasi setiap kelas unik y.\n",
        "- plt.scatter(...): Menampilkan sampel data dari tiap kelas dengan marker dan warna sesuai.\n"
      ],
      "metadata": {
        "id": "aEmVPyitTWdN"
      }
    },
    {
      "cell_type": "code",
      "source": [
        "plot_decision_regions(X, y, ppn)"
      ],
      "metadata": {
        "colab": {
          "base_uri": "https://localhost:8080/",
          "height": 485
        },
        "id": "koThSk1Irn_X",
        "outputId": "516e4e4a-5e39-4e08-8a20-d82c84fd547a"
      },
      "execution_count": 75,
      "outputs": [
        {
          "output_type": "stream",
          "name": "stderr",
          "text": [
            "<ipython-input-74-b39ed17745bc>:27: UserWarning: *c* argument looks like a single numeric RGB or RGBA sequence, which should be avoided as value-mapping will have precedence in case its length matches with *x* & *y*.  Please use the *color* keyword-argument or provide a 2D array with a single row if you intend to specify the same RGB or RGBA value for all points.\n",
            "  plt.scatter(x=X[y==cl, 0], y=X[y==cl, 1], alpha=0.8, c=cmap(i), marker=markers[i], label=cl)\n"
          ]
        },
        {
          "output_type": "display_data",
          "data": {
            "text/plain": [
              "<Figure size 640x480 with 1 Axes>"
            ],
            "image/png": "[encoded data removed]"
          },
          "metadata": {}
        }
      ]
    },
    {
      "cell_type": "markdown",
      "source": [
        "Penjelasan:\n",
        "\n",
        "Kode diatas memanggil fungsi plot_decision_regions untuk memvisualisasikan decision boundary dari model Perceptron (ppn) yang telah dilatih dengan data X dan y\n",
        "\n",
        "**Parameter:**\n",
        "\n",
        "- X: Data fitur yang akan divisualisasikan.\n",
        "- y: Label target biner (-1 dan 1) untuk kelas yang ada dalam X.\n",
        "- ppn: Model perceptron yang telah dilatih, digunakan untuk memprediksi keputusan boundary.\n",
        "\n",
        "**Proses:**\n",
        "\n",
        "- Fungsi plot_decision_regions akan membuat grid dari fitur X, melakukan prediksi menggunakan model ppn pada setiap titik grid, dan menggambar decision boundary yang memisahkan dua kelas.\n",
        "- Titik data X akan ditampilkan dengan warna dan marker yang berbeda, menunjukkan kelas masing-masing sesuai label y.\n",
        "\n",
        "**Hasil Visualisasi:**\n",
        "\n",
        "- Grafik akan menunjukkan area dengan warna berbeda, yang menggambarkan region prediksi dari model ppn untuk setiap kelas.\n",
        "- Titik-titik data X akan berada di atas decision boundary sesuai dengan kelas masing-masing."
      ],
      "metadata": {
        "id": "idcArPdtTXoB"
      }
    },
    {
      "cell_type": "markdown",
      "source": [
        "# Praktikum 2\n",
        "\n",
        "**Klasifikasi Berita dengan Perceptron**"
      ],
      "metadata": {
        "id": "u_WP0g9M5Ukr"
      }
    },
    {
      "cell_type": "markdown",
      "source": [
        "**Langkah 1 - Import Library**"
      ],
      "metadata": {
        "id": "Wd49Wmr-5cFW"
      }
    },
    {
      "cell_type": "code",
      "source": [
        "from sklearn.datasets import fetch_20newsgroups # download dataset\n",
        "from sklearn.feature_extraction.text import TfidfVectorizer\n",
        "from sklearn.linear_model import Perceptron\n",
        "from sklearn.metrics import f1_score, classification_report"
      ],
      "metadata": {
        "id": "hViEDfqi5eev"
      },
      "execution_count": 76,
      "outputs": []
    },
    {
      "cell_type": "markdown",
      "source": [
        "Penjelasan:   \n",
        "\n",
        "Baris kode ini mengimpor beberapa fungsi dan kelas yang diperlukan untuk memuat dataset, ekstraksi fitur, pelatihan model, dan evaluasi kinerja\n",
        "\n",
        "**from sklearn.datasets import fetch_20newsgroups:**\n",
        "\n",
        "- Mengimpor fungsi fetch_20newsgroups untuk mengunduh dataset 20 Newsgroups yang berisi berbagai kategori berita teks.\n",
        "\n",
        "**from sklearn.feature_extraction.text import TfidfVectorizer:**\n",
        "\n",
        "- Mengimpor TF-IDF Vectorizer yang digunakan untuk mengubah teks menjadi fitur numerik (vektor) berdasarkan Term Frequency-Inverse Document Frequency (TF-IDF), yang memberikan bobot pada kata-kata berdasarkan frekuensi dan relevansinya di seluruh dokumen.\n",
        "\n",
        "**from sklearn.linear_model import Perceptron:**\n",
        "\n",
        "- Mengimpor Perceptron, yang merupakan model klasifikasi berbasis linear classifier yang menggunakan algoritma pembelajaran dengan update bobot secara iteratif, cocok untuk masalah klasifikasi biner dan multi-kelas.\n",
        "\n",
        "\n",
        "**from sklearn.metrics import f1_score,classification_report:**\n",
        "\n",
        "- Mengimpor f1_score, yang digunakan untuk menghitung F1-score, yaitu ukuran yang menggabungkan precision dan recall dalam satu angka, sangat berguna untuk evaluasi model.\n",
        "- Mengimpor classification_report, yang menghasilkan laporan klasifikasi yang mencakup metrik seperti precision, recall, dan F1-score untuk setiap kelas dalam masalah klasifikasi."
      ],
      "metadata": {
        "id": "H-D-FAp7aD3z"
      }
    },
    {
      "cell_type": "markdown",
      "source": [
        "**Langkah 2 - Pilih Label dan Split Data**"
      ],
      "metadata": {
        "id": "gSOIQLbt5fpu"
      }
    },
    {
      "cell_type": "code",
      "source": [
        "categories = ['rec.sport.hockey', 'rec.sport.baseball', 'rec.autos']\n",
        "newsgroups_train = fetch_20newsgroups(subset='train', categories=categories, remove=('headers', 'footers', 'quotes'))\n",
        "newsgroups_test = fetch_20newsgroups(subset='test', categories=categories, remove=('headers', 'footers', 'quotes'))"
      ],
      "metadata": {
        "id": "KVfRX8bV5gU_"
      },
      "execution_count": 77,
      "outputs": []
    },
    {
      "cell_type": "markdown",
      "source": [
        "Penjelasan:\n",
        "\n",
        "Kode diatas digunakan untuk mengunduh dan memuat subset data dari dataset 20 Newsgroups dengan kategori tertentu\n",
        "\n",
        "- categories = ['rec.sport.hockey', 'rec.sport.baseball', 'rec.autos']: Mendefinisikan daftar kategori yang ingin diambil dari dataset, yaitu berita tentang hockey, baseball, dan automotive.\n",
        "\n",
        "- newsgroups_train = fetch_20newsgroups(...): Mengunduh dan memuat data pelatihan (train) dari kategori yang dipilih dalam categories. Parameter remove=('headers', 'footers', 'quotes') menghapus bagian header, footer, dan kutipan dari setiap berita, sehingga hanya teks utama yang dimuat untuk diproses.\n",
        "\n",
        "- newsgroups_test = fetch_20newsgroups(...): Mengunduh dan memuat data pengujian (test) dari kategori yang sama dengan pengaturan yang sama."
      ],
      "metadata": {
        "id": "hZdLV0ENTY4m"
      }
    },
    {
      "cell_type": "markdown",
      "source": [
        "**Langkah 3 - Ekstrak Fitur dan Buat Model Perceptron**"
      ],
      "metadata": {
        "id": "3hETGi-a5h3x"
      }
    },
    {
      "cell_type": "code",
      "source": [
        "# Ekstrak Fitur\n",
        "vectorizer = TfidfVectorizer()\n",
        "\n",
        "# Fit fitur\n",
        "X_train = vectorizer.fit_transform(newsgroups_train.data)\n",
        "X_test = vectorizer.transform(newsgroups_test.data)\n",
        "\n",
        "# Fit Model\n",
        "clf = Perceptron(random_state=11)\n",
        "clf.fit(X_train, newsgroups_train.target)\n",
        "\n",
        "# Prediksi\n",
        "predictions = clf.predict(X_test)\n",
        "print(classification_report(newsgroups_test.target, predictions))"
      ],
      "metadata": {
        "colab": {
          "base_uri": "https://localhost:8080/"
        },
        "id": "4xpfk0mP5kXA",
        "outputId": "82ddedcd-9dba-4998-a42e-8bda5a394d83"
      },
      "execution_count": 78,
      "outputs": [
        {
          "output_type": "stream",
          "name": "stdout",
          "text": [
            "              precision    recall  f1-score   support\n",
            "\n",
            "           0       0.88      0.88      0.88       396\n",
            "           1       0.82      0.83      0.83       397\n",
            "           2       0.88      0.87      0.87       399\n",
            "\n",
            "    accuracy                           0.86      1192\n",
            "   macro avg       0.86      0.86      0.86      1192\n",
            "weighted avg       0.86      0.86      0.86      1192\n",
            "\n"
          ]
        }
      ]
    },
    {
      "cell_type": "markdown",
      "source": [
        "Penjelasan:\n",
        "\n",
        "Kode diatas melakukan proses ekstraksi fitur, pelatihan model, dan evaluasi untuk klasifikasi teks pada dataset 20 Newsgroups dengan tiga kategori\n",
        "\n",
        "**Ekstraksi Fitur dengan TF-IDF:**\n",
        "\n",
        "- vectorizer = TfidfVectorizer(): Menginisialisasi TF-IDF Vectorizer, yang mengubah teks menjadi vektor berbasis frekuensi term dengan penekanan pada kata-kata yang lebih spesifik dalam dokumen.\n",
        "- X_train = vectorizer.fit_transform(newsgroups_train.data): Melatih (fit) dan mentransformasi data pelatihan menjadi vektor TF-IDF (X_train).\n",
        "- X_test = vectorizer.transform(newsgroups_test.data): Mentranformasi data pengujian (X_test) ke dalam bentuk vektor TF-IDF yang sesuai dengan data pelatihan.\n",
        "\n",
        "**Pelatihan Model Perceptron:**\n",
        "\n",
        "- clf = Perceptron(random_state=11): Membuat model Perceptron dengan nilai acak yang tetap (random_state=11).\n",
        "- clf.fit(X_train, newsgroups_train.target): Melatih model pada vektor TF-IDF dari data pelatihan (X_train) untuk memetakan fitur ke label target (newsgroups_train.target).\n",
        "\n",
        "**Prediksi dan Evaluasi:**\n",
        "\n",
        "- predictions = clf.predict(X_test): Memprediksi label untuk data pengujian (X_test) menggunakan model yang telah dilatih.\n",
        "- print(classification_report(newsgroups_test.target, predictions)): Menampilkan laporan klasifikasi (precision, recall, F1-score) yang membandingkan prediksi model dengan label target asli dari data pengujian (newsgroups_test.target)."
      ],
      "metadata": {
        "id": "dbNFHGgsTZdK"
      }
    },
    {
      "cell_type": "markdown",
      "source": [
        "# Praktikum 3\n",
        "\n",
        "Nilai Logika XOR dengan MLP"
      ],
      "metadata": {
        "id": "8qxDRTDW5n9U"
      }
    },
    {
      "cell_type": "markdown",
      "source": [
        "**Langkah 1 - Import Library**"
      ],
      "metadata": {
        "id": "E0DlKAEf5stH"
      }
    },
    {
      "cell_type": "code",
      "source": [
        "from sklearn.neural_network import MLPClassifier"
      ],
      "metadata": {
        "id": "fD5heBrx5ycT"
      },
      "execution_count": 79,
      "outputs": []
    },
    {
      "cell_type": "markdown",
      "source": [
        "Penjelasan:\n",
        "\n",
        "kode diatas digunakan untuk mengimpor MLPClassifier dari pustaka scikit-learn"
      ],
      "metadata": {
        "id": "lx3ExacPTaIh"
      }
    },
    {
      "cell_type": "markdown",
      "source": [
        "**Langah 2 - Buat Data**"
      ],
      "metadata": {
        "id": "c3yAz31f5zEy"
      }
    },
    {
      "cell_type": "code",
      "source": [
        "y = [0, 1, 1, 0] # label\n",
        "X = [[0, 0], [0, 1], [1, 0], [1, 1]] # data"
      ],
      "metadata": {
        "id": "huDuRzD_50NM"
      },
      "execution_count": 80,
      "outputs": []
    },
    {
      "cell_type": "markdown",
      "source": [
        "Penjelasan:\n",
        "\n",
        "**Kode ini mendefinisikan dataset kecil untuk masalah klasifikasi biner**\n",
        "\n",
        "- y = [0, 1, 1, 0]: Ini adalah label target untuk 4 data, dengan dua kelas (0 dan 1).\n",
        "- X = [[0, 0], [0, 1], [1, 0], [1, 1]]: Ini adalah fitur (data input) untuk masing-masing label. Setiap contoh data memiliki dua fitur.\n",
        "\n",
        "Dataset ini dapat digunakan untuk pelatihan model klasifikasi, seperti Perceptron atau MLPClassifier, untuk memprediksi kelas berdasarkan dua fitur yang diberikan."
      ],
      "metadata": {
        "id": "qhof2oYrTaj0"
      }
    },
    {
      "cell_type": "markdown",
      "source": [
        "**Langkah 3 - Fit Model**"
      ],
      "metadata": {
        "id": "Z-d4QTkM51SU"
      }
    },
    {
      "cell_type": "code",
      "source": [
        "# Fit model\n",
        "clf = MLPClassifier(solver='lbfgs', activation='logistic', hidden_layer_sizes=(2,), max_iter=100, random_state=20)\n",
        "clf.fit(X, y)"
      ],
      "metadata": {
        "colab": {
          "base_uri": "https://localhost:8080/",
          "height": 98
        },
        "id": "WoNgLBM952xr",
        "outputId": "28eaac7e-7015-4ed7-c6a7-592e0a4414d0"
      },
      "execution_count": 81,
      "outputs": [
        {
          "output_type": "execute_result",
          "data": {
            "text/plain": [
              "MLPClassifier(activation='logistic', hidden_layer_sizes=(2,), max_iter=100,\n",
              "              random_state=20, solver='lbfgs')"
            ],
            "text/html": [
              "<style>#sk-container-id-1 {\n",
              "  /* Definition of color scheme common for light and dark mode */\n",
              "  --sklearn-color-text: black;\n",
              "  --sklearn-color-line: gray;\n",
              "  /* Definition of color scheme for unfitted estimators */\n",
              "  --sklearn-color-unfitted-level-0: #fff5e6;\n",
              "  --sklearn-color-unfitted-level-1: #f6e4d2;\n",
              "  --sklearn-color-unfitted-level-2: #ffe0b3;\n",
              "  --sklearn-color-unfitted-level-3: chocolate;\n",
              "  /* Definition of color scheme for fitted estimators */\n",
              "  --sklearn-color-fitted-level-0: #f0f8ff;\n",
              "  --sklearn-color-fitted-level-1: #d4ebff;\n",
              "  --sklearn-color-fitted-level-2: #b3dbfd;\n",
              "  --sklearn-color-fitted-level-3: cornflowerblue;\n",
              "\n",
              "  /* Specific color for light theme */\n",
              "  --sklearn-color-text-on-default-background: var(--sg-text-color, var(--theme-code-foreground, var(--jp-content-font-color1, black)));\n",
              "  --sklearn-color-background: var(--sg-background-color, var(--theme-background, var(--jp-layout-color0, white)));\n",
              "  --sklearn-color-border-box: var(--sg-text-color, var(--theme-code-foreground, var(--jp-content-font-color1, black)));\n",
              "  --sklearn-color-icon: #696969;\n",
              "\n",
              "  @media (prefers-color-scheme: dark) {\n",
              "    /* Redefinition of color scheme for dark theme */\n",
              "    --sklearn-color-text-on-default-background: var(--sg-text-color, var(--theme-code-foreground, var(--jp-content-font-color1, white)));\n",
              "    --sklearn-color-background: var(--sg-background-color, var(--theme-background, var(--jp-layout-color0, #111)));\n",
              "    --sklearn-color-border-box: var(--sg-text-color, var(--theme-code-foreground, var(--jp-content-font-color1, white)));\n",
              "    --sklearn-color-icon: #878787;\n",
              "  }\n",
              "}\n",
              "\n",
              "#sk-container-id-1 {\n",
              "  color: var(--sklearn-color-text);\n",
              "}\n",
              "\n",
              "#sk-container-id-1 pre {\n",
              "  padding: 0;\n",
              "}\n",
              "\n",
              "#sk-container-id-1 input.sk-hidden--visually {\n",
              "  border: 0;\n",
              "  clip: rect(1px 1px 1px 1px);\n",
              "  clip: rect(1px, 1px, 1px, 1px);\n",
              "  height: 1px;\n",
              "  margin: -1px;\n",
              "  overflow: hidden;\n",
              "  padding: 0;\n",
              "  position: absolute;\n",
              "  width: 1px;\n",
              "}\n",
              "\n",
              "#sk-container-id-1 div.sk-dashed-wrapped {\n",
              "  border: 1px dashed var(--sklearn-color-line);\n",
              "  margin: 0 0.4em 0.5em 0.4em;\n",
              "  box-sizing: border-box;\n",
              "  padding-bottom: 0.4em;\n",
              "  background-color: var(--sklearn-color-background);\n",
              "}\n",
              "\n",
              "#sk-container-id-1 div.sk-container {\n",
              "  /* jupyter's `normalize.less` sets `[hidden] { display: none; }`\n",
              "     but bootstrap.min.css set `[hidden] { display: none !important; }`\n",
              "     so we also need the `!important` here to be able to override the\n",
              "     default hidden behavior on the sphinx rendered scikit-learn.org.\n",
              "     See: https://github.com/scikit-learn/scikit-learn/issues/21755 */\n",
              "  display: inline-block !important;\n",
              "  position: relative;\n",
              "}\n",
              "\n",
              "#sk-container-id-1 div.sk-text-repr-fallback {\n",
              "  display: none;\n",
              "}\n",
              "\n",
              "div.sk-parallel-item,\n",
              "div.sk-serial,\n",
              "div.sk-item {\n",
              "  /* draw centered vertical line to link estimators */\n",
              "  background-image: linear-gradient(var(--sklearn-color-text-on-default-background), var(--sklearn-color-text-on-default-background));\n",
              "  background-size: 2px 100%;\n",
              "  background-repeat: no-repeat;\n",
              "  background-position: center center;\n",
              "}\n",
              "\n",
              "/* Parallel-specific style estimator block */\n",
              "\n",
              "#sk-container-id-1 div.sk-parallel-item::after {\n",
              "  content: \"\";\n",
              "  width: 100%;\n",
              "  border-bottom: 2px solid var(--sklearn-color-text-on-default-background);\n",
              "  flex-grow: 1;\n",
              "}\n",
              "\n",
              "#sk-container-id-1 div.sk-parallel {\n",
              "  display: flex;\n",
              "  align-items: stretch;\n",
              "  justify-content: center;\n",
              "  background-color: var(--sklearn-color-background);\n",
              "  position: relative;\n",
              "}\n",
              "\n",
              "#sk-container-id-1 div.sk-parallel-item {\n",
              "  display: flex;\n",
              "  flex-direction: column;\n",
              "}\n",
              "\n",
              "#sk-container-id-1 div.sk-parallel-item:first-child::after {\n",
              "  align-self: flex-end;\n",
              "  width: 50%;\n",
              "}\n",
              "\n",
              "#sk-container-id-1 div.sk-parallel-item:last-child::after {\n",
              "  align-self: flex-start;\n",
              "  width: 50%;\n",
              "}\n",
              "\n",
              "#sk-container-id-1 div.sk-parallel-item:only-child::after {\n",
              "  width: 0;\n",
              "}\n",
              "\n",
              "/* Serial-specific style estimator block */\n",
              "\n",
              "#sk-container-id-1 div.sk-serial {\n",
              "  display: flex;\n",
              "  flex-direction: column;\n",
              "  align-items: center;\n",
              "  background-color: var(--sklearn-color-background);\n",
              "  padding-right: 1em;\n",
              "  padding-left: 1em;\n",
              "}\n",
              "\n",
              "\n",
              "/* Toggleable style: style used for estimator/Pipeline/ColumnTransformer box that is\n",
              "clickable and can be expanded/collapsed.\n",
              "- Pipeline and ColumnTransformer use this feature and define the default style\n",
              "- Estimators will overwrite some part of the style using the `sk-estimator` class\n",
              "*/\n",
              "\n",
              "/* Pipeline and ColumnTransformer style (default) */\n",
              "\n",
              "#sk-container-id-1 div.sk-toggleable {\n",
              "  /* Default theme specific background. It is overwritten whether we have a\n",
              "  specific estimator or a Pipeline/ColumnTransformer */\n",
              "  background-color: var(--sklearn-color-background);\n",
              "}\n",
              "\n",
              "/* Toggleable label */\n",
              "#sk-container-id-1 label.sk-toggleable__label {\n",
              "  cursor: pointer;\n",
              "  display: block;\n",
              "  width: 100%;\n",
              "  margin-bottom: 0;\n",
              "  padding: 0.5em;\n",
              "  box-sizing: border-box;\n",
              "  text-align: center;\n",
              "}\n",
              "\n",
              "#sk-container-id-1 label.sk-toggleable__label-arrow:before {\n",
              "  /* Arrow on the left of the label */\n",
              "  content: \"▸\";\n",
              "  float: left;\n",
              "  margin-right: 0.25em;\n",
              "  color: var(--sklearn-color-icon);\n",
              "}\n",
              "\n",
              "#sk-container-id-1 label.sk-toggleable__label-arrow:hover:before {\n",
              "  color: var(--sklearn-color-text);\n",
              "}\n",
              "\n",
              "/* Toggleable content - dropdown */\n",
              "\n",
              "#sk-container-id-1 div.sk-toggleable__content {\n",
              "  max-height: 0;\n",
              "  max-width: 0;\n",
              "  overflow: hidden;\n",
              "  text-align: left;\n",
              "  /* unfitted */\n",
              "  background-color: var(--sklearn-color-unfitted-level-0);\n",
              "}\n",
              "\n",
              "#sk-container-id-1 div.sk-toggleable__content.fitted {\n",
              "  /* fitted */\n",
              "  background-color: var(--sklearn-color-fitted-level-0);\n",
              "}\n",
              "\n",
              "#sk-container-id-1 div.sk-toggleable__content pre {\n",
              "  margin: 0.2em;\n",
              "  border-radius: 0.25em;\n",
              "  color: var(--sklearn-color-text);\n",
              "  /* unfitted */\n",
              "  background-color: var(--sklearn-color-unfitted-level-0);\n",
              "}\n",
              "\n",
              "#sk-container-id-1 div.sk-toggleable__content.fitted pre {\n",
              "  /* unfitted */\n",
              "  background-color: var(--sklearn-color-fitted-level-0);\n",
              "}\n",
              "\n",
              "#sk-container-id-1 input.sk-toggleable__control:checked~div.sk-toggleable__content {\n",
              "  /* Expand drop-down */\n",
              "  max-height: 200px;\n",
              "  max-width: 100%;\n",
              "  overflow: auto;\n",
              "}\n",
              "\n",
              "#sk-container-id-1 input.sk-toggleable__control:checked~label.sk-toggleable__label-arrow:before {\n",
              "  content: \"▾\";\n",
              "}\n",
              "\n",
              "/* Pipeline/ColumnTransformer-specific style */\n",
              "\n",
              "#sk-container-id-1 div.sk-label input.sk-toggleable__control:checked~label.sk-toggleable__label {\n",
              "  color: var(--sklearn-color-text);\n",
              "  background-color: var(--sklearn-color-unfitted-level-2);\n",
              "}\n",
              "\n",
              "#sk-container-id-1 div.sk-label.fitted input.sk-toggleable__control:checked~label.sk-toggleable__label {\n",
              "  background-color: var(--sklearn-color-fitted-level-2);\n",
              "}\n",
              "\n",
              "/* Estimator-specific style */\n",
              "\n",
              "/* Colorize estimator box */\n",
              "#sk-container-id-1 div.sk-estimator input.sk-toggleable__control:checked~label.sk-toggleable__label {\n",
              "  /* unfitted */\n",
              "  background-color: var(--sklearn-color-unfitted-level-2);\n",
              "}\n",
              "\n",
              "#sk-container-id-1 div.sk-estimator.fitted input.sk-toggleable__control:checked~label.sk-toggleable__label {\n",
              "  /* fitted */\n",
              "  background-color: var(--sklearn-color-fitted-level-2);\n",
              "}\n",
              "\n",
              "#sk-container-id-1 div.sk-label label.sk-toggleable__label,\n",
              "#sk-container-id-1 div.sk-label label {\n",
              "  /* The background is the default theme color */\n",
              "  color: var(--sklearn-color-text-on-default-background);\n",
              "}\n",
              "\n",
              "/* On hover, darken the color of the background */\n",
              "#sk-container-id-1 div.sk-label:hover label.sk-toggleable__label {\n",
              "  color: var(--sklearn-color-text);\n",
              "  background-color: var(--sklearn-color-unfitted-level-2);\n",
              "}\n",
              "\n",
              "/* Label box, darken color on hover, fitted */\n",
              "#sk-container-id-1 div.sk-label.fitted:hover label.sk-toggleable__label.fitted {\n",
              "  color: var(--sklearn-color-text);\n",
              "  background-color: var(--sklearn-color-fitted-level-2);\n",
              "}\n",
              "\n",
              "/* Estimator label */\n",
              "\n",
              "#sk-container-id-1 div.sk-label label {\n",
              "  font-family: monospace;\n",
              "  font-weight: bold;\n",
              "  display: inline-block;\n",
              "  line-height: 1.2em;\n",
              "}\n",
              "\n",
              "#sk-container-id-1 div.sk-label-container {\n",
              "  text-align: center;\n",
              "}\n",
              "\n",
              "/* Estimator-specific */\n",
              "#sk-container-id-1 div.sk-estimator {\n",
              "  font-family: monospace;\n",
              "  border: 1px dotted var(--sklearn-color-border-box);\n",
              "  border-radius: 0.25em;\n",
              "  box-sizing: border-box;\n",
              "  margin-bottom: 0.5em;\n",
              "  /* unfitted */\n",
              "  background-color: var(--sklearn-color-unfitted-level-0);\n",
              "}\n",
              "\n",
              "#sk-container-id-1 div.sk-estimator.fitted {\n",
              "  /* fitted */\n",
              "  background-color: var(--sklearn-color-fitted-level-0);\n",
              "}\n",
              "\n",
              "/* on hover */\n",
              "#sk-container-id-1 div.sk-estimator:hover {\n",
              "  /* unfitted */\n",
              "  background-color: var(--sklearn-color-unfitted-level-2);\n",
              "}\n",
              "\n",
              "#sk-container-id-1 div.sk-estimator.fitted:hover {\n",
              "  /* fitted */\n",
              "  background-color: var(--sklearn-color-fitted-level-2);\n",
              "}\n",
              "\n",
              "/* Specification for estimator info (e.g. \"i\" and \"?\") */\n",
              "\n",
              "/* Common style for \"i\" and \"?\" */\n",
              "\n",
              ".sk-estimator-doc-link,\n",
              "a:link.sk-estimator-doc-link,\n",
              "a:visited.sk-estimator-doc-link {\n",
              "  float: right;\n",
              "  font-size: smaller;\n",
              "  line-height: 1em;\n",
              "  font-family: monospace;\n",
              "  background-color: var(--sklearn-color-background);\n",
              "  border-radius: 1em;\n",
              "  height: 1em;\n",
              "  width: 1em;\n",
              "  text-decoration: none !important;\n",
              "  margin-left: 1ex;\n",
              "  /* unfitted */\n",
              "  border: var(--sklearn-color-unfitted-level-1) 1pt solid;\n",
              "  color: var(--sklearn-color-unfitted-level-1);\n",
              "}\n",
              "\n",
              ".sk-estimator-doc-link.fitted,\n",
              "a:link.sk-estimator-doc-link.fitted,\n",
              "a:visited.sk-estimator-doc-link.fitted {\n",
              "  /* fitted */\n",
              "  border: var(--sklearn-color-fitted-level-1) 1pt solid;\n",
              "  color: var(--sklearn-color-fitted-level-1);\n",
              "}\n",
              "\n",
              "/* On hover */\n",
              "div.sk-estimator:hover .sk-estimator-doc-link:hover,\n",
              ".sk-estimator-doc-link:hover,\n",
              "div.sk-label-container:hover .sk-estimator-doc-link:hover,\n",
              ".sk-estimator-doc-link:hover {\n",
              "  /* unfitted */\n",
              "  background-color: var(--sklearn-color-unfitted-level-3);\n",
              "  color: var(--sklearn-color-background);\n",
              "  text-decoration: none;\n",
              "}\n",
              "\n",
              "div.sk-estimator.fitted:hover .sk-estimator-doc-link.fitted:hover,\n",
              ".sk-estimator-doc-link.fitted:hover,\n",
              "div.sk-label-container:hover .sk-estimator-doc-link.fitted:hover,\n",
              ".sk-estimator-doc-link.fitted:hover {\n",
              "  /* fitted */\n",
              "  background-color: var(--sklearn-color-fitted-level-3);\n",
              "  color: var(--sklearn-color-background);\n",
              "  text-decoration: none;\n",
              "}\n",
              "\n",
              "/* Span, style for the box shown on hovering the info icon */\n",
              ".sk-estimator-doc-link span {\n",
              "  display: none;\n",
              "  z-index: 9999;\n",
              "  position: relative;\n",
              "  font-weight: normal;\n",
              "  right: .2ex;\n",
              "  padding: .5ex;\n",
              "  margin: .5ex;\n",
              "  width: min-content;\n",
              "  min-width: 20ex;\n",
              "  max-width: 50ex;\n",
              "  color: var(--sklearn-color-text);\n",
              "  box-shadow: 2pt 2pt 4pt #999;\n",
              "  /* unfitted */\n",
              "  background: var(--sklearn-color-unfitted-level-0);\n",
              "  border: .5pt solid var(--sklearn-color-unfitted-level-3);\n",
              "}\n",
              "\n",
              ".sk-estimator-doc-link.fitted span {\n",
              "  /* fitted */\n",
              "  background: var(--sklearn-color-fitted-level-0);\n",
              "  border: var(--sklearn-color-fitted-level-3);\n",
              "}\n",
              "\n",
              ".sk-estimator-doc-link:hover span {\n",
              "  display: block;\n",
              "}\n",
              "\n",
              "/* \"?\"-specific style due to the `<a>` HTML tag */\n",
              "\n",
              "#sk-container-id-1 a.estimator_doc_link {\n",
              "  float: right;\n",
              "  font-size: 1rem;\n",
              "  line-height: 1em;\n",
              "  font-family: monospace;\n",
              "  background-color: var(--sklearn-color-background);\n",
              "  border-radius: 1rem;\n",
              "  height: 1rem;\n",
              "  width: 1rem;\n",
              "  text-decoration: none;\n",
              "  /* unfitted */\n",
              "  color: var(--sklearn-color-unfitted-level-1);\n",
              "  border: var(--sklearn-color-unfitted-level-1) 1pt solid;\n",
              "}\n",
              "\n",
              "#sk-container-id-1 a.estimator_doc_link.fitted {\n",
              "  /* fitted */\n",
              "  border: var(--sklearn-color-fitted-level-1) 1pt solid;\n",
              "  color: var(--sklearn-color-fitted-level-1);\n",
              "}\n",
              "\n",
              "/* On hover */\n",
              "#sk-container-id-1 a.estimator_doc_link:hover {\n",
              "  /* unfitted */\n",
              "  background-color: var(--sklearn-color-unfitted-level-3);\n",
              "  color: var(--sklearn-color-background);\n",
              "  text-decoration: none;\n",
              "}\n",
              "\n",
              "#sk-container-id-1 a.estimator_doc_link.fitted:hover {\n",
              "  /* fitted */\n",
              "  background-color: var(--sklearn-color-fitted-level-3);\n",
              "}\n",
              "</style><div id=\"sk-container-id-1\" class=\"sk-top-container\"><div class=\"sk-text-repr-fallback\"><pre>MLPClassifier(activation=&#x27;logistic&#x27;, hidden_layer_sizes=(2,), max_iter=100,\n",
              "              random_state=20, solver=&#x27;lbfgs&#x27;)</pre><b>In a Jupyter environment, please rerun this cell to show the HTML representation or trust the notebook. <br />On GitHub, the HTML representation is unable to render, please try loading this page with nbviewer.org.</b></div><div class=\"sk-container\" hidden><div class=\"sk-item\"><div class=\"sk-estimator fitted sk-toggleable\"><input class=\"sk-toggleable__control sk-hidden--visually\" id=\"sk-estimator-id-1\" type=\"checkbox\" checked><label for=\"sk-estimator-id-1\" class=\"sk-toggleable__label fitted sk-toggleable__label-arrow fitted\">&nbsp;&nbsp;MLPClassifier<a class=\"sk-estimator-doc-link fitted\" rel=\"noreferrer\" target=\"_blank\" href=\"https://scikit-learn.org/1.5/modules/generated/sklearn.neural_network.MLPClassifier.html\">?<span>Documentation for MLPClassifier</span></a><span class=\"sk-estimator-doc-link fitted\">i<span>Fitted</span></span></label><div class=\"sk-toggleable__content fitted\"><pre>MLPClassifier(activation=&#x27;logistic&#x27;, hidden_layer_sizes=(2,), max_iter=100,\n",
              "              random_state=20, solver=&#x27;lbfgs&#x27;)</pre></div> </div></div></div></div>"
            ]
          },
          "metadata": {},
          "execution_count": 81
        }
      ]
    },
    {
      "cell_type": "markdown",
      "source": [
        "Penjelasan:\n",
        "\n",
        "Kode ini melatih model Multi-Layer Perceptron (MLP) untuk klasifikasi dengan pengaturan tertentu\n",
        "\n",
        "- solver='lbfgs': Menggunakan algoritma L-BFGS (Limited-memory Broyden–Fletcher–Goldfarb–Shanno), yang merupakan optimisasi berbasis kuasi-Newton untuk pelatihan.\n",
        "- activation='logistic': Fungsi aktivasi logistik digunakan pada neuron, yang menghasilkan output antara 0 dan 1 (fungsi sigmoid).\n",
        "- hidden_layer_sizes=(2,): Model memiliki 1 hidden layer dengan 2 neuron.\n",
        "- max_iter=100: Model akan melakukan pelatihan selama 100 iterasi.\n",
        "- random_state=20: Menetapkan nilai acak untuk memastikan hasil yang dapat direproduksi."
      ],
      "metadata": {
        "id": "CtKGbzJ4TbJO"
      }
    },
    {
      "cell_type": "markdown",
      "source": [
        "**Langkah 4 - Prediksi**"
      ],
      "metadata": {
        "id": "vw8CBfnG53xG"
      }
    },
    {
      "cell_type": "code",
      "source": [
        "pred = clf.predict(X)\n",
        "print('Accuracy: %s' % clf.score(X, y))\n",
        "for i,p in enumerate(pred[:10]):\n",
        "    print('True: %s, Predicted: %s' % (y[i], p))"
      ],
      "metadata": {
        "colab": {
          "base_uri": "https://localhost:8080/"
        },
        "id": "iwc_hAdr559u",
        "outputId": "05ecdade-c8cc-4360-ddab-7b9871fcb5d8"
      },
      "execution_count": 82,
      "outputs": [
        {
          "output_type": "stream",
          "name": "stdout",
          "text": [
            "Accuracy: 1.0\n",
            "True: 0, Predicted: 0\n",
            "True: 1, Predicted: 1\n",
            "True: 1, Predicted: 1\n",
            "True: 0, Predicted: 0\n"
          ]
        }
      ]
    },
    {
      "cell_type": "markdown",
      "source": [
        "Penjelasan:\n",
        "\n",
        "Kode di atas digunakan untuk evaluasi model klasifikasi yang telah dilatih menggunakan MLPClassifier\n",
        "\n",
        "- pred = clf.predict(X): Menggunakan model MLPClassifier (clf) untuk memprediksi label (kelas) berdasarkan data input X. Hasil prediksi disimpan dalam variabel pred.\n",
        "\n",
        "- print('Accuracy: %s' % clf.score(X, y)): Menghitung dan menampilkan akurasi model dengan membandingkan prediksi pada data X dengan label sebenarnya y. Fungsi score() menghitung persentase prediksi yang benar.\n",
        "\n",
        "- for i, p in enumerate(pred[:10]):: Loop untuk menampilkan prediksi dan nilai sebenarnya (y) untuk 10 data pertama.\n",
        "\n",
        "- True: %s, Predicted: %s' % (y[i], p): Menampilkan nilai sebenarnya (y[i]) dan hasil prediksi (p) untuk setiap data.\n",
        "\n",
        "**Output:**\n",
        "- Akurasi model terhadap dataset X.\n",
        "- Daftar 10 prediksi pertama, dengan nilai asli dan prediksi yang dicocokkan."
      ],
      "metadata": {
        "id": "SmVy-0t5Tbo3"
      }
    },
    {
      "cell_type": "markdown",
      "source": [
        "# Praktikum 4\n",
        "Klasifikasi dengan ANN"
      ],
      "metadata": {
        "id": "lyfyywJKqAo1"
      }
    },
    {
      "cell_type": "markdown",
      "source": [
        "## Pra Pengolahan Data"
      ],
      "metadata": {
        "id": "vApfmyawqpoL"
      }
    },
    {
      "cell_type": "markdown",
      "source": [
        "**Langkah 1 - Import Library**"
      ],
      "metadata": {
        "id": "Rjb-Ka6dqvsB"
      }
    },
    {
      "cell_type": "code",
      "source": [
        "import numpy as np\n",
        "import pandas as pd\n",
        "import tensorflow as tf"
      ],
      "metadata": {
        "id": "ODck7lI1qnaQ"
      },
      "execution_count": 83,
      "outputs": []
    },
    {
      "cell_type": "markdown",
      "source": [
        "Penjelasan:\n",
        "\n",
        "Kode ini mengimpor tiga pustaka yang umum digunakan dalam pengolahan data\n",
        "\n",
        "- NumPy: untuk komputasi numerik.\n",
        "- Pandas: untuk manipulasi data.\n",
        "- TensorFlow: untuk pembelajaran mesin dan kecerdasan buatan."
      ],
      "metadata": {
        "id": "27r75FKVTdVQ"
      }
    },
    {
      "cell_type": "markdown",
      "source": [
        "**Langkah 2 - Load Data**"
      ],
      "metadata": {
        "id": "nJvRyImSq1Zp"
      }
    },
    {
      "cell_type": "code",
      "source": [
        "dataset = pd.read_csv('Churn_Modelling.csv')\n",
        "X = dataset.iloc[:, 3:-1].values\n",
        "y = dataset.iloc[:, -1].values"
      ],
      "metadata": {
        "id": "bM9tKR6MqzU0"
      },
      "execution_count": 84,
      "outputs": []
    },
    {
      "cell_type": "markdown",
      "source": [
        "Penjelasan:\n",
        "\n",
        "\n",
        "Kode diatas digunakan untuk memuat dan memproses dataset yang ada di dalam file CSV bernama 'Churn_Modelling.csv'.\n",
        "\n",
        "**dataset = pd.read_csv('Churn_Modelling.csv'):**\n",
        "\n",
        "- pd.read_csv(): Fungsi dari Pandas yang digunakan untuk membaca file CSV dan mengonversinya menjadi sebuah DataFrame.\n",
        "- 'Churn_Modelling.csv': Nama file CSV yang berisi data yang ingin dibaca.\n",
        "dataset: Variabel yang menyimpan DataFrame yang dihasilkan dari membaca file CSV.\n",
        "\n",
        "**X = dataset.iloc[:, 3:-1].values:**\n",
        "\n",
        "- dataset.iloc[:, 3:-1]: Menggunakan metode iloc untuk memilih subset kolom dari dataset:\n",
        "    - : berarti memilih semua baris.\n",
        "    - 3:-1 berarti memilih kolom mulai dari indeks ke-3 hingga kolom terakhir sebelum kolom terakhir (indeks -1). Ini berfungsi untuk memilih fitur (kolom input) dari dataset, kecuali kolom pertama (biasanya ID atau atribut non-bernilai) dan kolom terakhir (biasanya kolom target).\n",
        "- .values: Mengonversi subset DataFrame yang dipilih menjadi array NumPy untuk digunakan dalam model pembelajaran mesin.\n",
        "- X: Variabel yang menyimpan array fitur (input) untuk model.\n",
        "\n",
        "**y = dataset.iloc[:, -1].values:**\n",
        "\n",
        "- dataset.iloc[:, -1]: Menggunakan iloc untuk memilih kolom terakhir dari dataset (kolom target).\n",
        "    - -1 menunjukkan kolom terakhir, yang biasanya adalah label atau target variabel dalam dataset.\n",
        "- .values: Mengonversi kolom target yang dipilih menjadi array NumPy.\n",
        "y: Variabel yang menyimpan label (target) yang akan diprediksi oleh model"
      ],
      "metadata": {
        "id": "ZUPMI84YTdxd"
      }
    },
    {
      "cell_type": "markdown",
      "source": [
        "Cek data (X)"
      ],
      "metadata": {
        "id": "IAS2q-Y9q4ME"
      }
    },
    {
      "cell_type": "code",
      "source": [
        "print(X)"
      ],
      "metadata": {
        "colab": {
          "base_uri": "https://localhost:8080/"
        },
        "id": "EW-MXFThq5Ii",
        "outputId": "0285cc07-553b-4693-aac4-eed99bf94ebb"
      },
      "execution_count": 85,
      "outputs": [
        {
          "output_type": "stream",
          "name": "stdout",
          "text": [
            "[[619 'France' 'Female' ... 1 1 101348.88]\n",
            " [608 'Spain' 'Female' ... 0 1 112542.58]\n",
            " [502 'France' 'Female' ... 1 0 113931.57]\n",
            " ...\n",
            " [709 'France' 'Female' ... 0 1 42085.58]\n",
            " [772 'Germany' 'Male' ... 1 0 92888.52]\n",
            " [792 'France' 'Female' ... 1 0 38190.78]]\n"
          ]
        }
      ]
    },
    {
      "cell_type": "markdown",
      "source": [
        "**Langkah 3 - Encoding Data Kategorikal**"
      ],
      "metadata": {
        "id": "FQbm23H_q_pI"
      }
    },
    {
      "cell_type": "code",
      "source": [
        "from sklearn.preprocessing import LabelEncoder\n",
        "le = LabelEncoder()\n",
        "X[:, 2] = le.fit_transform(X[:, 2])"
      ],
      "metadata": {
        "id": "boi_8EAyrCRR"
      },
      "execution_count": 86,
      "outputs": []
    },
    {
      "cell_type": "markdown",
      "source": [
        "Penjelasan:\n",
        "\n",
        "Kode diatas digunakan untuk mengonversi kolom kategori dalam dataset menjadi nilai numerik menggunakan LabelEncoder dari sklearn.preprocessing\n",
        "\n",
        "**from sklearn.preprocessing import LabelEncoder:**\n",
        "\n",
        "- Mengimpor LabelEncoder dari scikit-learn yang digunakan untuk mengonversi label kategori (seperti string) menjadi nilai numerik (integer). Ini sering digunakan untuk menangani fitur kategorikal dalam model pembelajaran mesin.\n",
        "\n",
        "**le = LabelEncoder():**\n",
        "\n",
        "- Membuat objek LabelEncoder yang akan digunakan untuk fit dan transform data kategorikal.\n",
        "\n",
        "**X[:, 2] = le.fit_transform(X[:, 2]):**\n",
        "\n",
        "- X[:, 2]: Memilih kolom ke-3 (indeks ke-2) dari array X yang berisi fitur dataset.\n",
        "- le.fit_transform(X[:, 2]): Menggunakan fit_transform untuk mengonversi nilai kategori dalam kolom tersebut menjadi angka numerik. Metode fit menemukan label kategori yang unik, dan transform menggantinya dengan angka yang sesuai.\n",
        "- X[:, 2] = ...: Menyimpan hasil konversi kembali ke kolom ke-3 dalam array X."
      ],
      "metadata": {
        "id": "NMEuATTsTehU"
      }
    },
    {
      "cell_type": "markdown",
      "source": [
        "Cek data (X) dengan print. Hasilnya,"
      ],
      "metadata": {
        "id": "4M5MUiAlrAfQ"
      }
    },
    {
      "cell_type": "code",
      "source": [
        "print(X)"
      ],
      "metadata": {
        "colab": {
          "base_uri": "https://localhost:8080/"
        },
        "id": "0VHpLG3ArNIA",
        "outputId": "75fe6a3f-7ccd-4a75-ff15-688327758ca0"
      },
      "execution_count": 87,
      "outputs": [
        {
          "output_type": "stream",
          "name": "stdout",
          "text": [
            "[[619 'France' 0 ... 1 1 101348.88]\n",
            " [608 'Spain' 0 ... 0 1 112542.58]\n",
            " [502 'France' 0 ... 1 0 113931.57]\n",
            " ...\n",
            " [709 'France' 0 ... 0 1 42085.58]\n",
            " [772 'Germany' 1 ... 1 0 92888.52]\n",
            " [792 'France' 0 ... 1 0 38190.78]]\n"
          ]
        }
      ]
    },
    {
      "cell_type": "markdown",
      "source": [
        "**Langkah 4 - Encoding Kolom \"Geography\" dengan One Hot Encoder**"
      ],
      "metadata": {
        "id": "hQHFRBBlrQW7"
      }
    },
    {
      "cell_type": "code",
      "source": [
        "from sklearn.compose import ColumnTransformer\n",
        "from sklearn.preprocessing import OneHotEncoder\n",
        "ct = ColumnTransformer(transformers=[('encoder', OneHotEncoder(), [1])], remainder='passthrough')\n",
        "X = np.array(ct.fit_transform(X))"
      ],
      "metadata": {
        "id": "PxNRV302rTSA"
      },
      "execution_count": 88,
      "outputs": []
    },
    {
      "cell_type": "markdown",
      "source": [
        "Penjelasan:\n",
        "\n",
        "Kode diatas digunakan untuk menerapkan One-Hot Encoding pada kolom kategorikal dalam dataset.\n",
        "\n",
        "- ColumnTransformer: Digunakan untuk menerapkan transformasi pada kolom tertentu dalam dataset.\n",
        "- OneHotEncoder(): Menerapkan One-Hot Encoding pada kolom yang dipilih, mengonversi kategori menjadi vektor biner (0 atau 1).\n",
        "- transformers=[('encoder', OneHotEncoder(), [1])]: Menyatakan bahwa OneHotEncoder diterapkan pada kolom dengan indeks 1.\n",
        "- remainder='passthrough': Kolom lainnya yang tidak dipilih akan diteruskan tanpa perubahan.\n",
        "- X = np.array(ct.fit_transform(X)): Mengonversi hasil transformasi menjadi array NumPy dan menyimpannya kembali ke dalam X."
      ],
      "metadata": {
        "id": "5Q75ECR7TfOi"
      }
    },
    {
      "cell_type": "markdown",
      "source": [
        "Cek data (X) dengan print. Hasilnya,"
      ],
      "metadata": {
        "id": "LPJoOtk4rS0_"
      }
    },
    {
      "cell_type": "code",
      "source": [
        "print(X)"
      ],
      "metadata": {
        "colab": {
          "base_uri": "https://localhost:8080/"
        },
        "id": "5AKl0iB2rV-s",
        "outputId": "230af0f5-ddbd-4ccf-8eeb-6957a074039e"
      },
      "execution_count": 89,
      "outputs": [
        {
          "output_type": "stream",
          "name": "stdout",
          "text": [
            "[[1.0 0.0 0.0 ... 1 1 101348.88]\n",
            " [0.0 0.0 1.0 ... 0 1 112542.58]\n",
            " [1.0 0.0 0.0 ... 1 0 113931.57]\n",
            " ...\n",
            " [1.0 0.0 0.0 ... 0 1 42085.58]\n",
            " [0.0 1.0 0.0 ... 1 0 92888.52]\n",
            " [1.0 0.0 0.0 ... 1 0 38190.78]]\n"
          ]
        }
      ]
    },
    {
      "cell_type": "markdown",
      "source": [
        "**Langkah 5 - Split Data**"
      ],
      "metadata": {
        "id": "aGLsDEmvrYXl"
      }
    },
    {
      "cell_type": "code",
      "source": [
        "from sklearn.model_selection import train_test_split\n",
        "X_train, X_test, y_train, y_test = train_test_split(X, y, test_size = 0.2, random_state = 0)"
      ],
      "metadata": {
        "id": "Vj3AdZMDraYN"
      },
      "execution_count": 90,
      "outputs": []
    },
    {
      "cell_type": "markdown",
      "source": [
        "Penjelasan:\n",
        "\n",
        "kode diatas digunakan untuk membagi dataset menjadi 80% untuk pelatihan dan 20% untuk pengujian."
      ],
      "metadata": {
        "id": "p_NgeV3vTgWg"
      }
    },
    {
      "cell_type": "markdown",
      "source": [
        "**Langkah 6 - Scaling Fitur**\n"
      ],
      "metadata": {
        "id": "jeXRekacrcUq"
      }
    },
    {
      "cell_type": "code",
      "source": [
        "from sklearn.preprocessing import StandardScaler\n",
        "sc = StandardScaler()\n",
        "X_train = sc.fit_transform(X_train)\n",
        "X_test = sc.transform(X_test)"
      ],
      "metadata": {
        "id": "wso69q7ZrkC7"
      },
      "execution_count": 91,
      "outputs": []
    },
    {
      "cell_type": "markdown",
      "source": [
        "Penjelasan:\n",
        "\n",
        "Kode diatas digunakan untuk melakukan standardisasi pada fitur (input) dengan StandardScaler dari scikit-learn\n",
        "\n",
        "- sc = StandardScaler(): Membuat objek StandardScaler yang digunakan untuk mengubah data sehingga memiliki rata-rata 0 dan deviasi standar 1.\n",
        "\n",
        "- X_train = sc.fit_transform(X_train):\n",
        "\n",
        "- fit_transform menghitung mean dan standard deviation dari data pelatihan (X_train) dan kemudian menerapkan transformasi untuk menstandarkan data.\n",
        "X_test = sc.transform(X_test):\n",
        "\n",
        "- transform menerapkan transformasi yang dihitung pada data pelatihan (X_train) ke data pengujian (X_test), tanpa menghitung ulang mean dan standard deviation."
      ],
      "metadata": {
        "id": "1IFMmHOITgyo"
      }
    },
    {
      "cell_type": "markdown",
      "source": [
        "## Membuat Model ANN"
      ],
      "metadata": {
        "id": "ngZQlfo0rl9S"
      }
    },
    {
      "cell_type": "markdown",
      "source": [
        "**Langkah 1 - Inisiasi Model ANN**"
      ],
      "metadata": {
        "id": "K7oAfrtdroYo"
      }
    },
    {
      "cell_type": "code",
      "source": [
        "ann = tf.keras.models.Sequential()"
      ],
      "metadata": {
        "id": "AYm9qr-RrqFz"
      },
      "execution_count": 92,
      "outputs": []
    },
    {
      "cell_type": "markdown",
      "source": [
        "Penjelasan:\n",
        "\n",
        "kode diatas digunakan untuk kerangka dasar untuk membangun model jaringan saraf tiruan (ANN) menggunakan Keras dalam TensorFlow\n",
        "\n",
        "- Membuat model Sequential yang memungkinkan kita untuk menyusun lapisan-lapisan jaringan saraf secara berurutan (sequential). Artinya, data akan mengalir dari satu lapisan ke lapisan berikutnya tanpa bercabang.\n",
        "- Model Sequential ini adalah cara yang umum digunakan untuk membangun jaringan saraf dengan lapisan yang terhubung satu sama lain secara linear."
      ],
      "metadata": {
        "id": "WVLX-n6rTiK2"
      }
    },
    {
      "cell_type": "markdown",
      "source": [
        "**Langkah 2 - Membuat Input Layer dan Hidden Layer Pertama**"
      ],
      "metadata": {
        "id": "dJQ213fmrsAq"
      }
    },
    {
      "cell_type": "code",
      "source": [
        "ann.add(tf.keras.layers.Dense(units=6, activation='relu'))"
      ],
      "metadata": {
        "id": "x2i1Ng6rrsTR"
      },
      "execution_count": 93,
      "outputs": []
    },
    {
      "cell_type": "markdown",
      "source": [
        "Penjelasan:\n",
        "\n",
        "Kode ini digunakan untuk menambahkan lapisan Dense ke dalam model jaringan saraf Sequential:\n",
        "\n",
        "- ann.add(tf.keras.layers.Dense(units=6, activation='relu')):\n",
        "    - Dense: Lapisan fully connected atau dense yang menghubungkan setiap neuron pada lapisan sebelumnya dengan setiap neuron pada lapisan ini.\n",
        "    - units=6: Menentukan jumlah neuron dalam lapisan ini, yaitu 6 neuron.\n",
        "    - activation='relu': Menentukan fungsi aktivasi yang digunakan pada lapisan ini, yaitu ReLU (Rectified Linear Unit). Fungsi ReLU mengaktifkan neuron jika input lebih besar dari nol, dan menghasilakan nol jika input kurang dari nol."
      ],
      "metadata": {
        "id": "pBHsl-UxTipg"
      }
    },
    {
      "cell_type": "markdown",
      "source": [
        "**Langkah 3 - Membuat Hidden Layer Kedua**"
      ],
      "metadata": {
        "id": "GkIJMpePrsYx"
      }
    },
    {
      "cell_type": "code",
      "source": [
        "ann.add(tf.keras.layers.Dense(units=6, activation='relu'))"
      ],
      "metadata": {
        "id": "ueF6oCjirsfW"
      },
      "execution_count": 94,
      "outputs": []
    },
    {
      "cell_type": "markdown",
      "source": [
        "Penjelasan:\n",
        "\n",
        "Kode ini menambahkan lapisan Dense lainnya ke dalam model jaringan saraf Sequential:\n",
        "\n",
        "- ann.add(tf.keras.layers.Dense(units=6, activation='relu')):\n",
        "    - Dense: Jenis lapisan fully connected (dalam jaringan saraf, setiap neuron di lapisan ini terhubung ke semua neuron di lapisan sebelumnya).\n",
        "    - units=6: Menentukan jumlah neuron di lapisan ini, yaitu 6 neuron.\n",
        "    - activation='relu': Fungsi ReLU (Rectified Linear Unit) digunakan sebagai fungsi aktivasi untuk lapisan ini. ReLU mengubah nilai input negatif menjadi nol dan mempertahankan nilai positif tanpa perubahan, yang membantu model untuk belajar representasi non-linear."
      ],
      "metadata": {
        "id": "F-YjRfvOTjPC"
      }
    },
    {
      "cell_type": "markdown",
      "source": [
        "**Langkah 4 - Membuat Output Layer**"
      ],
      "metadata": {
        "id": "ebPP9KsZrsla"
      }
    },
    {
      "cell_type": "code",
      "source": [
        "ann.add(tf.keras.layers.Dense(units=1, activation='sigmoid'))"
      ],
      "metadata": {
        "id": "nxkpEYShrsrb"
      },
      "execution_count": 95,
      "outputs": []
    },
    {
      "cell_type": "markdown",
      "source": [
        "Penjelasan:\n",
        "\n",
        "\n",
        "Kode diatas digunakan untuk menambahkan lapisan output ke dalam model jaringan saraf Sequential:\n",
        "\n",
        "- ann.add(tf.keras.layers.Dense(units=1, activation='sigmoid')):\n",
        "    - Dense: Jenis lapisan fully connected, yang menghubungkan neuron pada lapisan sebelumnya ke lapisan ini.\n",
        "    - units=1: Menentukan jumlah neuron di lapisan output, yaitu 1 neuron. Ini umum digunakan untuk tugas klasifikasi biner, di mana output hanya memiliki dua kelas (misalnya, 0 atau 1).\n",
        "    - activation='sigmoid': Fungsi sigmoid digunakan sebagai fungsi aktivasi untuk lapisan output. Fungsi ini mengubah output neuron menjadi nilai antara 0 dan 1, cocok untuk masalah klasifikasi biner."
      ],
      "metadata": {
        "id": "lstixcy1Tj3V"
      }
    },
    {
      "cell_type": "markdown",
      "source": [
        "## Training Model\n",
        "\n",
        "**Langkah 1 - Compile Model (Menyatukan Arsitektur) ANN**"
      ],
      "metadata": {
        "id": "HlXq3ZHkrsw-"
      }
    },
    {
      "cell_type": "code",
      "source": [
        "ann.compile(optimizer = 'adam', loss = 'binary_crossentropy', metrics = ['accuracy'])"
      ],
      "metadata": {
        "id": "FWrNGJpZrs32"
      },
      "execution_count": 96,
      "outputs": []
    },
    {
      "cell_type": "markdown",
      "source": [
        "Penjelasan:\n",
        "\n",
        "\n",
        "Kode diatas digunakan untuk mengkompilasi model jaringan saraf dengan memilih optimizer, fungsi loss, dan metrik yang digunakan selama pelatihan:\n",
        "\n",
        "- ann.compile(optimizer='adam', loss='binary_crossentropy', metrics=['accuracy']):\n",
        "    - optimizer='adam': Menentukan algoritma optimisasi yang digunakan untuk meminimalkan fungsi loss. Adam (Adaptive Moment Estimation) adalah salah satu optimizer yang populer dan efektif, menggabungkan keuntungan dari algoritma Momentum dan RMSprop.\n",
        "    - loss='binary_crossentropy': Fungsi binary crossentropy digunakan sebagai fungsi loss untuk masalah klasifikasi biner (misalnya, 0 atau 1). Fungsi ini mengukur perbedaan antara distribusi probabilitas prediksi dan distribusi target yang sebenarnya.\n",
        "    - metrics=['accuracy']: Menentukan metrik yang akan dihitung selama pelatihan dan evaluasi model. Di sini, accuracy digunakan untuk mengukur seberapa banyak prediksi yang benar dibandingkan dengan total prediksi."
      ],
      "metadata": {
        "id": "eisiZOrPTkSt"
      }
    },
    {
      "cell_type": "markdown",
      "source": [
        "**Langkah 2 - Fitting Model**"
      ],
      "metadata": {
        "id": "yXvspSour9J9"
      }
    },
    {
      "cell_type": "code",
      "source": [
        "ann.fit(X_train, y_train, batch_size = 32, epochs = 100)"
      ],
      "metadata": {
        "colab": {
          "base_uri": "https://localhost:8080/"
        },
        "id": "-6oJ-y58r9Xc",
        "outputId": "56598520-50f8-4e3f-b878-de6d8710a5e1"
      },
      "execution_count": 97,
      "outputs": [
        {
          "output_type": "stream",
          "name": "stdout",
          "text": [
            "Epoch 1/100\n",
            "\u001b[1m250/250\u001b[0m \u001b[32m━━━━━━━━━━━━━━━━━━━━\u001b[0m\u001b[37m\u001b[0m \u001b[1m2s\u001b[0m 2ms/step - accuracy: 0.7973 - loss: 0.5202\n",
            "Epoch 2/100\n",
            "\u001b[1m250/250\u001b[0m \u001b[32m━━━━━━━━━━━━━━━━━━━━\u001b[0m\u001b[37m\u001b[0m \u001b[1m1s\u001b[0m 2ms/step - accuracy: 0.7882 - loss: 0.4681\n",
            "Epoch 3/100\n",
            "\u001b[1m250/250\u001b[0m \u001b[32m━━━━━━━━━━━━━━━━━━━━\u001b[0m\u001b[37m\u001b[0m \u001b[1m1s\u001b[0m 2ms/step - accuracy: 0.7991 - loss: 0.4470\n",
            "Epoch 4/100\n",
            "\u001b[1m250/250\u001b[0m \u001b[32m━━━━━━━━━━━━━━━━━━━━\u001b[0m\u001b[37m\u001b[0m \u001b[1m0s\u001b[0m 2ms/step - accuracy: 0.8141 - loss: 0.4290\n",
            "Epoch 5/100\n",
            "\u001b[1m250/250\u001b[0m \u001b[32m━━━━━━━━━━━━━━━━━━━━\u001b[0m\u001b[37m\u001b[0m \u001b[1m1s\u001b[0m 3ms/step - accuracy: 0.8193 - loss: 0.4222\n",
            "Epoch 6/100\n",
            "\u001b[1m250/250\u001b[0m \u001b[32m━━━━━━━━━━━━━━━━━━━━\u001b[0m\u001b[37m\u001b[0m \u001b[1m1s\u001b[0m 3ms/step - accuracy: 0.8214 - loss: 0.4277\n",
            "Epoch 7/100\n",
            "\u001b[1m250/250\u001b[0m \u001b[32m━━━━━━━━━━━━━━━━━━━━\u001b[0m\u001b[37m\u001b[0m \u001b[1m1s\u001b[0m 2ms/step - accuracy: 0.8306 - loss: 0.4182\n",
            "Epoch 8/100\n",
            "\u001b[1m250/250\u001b[0m \u001b[32m━━━━━━━━━━━━━━━━━━━━\u001b[0m\u001b[37m\u001b[0m \u001b[1m1s\u001b[0m 2ms/step - accuracy: 0.8327 - loss: 0.4117\n",
            "Epoch 9/100\n",
            "\u001b[1m250/250\u001b[0m \u001b[32m━━━━━━━━━━━━━━━━━━━━\u001b[0m\u001b[37m\u001b[0m \u001b[1m1s\u001b[0m 2ms/step - accuracy: 0.8264 - loss: 0.4114\n",
            "Epoch 10/100\n",
            "\u001b[1m250/250\u001b[0m \u001b[32m━━━━━━━━━━━━━━━━━━━━\u001b[0m\u001b[37m\u001b[0m \u001b[1m1s\u001b[0m 2ms/step - accuracy: 0.8327 - loss: 0.4087\n",
            "Epoch 11/100\n",
            "\u001b[1m250/250\u001b[0m \u001b[32m━━━━━━━━━━━━━━━━━━━━\u001b[0m\u001b[37m\u001b[0m \u001b[1m0s\u001b[0m 2ms/step - accuracy: 0.8307 - loss: 0.4044\n",
            "Epoch 12/100\n",
            "\u001b[1m250/250\u001b[0m \u001b[32m━━━━━━━━━━━━━━━━━━━━\u001b[0m\u001b[37m\u001b[0m \u001b[1m1s\u001b[0m 2ms/step - accuracy: 0.8425 - loss: 0.3925\n",
            "Epoch 13/100\n",
            "\u001b[1m250/250\u001b[0m \u001b[32m━━━━━━━━━━━━━━━━━━━━\u001b[0m\u001b[37m\u001b[0m \u001b[1m1s\u001b[0m 2ms/step - accuracy: 0.8366 - loss: 0.3971\n",
            "Epoch 14/100\n",
            "\u001b[1m250/250\u001b[0m \u001b[32m━━━━━━━━━━━━━━━━━━━━\u001b[0m\u001b[37m\u001b[0m \u001b[1m1s\u001b[0m 2ms/step - accuracy: 0.8345 - loss: 0.4024\n",
            "Epoch 15/100\n",
            "\u001b[1m250/250\u001b[0m \u001b[32m━━━━━━━━━━━━━━━━━━━━\u001b[0m\u001b[37m\u001b[0m \u001b[1m0s\u001b[0m 2ms/step - accuracy: 0.8379 - loss: 0.3949\n",
            "Epoch 16/100\n",
            "\u001b[1m250/250\u001b[0m \u001b[32m━━━━━━━━━━━━━━━━━━━━\u001b[0m\u001b[37m\u001b[0m \u001b[1m1s\u001b[0m 2ms/step - accuracy: 0.8339 - loss: 0.4013\n",
            "Epoch 17/100\n",
            "\u001b[1m250/250\u001b[0m \u001b[32m━━━━━━━━━━━━━━━━━━━━\u001b[0m\u001b[37m\u001b[0m \u001b[1m0s\u001b[0m 2ms/step - accuracy: 0.8338 - loss: 0.4007\n",
            "Epoch 18/100\n",
            "\u001b[1m250/250\u001b[0m \u001b[32m━━━━━━━━━━━━━━━━━━━━\u001b[0m\u001b[37m\u001b[0m \u001b[1m1s\u001b[0m 2ms/step - accuracy: 0.8320 - loss: 0.4009\n",
            "Epoch 19/100\n",
            "\u001b[1m250/250\u001b[0m \u001b[32m━━━━━━━━━━━━━━━━━━━━\u001b[0m\u001b[37m\u001b[0m \u001b[1m0s\u001b[0m 2ms/step - accuracy: 0.8433 - loss: 0.3865\n",
            "Epoch 20/100\n",
            "\u001b[1m250/250\u001b[0m \u001b[32m━━━━━━━━━━━━━━━━━━━━\u001b[0m\u001b[37m\u001b[0m \u001b[1m0s\u001b[0m 2ms/step - accuracy: 0.8352 - loss: 0.3983\n",
            "Epoch 21/100\n",
            "\u001b[1m250/250\u001b[0m \u001b[32m━━━━━━━━━━━━━━━━━━━━\u001b[0m\u001b[37m\u001b[0m \u001b[1m1s\u001b[0m 2ms/step - accuracy: 0.8389 - loss: 0.3922\n",
            "Epoch 22/100\n",
            "\u001b[1m250/250\u001b[0m \u001b[32m━━━━━━━━━━━━━━━━━━━━\u001b[0m\u001b[37m\u001b[0m \u001b[1m1s\u001b[0m 1ms/step - accuracy: 0.8365 - loss: 0.3923\n",
            "Epoch 23/100\n",
            "\u001b[1m250/250\u001b[0m \u001b[32m━━━━━━━━━━━━━━━━━━━━\u001b[0m\u001b[37m\u001b[0m \u001b[1m1s\u001b[0m 2ms/step - accuracy: 0.8313 - loss: 0.4052\n",
            "Epoch 24/100\n",
            "\u001b[1m250/250\u001b[0m \u001b[32m━━━━━━━━━━━━━━━━━━━━\u001b[0m\u001b[37m\u001b[0m \u001b[1m1s\u001b[0m 2ms/step - accuracy: 0.8285 - loss: 0.4094\n",
            "Epoch 25/100\n",
            "\u001b[1m250/250\u001b[0m \u001b[32m━━━━━━━━━━━━━━━━━━━━\u001b[0m\u001b[37m\u001b[0m \u001b[1m1s\u001b[0m 3ms/step - accuracy: 0.8274 - loss: 0.4058\n",
            "Epoch 26/100\n",
            "\u001b[1m250/250\u001b[0m \u001b[32m━━━━━━━━━━━━━━━━━━━━\u001b[0m\u001b[37m\u001b[0m \u001b[1m1s\u001b[0m 3ms/step - accuracy: 0.8324 - loss: 0.3990\n",
            "Epoch 27/100\n",
            "\u001b[1m250/250\u001b[0m \u001b[32m━━━━━━━━━━━━━━━━━━━━\u001b[0m\u001b[37m\u001b[0m \u001b[1m1s\u001b[0m 1ms/step - accuracy: 0.8316 - loss: 0.4007\n",
            "Epoch 28/100\n",
            "\u001b[1m250/250\u001b[0m \u001b[32m━━━━━━━━━━━━━━━━━━━━\u001b[0m\u001b[37m\u001b[0m \u001b[1m1s\u001b[0m 2ms/step - accuracy: 0.8285 - loss: 0.4015\n",
            "Epoch 29/100\n",
            "\u001b[1m250/250\u001b[0m \u001b[32m━━━━━━━━━━━━━━━━━━━━\u001b[0m\u001b[37m\u001b[0m \u001b[1m0s\u001b[0m 1ms/step - accuracy: 0.8304 - loss: 0.4114\n",
            "Epoch 30/100\n",
            "\u001b[1m250/250\u001b[0m \u001b[32m━━━━━━━━━━━━━━━━━━━━\u001b[0m\u001b[37m\u001b[0m \u001b[1m0s\u001b[0m 2ms/step - accuracy: 0.8340 - loss: 0.3929\n",
            "Epoch 31/100\n",
            "\u001b[1m250/250\u001b[0m \u001b[32m━━━━━━━━━━━━━━━━━━━━\u001b[0m\u001b[37m\u001b[0m \u001b[1m0s\u001b[0m 1ms/step - accuracy: 0.8315 - loss: 0.3968\n",
            "Epoch 32/100\n",
            "\u001b[1m250/250\u001b[0m \u001b[32m━━━━━━━━━━━━━━━━━━━━\u001b[0m\u001b[37m\u001b[0m \u001b[1m1s\u001b[0m 2ms/step - accuracy: 0.8377 - loss: 0.3978\n",
            "Epoch 33/100\n",
            "\u001b[1m250/250\u001b[0m \u001b[32m━━━━━━━━━━━━━━━━━━━━\u001b[0m\u001b[37m\u001b[0m \u001b[1m1s\u001b[0m 1ms/step - accuracy: 0.8345 - loss: 0.3968\n",
            "Epoch 34/100\n",
            "\u001b[1m250/250\u001b[0m \u001b[32m━━━━━━━━━━━━━━━━━━━━\u001b[0m\u001b[37m\u001b[0m \u001b[1m1s\u001b[0m 1ms/step - accuracy: 0.8391 - loss: 0.3915\n",
            "Epoch 35/100\n",
            "\u001b[1m250/250\u001b[0m \u001b[32m━━━━━━━━━━━━━━━━━━━━\u001b[0m\u001b[37m\u001b[0m \u001b[1m0s\u001b[0m 1ms/step - accuracy: 0.8331 - loss: 0.3950\n",
            "Epoch 36/100\n",
            "\u001b[1m250/250\u001b[0m \u001b[32m━━━━━━━━━━━━━━━━━━━━\u001b[0m\u001b[37m\u001b[0m \u001b[1m1s\u001b[0m 1ms/step - accuracy: 0.8371 - loss: 0.3946\n",
            "Epoch 37/100\n",
            "\u001b[1m250/250\u001b[0m \u001b[32m━━━━━━━━━━━━━━━━━━━━\u001b[0m\u001b[37m\u001b[0m \u001b[1m1s\u001b[0m 3ms/step - accuracy: 0.8401 - loss: 0.3859\n",
            "Epoch 38/100\n",
            "\u001b[1m250/250\u001b[0m \u001b[32m━━━━━━━━━━━━━━━━━━━━\u001b[0m\u001b[37m\u001b[0m \u001b[1m1s\u001b[0m 2ms/step - accuracy: 0.8352 - loss: 0.4021\n",
            "Epoch 39/100\n",
            "\u001b[1m250/250\u001b[0m \u001b[32m━━━━━━━━━━━━━━━━━━━━\u001b[0m\u001b[37m\u001b[0m \u001b[1m0s\u001b[0m 2ms/step - accuracy: 0.8395 - loss: 0.3907\n",
            "Epoch 40/100\n",
            "\u001b[1m250/250\u001b[0m \u001b[32m━━━━━━━━━━━━━━━━━━━━\u001b[0m\u001b[37m\u001b[0m \u001b[1m0s\u001b[0m 2ms/step - accuracy: 0.8334 - loss: 0.4014\n",
            "Epoch 41/100\n",
            "\u001b[1m250/250\u001b[0m \u001b[32m━━━━━━━━━━━━━━━━━━━━\u001b[0m\u001b[37m\u001b[0m \u001b[1m0s\u001b[0m 2ms/step - accuracy: 0.8357 - loss: 0.3984\n",
            "Epoch 42/100\n",
            "\u001b[1m250/250\u001b[0m \u001b[32m━━━━━━━━━━━━━━━━━━━━\u001b[0m\u001b[37m\u001b[0m \u001b[1m1s\u001b[0m 2ms/step - accuracy: 0.8359 - loss: 0.3990\n",
            "Epoch 43/100\n",
            "\u001b[1m250/250\u001b[0m \u001b[32m━━━━━━━━━━━━━━━━━━━━\u001b[0m\u001b[37m\u001b[0m \u001b[1m0s\u001b[0m 2ms/step - accuracy: 0.8371 - loss: 0.3943\n",
            "Epoch 44/100\n",
            "\u001b[1m250/250\u001b[0m \u001b[32m━━━━━━━━━━━━━━━━━━━━\u001b[0m\u001b[37m\u001b[0m \u001b[1m1s\u001b[0m 2ms/step - accuracy: 0.8444 - loss: 0.3886\n",
            "Epoch 45/100\n",
            "\u001b[1m250/250\u001b[0m \u001b[32m━━━━━━━━━━━━━━━━━━━━\u001b[0m\u001b[37m\u001b[0m \u001b[1m1s\u001b[0m 3ms/step - accuracy: 0.8411 - loss: 0.3866\n",
            "Epoch 46/100\n",
            "\u001b[1m250/250\u001b[0m \u001b[32m━━━━━━━━━━━━━━━━━━━━\u001b[0m\u001b[37m\u001b[0m \u001b[1m1s\u001b[0m 3ms/step - accuracy: 0.8425 - loss: 0.3834\n",
            "Epoch 47/100\n",
            "\u001b[1m250/250\u001b[0m \u001b[32m━━━━━━━━━━━━━━━━━━━━\u001b[0m\u001b[37m\u001b[0m \u001b[1m1s\u001b[0m 2ms/step - accuracy: 0.8308 - loss: 0.3996\n",
            "Epoch 48/100\n",
            "\u001b[1m250/250\u001b[0m \u001b[32m━━━━━━━━━━━━━━━━━━━━\u001b[0m\u001b[37m\u001b[0m \u001b[1m1s\u001b[0m 2ms/step - accuracy: 0.8290 - loss: 0.4047\n",
            "Epoch 49/100\n",
            "\u001b[1m250/250\u001b[0m \u001b[32m━━━━━━━━━━━━━━━━━━━━\u001b[0m\u001b[37m\u001b[0m \u001b[1m1s\u001b[0m 2ms/step - accuracy: 0.8355 - loss: 0.3889\n",
            "Epoch 50/100\n",
            "\u001b[1m250/250\u001b[0m \u001b[32m━━━━━━━━━━━━━━━━━━━━\u001b[0m\u001b[37m\u001b[0m \u001b[1m1s\u001b[0m 2ms/step - accuracy: 0.8377 - loss: 0.3956\n",
            "Epoch 51/100\n",
            "\u001b[1m250/250\u001b[0m \u001b[32m━━━━━━━━━━━━━━━━━━━━\u001b[0m\u001b[37m\u001b[0m \u001b[1m1s\u001b[0m 2ms/step - accuracy: 0.8350 - loss: 0.3963\n",
            "Epoch 52/100\n",
            "\u001b[1m250/250\u001b[0m \u001b[32m━━━━━━━━━━━━━━━━━━━━\u001b[0m\u001b[37m\u001b[0m \u001b[1m1s\u001b[0m 2ms/step - accuracy: 0.8406 - loss: 0.3905\n",
            "Epoch 53/100\n",
            "\u001b[1m250/250\u001b[0m \u001b[32m━━━━━━━━━━━━━━━━━━━━\u001b[0m\u001b[37m\u001b[0m \u001b[1m1s\u001b[0m 2ms/step - accuracy: 0.8397 - loss: 0.3927\n",
            "Epoch 54/100\n",
            "\u001b[1m250/250\u001b[0m \u001b[32m━━━━━━━━━━━━━━━━━━━━\u001b[0m\u001b[37m\u001b[0m \u001b[1m1s\u001b[0m 2ms/step - accuracy: 0.8380 - loss: 0.3971\n",
            "Epoch 55/100\n",
            "\u001b[1m250/250\u001b[0m \u001b[32m━━━━━━━━━━━━━━━━━━━━\u001b[0m\u001b[37m\u001b[0m \u001b[1m1s\u001b[0m 2ms/step - accuracy: 0.8395 - loss: 0.3899\n",
            "Epoch 56/100\n",
            "\u001b[1m250/250\u001b[0m \u001b[32m━━━━━━━━━━━━━━━━━━━━\u001b[0m\u001b[37m\u001b[0m \u001b[1m0s\u001b[0m 2ms/step - accuracy: 0.8351 - loss: 0.3961\n",
            "Epoch 57/100\n",
            "\u001b[1m250/250\u001b[0m \u001b[32m━━━━━━━━━━━━━━━━━━━━\u001b[0m\u001b[37m\u001b[0m \u001b[1m1s\u001b[0m 2ms/step - accuracy: 0.8295 - loss: 0.4024\n",
            "Epoch 58/100\n",
            "\u001b[1m250/250\u001b[0m \u001b[32m━━━━━━━━━━━━━━━━━━━━\u001b[0m\u001b[37m\u001b[0m \u001b[1m1s\u001b[0m 2ms/step - accuracy: 0.8365 - loss: 0.3967\n",
            "Epoch 59/100\n",
            "\u001b[1m250/250\u001b[0m \u001b[32m━━━━━━━━━━━━━━━━━━━━\u001b[0m\u001b[37m\u001b[0m \u001b[1m1s\u001b[0m 2ms/step - accuracy: 0.8315 - loss: 0.4058\n",
            "Epoch 60/100\n",
            "\u001b[1m250/250\u001b[0m \u001b[32m━━━━━━━━━━━━━━━━━━━━\u001b[0m\u001b[37m\u001b[0m \u001b[1m0s\u001b[0m 2ms/step - accuracy: 0.8362 - loss: 0.3944\n",
            "Epoch 61/100\n",
            "\u001b[1m250/250\u001b[0m \u001b[32m━━━━━━━━━━━━━━━━━━━━\u001b[0m\u001b[37m\u001b[0m \u001b[1m1s\u001b[0m 2ms/step - accuracy: 0.8434 - loss: 0.3782\n",
            "Epoch 62/100\n",
            "\u001b[1m250/250\u001b[0m \u001b[32m━━━━━━━━━━━━━━━━━━━━\u001b[0m\u001b[37m\u001b[0m \u001b[1m1s\u001b[0m 2ms/step - accuracy: 0.8320 - loss: 0.3945\n",
            "Epoch 63/100\n",
            "\u001b[1m250/250\u001b[0m \u001b[32m━━━━━━━━━━━━━━━━━━━━\u001b[0m\u001b[37m\u001b[0m \u001b[1m1s\u001b[0m 2ms/step - accuracy: 0.8336 - loss: 0.4001\n",
            "Epoch 64/100\n",
            "\u001b[1m250/250\u001b[0m \u001b[32m━━━━━━━━━━━━━━━━━━━━\u001b[0m\u001b[37m\u001b[0m \u001b[1m1s\u001b[0m 3ms/step - accuracy: 0.8394 - loss: 0.3924\n",
            "Epoch 65/100\n",
            "\u001b[1m250/250\u001b[0m \u001b[32m━━━━━━━━━━━━━━━━━━━━\u001b[0m\u001b[37m\u001b[0m \u001b[1m1s\u001b[0m 3ms/step - accuracy: 0.8327 - loss: 0.4054\n",
            "Epoch 66/100\n",
            "\u001b[1m250/250\u001b[0m \u001b[32m━━━━━━━━━━━━━━━━━━━━\u001b[0m\u001b[37m\u001b[0m \u001b[1m1s\u001b[0m 2ms/step - accuracy: 0.8410 - loss: 0.3846\n",
            "Epoch 67/100\n",
            "\u001b[1m250/250\u001b[0m \u001b[32m━━━━━━━━━━━━━━━━━━━━\u001b[0m\u001b[37m\u001b[0m \u001b[1m0s\u001b[0m 2ms/step - accuracy: 0.8414 - loss: 0.3885\n",
            "Epoch 68/100\n",
            "\u001b[1m250/250\u001b[0m \u001b[32m━━━━━━━━━━━━━━━━━━━━\u001b[0m\u001b[37m\u001b[0m \u001b[1m1s\u001b[0m 2ms/step - accuracy: 0.8380 - loss: 0.3947\n",
            "Epoch 69/100\n",
            "\u001b[1m250/250\u001b[0m \u001b[32m━━━━━━━━━━━━━━━━━━━━\u001b[0m\u001b[37m\u001b[0m \u001b[1m0s\u001b[0m 2ms/step - accuracy: 0.8387 - loss: 0.3985\n",
            "Epoch 70/100\n",
            "\u001b[1m250/250\u001b[0m \u001b[32m━━━━━━━━━━━━━━━━━━━━\u001b[0m\u001b[37m\u001b[0m \u001b[1m1s\u001b[0m 2ms/step - accuracy: 0.8432 - loss: 0.3814\n",
            "Epoch 71/100\n",
            "\u001b[1m250/250\u001b[0m \u001b[32m━━━━━━━━━━━━━━━━━━━━\u001b[0m\u001b[37m\u001b[0m \u001b[1m1s\u001b[0m 2ms/step - accuracy: 0.8381 - loss: 0.3896\n",
            "Epoch 72/100\n",
            "\u001b[1m250/250\u001b[0m \u001b[32m━━━━━━━━━━━━━━━━━━━━\u001b[0m\u001b[37m\u001b[0m \u001b[1m0s\u001b[0m 2ms/step - accuracy: 0.8426 - loss: 0.3868\n",
            "Epoch 73/100\n",
            "\u001b[1m250/250\u001b[0m \u001b[32m━━━━━━━━━━━━━━━━━━━━\u001b[0m\u001b[37m\u001b[0m \u001b[1m1s\u001b[0m 2ms/step - accuracy: 0.8390 - loss: 0.3918\n",
            "Epoch 74/100\n",
            "\u001b[1m250/250\u001b[0m \u001b[32m━━━━━━━━━━━━━━━━━━━━\u001b[0m\u001b[37m\u001b[0m \u001b[1m0s\u001b[0m 2ms/step - accuracy: 0.8359 - loss: 0.3920\n",
            "Epoch 75/100\n",
            "\u001b[1m250/250\u001b[0m \u001b[32m━━━━━━━━━━━━━━━━━━━━\u001b[0m\u001b[37m\u001b[0m \u001b[1m1s\u001b[0m 2ms/step - accuracy: 0.8394 - loss: 0.3872\n",
            "Epoch 76/100\n",
            "\u001b[1m250/250\u001b[0m \u001b[32m━━━━━━━━━━━━━━━━━━━━\u001b[0m\u001b[37m\u001b[0m \u001b[1m1s\u001b[0m 2ms/step - accuracy: 0.8354 - loss: 0.3897\n",
            "Epoch 77/100\n",
            "\u001b[1m250/250\u001b[0m \u001b[32m━━━━━━━━━━━━━━━━━━━━\u001b[0m\u001b[37m\u001b[0m \u001b[1m1s\u001b[0m 2ms/step - accuracy: 0.8300 - loss: 0.4016\n",
            "Epoch 78/100\n",
            "\u001b[1m250/250\u001b[0m \u001b[32m━━━━━━━━━━━━━━━━━━━━\u001b[0m\u001b[37m\u001b[0m \u001b[1m0s\u001b[0m 2ms/step - accuracy: 0.8266 - loss: 0.4024\n",
            "Epoch 79/100\n",
            "\u001b[1m250/250\u001b[0m \u001b[32m━━━━━━━━━━━━━━━━━━━━\u001b[0m\u001b[37m\u001b[0m \u001b[1m0s\u001b[0m 2ms/step - accuracy: 0.8374 - loss: 0.3929\n",
            "Epoch 80/100\n",
            "\u001b[1m250/250\u001b[0m \u001b[32m━━━━━━━━━━━━━━━━━━━━\u001b[0m\u001b[37m\u001b[0m \u001b[1m1s\u001b[0m 1ms/step - accuracy: 0.8343 - loss: 0.3941\n",
            "Epoch 81/100\n",
            "\u001b[1m250/250\u001b[0m \u001b[32m━━━━━━━━━━━━━━━━━━━━\u001b[0m\u001b[37m\u001b[0m \u001b[1m1s\u001b[0m 2ms/step - accuracy: 0.8328 - loss: 0.3990\n",
            "Epoch 82/100\n",
            "\u001b[1m250/250\u001b[0m \u001b[32m━━━━━━━━━━━━━━━━━━━━\u001b[0m\u001b[37m\u001b[0m \u001b[1m1s\u001b[0m 2ms/step - accuracy: 0.8348 - loss: 0.3965\n",
            "Epoch 83/100\n",
            "\u001b[1m250/250\u001b[0m \u001b[32m━━━━━━━━━━━━━━━━━━━━\u001b[0m\u001b[37m\u001b[0m \u001b[1m1s\u001b[0m 2ms/step - accuracy: 0.8350 - loss: 0.3918\n",
            "Epoch 84/100\n",
            "\u001b[1m250/250\u001b[0m \u001b[32m━━━━━━━━━━━━━━━━━━━━\u001b[0m\u001b[37m\u001b[0m \u001b[1m1s\u001b[0m 3ms/step - accuracy: 0.8410 - loss: 0.3862\n",
            "Epoch 85/100\n",
            "\u001b[1m250/250\u001b[0m \u001b[32m━━━━━━━━━━━━━━━━━━━━\u001b[0m\u001b[37m\u001b[0m \u001b[1m1s\u001b[0m 3ms/step - accuracy: 0.8368 - loss: 0.3868\n",
            "Epoch 86/100\n",
            "\u001b[1m250/250\u001b[0m \u001b[32m━━━━━━━━━━━━━━━━━━━━\u001b[0m\u001b[37m\u001b[0m \u001b[1m1s\u001b[0m 3ms/step - accuracy: 0.8407 - loss: 0.3857\n",
            "Epoch 87/100\n",
            "\u001b[1m250/250\u001b[0m \u001b[32m━━━━━━━━━━━━━━━━━━━━\u001b[0m\u001b[37m\u001b[0m \u001b[1m1s\u001b[0m 2ms/step - accuracy: 0.8405 - loss: 0.3869\n",
            "Epoch 88/100\n",
            "\u001b[1m250/250\u001b[0m \u001b[32m━━━━━━━━━━━━━━━━━━━━\u001b[0m\u001b[37m\u001b[0m \u001b[1m1s\u001b[0m 2ms/step - accuracy: 0.8406 - loss: 0.3894\n",
            "Epoch 89/100\n",
            "\u001b[1m250/250\u001b[0m \u001b[32m━━━━━━━━━━━━━━━━━━━━\u001b[0m\u001b[37m\u001b[0m \u001b[1m0s\u001b[0m 2ms/step - accuracy: 0.8357 - loss: 0.3903\n",
            "Epoch 90/100\n",
            "\u001b[1m250/250\u001b[0m \u001b[32m━━━━━━━━━━━━━━━━━━━━\u001b[0m\u001b[37m\u001b[0m \u001b[1m1s\u001b[0m 2ms/step - accuracy: 0.8319 - loss: 0.4058\n",
            "Epoch 91/100\n",
            "\u001b[1m250/250\u001b[0m \u001b[32m━━━━━━━━━━━━━━━━━━━━\u001b[0m\u001b[37m\u001b[0m \u001b[1m1s\u001b[0m 2ms/step - accuracy: 0.8396 - loss: 0.3869\n",
            "Epoch 92/100\n",
            "\u001b[1m250/250\u001b[0m \u001b[32m━━━━━━━━━━━━━━━━━━━━\u001b[0m\u001b[37m\u001b[0m \u001b[1m0s\u001b[0m 2ms/step - accuracy: 0.8327 - loss: 0.3941\n",
            "Epoch 93/100\n",
            "\u001b[1m250/250\u001b[0m \u001b[32m━━━━━━━━━━━━━━━━━━━━\u001b[0m\u001b[37m\u001b[0m \u001b[1m1s\u001b[0m 2ms/step - accuracy: 0.8325 - loss: 0.3975\n",
            "Epoch 94/100\n",
            "\u001b[1m250/250\u001b[0m \u001b[32m━━━━━━━━━━━━━━━━━━━━\u001b[0m\u001b[37m\u001b[0m \u001b[1m1s\u001b[0m 2ms/step - accuracy: 0.8403 - loss: 0.3904\n",
            "Epoch 95/100\n",
            "\u001b[1m250/250\u001b[0m \u001b[32m━━━━━━━━━━━━━━━━━━━━\u001b[0m\u001b[37m\u001b[0m \u001b[1m0s\u001b[0m 1ms/step - accuracy: 0.8343 - loss: 0.3975\n",
            "Epoch 96/100\n",
            "\u001b[1m250/250\u001b[0m \u001b[32m━━━━━━━━━━━━━━━━━━━━\u001b[0m\u001b[37m\u001b[0m \u001b[1m1s\u001b[0m 2ms/step - accuracy: 0.8367 - loss: 0.3883\n",
            "Epoch 97/100\n",
            "\u001b[1m250/250\u001b[0m \u001b[32m━━━━━━━━━━━━━━━━━━━━\u001b[0m\u001b[37m\u001b[0m \u001b[1m0s\u001b[0m 1ms/step - accuracy: 0.8403 - loss: 0.3832\n",
            "Epoch 98/100\n",
            "\u001b[1m250/250\u001b[0m \u001b[32m━━━━━━━━━━━━━━━━━━━━\u001b[0m\u001b[37m\u001b[0m \u001b[1m1s\u001b[0m 2ms/step - accuracy: 0.8424 - loss: 0.3833\n",
            "Epoch 99/100\n",
            "\u001b[1m250/250\u001b[0m \u001b[32m━━━━━━━━━━━━━━━━━━━━\u001b[0m\u001b[37m\u001b[0m \u001b[1m1s\u001b[0m 2ms/step - accuracy: 0.8417 - loss: 0.3823\n",
            "Epoch 100/100\n",
            "\u001b[1m250/250\u001b[0m \u001b[32m━━━━━━━━━━━━━━━━━━━━\u001b[0m\u001b[37m\u001b[0m \u001b[1m1s\u001b[0m 2ms/step - accuracy: 0.8395 - loss: 0.3911\n"
          ]
        },
        {
          "output_type": "execute_result",
          "data": {
            "text/plain": [
              "<keras.src.callbacks.history.History at 0x7c9f7e3c5900>"
            ]
          },
          "metadata": {},
          "execution_count": 97
        }
      ]
    },
    {
      "cell_type": "markdown",
      "source": [
        "Penjelasan:\n",
        "\n",
        "Kode diatas digunakan untuk melatih model jaringan saraf menggunakan data pelatihan\n",
        "\n",
        "- ann.fit(X_train, y_train, batch_size=32, epochs=100):\n",
        "    - X_train: Data fitur pelatihan (input) yang digunakan untuk melatih model.\n",
        "    - y_train: Label target (output) yang sesuai dengan data pelatihan.\n",
        "    - batch_size=32: Menentukan ukuran batch yang digunakan dalam setiap iterasi selama pelatihan. Di sini, model akan menggunakan 32 sampel data per batch saat memperbarui bobot.\n",
        "    - epochs=100: Menentukan jumlah iterasi pelatihan, yaitu model akan melatih data selama 100 kali melalui seluruh dataset pelatihan."
      ],
      "metadata": {
        "id": "08T8ZjVpTkv7"
      }
    },
    {
      "cell_type": "markdown",
      "source": [
        "## Membuat Prediksi\n",
        "\n",
        "Diberikan informasi sebagai berikut,\n",
        "\n",
        "Geography: France\n",
        "\n",
        "Credit Score: 600\n",
        "\n",
        "Gender: Male\n",
        "\n",
        "Age: 40 years old\n",
        "\n",
        "Tenure: 3 years\n",
        "\n",
        "Balance: $ 60000\n",
        "\n",
        "Number of Products: 2\n",
        "\n",
        "Does this customer have a credit card ? Yes\n",
        "\n",
        "Is this customer an Active Member: Yes\n",
        "\n",
        "Estimated Salary: $ 50000\n",
        "\n",
        "Apakah customer tersebut perlu dipertahankan?"
      ],
      "metadata": {
        "id": "123YwlOrr9ea"
      }
    },
    {
      "cell_type": "markdown",
      "source": [
        "**Modelkan Data Baru dan Buat Prediksi**"
      ],
      "metadata": {
        "id": "OZqA7PzZsGO1"
      }
    },
    {
      "cell_type": "code",
      "source": [
        "print(ann.predict(sc.transform([[1, 0, 0, 600, 1, 40, 3, 60000, 2, 1, 1, 50000]])) > 0.5)"
      ],
      "metadata": {
        "colab": {
          "base_uri": "https://localhost:8080/"
        },
        "id": "ZdP8cuxrr9kN",
        "outputId": "dc41ad7d-e24d-45e9-80e4-bf1dd520a4a8"
      },
      "execution_count": 98,
      "outputs": [
        {
          "output_type": "stream",
          "name": "stdout",
          "text": [
            "\u001b[1m1/1\u001b[0m \u001b[32m━━━━━━━━━━━━━━━━━━━━\u001b[0m\u001b[37m\u001b[0m \u001b[1m0s\u001b[0m 77ms/step\n",
            "[[False]]\n"
          ]
        }
      ]
    },
    {
      "cell_type": "markdown",
      "source": [
        "Penjelasan:\n",
        "\n",
        "Kode diatas digunakan untuk memprediksi kelas (misalnya, apakah seseorang akan churn atau tidak) untuk satu contoh input menggunakan model jaringan saraf yang telah dilatih\n",
        "\n",
        "- sc.transform([[1, 0, 0, 600, 1, 40, 3, 60000, 2, 1, 1, 50000]]):\n",
        "    - sc.transform(): Menggunakan objek StandardScaler (sc) untuk mengubah skala fitur input sehingga sesuai dengan skala data yang digunakan saat pelatihan. Di sini, data yang diberikan adalah satu contoh dengan beberapa fitur, dan transform() akan menormalisasi data tersebut.\n",
        "- ann.predict():\n",
        "  - Menggunakan model ANN yang telah dilatih untuk memprediksi output berdasarkan input yang sudah dinormalisasi.\n",
        "-  0.5:\n",
        "  - Hasil dari predict() adalah probabilitas (nilai antara 0 dan 1), dan > 0.5 digunakan untuk mengubah probabilitas menjadi keputusan klasifikasi biner. Jika probabilitas lebih besar dari 0.5, maka kelasnya dianggap \"1\" (misalnya, churn), dan jika kurang dari 0.5, kelasnya dianggap \"0\" (misalnya, tidak churn).\n",
        "\n",
        "  \n",
        "Secara singkat, kode ini memprediksi apakah pelanggan (dengan fitur yang diberikan) akan churn atau tidak berdasarkan model yang telah dilatih, menggunakan batas probabilitas 0.5 untuk keputusan klasifikasi."
      ],
      "metadata": {
        "id": "wwFM6p88TlqP"
      }
    },
    {
      "cell_type": "markdown",
      "source": [
        "Apakah hasilnya False?"
      ],
      "metadata": {
        "id": "sOZW4lh9sIJ0"
      }
    },
    {
      "cell_type": "markdown",
      "source": [
        "**Prediksi Dengan Data Testing**"
      ],
      "metadata": {
        "id": "_t454JbFsLdK"
      }
    },
    {
      "cell_type": "code",
      "source": [
        "y_pred = ann.predict(X_test)\n",
        "y_pred = (y_pred > 0.5)\n",
        "print(np.concatenate((y_pred.reshape(len(y_pred),1), y_test.reshape(len(y_test),1)),1))"
      ],
      "metadata": {
        "colab": {
          "base_uri": "https://localhost:8080/"
        },
        "id": "W1z02A5nsJ9o",
        "outputId": "a9ca33cc-2824-43d6-e1b4-4620eb68697c"
      },
      "execution_count": 99,
      "outputs": [
        {
          "output_type": "stream",
          "name": "stdout",
          "text": [
            "\u001b[1m63/63\u001b[0m \u001b[32m━━━━━━━━━━━━━━━━━━━━\u001b[0m\u001b[37m\u001b[0m \u001b[1m0s\u001b[0m 1ms/step\n",
            "[[0 0]\n",
            " [0 1]\n",
            " [0 0]\n",
            " ...\n",
            " [0 0]\n",
            " [0 0]\n",
            " [0 0]]\n"
          ]
        }
      ]
    },
    {
      "cell_type": "markdown",
      "source": [
        "Penjelasan:\n",
        "\n",
        "Kode ini digunakan untuk memprediksi kelas dari data uji dan membandingkannya dengan label sebenarnya, kemudian menampilkan hasilnya\n",
        "\n",
        "- y_pred = ann.predict(X_test):\n",
        "\n",
        "  - Model ANN yang telah dilatih digunakan untuk memprediksi output untuk data uji X_test. Hasilnya adalah nilai probabilitas antara 0 dan 1 untuk setiap contoh.\n",
        "\n",
        "- y_pred = (y_pred > 0.5):\n",
        "\n",
        "  - Probabilitas yang diprediksi diubah menjadi nilai biner. Jika probabilitas lebih besar dari 0.5, maka prediksi dianggap kelas \"1\" (misalnya, churn), dan jika kurang dari 0.5, prediksi dianggap kelas \"0\" (misalnya, tidak churn).\n",
        "\n",
        "- np.concatenate((y_pred.reshape(len(y_pred), 1), y_test.reshape(len(y_test), 1)), 1):\n",
        "\n",
        "  - reshape(len(y_pred), 1) dan reshape(len(y_test), 1) memastikan bahwa y_pred dan y_test memiliki bentuk yang sesuai (vektor kolom) sebelum digabungkan.\n",
        "  - np.concatenate(..., 1) menggabungkan y_pred dan y_test di sepanjang sumbu kolom (axis 1), sehingga menghasilkan sebuah array yang memiliki dua kolom: kolom pertama adalah prediksi (y_pred), dan kolom kedua adalah label asli (y_test).\n",
        "\n",
        "- print(...):\n",
        "\n",
        "  - Menampilkan hasil prediksi dan label asli dalam format yang mudah dibaca, untuk memverifikasi seberapa baik model dalam memprediksi data uji."
      ],
      "metadata": {
        "id": "s_IITvrTTmFT"
      }
    },
    {
      "cell_type": "markdown",
      "source": [
        "**Cek Akurasi dan Confusion Matrix**"
      ],
      "metadata": {
        "id": "m663N7BzsNo3"
      }
    },
    {
      "cell_type": "code",
      "source": [
        "from sklearn.metrics import confusion_matrix, accuracy_score\n",
        "cm = confusion_matrix(y_test, y_pred)\n",
        "print(cm)\n",
        "accuracy_score(y_test, y_pred)"
      ],
      "metadata": {
        "colab": {
          "base_uri": "https://localhost:8080/"
        },
        "id": "P1rOGgLBtFkF",
        "outputId": "e4c331c5-2290-4fd8-f9e4-af9c0ded29c1"
      },
      "execution_count": 100,
      "outputs": [
        {
          "output_type": "stream",
          "name": "stdout",
          "text": [
            "[[1534   61]\n",
            " [ 259  146]]\n"
          ]
        },
        {
          "output_type": "execute_result",
          "data": {
            "text/plain": [
              "0.84"
            ]
          },
          "metadata": {},
          "execution_count": 100
        }
      ]
    },
    {
      "cell_type": "markdown",
      "source": [
        "Penjelasan:\n",
        "\n",
        "Kode diatas digunakan untuk menghitung dan menampilkan metrik evaluasi model, yaitu confusion matrix dan accuracy\n",
        "\n",
        "- confusion_matrix(y_test, y_pred):\n",
        "\n",
        "  - Fungsi ini menghitung confusion matrix antara label sebenarnya (y_test) dan prediksi model (y_pred).\n",
        "  - Confusion matrix adalah tabel yang menunjukkan jumlah prediksi yang benar dan salah, dengan rincian sebagai berikut:\n",
        "      - True Positive (TP): Kelas positif yang diprediksi benar.\n",
        "      - True Negative (TN): Kelas negatif yang diprediksi benar.\n",
        "      - False Positive (FP): Kelas negatif yang diprediksi sebagai kelas positif.\n",
        "      - False Negative (FN): Kelas positif yang diprediksi sebagai kelas negatif.\n",
        "  - Hasilnya adalah array 2x2 yang menunjukkan distribusi prediksi dan label yang benar.\n",
        "\n",
        "- print(cm):\n",
        "\n",
        "  - Menampilkan confusion matrix yang telah dihitung.\n",
        "- accuracy_score(y_test, y_pred):\n",
        "\n",
        "  - Fungsi ini menghitung akurasi model, yaitu persentase prediksi yang benar dibandingkan dengan jumlah total sampel.\n",
        "\n",
        "\n"
      ],
      "metadata": {
        "id": "r9uvP1xsTmji"
      }
    },
    {
      "cell_type": "markdown",
      "source": [
        "# TUGAS"
      ],
      "metadata": {
        "id": "FipSq16Vj9Bn"
      }
    },
    {
      "cell_type": "markdown",
      "source": [
        "\n",
        "- Lakukan klasifikasi pada data MNIST dengan menggunakan model ANN\n",
        "\n",
        "- Anda diperbolehkan melakukan eksplorasi terhadap,\n",
        "\n",
        "  - Metode pra pengolahan\n",
        "\n",
        "  - Pemilihan fitur\n",
        "\n",
        "  - Arsitektur ANN\n",
        "\n",
        "  - Fungsi Aktiviasi\n",
        "\n",
        "- ANN diimplementasikan dengan menggunakan tensorflow.\n",
        "\n",
        "- DIKERJAKAN SECARA BERKELOMPOK\n",
        "\n",
        "- JELASKAN HASIL YANG ANDA DAPATKAN,\n",
        "\n",
        "  - AKURASI\n",
        "\n",
        "  - CONFUSION MATRIX\n",
        "\n",
        "  - KONFIGURASI MODEL --> MULAI DARI PRA PENGOLAHAN SAMPAI ARSITEKTUR ANN"
      ],
      "metadata": {
        "id": "MSJAB9XMjjIa"
      }
    },
    {
      "cell_type": "markdown",
      "source": [
        "**Jawaban**"
      ],
      "metadata": {
        "id": "bzayz2MZnRqX"
      }
    },
    {
      "cell_type": "markdown",
      "source": [
        "**Impor library**"
      ],
      "metadata": {
        "id": "Q_6us-KCpVRo"
      }
    },
    {
      "cell_type": "code",
      "source": [
        "import tensorflow as tf  # Untuk membuat model ANN\n",
        "from tensorflow.keras import Sequential\n",
        "from tensorflow.keras.layers import Dense, Flatten\n",
        "from sklearn.metrics import accuracy_score, confusion_matrix\n",
        "import numpy as np\n",
        "import seaborn as sns\n",
        "import matplotlib.pyplot as plt"
      ],
      "metadata": {
        "id": "Fqyvfn6ypYKu"
      },
      "execution_count": 103,
      "outputs": []
    },
    {
      "cell_type": "markdown",
      "source": [
        "**Memuat dataset MNIST**"
      ],
      "metadata": {
        "id": "wkGL4BAnyPKZ"
      }
    },
    {
      "cell_type": "code",
      "source": [
        "mnist = tf.keras.datasets.mnist\n",
        "(x_train, y_train), (x_test, y_test) = mnist.load_data()"
      ],
      "metadata": {
        "colab": {
          "base_uri": "https://localhost:8080/"
        },
        "id": "iDgjpDAAyzv5",
        "outputId": "99d8af88-8114-4a5c-9737-87926c29339e"
      },
      "execution_count": 104,
      "outputs": [
        {
          "output_type": "stream",
          "name": "stdout",
          "text": [
            "Downloading data from https://storage.googleapis.com/tensorflow/tf-keras-datasets/mnist.npz\n",
            "\u001b[1m11490434/11490434\u001b[0m \u001b[32m━━━━━━━━━━━━━━━━━━━━\u001b[0m\u001b[37m\u001b[0m \u001b[1m0s\u001b[0m 0us/step\n"
          ]
        }
      ]
    },
    {
      "cell_type": "markdown",
      "source": [
        "**Penjelasan**\n",
        "\n",
        "MNIST: Dataset berisi gambar grayscale angka (0-9) dengan ukuran 28x28 pixel."
      ],
      "metadata": {
        "id": "n-NJoFpb2X5K"
      }
    },
    {
      "cell_type": "markdown",
      "source": [
        "**Normalisasi**"
      ],
      "metadata": {
        "id": "1cxFR2Cdy1YA"
      }
    },
    {
      "cell_type": "code",
      "source": [
        "x_train, x_test = x_train / 255.0, x_test / 255.0"
      ],
      "metadata": {
        "id": "LMB4Z3QZy3HO"
      },
      "execution_count": 105,
      "outputs": []
    },
    {
      "cell_type": "markdown",
      "source": [
        "**Penjelasan**\n",
        "\n",
        "Kode ini melakukan normalisasi data dengan membagi nilai pixel gambar dengan 255.0.\n",
        "\n",
        "x_train / 255.0 dan x_test / 255.0:\n",
        "- Gambar dalam dataset MNIST memiliki nilai pixel yang berkisar antara 0 hingga 255.\n",
        "- Dengan membagi nilai pixel dengan 255.0, nilai pixel diubah menjadi rentang antara 0 dan 1.\n",
        "- Hal ini penting karena neural network biasanya bekerja lebih baik dengan data yang terstandardisasi (dalam hal ini, rentang [0, 1]) untuk mempercepat konvergensi dan meningkatkan akurasi.\n",
        "\n",
        "tujuannya untuk mengubah data citra agar lebih mudah diproses oleh model dan membantu model belajar lebih efektif."
      ],
      "metadata": {
        "id": "ilNgO6Rt2hVM"
      }
    },
    {
      "cell_type": "markdown",
      "source": [
        "**Membangun Arsitektur ANN**"
      ],
      "metadata": {
        "id": "LsW20iVfy4g5"
      }
    },
    {
      "cell_type": "code",
      "source": [
        "model = Sequential([\n",
        "    Flatten(input_shape=(28, 28)),  # Mengubah citra 28x28 menjadi vektor 1D\n",
        "    Dense(128, activation='relu'),   # Lapisan tersembunyi 1 dengan 128 neuron dan ReLU\n",
        "    Dense(64, activation='relu'),    # Lapisan tersembunyi 2 dengan 64 neuron dan ReLU\n",
        "    Dense(10, activation='softmax')  # Lapisan output dengan 10 neuron (karena 10 kelas) dan softmax\n",
        "])\n"
      ],
      "metadata": {
        "colab": {
          "base_uri": "https://localhost:8080/"
        },
        "id": "gntLz6s_y4N_",
        "outputId": "c2c3f5da-15b9-4485-feac-8225f372c61f"
      },
      "execution_count": 106,
      "outputs": [
        {
          "output_type": "stream",
          "name": "stderr",
          "text": [
            "/usr/local/lib/python3.10/dist-packages/keras/src/layers/reshaping/flatten.py:37: UserWarning: Do not pass an `input_shape`/`input_dim` argument to a layer. When using Sequential models, prefer using an `Input(shape)` object as the first layer in the model instead.\n",
            "  super().__init__(**kwargs)\n"
          ]
        }
      ]
    },
    {
      "cell_type": "markdown",
      "source": [
        "**Penjelasan**\n",
        "\n",
        "Kode ini mendefinisikan arsitektur model Artificial Neural Network (ANN) menggunakan Sequential dari Keras\n",
        "\n",
        "Flatten: Mengubah input gambar dari 2D (28x28) menjadi 1D (784 fitur). Dibutuhkan untuk menyusun data citra dalam format yang dapat diproses oleh lapisan dense.\n",
        "\n",
        "Dense Layers: Lapisan tersembunyi kedua dengan 64 neuron. Aktivasi ReLU membantu memperkenalkan non-linearitas sehingga model dapat belajar pola kompleks.\n",
        "\n",
        "Output Layer: Fungsi aktivasi softmax digunakan untuk mengeluarkan probabilitas kelas. Lapisan output dengan 10 neuron, mewakili 10 kelas dalam dataset MNIST (angka 0-9). Aktivasi Softmax menghasilkan probabilitas untuk setiap kelas, sehingga total probabilitas = 1."
      ],
      "metadata": {
        "id": "_jYmoERH2nQo"
      }
    },
    {
      "cell_type": "markdown",
      "source": [
        "**Mengonfigurasi Model**"
      ],
      "metadata": {
        "id": "LhH7wWA5y__m"
      }
    },
    {
      "cell_type": "code",
      "source": [
        "model.compile(optimizer='adam',\n",
        "              loss='sparse_categorical_crossentropy',\n",
        "              metrics=['accuracy'])"
      ],
      "metadata": {
        "id": "Y3yLcbgGzH_C"
      },
      "execution_count": 107,
      "outputs": []
    },
    {
      "cell_type": "markdown",
      "source": [
        "**Penjelasan**\n",
        "\n",
        "Optimizer: Menggunakan adam untuk mempercepat dan menstabilkan proses pelatihan.\n",
        "\n",
        "Loss Function: sparse_categorical_crossentropy digunakan karena data label berupa integer, bukan one-hot encoding.\n",
        "\n",
        "Metrics: Akurasi digunakan sebagai metrik untuk mengevaluasi performa model."
      ],
      "metadata": {
        "id": "fdEbOFEu23i7"
      }
    },
    {
      "cell_type": "markdown",
      "source": [
        "**Melatih Model**"
      ],
      "metadata": {
        "id": "E7_x4vIHzJSd"
      }
    },
    {
      "cell_type": "code",
      "source": [
        "model.fit(x_train, y_train, epochs=10)"
      ],
      "metadata": {
        "colab": {
          "base_uri": "https://localhost:8080/"
        },
        "id": "t77XkuKLzLll",
        "outputId": "5085e10c-519f-4fc0-d14f-d22396ef2f8a"
      },
      "execution_count": 108,
      "outputs": [
        {
          "output_type": "stream",
          "name": "stdout",
          "text": [
            "Epoch 1/10\n",
            "\u001b[1m1875/1875\u001b[0m \u001b[32m━━━━━━━━━━━━━━━━━━━━\u001b[0m\u001b[37m\u001b[0m \u001b[1m9s\u001b[0m 4ms/step - accuracy: 0.8841 - loss: 0.4081\n",
            "Epoch 2/10\n",
            "\u001b[1m1875/1875\u001b[0m \u001b[32m━━━━━━━━━━━━━━━━━━━━\u001b[0m\u001b[37m\u001b[0m \u001b[1m8s\u001b[0m 4ms/step - accuracy: 0.9685 - loss: 0.1023\n",
            "Epoch 3/10\n",
            "\u001b[1m1875/1875\u001b[0m \u001b[32m━━━━━━━━━━━━━━━━━━━━\u001b[0m\u001b[37m\u001b[0m \u001b[1m9s\u001b[0m 4ms/step - accuracy: 0.9788 - loss: 0.0671\n",
            "Epoch 4/10\n",
            "\u001b[1m1875/1875\u001b[0m \u001b[32m━━━━━━━━━━━━━━━━━━━━\u001b[0m\u001b[37m\u001b[0m \u001b[1m8s\u001b[0m 5ms/step - accuracy: 0.9836 - loss: 0.0509\n",
            "Epoch 5/10\n",
            "\u001b[1m1875/1875\u001b[0m \u001b[32m━━━━━━━━━━━━━━━━━━━━\u001b[0m\u001b[37m\u001b[0m \u001b[1m10s\u001b[0m 4ms/step - accuracy: 0.9867 - loss: 0.0406\n",
            "Epoch 6/10\n",
            "\u001b[1m1875/1875\u001b[0m \u001b[32m━━━━━━━━━━━━━━━━━━━━\u001b[0m\u001b[37m\u001b[0m \u001b[1m7s\u001b[0m 4ms/step - accuracy: 0.9899 - loss: 0.0307\n",
            "Epoch 7/10\n",
            "\u001b[1m1875/1875\u001b[0m \u001b[32m━━━━━━━━━━━━━━━━━━━━\u001b[0m\u001b[37m\u001b[0m \u001b[1m12s\u001b[0m 5ms/step - accuracy: 0.9913 - loss: 0.0264\n",
            "Epoch 8/10\n",
            "\u001b[1m1875/1875\u001b[0m \u001b[32m━━━━━━━━━━━━━━━━━━━━\u001b[0m\u001b[37m\u001b[0m \u001b[1m9s\u001b[0m 5ms/step - accuracy: 0.9934 - loss: 0.0201\n",
            "Epoch 9/10\n",
            "\u001b[1m1875/1875\u001b[0m \u001b[32m━━━━━━━━━━━━━━━━━━━━\u001b[0m\u001b[37m\u001b[0m \u001b[1m7s\u001b[0m 4ms/step - accuracy: 0.9933 - loss: 0.0193\n",
            "Epoch 10/10\n",
            "\u001b[1m1875/1875\u001b[0m \u001b[32m━━━━━━━━━━━━━━━━━━━━\u001b[0m\u001b[37m\u001b[0m \u001b[1m9s\u001b[0m 5ms/step - accuracy: 0.9943 - loss: 0.0169\n"
          ]
        },
        {
          "output_type": "execute_result",
          "data": {
            "text/plain": [
              "<keras.src.callbacks.history.History at 0x7c9f75f88bb0>"
            ]
          },
          "metadata": {},
          "execution_count": 108
        }
      ]
    },
    {
      "cell_type": "markdown",
      "source": [
        "**Penjelasan**\n",
        "\n",
        "Epoch: Iterasi penuh melalui data pelatihan.\n",
        "\n",
        "fit(): Melatih model menggunakan data latih (x_train, y_train).\n"
      ],
      "metadata": {
        "id": "yV0nSeM724kN"
      }
    },
    {
      "cell_type": "markdown",
      "source": [
        "**Evaluasi dan Prediksi**"
      ],
      "metadata": {
        "id": "wPbBHlTTzNHK"
      }
    },
    {
      "cell_type": "code",
      "source": [
        "y_pred = model.predict(x_test)  # Probabilitas untuk setiap kelas\n",
        "y_pred_classes = np.argmax(y_pred, axis=-1)  # Memilih kelas dengan probabilitas tertinggi"
      ],
      "metadata": {
        "colab": {
          "base_uri": "https://localhost:8080/"
        },
        "id": "NZEL13V2zOVR",
        "outputId": "23a72bad-686f-4b94-c0bc-ccb61e6f38d4"
      },
      "execution_count": 109,
      "outputs": [
        {
          "output_type": "stream",
          "name": "stdout",
          "text": [
            "\u001b[1m313/313\u001b[0m \u001b[32m━━━━━━━━━━━━━━━━━━━━\u001b[0m\u001b[37m\u001b[0m \u001b[1m1s\u001b[0m 2ms/step\n"
          ]
        }
      ]
    },
    {
      "cell_type": "markdown",
      "source": [
        "**Penjelasan**\n",
        "\n",
        "model.predict(x_test): Menghasilkan probabilitas untuk setiap kelas dari data uji.\n",
        "\n",
        "np.argmax(y_pred, axis=-1): Memilih indeks (kelas) dengan probabilitas tertinggi sebagai hasil prediksi."
      ],
      "metadata": {
        "id": "DUxqsep525nW"
      }
    },
    {
      "cell_type": "markdown",
      "source": [
        "**Menghitung akurasi**"
      ],
      "metadata": {
        "id": "W3joAAjgzQNG"
      }
    },
    {
      "cell_type": "code",
      "source": [
        "accuracy = accuracy_score(y_test, y_pred_classes)\n",
        "print(\"Akurasi:\", accuracy)"
      ],
      "metadata": {
        "colab": {
          "base_uri": "https://localhost:8080/"
        },
        "id": "OklbZe9dzSuF",
        "outputId": "8f690e19-821e-4943-efbb-f27a6e818579"
      },
      "execution_count": 110,
      "outputs": [
        {
          "output_type": "stream",
          "name": "stdout",
          "text": [
            "Akurasi: 0.9765\n"
          ]
        }
      ]
    },
    {
      "cell_type": "markdown",
      "source": [
        "**Penjelasan**\n",
        "\n",
        "accuracy_score(y_test, y_pred_classes):\n",
        "digunakan untuk mengukur persentase prediksi yang benar dibanding total sampel."
      ],
      "metadata": {
        "id": "N-wo-4fu26Mr"
      }
    },
    {
      "cell_type": "markdown",
      "source": [
        "**Menghitung confusion matrix**"
      ],
      "metadata": {
        "id": "fN7QGxXKzUnv"
      }
    },
    {
      "cell_type": "code",
      "source": [
        "confusion_mat = confusion_matrix(y_test, y_pred_classes)\n",
        "print(\"Confusion Matriks:\")\n",
        "print(confusion_mat)"
      ],
      "metadata": {
        "colab": {
          "base_uri": "https://localhost:8080/"
        },
        "id": "lyWe-FFbzVye",
        "outputId": "f75bb0fd-8a6d-4a95-bc82-640a1fffcf5d"
      },
      "execution_count": 111,
      "outputs": [
        {
          "output_type": "stream",
          "name": "stdout",
          "text": [
            "Confusion Matriks:\n",
            "[[ 972    0    1    0    1    1    1    1    2    1]\n",
            " [   1 1128    1    0    0    2    2    0    1    0]\n",
            " [   4    4 1007    4    2    0    2    2    6    1]\n",
            " [   1    0    3  976    0    8    0    3    2   17]\n",
            " [   1    0    3    0  952    0    7    1    0   18]\n",
            " [   2    0    0    3    2  867    4    2    2   10]\n",
            " [   4    2    1    1    4    1  942    0    2    1]\n",
            " [   1    6   15    2    2    0    0  986    2   14]\n",
            " [   3    1    6    2    4    4    3    3  938   10]\n",
            " [   1    2    0    0    4    1    2    1    1  997]]\n"
          ]
        }
      ]
    },
    {
      "cell_type": "markdown",
      "source": [
        "**Penjelasan**\n",
        "\n",
        "confusion_matrix(y_test, y_pred_classes): Matriks yang menunjukkan jumlah prediksi benar dan salah untuk setiap kelas, membantu analisis kesalahan klasifikasi."
      ],
      "metadata": {
        "id": "rpFaFdNT26nR"
      }
    },
    {
      "cell_type": "markdown",
      "source": [
        "**Confusion Matrix**"
      ],
      "metadata": {
        "id": "RlTEvI5RzX8q"
      }
    },
    {
      "cell_type": "code",
      "source": [
        "plt.figure(figsize=(8, 6))\n",
        "sns.heatmap(confusion_mat, annot=True, fmt='d', cmap='summer',\n",
        "            xticklabels=range(10), yticklabels=range(10))\n",
        "plt.xlabel('Prediksi')\n",
        "plt.ylabel('Asli')\n",
        "plt.title('Confusion Matrix')\n",
        "plt.show()"
      ],
      "metadata": {
        "colab": {
          "base_uri": "https://localhost:8080/",
          "height": 564
        },
        "id": "W_pjuM8Kza-U",
        "outputId": "9a8db4ed-0b1d-419a-df9c-de7a878be116"
      },
      "execution_count": 122,
      "outputs": [
        {
          "output_type": "display_data",
          "data": {
            "text/plain": [
              "<Figure size 800x600 with 2 Axes>"
            ],
            "image/png": "[encoded data removed]"
          },
          "metadata": {}
        }
      ]
    },
    {
      "cell_type": "markdown",
      "source": [
        "**Penjelasan**\n",
        "\n",
        "Heatmap digunakan untuk menampilkan jumlah prediksi benar dan salah untuk setiap kelas dalam bentuk visual."
      ],
      "metadata": {
        "id": "bxJaBbqh27JM"
      }
    },
    {
      "cell_type": "markdown",
      "source": [
        "**Visualisasi Prediksi pada Data Uji**"
      ],
      "metadata": {
        "id": "xKpt_gOfzdA3"
      }
    },
    {
      "cell_type": "code",
      "source": [
        "plt.figure(figsize=(15, 20))\n",
        "for i in range(20):\n",
        "    plt.subplot(5, 5, i + 1)\n",
        "    plt.xticks([])\n",
        "    plt.yticks([])\n",
        "    plt.grid(False)\n",
        "    plt.imshow(x_test[i], cmap=plt.cm.binary, interpolation='nearest')\n",
        "    label_color = 'black' if y_test[i] == y_pred_classes[i] else 'red'\n",
        "    plt.xlabel(f\"Asli: {y_test[i]}\\nPrediksi: {y_pred_classes[i]}\", color=label_color)\n",
        "plt.show()"
      ],
      "metadata": {
        "colab": {
          "base_uri": "https://localhost:8080/",
          "height": 851
        },
        "id": "jpZORitvzdvp",
        "outputId": "93f3b8f2-2bdb-48d7-9a23-ebb227d7fa33"
      },
      "execution_count": 113,
      "outputs": [
        {
          "output_type": "display_data",
          "data": {
            "text/plain": [
              "<Figure size 1500x2000 with 20 Axes>"
            ],
            "image/png": "[encoded data removed]"
          },
          "metadata": {}
        }
      ]
    },
    {
      "cell_type": "markdown",
      "source": [
        "**Penjelasan**\n",
        "\n",
        "Menampilkan 20 gambar dari data uji beserta label asli dan prediksi.\n",
        "\n",
        "Warna label: Hitam jika prediksi benar, merah jika salah."
      ],
      "metadata": {
        "id": "d72bQjdn28QS"
      }
    },
    {
      "cell_type": "markdown",
      "source": [
        "### Kesimpulan\n",
        "\n",
        "a. Akurasi\n",
        "\n",
        "Setelah pelatihan 10 epoch, model ini mencapai akurasi sekitar 97%-98% pada data uji, menunjukkan bahwa model cukup baik dalam mengklasifikasikan angka tulisan tangan.\n",
        "\n",
        "b. Confusion Matrix\n",
        "\n",
        "Confusion matrix menunjukkan distribusi prediksi model dibandingkan dengan label asli. Sel ini memberikan wawasan tentang kesalahan klasifikasi, seperti angka yang sering diklasifikasikan salah sebagai angka lainnya.\n",
        "\n",
        "c. Visualisasi Matriks Konfusi\n",
        "\n",
        "Heatmap matriks konfusi memberikan representasi visual yang memudahkan interpretasi hasil model.\n",
        "\n"
      ],
      "metadata": {
        "id": "ObL02g2Fze1y"
      }
    }
  ]
}