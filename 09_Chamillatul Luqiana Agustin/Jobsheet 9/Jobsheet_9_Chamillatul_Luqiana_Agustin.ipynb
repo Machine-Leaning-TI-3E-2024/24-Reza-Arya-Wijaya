{
  "nbformat": 4,
  "nbformat_minor": 0,
  "metadata": {
    "colab": {
      "provenance": []
    },
    "kernelspec": {
      "name": "python3",
      "display_name": "Python 3"
    },
    "language_info": {
      "name": "python"
    }
  },
  "cells": [
    {
      "cell_type": "markdown",
      "source": [
        "*   NAMA : CHAMILLATUL LUQIANA AGUSTIN\n",
        "*   NIM : 2241720020\n",
        "*   ABSEN : 09\n",
        "*   KELAS : TI 3E"
      ],
      "metadata": {
        "id": "JBSGwTNl0AYp"
      }
    },
    {
      "cell_type": "markdown",
      "source": [
        "# **Praktikum 1**\n",
        "Klasifikasi Iris dengan Perceptron\n",
        "\n",
        "**Deskripsi**\n",
        "\n",
        "Pada pratikum ini, Anda diminta untuk melakukan klasifikasi bunga iris dengan menggunakan model Perceptron. Anda dapat menggunakan dataset iris pada praktikum sebelumnya.\n",
        "\n",
        "Untuk nembah pemahaman Anda terkait dengan model Perceptron, pada pratkikum ini Anda akan membuat model Perceptron tanpa menggunakan library."
      ],
      "metadata": {
        "id": "rfTI5-IL0C2I"
      }
    },
    {
      "cell_type": "markdown",
      "source": [
        "**Langkah 1 - Import Library**"
      ],
      "metadata": {
        "id": "6BVCDoP-0mpO"
      }
    },
    {
      "cell_type": "code",
      "execution_count": 2,
      "metadata": {
        "id": "BaJk2Yn-zycG"
      },
      "outputs": [],
      "source": [
        "import numpy as np\n",
        "import matplotlib.pyplot as plt\n",
        "import pandas as pd\n",
        "import seaborn as sns"
      ]
    },
    {
      "cell_type": "markdown",
      "source": [
        "**Penjelasan:**\n",
        "\n",
        "Kode program tersebut mengimpor library yang sering digunakan untuk analisis data dan visualisasi:\n",
        "* **import numpy as np**:\n",
        "  * Mengimpor library NumPy dan memberikan alias np agar lebih ringkas saat digunakan.\n",
        "  * NumPy adalah dasar untuk banyak library ilmiah di Python.\n",
        "  * **Penggunaan**: NumPy digunakan untuk manipulasi data numerik, seperti membuat array, melakukan operasi matematika pada array, dan mengelola data dalam bentuk matriks.\n",
        "* **import matplotlib.pyplot as plt**:\n",
        "  * Mengimpor modul pyplot dari library Matplotlib dan memberikan alias plt.\n",
        "  * Matplotlib adalah library untuk membuat visualisasi data dalam berbagai bentuk, seperti grafik garis, grafik batang, scatter plot, dan sebagainya.\n",
        "  * **Penggunaan**: Matplotlib digunakan untuk membuat visualisasi data agar lebih mudah dipahami dan dianalisis.\n",
        "* **import pandas as pd**:\n",
        "  * Mengimpor library Pandas dan memberikan alias pd.\n",
        "  * **Penggunaan**: Pandas digunakan untuk membaca, membersihkan, memanipulasi, dan menganalisis data dalam bentuk tabel.\n",
        "* **import seaborn as sns**:\n",
        "  * Mengimpor library Seaborn dan memberikan alias sns.\n",
        "  * **Penggunaan**: Seaborn digunakan untuk membuat visualisasi data yang lebih estetis dan mudah dipahami, seperti heatmap, violin plot, dan pair plot.\n",
        "\n",
        "---"
      ],
      "metadata": {
        "id": "lRwHE0tY0xkL"
      }
    },
    {
      "cell_type": "markdown",
      "source": [
        "**Langkah 2 - Load Data dan Visualisasi**"
      ],
      "metadata": {
        "id": "oAit2qAP08jQ"
      }
    },
    {
      "cell_type": "code",
      "source": [
        "# Membaca data iris dari file CSV\n",
        "url = \"https://archive.ics.uci.edu/ml/machine-learning-databases/iris/iris.data\"\n",
        "df = pd.read_csv(url, header=None)\n",
        "\n",
        "setosa = df[df[4] == 'Iris-setosa']\n",
        "versicolor = df[df[4] == 'Iris-versicolor']\n",
        "virginica = df[df[4] == 'Iris-virginica']\n",
        "\n",
        "a, b = 0, 3\n",
        "plt.scatter(setosa[a], setosa[b], color='red', marker='o', label='setosa')\n",
        "plt.scatter(versicolor[a], versicolor[b], color='blue', marker='x', label='versicolor')\n",
        "\n",
        "plt.xlabel('Petal Length')\n",
        "plt.ylabel('Sepal Length')\n",
        "plt.legend(loc='upper left')\n",
        "plt.grid()\n",
        "plt.show()"
      ],
      "metadata": {
        "colab": {
          "base_uri": "https://localhost:8080/",
          "height": 449
        },
        "id": "LwxUCKmM0-2G",
        "outputId": "127bb0f2-a73e-43a8-f9b2-de21a7f26ad6"
      },
      "execution_count": 3,
      "outputs": [
        {
          "output_type": "display_data",
          "data": {
            "text/plain": [
              "<Figure size 640x480 with 1 Axes>"
            ],
            "image/png": "[encoded data removed]"
          },
          "metadata": {}
        }
      ]
    },
    {
      "cell_type": "markdown",
      "source": [
        "**Penjelasan:**\n",
        "\n",
        "Kode program tersebut bertujuan untuk memvisualisasikan data bunga Iris dengan menggunakan scatter plot. Secara spesifik, kode ini akan menampilkan sebaran data untuk dua spesies bunga Iris, yaitu Setosa dan Versicolor, berdasarkan panjang sepal dan panjang petal.\n",
        "* **import pandas as pd dan import matplotlib.pyplot as plt**: Mengimpor library Pandas untuk manipulasi data dan Matplotlib untuk visualisasi data.\n",
        "* **url = ... dan df = pd.read_csv(url, header=None)**:\n",
        "  * **url** menyimpan alamat URL dataset Iris yang akan diunduh.\n",
        "  * **pd.read_csv()** digunakan untuk membaca data dari URL tersebut dan menyimpannya dalam DataFrame bernama df.\n",
        "  * **header=None** menandakan bahwa dataset tidak memiliki baris header.\n",
        "* **setosa = ..., versicolor = ..., dan virginica = ...**:\n",
        "  * Membagi DataFrame df menjadi tiga DataFrame terpisah berdasarkan spesies bunga Iris: setosa, versicolor, dan virginica.\n",
        "  * **df[df[4] == 'Iris-setosa']** memilih baris-baris dalam df di mana kolom ke-4 (indeks 4) memiliki nilai 'Iris-setosa'.\n",
        "* **a, b = 0, 3**: Mendefinisikan variabel a dan b yang akan digunakan sebagai indeks kolom untuk data yang akan divisualisasikan.\n",
        "  * **a = 0** merepresentasikan kolom pertama (panjang sepal).\n",
        "  * **b = 3** merepresentasikan kolom keempat (panjang petal).\n",
        "* **plt.scatter(...)**: Membuat scatter plot dengan menggunakan Matplotlib.\n",
        "  * **plt.scatter(setosa[a], setosa[b], ...)**: Membuat scatter plot untuk spesies Setosa dengan panjang sepal pada sumbu x dan panjang petal pada sumbu y.\n",
        "  * Argumen color, marker, dan label digunakan untuk mengatur warna, bentuk marker, dan label untuk setiap spesies.\n",
        "* **plt.xlabel(...), plt.ylabel(...), plt.legend(...), plt.grid()**: Menambahkan label sumbu, legenda, dan grid ke plot untuk memperjelas visualisasi.\n",
        "* **plt.show()**: Menampilkan plot yang telah dibuat.\n",
        "\n",
        "---"
      ],
      "metadata": {
        "id": "aBoWvmhE01Sf"
      }
    },
    {
      "cell_type": "markdown",
      "source": [
        "**Langkah 3 - Membuat Kelas Perceptron**"
      ],
      "metadata": {
        "id": "QpYApXTD3aFm"
      }
    },
    {
      "cell_type": "code",
      "source": [
        "class Perceptron(object):\n",
        "    def __init__(self, eta=0.01, n_iter=10):\n",
        "        self.eta = eta\n",
        "        self.n_iter = n_iter\n",
        "\n",
        "    def fit(self, X, y):\n",
        "\n",
        "        self.w_ = np.zeros(1 + X.shape[1])\n",
        "        self.errors_ = []\n",
        "\n",
        "        for _ in range(self.n_iter):\n",
        "            errors = 0\n",
        "            for xi, target in zip(X, y):\n",
        "                update = self.eta * (target - self.predict(xi))\n",
        "                self.w_[0] += update\n",
        "                self.w_[1:] += update * xi\n",
        "                errors += int(update != 0.0)\n",
        "            self.errors_.append(errors)\n",
        "        return self\n",
        "\n",
        "    def net_input(self, X):\n",
        "        return np.dot(X, self.w_[1:]) + self.w_[0]\n",
        "\n",
        "    def predict(self, X):\n",
        "        return np.where(self.net_input(X) >= 0.0, 1, -1)"
      ],
      "metadata": {
        "id": "kPxt9ruh3eDn"
      },
      "execution_count": 4,
      "outputs": []
    },
    {
      "cell_type": "markdown",
      "source": [
        "**Penjelasan:**\n",
        "\n",
        "Kode program tersebut mendefinisikan sebuah kelas bernama Perceptron yang mengimplementasikan algoritma Perceptron. Algoritma Perceptron adalah salah satu algoritma paling dasar dalam machine learning yang digunakan untuk klasifikasi biner.\n",
        "* **class Perceptron(object):**: Mendeklarasikan kelas Perceptron.\n",
        "* **def __init__(self, eta=0.01, n_iter=10):**:\n",
        "  * Ini adalah konstruktor kelas yang dijalankan saat objek Perceptron dibuat.\n",
        "  * **eta**: Learning rate (laju pembelajaran) yang mengontrol seberapa besar bobot diperbarui pada setiap iterasi. Nilai default adalah 0.01.\n",
        "  * **n_iter**: Jumlah iterasi atau epoch dalam proses pelatihan. Nilai default adalah 10.\n",
        "* **def fit(self, X, y):**:\n",
        "  * Metode ini digunakan untuk melatih model Perceptron.\n",
        "  * X: Data latih berupa array NumPy yang berisi fitur-fitur.\n",
        "  * y: Label atau target yang sesuai dengan data latih.\n",
        "  * Di dalam metode ini:\n",
        "    * **self.w_**: Inisialisasi bobot dengan nilai 0. w_[0] adalah bias, dan w_[1:] adalah bobot untuk setiap fitur.\n",
        "    * **self.errors_**: List untuk menyimpan jumlah kesalahan klasifikasi pada setiap epoch.\n",
        "    * Loop for untuk melakukan iterasi sebanyak n_iter:\n",
        "      * **errors**: Variabel untuk menghitung kesalahan pada epoch saat ini.\n",
        "      * Loop for untuk memproses setiap sampel data (xi, target) dalam data latih:\n",
        "        * **update**: Menghitung pembaruan bobot berdasarkan kesalahan prediksi.\n",
        "        * Memperbarui bobot (self.w_) menggunakan learning rate dan pembaruan.\n",
        "        * Menambahkan kesalahan ke errors jika ada pembaruan bobot.\n",
        "      * Menambahkan errors ke self.errors_.\n",
        "    * Mengembalikan objek Perceptron itu sendiri (self).\n",
        "* **def net_input(self, X):**: Metode ini menghitung net input (input bersih) dari Perceptron, yaitu hasil perkalian dot antara bobot dan fitur ditambah bias.\n",
        "* **def predict(self, X):**:\n",
        "  * Metode ini melakukan prediksi kelas berdasarkan net input.\n",
        "  * Jika net input lebih besar atau sama dengan 0, maka prediksi kelas adalah 1; jika tidak, prediksi kelas adalah -1.\n",
        "  \n",
        "---"
      ],
      "metadata": {
        "id": "PYk4aCOY01w7"
      }
    },
    {
      "cell_type": "markdown",
      "source": [
        "**Langkah 4 - Pilih Data dan Encoding Label**"
      ],
      "metadata": {
        "id": "FBkieual34H6"
      }
    },
    {
      "cell_type": "code",
      "source": [
        "y = df.iloc[0:100, 4].values # pilih 100 data awal\n",
        "y = np.where(y == 'Iris-setosa', -1, 1) # ganti coding label\n",
        "X = df.iloc[0:100, [0, 3]].values # slice data latih"
      ],
      "metadata": {
        "id": "Qse6atwo35lG"
      },
      "execution_count": 5,
      "outputs": []
    },
    {
      "cell_type": "markdown",
      "source": [
        "**Penjelasan:**\n",
        "\n",
        "Kode program tersebut bertujuan untuk menyiapkan data latih untuk klasifikasi bunga Iris menggunakan algoritma Perceptron.\n",
        "* **y = df.iloc[0:100, 4].values**:\n",
        "  * **Memilih 100 data awal**: Kode ini mengambil 100 baris pertama (indeks 0 hingga 99) dari kolom ke-4 (indeks 4) pada DataFrame df dan menyimpannya dalam variabel y.\n",
        "  * **Kolom ke-4**: Kolom ini biasanya berisi label kelas atau spesies bunga Iris (misalnya, 'Iris-setosa', 'Iris-versicolor', 'Iris-virginica').\n",
        "  * **values**: Mengambil nilai-nilai dari data yang dipilih dan mengubahnya menjadi array NumPy.\n",
        "  * **Variabel y**: Variabel ini sekarang menyimpan label kelas untuk 100 data pertama.\n",
        "* **y = np.where(y == 'Iris-setosa', -1, 1)**:\n",
        "  * **Mengganti coding label**: Kode ini mengubah label kelas dalam variabel y menjadi representasi numerik yang sesuai untuk algoritma Perceptron.\n",
        "  * **np.where(kondisi, nilai_jika_benar, nilai_jika_salah)**: Fungsi ini akan memeriksa setiap elemen dalam array y. Jika elemen tersebut sama dengan 'Iris-setosa', maka akan diganti dengan -1. Jika tidak, akan diganti dengan 1.\n",
        "  * **Representasi numerik**: Perceptron biasanya bekerja dengan label biner, di mana satu kelas direpresentasikan sebagai -1 dan kelas lainnya sebagai 1.\n",
        "* **X = df.iloc[0:100, [0, 3]].values**:\n",
        "  * **Memilih data latih**: Kode ini mengambil 100 baris pertama (indeks 0 hingga 99) dan kolom ke-0 dan ke-3 (indeks 0 dan 3) pada DataFrame df dan menyimpannya dalam variabel X.\n",
        "  * **Kolom ke-0 dan ke-3**: Kolom-kolom ini biasanya berisi fitur-fitur data, seperti panjang sepal dan panjang petal.\n",
        "  * **values**: Mengambil nilai-nilai dari data yang dipilih dan mengubahnya menjadi array NumPy.\n",
        "  * **Variabel X**: Variabel ini sekarang menyimpan fitur-fitur data untuk 100 data pertama.\n",
        "  \n",
        "---"
      ],
      "metadata": {
        "id": "EEnwy0Vs02Rs"
      }
    },
    {
      "cell_type": "markdown",
      "source": [
        "**Langkah 5 - Fitting Model**"
      ],
      "metadata": {
        "id": "W0hCcr6R38o_"
      }
    },
    {
      "cell_type": "code",
      "source": [
        "ppn = Perceptron(eta=0.1, n_iter=10)\n",
        "ppn.fit(X, y)"
      ],
      "metadata": {
        "colab": {
          "base_uri": "https://localhost:8080/"
        },
        "id": "OvRUqs613-kJ",
        "outputId": "350d4406-6759-4ee8-9d16-c58d7d89532d"
      },
      "execution_count": 6,
      "outputs": [
        {
          "output_type": "execute_result",
          "data": {
            "text/plain": [
              "<__main__.Perceptron at 0x7f279d5f28c0>"
            ]
          },
          "metadata": {},
          "execution_count": 6
        }
      ]
    },
    {
      "cell_type": "markdown",
      "source": [
        "**Penjelasan:**\n",
        "\n",
        "Kode program tersebut bertujuan untuk membuat dan melatih model Perceptron untuk klasifikasi bunga Iris.\n",
        "* **ppn = Perceptron(eta=0.1, n_iter=10)**:\n",
        "  * **Membuat objek Perceptron**: Kode ini membuat objek dari kelas Perceptron yang telah didefinisikan sebelumnya dan menyimpannya dalam variabel ppn.\n",
        "  * **eta=0.1**: Menentukan learning rate (laju pembelajaran) sebesar 0.1. Learning rate mengontrol seberapa besar bobot model diperbarui pada setiap iterasi pelatihan.\n",
        "  * **n_iter=10**: Menentukan jumlah iterasi atau epoch pelatihan sebesar 10. Epoch adalah satu kali proses model melihat seluruh data latih.\n",
        "* **ppn.fit(X, y)**:\n",
        "  * **Melatih model**: Kode ini memanggil metode fit() pada objek ppn untuk melatih model Perceptron.\n",
        "  * **X**: Data latih yang berisi fitur-fitur (panjang sepal dan panjang petal) yang telah disiapkan sebelumnya.\n",
        "  * **y**: Label kelas yang sesuai dengan data latih, yang juga telah disiapkan sebelumnya.\n",
        "  * **Proses pelatihan**: Metode fit() akan memperbarui bobot model secara iteratif berdasarkan data latih dan label kelas untuk menemukan pola yang memisahkan kelas-kelas bunga Iris.\n",
        "  \n",
        "---"
      ],
      "metadata": {
        "id": "clxCqlow02oD"
      }
    },
    {
      "cell_type": "markdown",
      "source": [
        "**Langkah 6 - Visualisasi Nilai Error Per Epoch**"
      ],
      "metadata": {
        "id": "uYTlCc454CmM"
      }
    },
    {
      "cell_type": "code",
      "source": [
        "plt.plot(range(1, len(ppn.errors_)+1), ppn.errors_)\n",
        "plt.xlabel('Epochs')\n",
        "plt.ylabel('Number of updates')\n",
        "plt.show()"
      ],
      "metadata": {
        "colab": {
          "base_uri": "https://localhost:8080/",
          "height": 449
        },
        "id": "D_UVTGmm4EJ-",
        "outputId": "a2183feb-bb2b-4bc0-8db9-7ccbd5b51f6c"
      },
      "execution_count": 7,
      "outputs": [
        {
          "output_type": "display_data",
          "data": {
            "text/plain": [
              "<Figure size 640x480 with 1 Axes>"
            ],
            "image/png": "[encoded data removed]"
          },
          "metadata": {}
        }
      ]
    },
    {
      "cell_type": "markdown",
      "source": [
        "**Penjelasan:**\n",
        "\n",
        "Kode program tersebut bertujuan untuk memvisualisasikan jumlah pembaruan bobot (error) pada setiap epoch selama proses pelatihan model Perceptron.\n",
        "* **plt.plot(range(1, len(ppn.errors_)+1), ppn.errors_)**:\n",
        "  * **Membuat plot**: Kode ini menggunakan fungsi plot() dari Matplotlib untuk membuat plot garis.\n",
        "  * **range(1, len(ppn.errors_)+1)**: Menentukan nilai-nilai untuk sumbu x, yaitu nomor epoch, mulai dari 1 hingga jumlah epoch yang telah dilakukan selama pelatihan.\n",
        "  * **ppn.errors_**: Atribut errors_ pada objek ppn (Perceptron) menyimpan jumlah pembaruan bobot atau kesalahan klasifikasi pada setiap epoch. Nilai-nilai ini digunakan untuk sumbu y.\n",
        "* **plt.xlabel('Epochs')**: Menambahkan label \"Epochs\" pada sumbu x.\n",
        "* **plt.ylabel('Number of updates')**: Menambahkan label \"Number of updates\" pada sumbu y.\n",
        "* **plt.show()**: Menampilkan plot yang telah dibuat.\n",
        "\n",
        "---"
      ],
      "metadata": {
        "id": "LDERXAMC03Ds"
      }
    },
    {
      "cell_type": "markdown",
      "source": [
        "**Langkah 7 - Visualiasasi Decision Boundary**"
      ],
      "metadata": {
        "id": "7ReL0Uk44Heu"
      }
    },
    {
      "cell_type": "code",
      "source": [
        "# buat fungsi untuk plot decision region\n",
        "\n",
        "from matplotlib.colors import ListedColormap\n",
        "\n",
        "def plot_decision_regions(X, y, classifier, resolution=0.02):\n",
        "    # setup marker generator and color map\n",
        "    markers = ('s', 'x', 'o', '^', 'v')\n",
        "    colors = ('r', 'b', 'g', 'k', 'grey')\n",
        "    cmap = ListedColormap(colors[:len(np.unique(y))])\n",
        "\n",
        "    # plot the decision regions by creating a pair of grid arrays xx1 and xx2 via meshgrid function in Numpy\n",
        "    x1_min, x1_max = X[:, 0].min() - 1, X[:, 0].max() + 1\n",
        "    x2_min, x2_max = X[:, 1].min() - 1, X[:, 1].max() + 1\n",
        "    xx1, xx2 = np.meshgrid(np.arange(x1_min, x1_max, resolution), np.arange(x2_min, x2_max, resolution))\n",
        "\n",
        "    # use predict method to predict the class labels z of the grid points\n",
        "    Z = classifier.predict(np.array([xx1.ravel(),xx2.ravel()]).T)\n",
        "    Z = Z.reshape(xx1.shape)\n",
        "\n",
        "    # draw the contour using matplotlib\n",
        "    plt.contourf(xx1, xx2, Z, alpha=0.4, cmap=cmap)\n",
        "    plt.xlim(xx1.min(), xx1.max())\n",
        "    plt.ylim(xx2.min(), xx2.max())\n",
        "\n",
        "    # plot class samples\n",
        "    for i, cl in enumerate(np.unique(y)):\n",
        "        plt.scatter(x=X[y==cl, 0], y=X[y==cl, 1], alpha=0.8, c=cmap(i), marker=markers[i], label=cl)"
      ],
      "metadata": {
        "id": "4x5eK6q04Jjv"
      },
      "execution_count": 8,
      "outputs": []
    },
    {
      "cell_type": "markdown",
      "source": [
        "**Penjelasan:**\n",
        "\n",
        "Kode tersebut bertujuan untuk memvisualisasikan decision region (area keputusan) dari model klasifikasi pada ruang fitur 2 dimensi. Fungsi ini akan menghasilkan plot yang menunjukkan bagaimana model membagi ruang fitur menjadi area yang sesuai dengan kelas-kelas yang berbeda.\n",
        "* **from matplotlib.colors import ListedColormap**: Mengimpor kelas ListedColormap dari modul matplotlib.colors untuk membuat colormap yang digunakan untuk mewarnai area keputusan.\n",
        "* **def plot_decision_regions(X, y, classifier, resolution=0.02)**: Mendefinisikan fungsi plot_decision_regions dengan parameter:\n",
        "  * **X**: Data fitur.\n",
        "  * **y**: Label kelas.\n",
        "  * **classifier**: Model klasifikasi yang telah dilatih.\n",
        "  * **resolution**: Resolusi grid yang digunakan untuk membuat area keputusan (default: 0.02).\n",
        "* **markers = ('s', 'x', 'o', '^', 'v')**: Mendefinisikan marker yang akan digunakan untuk memplot data point dari kelas yang berbeda.\n",
        "* **colors = ('r', 'b', 'g', 'k', 'grey')**: Mendefinisikan warna yang akan digunakan untuk marker dan area keputusan.\n",
        "* **cmap = ListedColormap(colors[:len(np.unique(y))])**: Membuat colormap berdasarkan jumlah kelas unik dalam data.\n",
        "* **x1_min, x1_max = X[:, 0].min() - 1, X[:, 0].max() + 1**: Menentukan rentang nilai untuk fitur pertama (x1).\n",
        "* **x2_min, x2_max = X[:, 1].min() - 1, X[:, 1].max() + 1**: Menentukan rentang nilai untuk fitur kedua (x2).\n",
        "* **xx1, xx2 = np.meshgrid(np.arange(x1_min, x1_max, resolution), np.arange(x2_min, x2_max, resolution))**: Membuat grid menggunakan np.meshgrid untuk area keputusan.\n",
        "* **Z = classifier.predict(np.array([xx1.ravel(),xx2.ravel()]).T)**: Memprediksi label kelas untuk setiap titik grid menggunakan model klasifikasi.\n",
        "* **Z = Z.reshape(xx1.shape)**: Mengubah bentuk array Z agar sesuai dengan grid.\n",
        "* **plt.contourf(xx1, xx2, Z, alpha=0.4, cmap=cmap)**: Memvisualisasikan area keputusan menggunakan plt.contourf.\n",
        "* **plt.xlim(xx1.min(), xx1.max())**: Mengatur batas sumbu x.\n",
        "* **plt.ylim(xx2.min(), xx2.max())**: Mengatur batas sumbu y.\n",
        "* **plt.ylim(xx2.min(), xx2.max())**:\n",
        "  * Baris ini mengatur batas sumbu y pada plot agar sesuai dengan rentang nilai fitur kedua (x2) yang digunakan untuk membuat area keputusan.\n",
        "  * Ini memastikan bahwa semua data point ditampilkan dengan benar pada plot.\n",
        "* **for i, cl in enumerate(np.unique(y)):**:\n",
        "  * Loop ini akan memplot data point untuk setiap kelas unik (cl) dalam data.\n",
        "  * **enumerate(np.unique(y))**: Mendapatkan indeks (i) dan nilai (cl) dari setiap kelas unik dalam data y.\n",
        "* **plt.scatter(x=X[y==cl, 0], y=X[y==cl, 1], alpha=0.8, c=cmap(i), marker=markers[i], label=cl)**:\n",
        "  * Fungsi plt.scatter() digunakan untuk memplot data point.\n",
        "  * **x=X[y==cl, 0]**: Memilih data point untuk fitur pertama (x1) yang termasuk dalam kelas cl.\n",
        "  * **y=X[y==cl, 1]**: Memilih data point untuk fitur kedua (x2) yang termasuk dalam kelas cl.\n",
        "  * **alpha=0.8**: Mengatur transparansi marker.\n",
        "  * **c=cmap(i)**: Mengatur warna marker berdasarkan colormap dan indeks kelas.\n",
        "  * **marker=markers[i]**: Mengatur marker berdasarkan list markers dan indeks kelas.\n",
        "  * **label=cl**: Memberikan label untuk kelas pada legend plot\n",
        "\n",
        "---"
      ],
      "metadata": {
        "id": "BPTTk6Op04Dw"
      }
    },
    {
      "cell_type": "markdown",
      "source": [
        "# **Praktikum 2**\n",
        "Klasifikasi Berita dengan Perceptron\n",
        "\n",
        "**Deskripsi**\n",
        "\n",
        "Dalam kasus ini, Anda akan melakukan klasifiaksi berita berdasarkan 3 kategori, yaitu **Sport Hockey, Sport Baseball, dan Otomotif**. Proses klasifikasi akan menggunakan model Perceptron."
      ],
      "metadata": {
        "id": "heYPOjU-44jo"
      }
    },
    {
      "cell_type": "markdown",
      "source": [
        "**Langkah 1 - Import Library**"
      ],
      "metadata": {
        "id": "mLafIUb65ET_"
      }
    },
    {
      "cell_type": "code",
      "source": [
        "from sklearn.datasets import fetch_20newsgroups # download dataset\n",
        "from sklearn.feature_extraction.text import TfidfVectorizer\n",
        "from sklearn.linear_model import Perceptron\n",
        "from sklearn.metrics import f1_score, classification_report"
      ],
      "metadata": {
        "id": "n42EE-l85GEh"
      },
      "execution_count": 9,
      "outputs": []
    },
    {
      "cell_type": "markdown",
      "source": [
        "**Penjelasan:**\n",
        "\n",
        "Kode program tersebut digunakan untuk mengklasifikasikan berita ke dalam beberapa kategori menggunakan algoritma Perceptron.\n",
        "* **from sklearn.datasets import fetch_20newsgroups**:\n",
        "  * Mengimpor fungsi fetch_20newsgroups dari library sklearn.datasets.\n",
        "  * Fungsi ini digunakan untuk mengunduh dataset 20 Newsgroups, yang berisi kumpulan artikel berita dari berbagai kategori.\n",
        "* **from sklearn.feature_extraction.text import TfidfVectorizer**:\n",
        "  * Mengimpor kelas TfidfVectorizer dari library sklearn.feature_extraction.text.\n",
        "  * Kelas ini digunakan untuk mengubah teks berita menjadi representasi numerik yang dapat dipahami oleh model Perceptron. Representasi ini disebut TF-IDF (Term Frequency-Inverse Document Frequency), yang memberikan bobot pada kata-kata berdasarkan seberapa sering muncul dalam dokumen dan seberapa unik kata tersebut di seluruh dataset.\n",
        "* **from sklearn.linear_model import Perceptron**:\n",
        "  * Mengimpor kelas Perceptron dari library sklearn.linear_model.\n",
        "  * Kelas ini merupakan implementasi dari algoritma Perceptron, yang akan digunakan untuk mengklasifikasikan berita.\n",
        "* **from sklearn.metrics import f1_score, classification_report**:\n",
        "  * Mengimpor fungsi f1_score dan classification_report dari library sklearn.metrics.\n",
        "  * Fungsi-fungsi ini digunakan untuk mengevaluasi kinerja model Perceptron setelah dilatih. f1_score mengukur keseimbangan antara presisi dan recall, sedangkan classification_report memberikan laporan yang lebih detail tentang kinerja model, termasuk presisi, recall, F1-score, dan support untuk setiap kategori.\n",
        "  \n",
        "---"
      ],
      "metadata": {
        "id": "SnBLPowp04gq"
      }
    },
    {
      "cell_type": "markdown",
      "source": [
        "**Langkah 2 - Pilih Label dan Split Data**"
      ],
      "metadata": {
        "id": "LEEYOzNp5Jjb"
      }
    },
    {
      "cell_type": "code",
      "source": [
        "categories = ['rec.sport.hockey', 'rec.sport.baseball', 'rec.autos']\n",
        "newsgroups_train = fetch_20newsgroups(subset='train', categories=categories, remove=('headers', 'footers', 'quotes'))\n",
        "newsgroups_test = fetch_20newsgroups(subset='test', categories=categories, remove=('headers', 'footers', 'quotes'))"
      ],
      "metadata": {
        "id": "bzSTrDtg5LGp"
      },
      "execution_count": 10,
      "outputs": []
    },
    {
      "cell_type": "markdown",
      "source": [
        "**Penjelasan:**\n",
        "\n",
        "Kode program tersebut digunakan untuk mengambil dan mempersiapkan data dari dataset 20 Newsgroups untuk keperluan klasifikasi teks.\n",
        "* **categories = ['rec.sport.hockey', 'rec.sport.baseball', 'rec.autos']**:\n",
        "  * Baris ini mendefinisikan variabel categories yang berisi daftar kategori berita yang akan digunakan.\n",
        "  * Memilih tiga kategori: 'rec.sport.hockey', 'rec.sport.baseball', dan 'rec.autos'. Artinya, kita hanya akan menggunakan data berita yang termasuk dalam salah satu dari tiga kategori ini.\n",
        "* **newsgroups_train = fetch_20newsgroups(subset='train', categories=categories, remove=('headers', 'footers', 'quotes'))**:\n",
        "  * Baris ini mengunduh dan memuat data latih dari dataset 20 Newsgroups.\n",
        "  * **subset='train'** menunjukkan bahwa kita mengambil data untuk pelatihan model.\n",
        "  * **categories=categories** membatasi data yang diambil hanya pada kategori yang telah didefinisikan sebelumnya.\n",
        "  * **remove=('headers', 'footers', 'quotes')** menghapus bagian header, footer, dan kutipan dari teks berita, karena bagian-bagian ini biasanya tidak relevan untuk klasifikasi.\n",
        "  * Data latih disimpan dalam variabel newsgroups_train.\n",
        "* **newsgroups_test = fetch_20newsgroups(subset='test', categories=categories, remove=('headers', 'footers', 'quotes'))**:\n",
        "  * Baris ini melakukan hal yang sama seperti baris sebelumnya, tetapi untuk data uji.\n",
        "  * **subset='test'** menunjukkan bahwa kita mengambil data untuk menguji kinerja model yang telah dilatih.\n",
        "  * Data uji disimpan dalam variabel newsgroups_test.\n",
        "  \n",
        "---"
      ],
      "metadata": {
        "id": "J5EWH_8l0490"
      }
    },
    {
      "cell_type": "markdown",
      "source": [
        "**Langkah 3 - Ekstrak Fitur dan Buat Model Perceptron**"
      ],
      "metadata": {
        "id": "2Q-ONou_5M2F"
      }
    },
    {
      "cell_type": "code",
      "source": [
        "# Ekstrak Fitur\n",
        "vectorizer = TfidfVectorizer()\n",
        "\n",
        "# Fit fitur\n",
        "X_train = vectorizer.fit_transform(newsgroups_train.data)\n",
        "X_test = vectorizer.transform(newsgroups_test.data)\n",
        "\n",
        "# Fit Model\n",
        "clf = Perceptron(random_state=11)\n",
        "clf.fit(X_train, newsgroups_train.target)\n",
        "\n",
        "# Prediksi\n",
        "predictions = clf.predict(X_test)\n",
        "print(classification_report(newsgroups_test.target, predictions))"
      ],
      "metadata": {
        "colab": {
          "base_uri": "https://localhost:8080/"
        },
        "id": "1PC7j31N5OvE",
        "outputId": "d529dabf-9a50-450e-91c6-4364449e9e52"
      },
      "execution_count": 11,
      "outputs": [
        {
          "output_type": "stream",
          "name": "stdout",
          "text": [
            "              precision    recall  f1-score   support\n",
            "\n",
            "           0       0.88      0.88      0.88       396\n",
            "           1       0.82      0.83      0.83       397\n",
            "           2       0.88      0.87      0.87       399\n",
            "\n",
            "    accuracy                           0.86      1192\n",
            "   macro avg       0.86      0.86      0.86      1192\n",
            "weighted avg       0.86      0.86      0.86      1192\n",
            "\n"
          ]
        }
      ]
    },
    {
      "cell_type": "markdown",
      "source": [
        "**Penjelasan**\n",
        "\n",
        "Dataset yang digunakan pada kode program diatas adalah 20newsgroup yang terdiri dari sekitar 20.000 dokumen. Scikit-learn bahkan menyediakan fungsi yang memberikan kemudahan untuk mengunduh dan membaca kumpulan dataset dengan menggunakan sklearn.datasets. pada kode program diatas Perceptron mampu melakukan klasifikasi multikelas; strategi yang digunakan adalah one-versus-all untuk melakukan pelatihan untuk setiap kelas dalam data training. Dokumen teks memerlukan ekstraksi fitur salah satunya adalah bobot tf-idf pada kodeprogram diatas digunakan tfidf-vectorizer."
      ],
      "metadata": {
        "id": "HYrq0u0_6LFT"
      }
    },
    {
      "cell_type": "markdown",
      "source": [
        "**Penjelasan:**\n",
        "\n",
        "Kode program tersebut digunakan untuk melatih model Perceptron untuk melakukan klasifikasi teks pada data berita yang telah dipersiapkan sebelumnya.\n",
        "* **vectorizer = TfidfVectorizer()**:\n",
        "   * Baris ini membuat objek vectorizer dari kelas TfidfVectorizer.\n",
        "  * **TfidfVectorizer** adalah sebuah kelas di scikit-learn yang digunakan untuk menghitung nilai TF-IDF (Term Frequency-Inverse Document Frequency) dari teks.\n",
        "  * TF-IDF adalah teknik untuk memberikan bobot pada kata-kata berdasarkan seberapa sering muncul dalam dokumen dan seberapa unik kata tersebut di seluruh dataset.\n",
        "* **X_train = vectorizer.fit_transform(newsgroups_train.data)**:\n",
        "  * Baris ini menyesuaikan vectorizer dengan data latih (newsgroups_train.data) dan mengubahnya menjadi matriks fitur TF-IDF.\n",
        "  * **fit_transform() melakukan dua hal**:\n",
        "    * **fit():** Mempelajari kosakata dan IDF dari data latih.\n",
        "    * **transform()**: Mengubah data latih menjadi matriks fitur TF-IDF.\n",
        "  * Hasilnya disimpan dalam variabel X_train.\n",
        "* **X_test = vectorizer.transform(newsgroups_test.data)**:\n",
        "  * Baris ini mengubah data uji (newsgroups_test.data) menjadi matriks fitur TF-IDF menggunakan vectorizer yang telah dilatih sebelumnya.\n",
        "  * **transform()** hanya melakukan transformasi data tanpa mempelajari kosakata dan IDF lagi.\n",
        "  * Hasilnya disimpan dalam variabel X_test.\n",
        "* **clf = Perceptron(random_state=11)**:\n",
        "  * Baris ini membuat objek clf dari kelas Perceptron.\n",
        "  * **random_state=11** digunakan untuk memastikan hasil yang konsisten saat menjalankan kode berulang kali.\n",
        "* **clf.fit(X_train, newsgroups_train.target)**: Baris ini melatih model Perceptron (clf) menggunakan data latih (X_train) dan label targetnya (newsgroups_train.target).\n",
        "* **predictions = clf.predict(X_test)**:\n",
        "  *Baris ini menggunakan model Perceptron (clf) untuk membuat prediksi pada data uji (X_test).\n",
        "  * Hasil prediksi disimpan dalam variabel predictions.\n",
        "* **print(classification_report(newsgroups_test.target, predictions))**:\n",
        "  * Baris ini mencetak laporan klasifikasi yang berisi metrik evaluasi seperti precision, recall, F1-score, dan support untuk setiap kategori.\n",
        "  * **classification_report()** dari scikit-learn digunakan untuk menghasilkan laporan ini.\n",
        "  \n",
        "---"
      ],
      "metadata": {
        "id": "FRdHiEX805Tb"
      }
    },
    {
      "cell_type": "markdown",
      "source": [
        "# **Praktikum 3**\n",
        "Nilai Logika XOR dengan MLP\n",
        "\n",
        "**Deskripsi**\n",
        "\n",
        "Pada kasus sederhana ini, Anda akan menggunakan MLP untuk mendapatkan nilai biner yang dioperasikan dengan logika XOR. Perlu diingat bahwa nilai XOR berbeda dengan OR, XOR hanya akan bernilai benar jika salah satu nilai yang benar, bukan keduanya atau tidak sama sekali."
      ],
      "metadata": {
        "id": "2poIR7_56Oo5"
      }
    },
    {
      "cell_type": "markdown",
      "source": [
        "**Langkah 1 - Import Library**"
      ],
      "metadata": {
        "id": "77zYUDH86Xpn"
      }
    },
    {
      "cell_type": "code",
      "source": [
        "from sklearn.neural_network import MLPClassifier"
      ],
      "metadata": {
        "id": "d7nYm7uk6ZBw"
      },
      "execution_count": 12,
      "outputs": []
    },
    {
      "cell_type": "markdown",
      "source": [
        "**Penjelasan:**\n",
        "\n",
        "Kode program tersebut berfungsi untuk mengimpor kelas MLPClassifier dari modul sklearn.neural_network.\n",
        "* **from sklearn.neural_network**: Ini menunjukkan dari modul/package mana kelas yang ingin diimpor berasal. Dalam hal ini, kelas MLPClassifier berada di dalam modul neural_network yang merupakan bagian dari library sklearn (scikit-learn).\n",
        "* **import MLPClassifier**: Ini secara spesifik mengimpor kelas MLPClassifier agar dapat digunakan dalam kode program Anda.\n",
        "\n",
        "---"
      ],
      "metadata": {
        "id": "XWbkBNUt05vP"
      }
    },
    {
      "cell_type": "markdown",
      "source": [
        "**Langah 2 - Buat Data**"
      ],
      "metadata": {
        "id": "DsI4xRWr6bFD"
      }
    },
    {
      "cell_type": "code",
      "source": [
        "y = [0, 1, 1, 0] # label\n",
        "X = [[0, 0], [0, 1], [1, 0], [1, 1]] # data"
      ],
      "metadata": {
        "id": "Fyvn3YVM6ce9"
      },
      "execution_count": 13,
      "outputs": []
    },
    {
      "cell_type": "markdown",
      "source": [
        "**Penjelasan:**\n",
        "\n",
        "Kode program tersebut mendefinisikan dua variabel, y dan X, yang merepresentasikan label dan data yang akan digunakan untuk melatih model machine learning, khususnya untuk kasus logika XOR.\n",
        "* **y = [0, 1, 1, 0]**:\n",
        "  * **y**: Variabel ini menyimpan label atau target yang ingin diprediksi oleh model.\n",
        "  * **[0, 1, 1, 0]**: Ini adalah list yang berisi label untuk setiap data point. Dalam konteks logika XOR, nilai 0 merepresentasikan output False dan nilai 1 merepresentasikan output True.\n",
        "* **X = [[0, 0], [0, 1], [1, 0], [1, 1]]**:\n",
        "  * **X**: Variabel ini menyimpan data input yang akan digunakan untuk melatih model.\n",
        "  * **[[0, 0], [0, 1], [1, 0], [1, 1]]**: Ini adalah list of lists yang merepresentasikan 4 data point. Setiap data point memiliki dua fitur, dan setiap fitur dapat bernilai 0 atau 1. Kombinasi nilai-nilai ini merepresentasikan input untuk gerbang logika XOR.\n",
        "\n",
        "---"
      ],
      "metadata": {
        "id": "G1Ef-gMM06G9"
      }
    },
    {
      "cell_type": "markdown",
      "source": [
        "**Langkah 3 - Fit Model**"
      ],
      "metadata": {
        "id": "3eRjYWPy6iHI"
      }
    },
    {
      "cell_type": "code",
      "source": [
        "# Fit model\n",
        "clf = MLPClassifier(solver='lbfgs', activation='logistic', hidden_layer_sizes=(2,), max_iter=100, random_state=20)\n",
        "clf.fit(X, y)"
      ],
      "metadata": {
        "colab": {
          "base_uri": "https://localhost:8080/",
          "height": 97
        },
        "id": "uTt5CXs_6j5a",
        "outputId": "21c0c4b8-4f04-463e-bb92-3a9d9360cc23"
      },
      "execution_count": 14,
      "outputs": [
        {
          "output_type": "execute_result",
          "data": {
            "text/plain": [
              "MLPClassifier(activation='logistic', hidden_layer_sizes=(2,), max_iter=100,\n",
              "              random_state=20, solver='lbfgs')"
            ],
            "text/html": [
              "<style>#sk-container-id-1 {\n",
              "  /* Definition of color scheme common for light and dark mode */\n",
              "  --sklearn-color-text: black;\n",
              "  --sklearn-color-line: gray;\n",
              "  /* Definition of color scheme for unfitted estimators */\n",
              "  --sklearn-color-unfitted-level-0: #fff5e6;\n",
              "  --sklearn-color-unfitted-level-1: #f6e4d2;\n",
              "  --sklearn-color-unfitted-level-2: #ffe0b3;\n",
              "  --sklearn-color-unfitted-level-3: chocolate;\n",
              "  /* Definition of color scheme for fitted estimators */\n",
              "  --sklearn-color-fitted-level-0: #f0f8ff;\n",
              "  --sklearn-color-fitted-level-1: #d4ebff;\n",
              "  --sklearn-color-fitted-level-2: #b3dbfd;\n",
              "  --sklearn-color-fitted-level-3: cornflowerblue;\n",
              "\n",
              "  /* Specific color for light theme */\n",
              "  --sklearn-color-text-on-default-background: var(--sg-text-color, var(--theme-code-foreground, var(--jp-content-font-color1, black)));\n",
              "  --sklearn-color-background: var(--sg-background-color, var(--theme-background, var(--jp-layout-color0, white)));\n",
              "  --sklearn-color-border-box: var(--sg-text-color, var(--theme-code-foreground, var(--jp-content-font-color1, black)));\n",
              "  --sklearn-color-icon: #696969;\n",
              "\n",
              "  @media (prefers-color-scheme: dark) {\n",
              "    /* Redefinition of color scheme for dark theme */\n",
              "    --sklearn-color-text-on-default-background: var(--sg-text-color, var(--theme-code-foreground, var(--jp-content-font-color1, white)));\n",
              "    --sklearn-color-background: var(--sg-background-color, var(--theme-background, var(--jp-layout-color0, #111)));\n",
              "    --sklearn-color-border-box: var(--sg-text-color, var(--theme-code-foreground, var(--jp-content-font-color1, white)));\n",
              "    --sklearn-color-icon: #878787;\n",
              "  }\n",
              "}\n",
              "\n",
              "#sk-container-id-1 {\n",
              "  color: var(--sklearn-color-text);\n",
              "}\n",
              "\n",
              "#sk-container-id-1 pre {\n",
              "  padding: 0;\n",
              "}\n",
              "\n",
              "#sk-container-id-1 input.sk-hidden--visually {\n",
              "  border: 0;\n",
              "  clip: rect(1px 1px 1px 1px);\n",
              "  clip: rect(1px, 1px, 1px, 1px);\n",
              "  height: 1px;\n",
              "  margin: -1px;\n",
              "  overflow: hidden;\n",
              "  padding: 0;\n",
              "  position: absolute;\n",
              "  width: 1px;\n",
              "}\n",
              "\n",
              "#sk-container-id-1 div.sk-dashed-wrapped {\n",
              "  border: 1px dashed var(--sklearn-color-line);\n",
              "  margin: 0 0.4em 0.5em 0.4em;\n",
              "  box-sizing: border-box;\n",
              "  padding-bottom: 0.4em;\n",
              "  background-color: var(--sklearn-color-background);\n",
              "}\n",
              "\n",
              "#sk-container-id-1 div.sk-container {\n",
              "  /* jupyter's `normalize.less` sets `[hidden] { display: none; }`\n",
              "     but bootstrap.min.css set `[hidden] { display: none !important; }`\n",
              "     so we also need the `!important` here to be able to override the\n",
              "     default hidden behavior on the sphinx rendered scikit-learn.org.\n",
              "     See: https://github.com/scikit-learn/scikit-learn/issues/21755 */\n",
              "  display: inline-block !important;\n",
              "  position: relative;\n",
              "}\n",
              "\n",
              "#sk-container-id-1 div.sk-text-repr-fallback {\n",
              "  display: none;\n",
              "}\n",
              "\n",
              "div.sk-parallel-item,\n",
              "div.sk-serial,\n",
              "div.sk-item {\n",
              "  /* draw centered vertical line to link estimators */\n",
              "  background-image: linear-gradient(var(--sklearn-color-text-on-default-background), var(--sklearn-color-text-on-default-background));\n",
              "  background-size: 2px 100%;\n",
              "  background-repeat: no-repeat;\n",
              "  background-position: center center;\n",
              "}\n",
              "\n",
              "/* Parallel-specific style estimator block */\n",
              "\n",
              "#sk-container-id-1 div.sk-parallel-item::after {\n",
              "  content: \"\";\n",
              "  width: 100%;\n",
              "  border-bottom: 2px solid var(--sklearn-color-text-on-default-background);\n",
              "  flex-grow: 1;\n",
              "}\n",
              "\n",
              "#sk-container-id-1 div.sk-parallel {\n",
              "  display: flex;\n",
              "  align-items: stretch;\n",
              "  justify-content: center;\n",
              "  background-color: var(--sklearn-color-background);\n",
              "  position: relative;\n",
              "}\n",
              "\n",
              "#sk-container-id-1 div.sk-parallel-item {\n",
              "  display: flex;\n",
              "  flex-direction: column;\n",
              "}\n",
              "\n",
              "#sk-container-id-1 div.sk-parallel-item:first-child::after {\n",
              "  align-self: flex-end;\n",
              "  width: 50%;\n",
              "}\n",
              "\n",
              "#sk-container-id-1 div.sk-parallel-item:last-child::after {\n",
              "  align-self: flex-start;\n",
              "  width: 50%;\n",
              "}\n",
              "\n",
              "#sk-container-id-1 div.sk-parallel-item:only-child::after {\n",
              "  width: 0;\n",
              "}\n",
              "\n",
              "/* Serial-specific style estimator block */\n",
              "\n",
              "#sk-container-id-1 div.sk-serial {\n",
              "  display: flex;\n",
              "  flex-direction: column;\n",
              "  align-items: center;\n",
              "  background-color: var(--sklearn-color-background);\n",
              "  padding-right: 1em;\n",
              "  padding-left: 1em;\n",
              "}\n",
              "\n",
              "\n",
              "/* Toggleable style: style used for estimator/Pipeline/ColumnTransformer box that is\n",
              "clickable and can be expanded/collapsed.\n",
              "- Pipeline and ColumnTransformer use this feature and define the default style\n",
              "- Estimators will overwrite some part of the style using the `sk-estimator` class\n",
              "*/\n",
              "\n",
              "/* Pipeline and ColumnTransformer style (default) */\n",
              "\n",
              "#sk-container-id-1 div.sk-toggleable {\n",
              "  /* Default theme specific background. It is overwritten whether we have a\n",
              "  specific estimator or a Pipeline/ColumnTransformer */\n",
              "  background-color: var(--sklearn-color-background);\n",
              "}\n",
              "\n",
              "/* Toggleable label */\n",
              "#sk-container-id-1 label.sk-toggleable__label {\n",
              "  cursor: pointer;\n",
              "  display: block;\n",
              "  width: 100%;\n",
              "  margin-bottom: 0;\n",
              "  padding: 0.5em;\n",
              "  box-sizing: border-box;\n",
              "  text-align: center;\n",
              "}\n",
              "\n",
              "#sk-container-id-1 label.sk-toggleable__label-arrow:before {\n",
              "  /* Arrow on the left of the label */\n",
              "  content: \"▸\";\n",
              "  float: left;\n",
              "  margin-right: 0.25em;\n",
              "  color: var(--sklearn-color-icon);\n",
              "}\n",
              "\n",
              "#sk-container-id-1 label.sk-toggleable__label-arrow:hover:before {\n",
              "  color: var(--sklearn-color-text);\n",
              "}\n",
              "\n",
              "/* Toggleable content - dropdown */\n",
              "\n",
              "#sk-container-id-1 div.sk-toggleable__content {\n",
              "  max-height: 0;\n",
              "  max-width: 0;\n",
              "  overflow: hidden;\n",
              "  text-align: left;\n",
              "  /* unfitted */\n",
              "  background-color: var(--sklearn-color-unfitted-level-0);\n",
              "}\n",
              "\n",
              "#sk-container-id-1 div.sk-toggleable__content.fitted {\n",
              "  /* fitted */\n",
              "  background-color: var(--sklearn-color-fitted-level-0);\n",
              "}\n",
              "\n",
              "#sk-container-id-1 div.sk-toggleable__content pre {\n",
              "  margin: 0.2em;\n",
              "  border-radius: 0.25em;\n",
              "  color: var(--sklearn-color-text);\n",
              "  /* unfitted */\n",
              "  background-color: var(--sklearn-color-unfitted-level-0);\n",
              "}\n",
              "\n",
              "#sk-container-id-1 div.sk-toggleable__content.fitted pre {\n",
              "  /* unfitted */\n",
              "  background-color: var(--sklearn-color-fitted-level-0);\n",
              "}\n",
              "\n",
              "#sk-container-id-1 input.sk-toggleable__control:checked~div.sk-toggleable__content {\n",
              "  /* Expand drop-down */\n",
              "  max-height: 200px;\n",
              "  max-width: 100%;\n",
              "  overflow: auto;\n",
              "}\n",
              "\n",
              "#sk-container-id-1 input.sk-toggleable__control:checked~label.sk-toggleable__label-arrow:before {\n",
              "  content: \"▾\";\n",
              "}\n",
              "\n",
              "/* Pipeline/ColumnTransformer-specific style */\n",
              "\n",
              "#sk-container-id-1 div.sk-label input.sk-toggleable__control:checked~label.sk-toggleable__label {\n",
              "  color: var(--sklearn-color-text);\n",
              "  background-color: var(--sklearn-color-unfitted-level-2);\n",
              "}\n",
              "\n",
              "#sk-container-id-1 div.sk-label.fitted input.sk-toggleable__control:checked~label.sk-toggleable__label {\n",
              "  background-color: var(--sklearn-color-fitted-level-2);\n",
              "}\n",
              "\n",
              "/* Estimator-specific style */\n",
              "\n",
              "/* Colorize estimator box */\n",
              "#sk-container-id-1 div.sk-estimator input.sk-toggleable__control:checked~label.sk-toggleable__label {\n",
              "  /* unfitted */\n",
              "  background-color: var(--sklearn-color-unfitted-level-2);\n",
              "}\n",
              "\n",
              "#sk-container-id-1 div.sk-estimator.fitted input.sk-toggleable__control:checked~label.sk-toggleable__label {\n",
              "  /* fitted */\n",
              "  background-color: var(--sklearn-color-fitted-level-2);\n",
              "}\n",
              "\n",
              "#sk-container-id-1 div.sk-label label.sk-toggleable__label,\n",
              "#sk-container-id-1 div.sk-label label {\n",
              "  /* The background is the default theme color */\n",
              "  color: var(--sklearn-color-text-on-default-background);\n",
              "}\n",
              "\n",
              "/* On hover, darken the color of the background */\n",
              "#sk-container-id-1 div.sk-label:hover label.sk-toggleable__label {\n",
              "  color: var(--sklearn-color-text);\n",
              "  background-color: var(--sklearn-color-unfitted-level-2);\n",
              "}\n",
              "\n",
              "/* Label box, darken color on hover, fitted */\n",
              "#sk-container-id-1 div.sk-label.fitted:hover label.sk-toggleable__label.fitted {\n",
              "  color: var(--sklearn-color-text);\n",
              "  background-color: var(--sklearn-color-fitted-level-2);\n",
              "}\n",
              "\n",
              "/* Estimator label */\n",
              "\n",
              "#sk-container-id-1 div.sk-label label {\n",
              "  font-family: monospace;\n",
              "  font-weight: bold;\n",
              "  display: inline-block;\n",
              "  line-height: 1.2em;\n",
              "}\n",
              "\n",
              "#sk-container-id-1 div.sk-label-container {\n",
              "  text-align: center;\n",
              "}\n",
              "\n",
              "/* Estimator-specific */\n",
              "#sk-container-id-1 div.sk-estimator {\n",
              "  font-family: monospace;\n",
              "  border: 1px dotted var(--sklearn-color-border-box);\n",
              "  border-radius: 0.25em;\n",
              "  box-sizing: border-box;\n",
              "  margin-bottom: 0.5em;\n",
              "  /* unfitted */\n",
              "  background-color: var(--sklearn-color-unfitted-level-0);\n",
              "}\n",
              "\n",
              "#sk-container-id-1 div.sk-estimator.fitted {\n",
              "  /* fitted */\n",
              "  background-color: var(--sklearn-color-fitted-level-0);\n",
              "}\n",
              "\n",
              "/* on hover */\n",
              "#sk-container-id-1 div.sk-estimator:hover {\n",
              "  /* unfitted */\n",
              "  background-color: var(--sklearn-color-unfitted-level-2);\n",
              "}\n",
              "\n",
              "#sk-container-id-1 div.sk-estimator.fitted:hover {\n",
              "  /* fitted */\n",
              "  background-color: var(--sklearn-color-fitted-level-2);\n",
              "}\n",
              "\n",
              "/* Specification for estimator info (e.g. \"i\" and \"?\") */\n",
              "\n",
              "/* Common style for \"i\" and \"?\" */\n",
              "\n",
              ".sk-estimator-doc-link,\n",
              "a:link.sk-estimator-doc-link,\n",
              "a:visited.sk-estimator-doc-link {\n",
              "  float: right;\n",
              "  font-size: smaller;\n",
              "  line-height: 1em;\n",
              "  font-family: monospace;\n",
              "  background-color: var(--sklearn-color-background);\n",
              "  border-radius: 1em;\n",
              "  height: 1em;\n",
              "  width: 1em;\n",
              "  text-decoration: none !important;\n",
              "  margin-left: 1ex;\n",
              "  /* unfitted */\n",
              "  border: var(--sklearn-color-unfitted-level-1) 1pt solid;\n",
              "  color: var(--sklearn-color-unfitted-level-1);\n",
              "}\n",
              "\n",
              ".sk-estimator-doc-link.fitted,\n",
              "a:link.sk-estimator-doc-link.fitted,\n",
              "a:visited.sk-estimator-doc-link.fitted {\n",
              "  /* fitted */\n",
              "  border: var(--sklearn-color-fitted-level-1) 1pt solid;\n",
              "  color: var(--sklearn-color-fitted-level-1);\n",
              "}\n",
              "\n",
              "/* On hover */\n",
              "div.sk-estimator:hover .sk-estimator-doc-link:hover,\n",
              ".sk-estimator-doc-link:hover,\n",
              "div.sk-label-container:hover .sk-estimator-doc-link:hover,\n",
              ".sk-estimator-doc-link:hover {\n",
              "  /* unfitted */\n",
              "  background-color: var(--sklearn-color-unfitted-level-3);\n",
              "  color: var(--sklearn-color-background);\n",
              "  text-decoration: none;\n",
              "}\n",
              "\n",
              "div.sk-estimator.fitted:hover .sk-estimator-doc-link.fitted:hover,\n",
              ".sk-estimator-doc-link.fitted:hover,\n",
              "div.sk-label-container:hover .sk-estimator-doc-link.fitted:hover,\n",
              ".sk-estimator-doc-link.fitted:hover {\n",
              "  /* fitted */\n",
              "  background-color: var(--sklearn-color-fitted-level-3);\n",
              "  color: var(--sklearn-color-background);\n",
              "  text-decoration: none;\n",
              "}\n",
              "\n",
              "/* Span, style for the box shown on hovering the info icon */\n",
              ".sk-estimator-doc-link span {\n",
              "  display: none;\n",
              "  z-index: 9999;\n",
              "  position: relative;\n",
              "  font-weight: normal;\n",
              "  right: .2ex;\n",
              "  padding: .5ex;\n",
              "  margin: .5ex;\n",
              "  width: min-content;\n",
              "  min-width: 20ex;\n",
              "  max-width: 50ex;\n",
              "  color: var(--sklearn-color-text);\n",
              "  box-shadow: 2pt 2pt 4pt #999;\n",
              "  /* unfitted */\n",
              "  background: var(--sklearn-color-unfitted-level-0);\n",
              "  border: .5pt solid var(--sklearn-color-unfitted-level-3);\n",
              "}\n",
              "\n",
              ".sk-estimator-doc-link.fitted span {\n",
              "  /* fitted */\n",
              "  background: var(--sklearn-color-fitted-level-0);\n",
              "  border: var(--sklearn-color-fitted-level-3);\n",
              "}\n",
              "\n",
              ".sk-estimator-doc-link:hover span {\n",
              "  display: block;\n",
              "}\n",
              "\n",
              "/* \"?\"-specific style due to the `<a>` HTML tag */\n",
              "\n",
              "#sk-container-id-1 a.estimator_doc_link {\n",
              "  float: right;\n",
              "  font-size: 1rem;\n",
              "  line-height: 1em;\n",
              "  font-family: monospace;\n",
              "  background-color: var(--sklearn-color-background);\n",
              "  border-radius: 1rem;\n",
              "  height: 1rem;\n",
              "  width: 1rem;\n",
              "  text-decoration: none;\n",
              "  /* unfitted */\n",
              "  color: var(--sklearn-color-unfitted-level-1);\n",
              "  border: var(--sklearn-color-unfitted-level-1) 1pt solid;\n",
              "}\n",
              "\n",
              "#sk-container-id-1 a.estimator_doc_link.fitted {\n",
              "  /* fitted */\n",
              "  border: var(--sklearn-color-fitted-level-1) 1pt solid;\n",
              "  color: var(--sklearn-color-fitted-level-1);\n",
              "}\n",
              "\n",
              "/* On hover */\n",
              "#sk-container-id-1 a.estimator_doc_link:hover {\n",
              "  /* unfitted */\n",
              "  background-color: var(--sklearn-color-unfitted-level-3);\n",
              "  color: var(--sklearn-color-background);\n",
              "  text-decoration: none;\n",
              "}\n",
              "\n",
              "#sk-container-id-1 a.estimator_doc_link.fitted:hover {\n",
              "  /* fitted */\n",
              "  background-color: var(--sklearn-color-fitted-level-3);\n",
              "}\n",
              "</style><div id=\"sk-container-id-1\" class=\"sk-top-container\"><div class=\"sk-text-repr-fallback\"><pre>MLPClassifier(activation=&#x27;logistic&#x27;, hidden_layer_sizes=(2,), max_iter=100,\n",
              "              random_state=20, solver=&#x27;lbfgs&#x27;)</pre><b>In a Jupyter environment, please rerun this cell to show the HTML representation or trust the notebook. <br />On GitHub, the HTML representation is unable to render, please try loading this page with nbviewer.org.</b></div><div class=\"sk-container\" hidden><div class=\"sk-item\"><div class=\"sk-estimator fitted sk-toggleable\"><input class=\"sk-toggleable__control sk-hidden--visually\" id=\"sk-estimator-id-1\" type=\"checkbox\" checked><label for=\"sk-estimator-id-1\" class=\"sk-toggleable__label fitted sk-toggleable__label-arrow fitted\">&nbsp;&nbsp;MLPClassifier<a class=\"sk-estimator-doc-link fitted\" rel=\"noreferrer\" target=\"_blank\" href=\"https://scikit-learn.org/1.5/modules/generated/sklearn.neural_network.MLPClassifier.html\">?<span>Documentation for MLPClassifier</span></a><span class=\"sk-estimator-doc-link fitted\">i<span>Fitted</span></span></label><div class=\"sk-toggleable__content fitted\"><pre>MLPClassifier(activation=&#x27;logistic&#x27;, hidden_layer_sizes=(2,), max_iter=100,\n",
              "              random_state=20, solver=&#x27;lbfgs&#x27;)</pre></div> </div></div></div></div>"
            ]
          },
          "metadata": {},
          "execution_count": 14
        }
      ]
    },
    {
      "cell_type": "markdown",
      "source": [
        "**Penjelasan:**\n",
        "\n",
        "Kode tersebut bertujuan untuk melatih model MLP agar dapat mempelajari pola logika XOR dari data yang diberikan (X dan y). Setelah proses pelatihan selesai, model (clf) dapat digunakan untuk memprediksi output XOR dari input baru.\n",
        "* **clf = MLPClassifier(solver='lbfgs', activation='logistic', hidden_layer_sizes=(2,), max_iter=100, random_state=20)**:\n",
        "  * **clf**: Variabel ini akan menyimpan objek dari kelas MLPClassifier, yang merepresentasikan model MLP.\n",
        "  * **MLPClassifier(...)**: Ini adalah konstruktor dari kelas MLPClassifier yang digunakan untuk membuat model dengan konfigurasi tertentu.\n",
        "    * **solver='lbfgs'**: Menentukan algoritma optimasi yang digunakan untuk melatih model. 'lbfgs' adalah algoritma yang cocok untuk dataset kecil.\n",
        "    * **activation='logistic'**: Menentukan fungsi aktivasi yang digunakan pada hidden layer. 'logistic' adalah fungsi sigmoid.\n",
        "    * **hidden_layer_sizes=(2,)**: Menentukan arsitektur hidden layer. Dalam hal ini, model memiliki satu hidden layer dengan 2 neuron.\n",
        "    * **max_iter=100**: Menentukan jumlah maksimum iterasi (epoch) dalam proses pelatihan.\n",
        "    * **random_state=20**: Menentukan seed untuk generator angka acak, sehingga hasil pelatihan dapat direproduksi.\n",
        "* **clf.fit(X, y)**:\n",
        "  * **fit(...)**: Ini adalah metode dari kelas MLPClassifier yang digunakan untuk melatih model.\n",
        "  * **X**: Data input yang telah didefinisikan sebelumnya.\n",
        "  * **y**: Label atau target yang sesuai dengan data input.\n",
        "  \n",
        "---"
      ],
      "metadata": {
        "id": "0VLqicoW06hi"
      }
    },
    {
      "cell_type": "markdown",
      "source": [
        "**Langkah 4 - Prediksi**"
      ],
      "metadata": {
        "id": "KpkR7c9U7bJ3"
      }
    },
    {
      "cell_type": "code",
      "source": [
        "pred = clf.predict(X)\n",
        "print('Accuracy: %s' % clf.score(X, y))\n",
        "for i,p in enumerate(pred[:10]):\n",
        "    print('True: %s, Predicted: %s' % (y[i], p))"
      ],
      "metadata": {
        "colab": {
          "base_uri": "https://localhost:8080/"
        },
        "id": "BbUl63Lz7cwT",
        "outputId": "d8935af4-e5e1-40f7-c4ef-967f6c48cf77"
      },
      "execution_count": 15,
      "outputs": [
        {
          "output_type": "stream",
          "name": "stdout",
          "text": [
            "Accuracy: 1.0\n",
            "True: 0, Predicted: 0\n",
            "True: 1, Predicted: 1\n",
            "True: 1, Predicted: 1\n",
            "True: 0, Predicted: 0\n"
          ]
        }
      ]
    },
    {
      "cell_type": "markdown",
      "source": [
        "**Penjelasan:**\n",
        "\n",
        "Kode program tersebut bertujuan untuk melakukan prediksi menggunakan model MLP yang telah dilatih dan mengevaluasi kinerjanya.\n",
        "* **pred = clf.predict(X)**:\n",
        "  * **pred**: Variabel ini akan menyimpan hasil prediksi dari model.\n",
        "  * **clf.predict(X)**: Ini adalah metode dari kelas MLPClassifier yang digunakan untuk melakukan prediksi pada data input X menggunakan model yang telah dilatih (clf).\n",
        "* **print('Accuracy: %s' % clf.score(X, y))**:\n",
        "  * **clf.score(X, y)**: Metode ini menghitung akurasi model dengan membandingkan prediksi model (pred) dengan label sebenarnya (y).\n",
        "  * **print(...)**: Menampilkan akurasi model ke layar.\n",
        "* **for i,p in enumerate(pred[:10]): print('True: %s, Predicted: %s' % (y[i], p))**:\n",
        "  * **enumerate(pred[:10])**: Fungsi ini menghasilkan pasangan indeks (i) dan nilai prediksi (p) untuk 10 data pertama dalam pred.\n",
        "  * **print(...)**: Menampilkan label sebenarnya (y[i]) dan prediksi model (p) untuk setiap data point.\n",
        "  \n",
        "---"
      ],
      "metadata": {
        "id": "HX9u1QW_7Sff"
      }
    },
    {
      "cell_type": "markdown",
      "source": [
        "# **Praktikum 4**\n",
        "Klasifikasi dengan ANN\n",
        "\n",
        "**Deskripsi**\n",
        "\n",
        "Pada praktikum kali ini, Anda diminta untuk membuat model ANN untuk mengklasifikasi potensi seorang customer akan meninggalkan perusahaan Anda atau tidak. Istirlah populer dari fenomena ini disebut sebagai 'churn'. Tingkat churn yang tinggi (chrun rate) akan berdampak tidak baik bagi perusahaan."
      ],
      "metadata": {
        "id": "TcaN1Tv37e0y"
      }
    },
    {
      "cell_type": "markdown",
      "source": [
        "**Pra Pengolahan Data**\n",
        "\n",
        "**Langkah 1 - Import Library**"
      ],
      "metadata": {
        "id": "LhEQOYyS9ahi"
      }
    },
    {
      "cell_type": "code",
      "source": [
        "import numpy as np\n",
        "import pandas as pd\n",
        "import tensorflow as tf"
      ],
      "metadata": {
        "id": "bOU_UQQV9kHV"
      },
      "execution_count": 16,
      "outputs": []
    },
    {
      "cell_type": "markdown",
      "source": [
        "**Penjelasan:**\n",
        "\n",
        "Kode program tersebut bertujuan untuk mengimpor tiga library yaitu:\n",
        "* **import numpy as np**:\n",
        "  * Mengimpor library numpy dan memberikan alias np.\n",
        "  * **numpy** adalah library fundamental untuk komputasi numerik di Python. Ia menyediakan struktur data array multidimensi dan fungsi-fungsi untuk operasi matematika pada array tersebut.\n",
        "  * Alias np digunakan untuk mempermudah penggunaan library ini dalam kode program.\n",
        "* **import pandas as pd**:\n",
        "  * Mengimpor library pandas dan memberikan alias pd.\n",
        "  * **pandas** adalah library yang menyediakan struktur data DataFrame untuk manipulasi dan analisis data tabular. DataFrame mirip dengan tabel dalam spreadsheet atau database.\n",
        "  * Alias pd digunakan untuk mempermudah penggunaan library ini dalam kode program.\n",
        "* **import tensorflow as tf**:\n",
        "  * Mengimpor library tensorflow dan memberikan alias tf.\n",
        "  * **tensorflow** adalah library open-source untuk machine learning dan deep learning. Ia menyediakan tools untuk membangun dan melatih berbagai jenis model machine learning, termasuk jaringan saraf tiruan.\n",
        "  * Alias tf digunakan untuk mempermudah penggunaan library ini dalam kode program.\n",
        "  \n",
        "---"
      ],
      "metadata": {
        "id": "AVfwTcB57TAj"
      }
    },
    {
      "cell_type": "markdown",
      "source": [
        "**Langkah 2 - Load Data**"
      ],
      "metadata": {
        "id": "jD5Y7aEn9u_7"
      }
    },
    {
      "cell_type": "code",
      "source": [
        "dataset = pd.read_csv('dataset/Churn_Modelling.csv')\n",
        "X = dataset.iloc[:, 3:-1].values\n",
        "y = dataset.iloc[:, -1].values"
      ],
      "metadata": {
        "id": "4cTr__L39wqa"
      },
      "execution_count": 17,
      "outputs": []
    },
    {
      "cell_type": "markdown",
      "source": [
        "**Penjelasan:**\n",
        "\n",
        "Kode program tersebut bertujuan untuk membaca data dari file CSV, kemudian memisahkan data menjadi fitur (X) dan target (y). Data ini akan digunakan untuk melatih model machine learning, khususnya untuk memprediksi churn customer.\n",
        "* **dataset = pd.read_csv('dataset/Churn_Modelling.csv')**:\n",
        "  * **dataset**: Variabel ini akan menyimpan data yang dibaca dari file CSV.\n",
        "  * **pd.read_csv(...)**: Fungsi dari library pandas yang digunakan untuk membaca data dari file CSV ('dataset/Churn_Modelling.csv') dan menyimpannya dalam bentuk DataFrame.\n",
        "* **X = dataset.iloc[:, 3:-1].values**:\n",
        "  * **X**: Variabel ini akan menyimpan fitur-fitur dari data.\n",
        "  * **dataset.iloc[:, 3:-1]**: Ini adalah cara untuk memilih data dari DataFrame menggunakan iloc.\n",
        "    * **:** pada posisi pertama berarti memilih semua baris.\n",
        "    * **3:-1** pada posisi kedua berarti memilih kolom mulai dari indeks 3 hingga indeks terakhir dikurangi 1 (kolom kedua dari belakang).\n",
        "  * **.values**: Mengambil nilai-nilai dari data yang dipilih dan mengubahnya menjadi array NumPy.\n",
        "* **y = dataset.iloc[:, -1].values**:\n",
        "  * **y**: Variabel ini akan menyimpan target atau label dari data.\n",
        "  * **dataset.iloc[:, -1]**: Ini adalah cara untuk memilih kolom terakhir dari DataFrame menggunakan iloc.\n",
        "    * **:** pada posisi pertama berarti memilih semua baris.\n",
        "    * **-1** pada posisi kedua berarti memilih kolom terakhir.\n",
        "  * **.values**: Mengambil nilai-nilai dari data yang dipilih dan mengubahnya menjadi array NumPy.\n",
        "  \n",
        "---"
      ],
      "metadata": {
        "id": "DcO-Xsxf7UBs"
      }
    },
    {
      "cell_type": "markdown",
      "source": [
        "**Cek data (X)**"
      ],
      "metadata": {
        "id": "Ph_TfJtm938n"
      }
    },
    {
      "cell_type": "code",
      "source": [
        "print(X)"
      ],
      "metadata": {
        "colab": {
          "base_uri": "https://localhost:8080/"
        },
        "id": "1kfZdE3h96b8",
        "outputId": "9ae912ff-91e4-4787-8cb2-42dc9c18c7be"
      },
      "execution_count": 18,
      "outputs": [
        {
          "output_type": "stream",
          "name": "stdout",
          "text": [
            "[[619 'France' 'Female' ... 1 1 101348.88]\n",
            " [608 'Spain' 'Female' ... 0 1 112542.58]\n",
            " [502 'France' 'Female' ... 1 0 113931.57]\n",
            " ...\n",
            " [709 'France' 'Female' ... 0 1 42085.58]\n",
            " [772 'Germany' 'Male' ... 1 0 92888.52]\n",
            " [792 'France' 'Female' ... 1 0 38190.78]]\n"
          ]
        }
      ]
    },
    {
      "cell_type": "markdown",
      "source": [
        "**Penjelasan:**\n",
        "\n",
        "Kode **print(X)** berfungsi untuk menampilkan isi dari variabel X ke layar. Dalam hal ini, X telah didefinisikan sebagai fitur-fitur dari dataset yang telah dibaca dan diproses sebelumnya.\n",
        "\n",
        "---"
      ],
      "metadata": {
        "id": "Le88DOBW7Ucq"
      }
    },
    {
      "cell_type": "markdown",
      "source": [
        "**Langkah 3 - Encoding Data Kategorikal**"
      ],
      "metadata": {
        "id": "TVZEeOiA99Mz"
      }
    },
    {
      "cell_type": "code",
      "source": [
        "from sklearn.preprocessing import LabelEncoder\n",
        "le = LabelEncoder()\n",
        "X[:, 2] = le.fit_transform(X[:, 2])"
      ],
      "metadata": {
        "id": "10ivOaW59-2P"
      },
      "execution_count": 19,
      "outputs": []
    },
    {
      "cell_type": "markdown",
      "source": [
        "**Penjelasan:**\n",
        "\n",
        "Kode tersebut digunakan untuk mengubah fitur kategorikal menjadi numerik. LabelEncoder memberikan label numerik yang unik untuk setiap kategori dalam fitur tersebut.\n",
        "* **from sklearn.preprocessing import LabelEncoder**:\n",
        "  * Mengimpor kelas LabelEncoder dari modul sklearn.preprocessing.\n",
        "  * **LabelEncoder** digunakan untuk mengubah nilai-nilai kategorikal (seperti teks) menjadi representasi numerik.\n",
        "* **le = LabelEncoder()**: Membuat objek LabelEncoder dan menyimpannya dalam variabel le.\n",
        "* **X[:, 2] = le.fit_transform(X[:, 2])**:\n",
        "  * **X[:, 2]**: Ini merujuk pada semua baris (:) dan kolom ketiga (2) dari data fitur X. Ini adalah kolom yang akan di-encode.\n",
        "  * **le.fit_transform(...)**: Metode ini melakukan dua hal:\n",
        "    * **fit(...)**: Mempelajari mapping antara nilai-nilai kategorikal unik dalam kolom yang dipilih dan label numerik (0, 1, 2, dst.).\n",
        "    * **transform(...)**: Mengubah nilai-nilai kategorikal dalam kolom menjadi label numerik yang sesuai dengan mapping yang telah dipelajari.\n",
        "  * Hasil transformasi kemudian disimpan kembali ke kolom ketiga (X[:, 2]) dari data fitur X.\n",
        "  \n",
        "---"
      ],
      "metadata": {
        "id": "J1foK4t57U5V"
      }
    },
    {
      "cell_type": "markdown",
      "source": [
        "**Cek data (X) dengan print. Hasilnya,**"
      ],
      "metadata": {
        "id": "DaQ8kAZ3-Ai1"
      }
    },
    {
      "cell_type": "code",
      "source": [
        "print(X)"
      ],
      "metadata": {
        "colab": {
          "base_uri": "https://localhost:8080/"
        },
        "id": "S20usZFR-DTr",
        "outputId": "cdcdd4b9-ac97-40b4-9790-340f76468467"
      },
      "execution_count": 20,
      "outputs": [
        {
          "output_type": "stream",
          "name": "stdout",
          "text": [
            "[[619 'France' 0 ... 1 1 101348.88]\n",
            " [608 'Spain' 0 ... 0 1 112542.58]\n",
            " [502 'France' 0 ... 1 0 113931.57]\n",
            " ...\n",
            " [709 'France' 0 ... 0 1 42085.58]\n",
            " [772 'Germany' 1 ... 1 0 92888.52]\n",
            " [792 'France' 0 ... 1 0 38190.78]]\n"
          ]
        }
      ]
    },
    {
      "cell_type": "markdown",
      "source": [
        "**Penjelasan:**\n",
        "\n",
        "Kode **print(X)** berfungsi untuk menampilkan isi dari variabel X ke layar. Dalam hal ini, X telah didefinisikan sebagai fitur-fitur dari dataset yang telah dibaca dan diproses sebelumnya.\n",
        "\n",
        "---"
      ],
      "metadata": {
        "id": "MDcR0ENa7VcD"
      }
    },
    {
      "cell_type": "markdown",
      "source": [
        "**Langkah 4 - Encoding Kolom \"Geography\" dengan One Hot Encoder**"
      ],
      "metadata": {
        "id": "MMFcovfr-LGB"
      }
    },
    {
      "cell_type": "code",
      "source": [
        "from sklearn.compose import ColumnTransformer\n",
        "from sklearn.preprocessing import OneHotEncoder\n",
        "ct = ColumnTransformer(transformers=[('encoder', OneHotEncoder(), [1])], remainder='passthrough')\n",
        "X = np.array(ct.fit_transform(X))"
      ],
      "metadata": {
        "id": "ITVnMsVm-QG3"
      },
      "execution_count": 21,
      "outputs": []
    },
    {
      "cell_type": "markdown",
      "source": [
        "**Penjelasan:**\n",
        "\n",
        "Kode program tersebut bertujuan untuk melakukan One-Hot Encoding pada salah satu kolom fitur kategorikal dalam dataset Anda menggunakan ColumnTransformer dan OneHotEncoder dari scikit-learn.\n",
        "* **from sklearn.compose import ColumnTransformer**: Mengimpor kelas ColumnTransformer yang digunakan untuk menerapkan transformer (misalnya, OneHotEncoder) pada kolom tertentu dari dataset.\n",
        "* **from sklearn.preprocessing import OneHotEncoder**: Mengimpor kelas OneHotEncoder yang digunakan untuk melakukan One-Hot Encoding pada fitur kategorikal.\n",
        "* **ct = ColumnTransformer(transformers=[('encoder', OneHotEncoder(), [1])], remainder='passthrough')**:\n",
        "  * Membuat objek ColumnTransformer bernama ct dengan konfigurasi berikut:\n",
        "    * **transformers=[('encoder', OneHotEncoder(), [1])]**: Menentukan transformer yang akan diterapkan.\n",
        "      * **'encoder'** adalah nama arbitrer untuk transformer ini.\n",
        "      * **OneHotEncoder()** membuat objek OneHotEncoder.\n",
        "      * **[1]** menunjukkan bahwa transformer ini akan diterapkan pada kolom dengan indeks 1 (kolom kedua).\n",
        "    * **remainder='passthrough'**: Menentukan bahwa kolom lain selain yang ditentukan di transformers akan dibiarkan apa adanya (dilewatkan tanpa transformasi).\n",
        "* **X = np.array(ct.fit_transform(X))**:\n",
        "  * Menerapkan transformasi yang ditentukan oleh ct pada data fitur X.\n",
        "  * **fit_transform(...)** mempelajari mapping dari fitur kategorikal ke representasi One-Hot dan kemudian mentransformasikan data.\n",
        "  Hasil transformasi dikonversi menjadi array NumPy dan disimpan kembali ke variabel X.\n",
        "  \n",
        "---"
      ],
      "metadata": {
        "id": "w-lHcbr37V4v"
      }
    },
    {
      "cell_type": "markdown",
      "source": [
        "**Cek data (X) dengan print. Hasilnya,**"
      ],
      "metadata": {
        "id": "fNKkzfdE-SiW"
      }
    },
    {
      "cell_type": "code",
      "source": [
        "print(X)"
      ],
      "metadata": {
        "colab": {
          "base_uri": "https://localhost:8080/"
        },
        "id": "ukfbvfIG-Tnd",
        "outputId": "8d579963-7a13-4aaa-a40d-021b943d48e8"
      },
      "execution_count": 22,
      "outputs": [
        {
          "output_type": "stream",
          "name": "stdout",
          "text": [
            "[[1.0 0.0 0.0 ... 1 1 101348.88]\n",
            " [0.0 0.0 1.0 ... 0 1 112542.58]\n",
            " [1.0 0.0 0.0 ... 1 0 113931.57]\n",
            " ...\n",
            " [1.0 0.0 0.0 ... 0 1 42085.58]\n",
            " [0.0 1.0 0.0 ... 1 0 92888.52]\n",
            " [1.0 0.0 0.0 ... 1 0 38190.78]]\n"
          ]
        }
      ]
    },
    {
      "cell_type": "markdown",
      "source": [
        "**Penjelasan:**\n",
        "\n",
        "Kode **print(X)** berfungsi untuk menampilkan isi dari variabel X ke layar. Dalam hal ini, X telah didefinisikan sebagai fitur-fitur dari dataset yang telah dibaca dan diproses sebelumnya.\n",
        "\n",
        "---"
      ],
      "metadata": {
        "id": "69IPXjyd7WV5"
      }
    },
    {
      "cell_type": "markdown",
      "source": [
        "**Langkah 5 - Split Data**"
      ],
      "metadata": {
        "id": "y1BSg41x-dx8"
      }
    },
    {
      "cell_type": "code",
      "source": [
        "from sklearn.model_selection import train_test_split\n",
        "X_train, X_test, y_train, y_test = train_test_split(X, y, test_size = 0.2, random_state = 0)"
      ],
      "metadata": {
        "id": "L0rJf7Mo-ffm"
      },
      "execution_count": 23,
      "outputs": []
    },
    {
      "cell_type": "markdown",
      "source": [
        "**Penjelasan:**\n",
        "\n",
        "Kode program tersebut bertujuan untuk membagi data menjadi data latih (training) dan data uji (testing) menggunakan fungsi train_test_split dari scikit-learn.\n",
        "* **from sklearn.model_selection import train_test_split**:\n",
        "  * Mengimpor fungsi train_test_split dari modul sklearn.model_selection.\n",
        "  * Fungsi ini digunakan untuk membagi data menjadi subset data latih dan data uji.\n",
        "* **X_train, X_test, y_train, y_test = train_test_split(X, y, test_size = 0.2, random_state = 0)**:\n",
        "  * Memanggil fungsi train_test_split dengan parameter berikut:\n",
        "    * **X**: Data fitur yang akan dibagi.\n",
        "    * **y**: Data target yang akan dibagi.\n",
        "    * **test_size = 0.2**: Menentukan proporsi data yang akan digunakan sebagai data uji. Dalam hal ini, 20% dari data akan digunakan sebagai data uji.\n",
        "    * **random_state = 0**: Menentukan seed untuk generator angka acak, sehingga pembagian data dapat direproduksi.\n",
        "  * Fungsi train_test_split mengembalikan empat variabel:\n",
        "    * **X_train**: Data fitur untuk latih.\n",
        "    * **X_test**: Data fitur untuk uji.\n",
        "    * **y_train**: Data target untuk latih.\n",
        "    * **y_test**: Data target untuk uji.\n",
        "    \n",
        "---"
      ],
      "metadata": {
        "id": "3uKxj0Yu7Wwr"
      }
    },
    {
      "cell_type": "markdown",
      "source": [
        "**Langkah 6 - Scaling Fitur**"
      ],
      "metadata": {
        "id": "wZ8JKNkg-hNx"
      }
    },
    {
      "cell_type": "code",
      "source": [
        "from sklearn.preprocessing import StandardScaler\n",
        "sc = StandardScaler()\n",
        "X_train = sc.fit_transform(X_train)\n",
        "X_test = sc.transform(X_test)"
      ],
      "metadata": {
        "id": "QtgnDykA-jza"
      },
      "execution_count": 24,
      "outputs": []
    },
    {
      "cell_type": "markdown",
      "source": [
        "**Penjelasan:**\n",
        "\n",
        "Kode program tersebut bertujuan untuk melakukan feature scaling pada data latih (X_train) dan data uji (X_test) menggunakan StandardScaler dari scikit-learn.\n",
        "* **from sklearn.preprocessing import StandardScaler**:\n",
        "  * Mengimpor kelas StandardScaler dari modul sklearn.preprocessing.\n",
        "  * StandardScaler digunakan untuk melakukan standardisasi data, yaitu mengubah data sehingga memiliki mean 0 dan standar deviasi 1.\n",
        "* **sc = StandardScaler()**: Membuat objek StandardScaler dan menyimpannya dalam variabel sc.\n",
        "* **X_train = sc.fit_transform(X_train)**:\n",
        "  * **sc.fit_transform(X_train)**: Metode ini melakukan dua hal:\n",
        "    * **fit(...)**: Mempelajari parameter (mean dan standar deviasi) dari data latih (X_train).\n",
        "    * **transform(...)**: Mentransformasikan data latih (X_train) menggunakan parameter yang telah dipelajari, sehingga data latih memiliki mean 0 dan standar deviasi 1.\n",
        "  * Hasil transformasi disimpan kembali ke variabel X_train.\n",
        "* **X_test = sc.transform(X_test)**:\n",
        "  * **sc.transform(X_test)**: Metode ini mentransformasikan data uji (X_test) menggunakan parameter (mean dan standar deviasi) yang telah dipelajari dari data latih.\n",
        "  * Hasil transformasi disimpan kembali ke variabel X_test.\n",
        "  \n",
        "---"
      ],
      "metadata": {
        "id": "qcUEnFaN-XrI"
      }
    },
    {
      "cell_type": "markdown",
      "source": [
        "**Membuat Model ANN**\n",
        "\n",
        "**Langkah 1 - Inisiasi Model ANN**"
      ],
      "metadata": {
        "id": "w25qp_rg-pYu"
      }
    },
    {
      "cell_type": "code",
      "source": [
        "ann = tf.keras.models.Sequential()"
      ],
      "metadata": {
        "id": "_D2rTnDS-upF"
      },
      "execution_count": 25,
      "outputs": []
    },
    {
      "cell_type": "markdown",
      "source": [
        "**Penjelasan:**\n",
        "\n",
        "Kode program tersebut bertujuan untuk membuat sebuah model Artificial Neural Network (ANN) dengan arsitektur sequential menggunakan library TensorFlow dan Keras.\n",
        "* **ann = ...**: Model ANN yang dibuat disimpan dalam variabel ann. Anda dapat menggunakan variabel ini untuk mengakses dan memanipulasi model selanjutnya, seperti menambahkan lapisan, mengompilasi model, dan melatih model.\n",
        "* **tf.keras.models.Sequential()**:\n",
        "  * Ini adalah konstruktor dari kelas Sequential yang merupakan bagian dari modul tf.keras.models di TensorFlow.\n",
        "  * Kelas Sequential digunakan untuk membuat model ANN dengan lapisan-lapisan (layers) yang tersusun secara berurutan (sequential).\n",
        "\n",
        "---"
      ],
      "metadata": {
        "id": "pPWRaaZs-YL7"
      }
    },
    {
      "cell_type": "markdown",
      "source": [
        "**Langkah 2 - Membuat Input Layer dan Hidden Layer Pertama**"
      ],
      "metadata": {
        "id": "ZO0ot6dV-wjd"
      }
    },
    {
      "cell_type": "code",
      "source": [
        "ann.add(tf.keras.layers.Dense(units=6, activation='relu'))"
      ],
      "metadata": {
        "id": "28eIL7Px-yOO"
      },
      "execution_count": 26,
      "outputs": []
    },
    {
      "cell_type": "markdown",
      "source": [
        "**Penjelasan:**\n",
        "\n",
        "Kode program tersebut bertujuan untuk menambahkan hidden layer ke model Artificial Neural Network (ANN) yang telah Anda buat sebelumnya.\n",
        "* **ann.add(...)**: Metode add() digunakan untuk menambahkan lapisan (layer) ke model ANN ann yang telah dibuat menggunakan Sequential.\n",
        "* **tf.keras.layers.Dense(...)**:\n",
        "  * Ini adalah konstruktor dari kelas Dense yang merupakan bagian dari modul tf.keras.layers di TensorFlow.\n",
        "  * Kelas Dense digunakan untuk membuat fully connected layer, yaitu lapisan di mana setiap neuron terhubung dengan semua neuron di lapisan sebelumnya.\n",
        "* **units=6**: Parameter ini menentukan jumlah neuron (unit) pada lapisan tersebut. Dalam hal ini, hidden layer akan memiliki 6 neuron.\n",
        "* **activation='relu'**:\n",
        "  * Parameter ini menentukan fungsi aktivasi yang akan digunakan pada lapisan tersebut.\n",
        "  * **ReLU (Rectified Linear Unit)** adalah fungsi aktivasi yang umum digunakan dalam deep learning. Fungsi ini menghasilkan output 0 jika input negatif, dan menghasilkan output sama dengan input jika input positif.\n",
        "\n",
        "---"
      ],
      "metadata": {
        "id": "zYyxJHNx-Y7s"
      }
    },
    {
      "cell_type": "markdown",
      "source": [
        "**Langkah 3 - Membuat Hidden Layer Kedua**"
      ],
      "metadata": {
        "id": "cw3K8KHD-0U4"
      }
    },
    {
      "cell_type": "code",
      "source": [
        "ann.add(tf.keras.layers.Dense(units=6, activation='relu'))"
      ],
      "metadata": {
        "id": "WoVugxTc-1_Y"
      },
      "execution_count": 27,
      "outputs": []
    },
    {
      "cell_type": "markdown",
      "source": [
        "**Penjelasan:**\n",
        "\n",
        "Kode tersebut bertujuan untuk menambahkan hidden layer kedua ke model Artificial Neural Network (ANN) yang telah dibuat sebelumnya.\n",
        "* **ann.add(...)**: Metode add() digunakan untuk menambahkan lapisan (layer) ke model ANN ann.\n",
        "* **tf.keras.layers.Dense(...)**: Konstruktor dari kelas Dense yang digunakan untuk membuat fully connected layer.\n",
        "* **units=6**: Menentukan jumlah neuron (unit) pada lapisan tersebut, yaitu 6 neuron.\n",
        "* **activation='relu'**: Menentukan fungsi aktivasi yang akan digunakan, yaitu ReLU (Rectified Linear Unit).\n",
        "\n",
        "---"
      ],
      "metadata": {
        "id": "Qi2HQBh0-Zbl"
      }
    },
    {
      "cell_type": "markdown",
      "source": [
        "**Langkah 4 - Membuat Output Layer**"
      ],
      "metadata": {
        "id": "00JiMHR6-4Yy"
      }
    },
    {
      "cell_type": "code",
      "source": [
        "ann.add(tf.keras.layers.Dense(units=1, activation='sigmoid'))"
      ],
      "metadata": {
        "id": "UUr7V0iD-54F"
      },
      "execution_count": 28,
      "outputs": []
    },
    {
      "cell_type": "markdown",
      "source": [
        "**Penjelasan:**\n",
        "\n",
        "Kode tersebut bertujuan untuk menambahkan output layer ke model Artificial Neural Network (ANN) yang telah dibuat sebelumnya.\n",
        "* **ann.add(...)**: Metode add() digunakan untuk menambahkan lapisan (layer) ke model ANN ann.\n",
        "* **tf.keras.layers.Dense(...)**: Konstruktor dari kelas Dense yang digunakan untuk membuat fully connected layer. Dalam hal ini, layer ini akan menjadi output layer.\n",
        "* **units=1**: Menentukan jumlah neuron (unit) pada output layer, yaitu 1 neuron. Karena Anda melakukan prediksi biner (churn atau tidak churn), output layer hanya membutuhkan 1 neuron.\n",
        "* **activation='sigmoid'**: Menentukan fungsi aktivasi yang akan digunakan pada output layer, yaitu sigmoid. Fungsi sigmoid menghasilkan output berupa probabilitas antara 0 dan 1, yang cocok untuk tugas klasifikasi biner.\n",
        "---"
      ],
      "metadata": {
        "id": "VZRcUglc-aAl"
      }
    },
    {
      "cell_type": "markdown",
      "source": [
        "**Training Model**\n",
        "\n",
        "**Langkah 1 - Compile Model (Menyatukan Arsitektur) ANN**"
      ],
      "metadata": {
        "id": "J1GY-hWd-8z5"
      }
    },
    {
      "cell_type": "code",
      "source": [
        "ann.compile(optimizer = 'adam', loss = 'binary_crossentropy', metrics = ['accuracy'])"
      ],
      "metadata": {
        "id": "gEZO7lXM_AEz"
      },
      "execution_count": 29,
      "outputs": []
    },
    {
      "cell_type": "markdown",
      "source": [
        "**Penjelasan:**\n",
        "\n",
        "Kode tersebut bertujuan untuk mengkonfigurasi proses pelatihan model Artificial Neural Network (ANN) yang telah Anda buat.\n",
        "* **ann.compile(...)**:\n",
        "  * Metode compile() digunakan untuk mengkonfigurasi model ANN sebelum proses pelatihan.\n",
        "  * Pada tahap ini, Anda menentukan optimizer, loss function, dan metrics yang akan digunakan selama pelatihan.\n",
        "* **optimizer = 'adam'**:\n",
        "  * Menentukan optimizer yang akan digunakan untuk memperbarui bobot (weights) model selama pelatihan.\n",
        "  * **Adam (Adaptive Moment Estimation)** adalah optimizer yang populer dan efisien untuk deep learning.\n",
        "* **loss = 'binary_crossentropy'**:\n",
        "  * Menentukan loss function yang akan digunakan untuk mengukur kesalahan prediksi model.\n",
        "  * **Binary Cross-Entropy** adalah loss function yang umum digunakan untuk tugas klasifikasi biner. Fungsi ini menghitung perbedaan antara prediksi model dan label sebenarnya.\n",
        "* **metrics = ['accuracy']**:\n",
        "  * Menentukan metrik yang akan digunakan untuk mengevaluasi kinerja model selama pelatihan.\n",
        "  * **Accuracy** adalah metrik yang umum digunakan untuk klasifikasi, yang mengukur persentase prediksi yang benar.\n",
        "  \n",
        "---"
      ],
      "metadata": {
        "id": "VzBM4drC-atX"
      }
    },
    {
      "cell_type": "markdown",
      "source": [
        "**Langkah 2 - Fitting Model**"
      ],
      "metadata": {
        "id": "POM7bbV5_Cb0"
      }
    },
    {
      "cell_type": "code",
      "source": [
        "ann.fit(X_train, y_train, batch_size = 32, epochs = 100)"
      ],
      "metadata": {
        "colab": {
          "base_uri": "https://localhost:8080/"
        },
        "id": "15ditAZ5_D4k",
        "outputId": "64667413-cfc9-43e8-8cbb-a2e5dca2a1b2"
      },
      "execution_count": 30,
      "outputs": [
        {
          "output_type": "stream",
          "name": "stdout",
          "text": [
            "Epoch 1/100\n",
            "\u001b[1m250/250\u001b[0m \u001b[32m━━━━━━━━━━━━━━━━━━━━\u001b[0m\u001b[37m\u001b[0m \u001b[1m2s\u001b[0m 2ms/step - accuracy: 0.7452 - loss: 0.5976\n",
            "Epoch 2/100\n",
            "\u001b[1m250/250\u001b[0m \u001b[32m━━━━━━━━━━━━━━━━━━━━\u001b[0m\u001b[37m\u001b[0m \u001b[1m0s\u001b[0m 2ms/step - accuracy: 0.7996 - loss: 0.4751\n",
            "Epoch 3/100\n",
            "\u001b[1m250/250\u001b[0m \u001b[32m━━━━━━━━━━━━━━━━━━━━\u001b[0m\u001b[37m\u001b[0m \u001b[1m0s\u001b[0m 2ms/step - accuracy: 0.8078 - loss: 0.4440\n",
            "Epoch 4/100\n",
            "\u001b[1m250/250\u001b[0m \u001b[32m━━━━━━━━━━━━━━━━━━━━\u001b[0m\u001b[37m\u001b[0m \u001b[1m0s\u001b[0m 2ms/step - accuracy: 0.8180 - loss: 0.4243\n",
            "Epoch 5/100\n",
            "\u001b[1m250/250\u001b[0m \u001b[32m━━━━━━━━━━━━━━━━━━━━\u001b[0m\u001b[37m\u001b[0m \u001b[1m1s\u001b[0m 2ms/step - accuracy: 0.8036 - loss: 0.4425\n",
            "Epoch 6/100\n",
            "\u001b[1m250/250\u001b[0m \u001b[32m━━━━━━━━━━━━━━━━━━━━\u001b[0m\u001b[37m\u001b[0m \u001b[1m0s\u001b[0m 2ms/step - accuracy: 0.8168 - loss: 0.4269\n",
            "Epoch 7/100\n",
            "\u001b[1m250/250\u001b[0m \u001b[32m━━━━━━━━━━━━━━━━━━━━\u001b[0m\u001b[37m\u001b[0m \u001b[1m0s\u001b[0m 2ms/step - accuracy: 0.8204 - loss: 0.4229\n",
            "Epoch 8/100\n",
            "\u001b[1m250/250\u001b[0m \u001b[32m━━━━━━━━━━━━━━━━━━━━\u001b[0m\u001b[37m\u001b[0m \u001b[1m0s\u001b[0m 2ms/step - accuracy: 0.8200 - loss: 0.4184\n",
            "Epoch 9/100\n",
            "\u001b[1m250/250\u001b[0m \u001b[32m━━━━━━━━━━━━━━━━━━━━\u001b[0m\u001b[37m\u001b[0m \u001b[1m1s\u001b[0m 1ms/step - accuracy: 0.8234 - loss: 0.4126\n",
            "Epoch 10/100\n",
            "\u001b[1m250/250\u001b[0m \u001b[32m━━━━━━━━━━━━━━━━━━━━\u001b[0m\u001b[37m\u001b[0m \u001b[1m0s\u001b[0m 2ms/step - accuracy: 0.8382 - loss: 0.3906\n",
            "Epoch 11/100\n",
            "\u001b[1m250/250\u001b[0m \u001b[32m━━━━━━━━━━━━━━━━━━━━\u001b[0m\u001b[37m\u001b[0m \u001b[1m1s\u001b[0m 2ms/step - accuracy: 0.8505 - loss: 0.3752\n",
            "Epoch 12/100\n",
            "\u001b[1m250/250\u001b[0m \u001b[32m━━━━━━━━━━━━━━━━━━━━\u001b[0m\u001b[37m\u001b[0m \u001b[1m1s\u001b[0m 2ms/step - accuracy: 0.8401 - loss: 0.3783\n",
            "Epoch 13/100\n",
            "\u001b[1m250/250\u001b[0m \u001b[32m━━━━━━━━━━━━━━━━━━━━\u001b[0m\u001b[37m\u001b[0m \u001b[1m1s\u001b[0m 2ms/step - accuracy: 0.8511 - loss: 0.3664\n",
            "Epoch 14/100\n",
            "\u001b[1m250/250\u001b[0m \u001b[32m━━━━━━━━━━━━━━━━━━━━\u001b[0m\u001b[37m\u001b[0m \u001b[1m1s\u001b[0m 2ms/step - accuracy: 0.8484 - loss: 0.3597\n",
            "Epoch 15/100\n",
            "\u001b[1m250/250\u001b[0m \u001b[32m━━━━━━━━━━━━━━━━━━━━\u001b[0m\u001b[37m\u001b[0m \u001b[1m1s\u001b[0m 3ms/step - accuracy: 0.8550 - loss: 0.3490\n",
            "Epoch 16/100\n",
            "\u001b[1m250/250\u001b[0m \u001b[32m━━━━━━━━━━━━━━━━━━━━\u001b[0m\u001b[37m\u001b[0m \u001b[1m1s\u001b[0m 3ms/step - accuracy: 0.8529 - loss: 0.3519\n",
            "Epoch 17/100\n",
            "\u001b[1m250/250\u001b[0m \u001b[32m━━━━━━━━━━━━━━━━━━━━\u001b[0m\u001b[37m\u001b[0m \u001b[1m1s\u001b[0m 2ms/step - accuracy: 0.8578 - loss: 0.3477\n",
            "Epoch 18/100\n",
            "\u001b[1m250/250\u001b[0m \u001b[32m━━━━━━━━━━━━━━━━━━━━\u001b[0m\u001b[37m\u001b[0m \u001b[1m1s\u001b[0m 1ms/step - accuracy: 0.8564 - loss: 0.3527\n",
            "Epoch 19/100\n",
            "\u001b[1m250/250\u001b[0m \u001b[32m━━━━━━━━━━━━━━━━━━━━\u001b[0m\u001b[37m\u001b[0m \u001b[1m0s\u001b[0m 2ms/step - accuracy: 0.8613 - loss: 0.3455\n",
            "Epoch 20/100\n",
            "\u001b[1m250/250\u001b[0m \u001b[32m━━━━━━━━━━━━━━━━━━━━\u001b[0m\u001b[37m\u001b[0m \u001b[1m1s\u001b[0m 2ms/step - accuracy: 0.8549 - loss: 0.3531\n",
            "Epoch 21/100\n",
            "\u001b[1m250/250\u001b[0m \u001b[32m━━━━━━━━━━━━━━━━━━━━\u001b[0m\u001b[37m\u001b[0m \u001b[1m0s\u001b[0m 2ms/step - accuracy: 0.8598 - loss: 0.3464\n",
            "Epoch 22/100\n",
            "\u001b[1m250/250\u001b[0m \u001b[32m━━━━━━━━━━━━━━━━━━━━\u001b[0m\u001b[37m\u001b[0m \u001b[1m1s\u001b[0m 2ms/step - accuracy: 0.8594 - loss: 0.3460\n",
            "Epoch 23/100\n",
            "\u001b[1m250/250\u001b[0m \u001b[32m━━━━━━━━━━━━━━━━━━━━\u001b[0m\u001b[37m\u001b[0m \u001b[1m0s\u001b[0m 2ms/step - accuracy: 0.8660 - loss: 0.3441\n",
            "Epoch 24/100\n",
            "\u001b[1m250/250\u001b[0m \u001b[32m━━━━━━━━━━━━━━━━━━━━\u001b[0m\u001b[37m\u001b[0m \u001b[1m1s\u001b[0m 2ms/step - accuracy: 0.8575 - loss: 0.3510\n",
            "Epoch 25/100\n",
            "\u001b[1m250/250\u001b[0m \u001b[32m━━━━━━━━━━━━━━━━━━━━\u001b[0m\u001b[37m\u001b[0m \u001b[1m1s\u001b[0m 2ms/step - accuracy: 0.8545 - loss: 0.3453\n",
            "Epoch 26/100\n",
            "\u001b[1m250/250\u001b[0m \u001b[32m━━━━━━━━━━━━━━━━━━━━\u001b[0m\u001b[37m\u001b[0m \u001b[1m1s\u001b[0m 2ms/step - accuracy: 0.8606 - loss: 0.3414\n",
            "Epoch 27/100\n",
            "\u001b[1m250/250\u001b[0m \u001b[32m━━━━━━━━━━━━━━━━━━━━\u001b[0m\u001b[37m\u001b[0m \u001b[1m1s\u001b[0m 2ms/step - accuracy: 0.8603 - loss: 0.3484\n",
            "Epoch 28/100\n",
            "\u001b[1m250/250\u001b[0m \u001b[32m━━━━━━━━━━━━━━━━━━━━\u001b[0m\u001b[37m\u001b[0m \u001b[1m1s\u001b[0m 2ms/step - accuracy: 0.8613 - loss: 0.3384\n",
            "Epoch 29/100\n",
            "\u001b[1m250/250\u001b[0m \u001b[32m━━━━━━━━━━━━━━━━━━━━\u001b[0m\u001b[37m\u001b[0m \u001b[1m0s\u001b[0m 2ms/step - accuracy: 0.8595 - loss: 0.3369\n",
            "Epoch 30/100\n",
            "\u001b[1m250/250\u001b[0m \u001b[32m━━━━━━━━━━━━━━━━━━━━\u001b[0m\u001b[37m\u001b[0m \u001b[1m0s\u001b[0m 2ms/step - accuracy: 0.8598 - loss: 0.3366\n",
            "Epoch 31/100\n",
            "\u001b[1m250/250\u001b[0m \u001b[32m━━━━━━━━━━━━━━━━━━━━\u001b[0m\u001b[37m\u001b[0m \u001b[1m1s\u001b[0m 2ms/step - accuracy: 0.8698 - loss: 0.3258\n",
            "Epoch 32/100\n",
            "\u001b[1m250/250\u001b[0m \u001b[32m━━━━━━━━━━━━━━━━━━━━\u001b[0m\u001b[37m\u001b[0m \u001b[1m0s\u001b[0m 2ms/step - accuracy: 0.8580 - loss: 0.3419\n",
            "Epoch 33/100\n",
            "\u001b[1m250/250\u001b[0m \u001b[32m━━━━━━━━━━━━━━━━━━━━\u001b[0m\u001b[37m\u001b[0m \u001b[1m1s\u001b[0m 2ms/step - accuracy: 0.8708 - loss: 0.3216\n",
            "Epoch 34/100\n",
            "\u001b[1m250/250\u001b[0m \u001b[32m━━━━━━━━━━━━━━━━━━━━\u001b[0m\u001b[37m\u001b[0m \u001b[1m1s\u001b[0m 2ms/step - accuracy: 0.8642 - loss: 0.3324\n",
            "Epoch 35/100\n",
            "\u001b[1m250/250\u001b[0m \u001b[32m━━━━━━━━━━━━━━━━━━━━\u001b[0m\u001b[37m\u001b[0m \u001b[1m2s\u001b[0m 7ms/step - accuracy: 0.8634 - loss: 0.3332\n",
            "Epoch 36/100\n",
            "\u001b[1m250/250\u001b[0m \u001b[32m━━━━━━━━━━━━━━━━━━━━\u001b[0m\u001b[37m\u001b[0m \u001b[1m3s\u001b[0m 7ms/step - accuracy: 0.8511 - loss: 0.3513\n",
            "Epoch 37/100\n",
            "\u001b[1m250/250\u001b[0m \u001b[32m━━━━━━━━━━━━━━━━━━━━\u001b[0m\u001b[37m\u001b[0m \u001b[1m0s\u001b[0m 2ms/step - accuracy: 0.8617 - loss: 0.3395\n",
            "Epoch 38/100\n",
            "\u001b[1m250/250\u001b[0m \u001b[32m━━━━━━━━━━━━━━━━━━━━\u001b[0m\u001b[37m\u001b[0m \u001b[1m1s\u001b[0m 2ms/step - accuracy: 0.8546 - loss: 0.3482\n",
            "Epoch 39/100\n",
            "\u001b[1m250/250\u001b[0m \u001b[32m━━━━━━━━━━━━━━━━━━━━\u001b[0m\u001b[37m\u001b[0m \u001b[1m0s\u001b[0m 1ms/step - accuracy: 0.8640 - loss: 0.3278\n",
            "Epoch 40/100\n",
            "\u001b[1m250/250\u001b[0m \u001b[32m━━━━━━━━━━━━━━━━━━━━\u001b[0m\u001b[37m\u001b[0m \u001b[1m1s\u001b[0m 2ms/step - accuracy: 0.8608 - loss: 0.3389\n",
            "Epoch 41/100\n",
            "\u001b[1m250/250\u001b[0m \u001b[32m━━━━━━━━━━━━━━━━━━━━\u001b[0m\u001b[37m\u001b[0m \u001b[1m1s\u001b[0m 2ms/step - accuracy: 0.8749 - loss: 0.3174\n",
            "Epoch 42/100\n",
            "\u001b[1m250/250\u001b[0m \u001b[32m━━━━━━━━━━━━━━━━━━━━\u001b[0m\u001b[37m\u001b[0m \u001b[1m0s\u001b[0m 2ms/step - accuracy: 0.8677 - loss: 0.3299\n",
            "Epoch 43/100\n",
            "\u001b[1m250/250\u001b[0m \u001b[32m━━━━━━━━━━━━━━━━━━━━\u001b[0m\u001b[37m\u001b[0m \u001b[1m1s\u001b[0m 2ms/step - accuracy: 0.8533 - loss: 0.3447\n",
            "Epoch 44/100\n",
            "\u001b[1m250/250\u001b[0m \u001b[32m━━━━━━━━━━━━━━━━━━━━\u001b[0m\u001b[37m\u001b[0m \u001b[1m1s\u001b[0m 2ms/step - accuracy: 0.8663 - loss: 0.3353\n",
            "Epoch 45/100\n",
            "\u001b[1m250/250\u001b[0m \u001b[32m━━━━━━━━━━━━━━━━━━━━\u001b[0m\u001b[37m\u001b[0m \u001b[1m0s\u001b[0m 2ms/step - accuracy: 0.8698 - loss: 0.3271\n",
            "Epoch 46/100\n",
            "\u001b[1m250/250\u001b[0m \u001b[32m━━━━━━━━━━━━━━━━━━━━\u001b[0m\u001b[37m\u001b[0m \u001b[1m1s\u001b[0m 2ms/step - accuracy: 0.8644 - loss: 0.3287\n",
            "Epoch 47/100\n",
            "\u001b[1m250/250\u001b[0m \u001b[32m━━━━━━━━━━━━━━━━━━━━\u001b[0m\u001b[37m\u001b[0m \u001b[1m1s\u001b[0m 2ms/step - accuracy: 0.8665 - loss: 0.3255\n",
            "Epoch 48/100\n",
            "\u001b[1m250/250\u001b[0m \u001b[32m━━━━━━━━━━━━━━━━━━━━\u001b[0m\u001b[37m\u001b[0m \u001b[1m1s\u001b[0m 1ms/step - accuracy: 0.8614 - loss: 0.3420\n",
            "Epoch 49/100\n",
            "\u001b[1m250/250\u001b[0m \u001b[32m━━━━━━━━━━━━━━━━━━━━\u001b[0m\u001b[37m\u001b[0m \u001b[1m0s\u001b[0m 2ms/step - accuracy: 0.8617 - loss: 0.3342\n",
            "Epoch 50/100\n",
            "\u001b[1m250/250\u001b[0m \u001b[32m━━━━━━━━━━━━━━━━━━━━\u001b[0m\u001b[37m\u001b[0m \u001b[1m1s\u001b[0m 2ms/step - accuracy: 0.8610 - loss: 0.3380\n",
            "Epoch 51/100\n",
            "\u001b[1m250/250\u001b[0m \u001b[32m━━━━━━━━━━━━━━━━━━━━\u001b[0m\u001b[37m\u001b[0m \u001b[1m1s\u001b[0m 2ms/step - accuracy: 0.8585 - loss: 0.3422\n",
            "Epoch 52/100\n",
            "\u001b[1m250/250\u001b[0m \u001b[32m━━━━━━━━━━━━━━━━━━━━\u001b[0m\u001b[37m\u001b[0m \u001b[1m1s\u001b[0m 2ms/step - accuracy: 0.8589 - loss: 0.3344\n",
            "Epoch 53/100\n",
            "\u001b[1m250/250\u001b[0m \u001b[32m━━━━━━━━━━━━━━━━━━━━\u001b[0m\u001b[37m\u001b[0m \u001b[1m0s\u001b[0m 2ms/step - accuracy: 0.8573 - loss: 0.3485\n",
            "Epoch 54/100\n",
            "\u001b[1m250/250\u001b[0m \u001b[32m━━━━━━━━━━━━━━━━━━━━\u001b[0m\u001b[37m\u001b[0m \u001b[1m0s\u001b[0m 1ms/step - accuracy: 0.8601 - loss: 0.3380\n",
            "Epoch 55/100\n",
            "\u001b[1m250/250\u001b[0m \u001b[32m━━━━━━━━━━━━━━━━━━━━\u001b[0m\u001b[37m\u001b[0m \u001b[1m1s\u001b[0m 3ms/step - accuracy: 0.8600 - loss: 0.3369\n",
            "Epoch 56/100\n",
            "\u001b[1m250/250\u001b[0m \u001b[32m━━━━━━━━━━━━━━━━━━━━\u001b[0m\u001b[37m\u001b[0m \u001b[1m1s\u001b[0m 3ms/step - accuracy: 0.8508 - loss: 0.3512\n",
            "Epoch 57/100\n",
            "\u001b[1m250/250\u001b[0m \u001b[32m━━━━━━━━━━━━━━━━━━━━\u001b[0m\u001b[37m\u001b[0m \u001b[1m1s\u001b[0m 2ms/step - accuracy: 0.8589 - loss: 0.3405\n",
            "Epoch 58/100\n",
            "\u001b[1m250/250\u001b[0m \u001b[32m━━━━━━━━━━━━━━━━━━━━\u001b[0m\u001b[37m\u001b[0m \u001b[1m0s\u001b[0m 2ms/step - accuracy: 0.8660 - loss: 0.3276\n",
            "Epoch 59/100\n",
            "\u001b[1m250/250\u001b[0m \u001b[32m━━━━━━━━━━━━━━━━━━━━\u001b[0m\u001b[37m\u001b[0m \u001b[1m0s\u001b[0m 2ms/step - accuracy: 0.8606 - loss: 0.3337\n",
            "Epoch 60/100\n",
            "\u001b[1m250/250\u001b[0m \u001b[32m━━━━━━━━━━━━━━━━━━━━\u001b[0m\u001b[37m\u001b[0m \u001b[1m1s\u001b[0m 2ms/step - accuracy: 0.8586 - loss: 0.3415\n",
            "Epoch 61/100\n",
            "\u001b[1m250/250\u001b[0m \u001b[32m━━━━━━━━━━━━━━━━━━━━\u001b[0m\u001b[37m\u001b[0m \u001b[1m1s\u001b[0m 2ms/step - accuracy: 0.8601 - loss: 0.3359\n",
            "Epoch 62/100\n",
            "\u001b[1m250/250\u001b[0m \u001b[32m━━━━━━━━━━━━━━━━━━━━\u001b[0m\u001b[37m\u001b[0m \u001b[1m1s\u001b[0m 2ms/step - accuracy: 0.8596 - loss: 0.3343\n",
            "Epoch 63/100\n",
            "\u001b[1m250/250\u001b[0m \u001b[32m━━━━━━━━━━━━━━━━━━━━\u001b[0m\u001b[37m\u001b[0m \u001b[1m0s\u001b[0m 2ms/step - accuracy: 0.8625 - loss: 0.3403\n",
            "Epoch 64/100\n",
            "\u001b[1m250/250\u001b[0m \u001b[32m━━━━━━━━━━━━━━━━━━━━\u001b[0m\u001b[37m\u001b[0m \u001b[1m1s\u001b[0m 2ms/step - accuracy: 0.8655 - loss: 0.3348\n",
            "Epoch 65/100\n",
            "\u001b[1m250/250\u001b[0m \u001b[32m━━━━━━━━━━━━━━━━━━━━\u001b[0m\u001b[37m\u001b[0m \u001b[1m1s\u001b[0m 2ms/step - accuracy: 0.8607 - loss: 0.3380\n",
            "Epoch 66/100\n",
            "\u001b[1m250/250\u001b[0m \u001b[32m━━━━━━━━━━━━━━━━━━━━\u001b[0m\u001b[37m\u001b[0m \u001b[1m1s\u001b[0m 2ms/step - accuracy: 0.8618 - loss: 0.3334\n",
            "Epoch 67/100\n",
            "\u001b[1m250/250\u001b[0m \u001b[32m━━━━━━━━━━━━━━━━━━━━\u001b[0m\u001b[37m\u001b[0m \u001b[1m1s\u001b[0m 1ms/step - accuracy: 0.8628 - loss: 0.3272\n",
            "Epoch 68/100\n",
            "\u001b[1m250/250\u001b[0m \u001b[32m━━━━━━━━━━━━━━━━━━━━\u001b[0m\u001b[37m\u001b[0m \u001b[1m1s\u001b[0m 2ms/step - accuracy: 0.8568 - loss: 0.3410\n",
            "Epoch 69/100\n",
            "\u001b[1m250/250\u001b[0m \u001b[32m━━━━━━━━━━━━━━━━━━━━\u001b[0m\u001b[37m\u001b[0m \u001b[1m0s\u001b[0m 2ms/step - accuracy: 0.8644 - loss: 0.3305\n",
            "Epoch 70/100\n",
            "\u001b[1m250/250\u001b[0m \u001b[32m━━━━━━━━━━━━━━━━━━━━\u001b[0m\u001b[37m\u001b[0m \u001b[1m1s\u001b[0m 2ms/step - accuracy: 0.8666 - loss: 0.3314\n",
            "Epoch 71/100\n",
            "\u001b[1m250/250\u001b[0m \u001b[32m━━━━━━━━━━━━━━━━━━━━\u001b[0m\u001b[37m\u001b[0m \u001b[1m1s\u001b[0m 2ms/step - accuracy: 0.8664 - loss: 0.3326\n",
            "Epoch 72/100\n",
            "\u001b[1m250/250\u001b[0m \u001b[32m━━━━━━━━━━━━━━━━━━━━\u001b[0m\u001b[37m\u001b[0m \u001b[1m1s\u001b[0m 2ms/step - accuracy: 0.8572 - loss: 0.3433\n",
            "Epoch 73/100\n",
            "\u001b[1m250/250\u001b[0m \u001b[32m━━━━━━━━━━━━━━━━━━━━\u001b[0m\u001b[37m\u001b[0m \u001b[1m1s\u001b[0m 2ms/step - accuracy: 0.8631 - loss: 0.3386\n",
            "Epoch 74/100\n",
            "\u001b[1m250/250\u001b[0m \u001b[32m━━━━━━━━━━━━━━━━━━━━\u001b[0m\u001b[37m\u001b[0m \u001b[1m1s\u001b[0m 3ms/step - accuracy: 0.8595 - loss: 0.3353\n",
            "Epoch 75/100\n",
            "\u001b[1m250/250\u001b[0m \u001b[32m━━━━━━━━━━━━━━━━━━━━\u001b[0m\u001b[37m\u001b[0m \u001b[1m1s\u001b[0m 3ms/step - accuracy: 0.8561 - loss: 0.3425\n",
            "Epoch 76/100\n",
            "\u001b[1m250/250\u001b[0m \u001b[32m━━━━━━━━━━━━━━━━━━━━\u001b[0m\u001b[37m\u001b[0m \u001b[1m1s\u001b[0m 2ms/step - accuracy: 0.8592 - loss: 0.3377\n",
            "Epoch 77/100\n",
            "\u001b[1m250/250\u001b[0m \u001b[32m━━━━━━━━━━━━━━━━━━━━\u001b[0m\u001b[37m\u001b[0m \u001b[1m1s\u001b[0m 2ms/step - accuracy: 0.8582 - loss: 0.3386\n",
            "Epoch 78/100\n",
            "\u001b[1m250/250\u001b[0m \u001b[32m━━━━━━━━━━━━━━━━━━━━\u001b[0m\u001b[37m\u001b[0m \u001b[1m1s\u001b[0m 2ms/step - accuracy: 0.8559 - loss: 0.3431\n",
            "Epoch 79/100\n",
            "\u001b[1m250/250\u001b[0m \u001b[32m━━━━━━━━━━━━━━━━━━━━\u001b[0m\u001b[37m\u001b[0m \u001b[1m1s\u001b[0m 2ms/step - accuracy: 0.8662 - loss: 0.3264\n",
            "Epoch 80/100\n",
            "\u001b[1m250/250\u001b[0m \u001b[32m━━━━━━━━━━━━━━━━━━━━\u001b[0m\u001b[37m\u001b[0m \u001b[1m1s\u001b[0m 2ms/step - accuracy: 0.8619 - loss: 0.3336\n",
            "Epoch 81/100\n",
            "\u001b[1m250/250\u001b[0m \u001b[32m━━━━━━━━━━━━━━━━━━━━\u001b[0m\u001b[37m\u001b[0m \u001b[1m0s\u001b[0m 2ms/step - accuracy: 0.8641 - loss: 0.3286\n",
            "Epoch 82/100\n",
            "\u001b[1m250/250\u001b[0m \u001b[32m━━━━━━━━━━━━━━━━━━━━\u001b[0m\u001b[37m\u001b[0m \u001b[1m0s\u001b[0m 2ms/step - accuracy: 0.8605 - loss: 0.3351\n",
            "Epoch 83/100\n",
            "\u001b[1m250/250\u001b[0m \u001b[32m━━━━━━━━━━━━━━━━━━━━\u001b[0m\u001b[37m\u001b[0m \u001b[1m1s\u001b[0m 2ms/step - accuracy: 0.8594 - loss: 0.3328\n",
            "Epoch 84/100\n",
            "\u001b[1m250/250\u001b[0m \u001b[32m━━━━━━━━━━━━━━━━━━━━\u001b[0m\u001b[37m\u001b[0m \u001b[1m1s\u001b[0m 2ms/step - accuracy: 0.8620 - loss: 0.3305\n",
            "Epoch 85/100\n",
            "\u001b[1m250/250\u001b[0m \u001b[32m━━━━━━━━━━━━━━━━━━━━\u001b[0m\u001b[37m\u001b[0m \u001b[1m1s\u001b[0m 2ms/step - accuracy: 0.8621 - loss: 0.3327\n",
            "Epoch 86/100\n",
            "\u001b[1m250/250\u001b[0m \u001b[32m━━━━━━━━━━━━━━━━━━━━\u001b[0m\u001b[37m\u001b[0m \u001b[1m0s\u001b[0m 2ms/step - accuracy: 0.8587 - loss: 0.3352\n",
            "Epoch 87/100\n",
            "\u001b[1m250/250\u001b[0m \u001b[32m━━━━━━━━━━━━━━━━━━━━\u001b[0m\u001b[37m\u001b[0m \u001b[1m1s\u001b[0m 1ms/step - accuracy: 0.8534 - loss: 0.3424\n",
            "Epoch 88/100\n",
            "\u001b[1m250/250\u001b[0m \u001b[32m━━━━━━━━━━━━━━━━━━━━\u001b[0m\u001b[37m\u001b[0m \u001b[1m1s\u001b[0m 2ms/step - accuracy: 0.8612 - loss: 0.3320\n",
            "Epoch 89/100\n",
            "\u001b[1m250/250\u001b[0m \u001b[32m━━━━━━━━━━━━━━━━━━━━\u001b[0m\u001b[37m\u001b[0m \u001b[1m0s\u001b[0m 1ms/step - accuracy: 0.8585 - loss: 0.3408\n",
            "Epoch 90/100\n",
            "\u001b[1m250/250\u001b[0m \u001b[32m━━━━━━━━━━━━━━━━━━━━\u001b[0m\u001b[37m\u001b[0m \u001b[1m0s\u001b[0m 2ms/step - accuracy: 0.8626 - loss: 0.3310\n",
            "Epoch 91/100\n",
            "\u001b[1m250/250\u001b[0m \u001b[32m━━━━━━━━━━━━━━━━━━━━\u001b[0m\u001b[37m\u001b[0m \u001b[1m0s\u001b[0m 2ms/step - accuracy: 0.8713 - loss: 0.3190\n",
            "Epoch 92/100\n",
            "\u001b[1m250/250\u001b[0m \u001b[32m━━━━━━━━━━━━━━━━━━━━\u001b[0m\u001b[37m\u001b[0m \u001b[1m1s\u001b[0m 2ms/step - accuracy: 0.8589 - loss: 0.3417\n",
            "Epoch 93/100\n",
            "\u001b[1m250/250\u001b[0m \u001b[32m━━━━━━━━━━━━━━━━━━━━\u001b[0m\u001b[37m\u001b[0m \u001b[1m1s\u001b[0m 2ms/step - accuracy: 0.8581 - loss: 0.3447\n",
            "Epoch 94/100\n",
            "\u001b[1m250/250\u001b[0m \u001b[32m━━━━━━━━━━━━━━━━━━━━\u001b[0m\u001b[37m\u001b[0m \u001b[1m1s\u001b[0m 2ms/step - accuracy: 0.8599 - loss: 0.3383\n",
            "Epoch 95/100\n",
            "\u001b[1m250/250\u001b[0m \u001b[32m━━━━━━━━━━━━━━━━━━━━\u001b[0m\u001b[37m\u001b[0m \u001b[1m1s\u001b[0m 3ms/step - accuracy: 0.8654 - loss: 0.3300\n",
            "Epoch 96/100\n",
            "\u001b[1m250/250\u001b[0m \u001b[32m━━━━━━━━━━━━━━━━━━━━\u001b[0m\u001b[37m\u001b[0m \u001b[1m1s\u001b[0m 2ms/step - accuracy: 0.8621 - loss: 0.3355\n",
            "Epoch 97/100\n",
            "\u001b[1m250/250\u001b[0m \u001b[32m━━━━━━━━━━━━━━━━━━━━\u001b[0m\u001b[37m\u001b[0m \u001b[1m1s\u001b[0m 3ms/step - accuracy: 0.8628 - loss: 0.3349\n",
            "Epoch 98/100\n",
            "\u001b[1m250/250\u001b[0m \u001b[32m━━━━━━━━━━━━━━━━━━━━\u001b[0m\u001b[37m\u001b[0m \u001b[1m1s\u001b[0m 2ms/step - accuracy: 0.8610 - loss: 0.3292\n",
            "Epoch 99/100\n",
            "\u001b[1m250/250\u001b[0m \u001b[32m━━━━━━━━━━━━━━━━━━━━\u001b[0m\u001b[37m\u001b[0m \u001b[1m1s\u001b[0m 2ms/step - accuracy: 0.8528 - loss: 0.3477\n",
            "Epoch 100/100\n",
            "\u001b[1m250/250\u001b[0m \u001b[32m━━━━━━━━━━━━━━━━━━━━\u001b[0m\u001b[37m\u001b[0m \u001b[1m0s\u001b[0m 2ms/step - accuracy: 0.8585 - loss: 0.3404\n"
          ]
        },
        {
          "output_type": "execute_result",
          "data": {
            "text/plain": [
              "<keras.src.callbacks.history.History at 0x7f279d826a40>"
            ]
          },
          "metadata": {},
          "execution_count": 30
        }
      ]
    },
    {
      "cell_type": "markdown",
      "source": [
        "**Penjelasan:**\n",
        "\n",
        "Kode tersebut bertujuan untuk melatih model Artificial Neural Network (ANN) yang telah Anda buat menggunakan data latih.\n",
        "* **ann.fit(...)**:\n",
        "  * Metode fit() digunakan untuk melatih model ANN.\n",
        "  * Pada tahap ini, model akan mempelajari pola dari data latih dan menyesuaikan bobotnya untuk membuat prediksi yang lebih akurat.\n",
        "* **X_train, y_train**:\n",
        "  * **X_train**: Data fitur untuk latih yang telah Anda siapkan sebelumnya.\n",
        "  * **y_train**: Data target yang sesuai dengan X_train.\n",
        "* **batch_size = 32**:\n",
        "  * Menentukan ukuran batch, yaitu jumlah sampel data yang akan diproses dalam setiap iterasi pelatihan.\n",
        "  * Batch size 32 berarti model akan memperbarui bobotnya setelah memproses 32 sampel data.\n",
        "* **epochs = 100**:\n",
        "  * Menentukan jumlah epoch, yaitu jumlah iterasi model akan melalui seluruh data latih.\n",
        "  * Epoch 100 berarti model akan melihat seluruh data latih sebanyak 100 kali selama proses pelatihan.\n",
        "  \n",
        "---"
      ],
      "metadata": {
        "id": "BAbagFsx-bE0"
      }
    },
    {
      "cell_type": "markdown",
      "source": [
        "**Membuat Prediksi**\n",
        "\n",
        "Diberikan informasi sebagai berikut,\n",
        "* Geography: France\n",
        "* Credit Score: 600\n",
        "* Gender: Male\n",
        "* Age: 40 years old\n",
        "* Tenure: 3 years\n",
        "* Balance: $ 60000\n",
        "\n",
        "* Number of Products: 2\n",
        "* Does this customer have a credit card ? Yes\n",
        "* Is this customer an Active Member: Yes\n",
        "* Estimated Salary: $ 50000\n",
        "\n",
        "Apakah customer tersebut perlu dipertahankan?"
      ],
      "metadata": {
        "id": "see9YqCp_L66"
      }
    },
    {
      "cell_type": "markdown",
      "source": [
        "**Modelkan Data Baru dan Buat Prediksi**"
      ],
      "metadata": {
        "id": "eNF8j8Nt_rbS"
      }
    },
    {
      "cell_type": "code",
      "source": [
        "print(ann.predict(sc.transform([[1, 0, 0, 600, 1, 40, 3, 60000, 2, 1, 1, 50000]])) > 0.5)"
      ],
      "metadata": {
        "colab": {
          "base_uri": "https://localhost:8080/"
        },
        "id": "1EFLbDKM_x4z",
        "outputId": "1bc5f4e7-e39b-483a-fc06-8d104109256c"
      },
      "execution_count": 31,
      "outputs": [
        {
          "output_type": "stream",
          "name": "stdout",
          "text": [
            "\u001b[1m1/1\u001b[0m \u001b[32m━━━━━━━━━━━━━━━━━━━━\u001b[0m\u001b[37m\u001b[0m \u001b[1m0s\u001b[0m 60ms/step\n",
            "[[False]]\n"
          ]
        }
      ]
    },
    {
      "cell_type": "markdown",
      "source": [
        "**Penjelasan:**\n",
        "\n",
        "Kode tersebut bertujuan untuk melakukan prediksi menggunakan model ANN yang telah dilatih dan menampilkan hasilnya. Prediksi ini dilakukan untuk satu data point baru.\n",
        "* **print(...)**: Menampilkan hasil prediksi (True atau False) ke layar\n",
        "* **ann.predict(...)***:\n",
        "  * Metode predict() digunakan untuk melakukan prediksi menggunakan model ANN ann yang telah dilatih.\n",
        "  * Input untuk predict() adalah data baru yang ingin diprediksi.\n",
        "* **sc.transform([[1, 0, 0, 600, 1, 40, 3, 60000, 2, 1, 1, 50000]])**:\n",
        "  * Data baru yang ingin diprediksi direpresentasikan dalam list of lists [[1, 0, 0, 600, 1, 40, 3, 60000, 2, 1, 1, 50000]].\n",
        "  * Data baru ini perlu di-transformasi menggunakan sc.transform() agar memiliki skala yang sama dengan data latih yang digunakan untuk melatih model. sc adalah objek StandardScaler yang telah Anda buat sebelumnya.\n",
        "* **> 0.5**:\n",
        "  * Output dari ann.predict() adalah probabilitas,karena ini adalah tugas klasifikasi biner, output probabilitas dibandingkan dengan threshold 0.5.\n",
        "  * Jika probabilitas lebih besar dari 0.5, maka prediksi dianggap sebagai kelas 1 (churn), jika tidak maka prediksi dianggap sebagai kelas 0 (tidak churn).\n",
        "\n",
        "---"
      ],
      "metadata": {
        "id": "0TP0tGua-bbb"
      }
    },
    {
      "cell_type": "markdown",
      "source": [
        "**Prediksi Dengan Data Testing**"
      ],
      "metadata": {
        "id": "0ttUXdch_3RK"
      }
    },
    {
      "cell_type": "code",
      "source": [
        "y_pred = ann.predict(X_test)\n",
        "y_pred = (y_pred > 0.5)\n",
        "print(np.concatenate((y_pred.reshape(len(y_pred),1), y_test.reshape(len(y_test),1)),1))"
      ],
      "metadata": {
        "colab": {
          "base_uri": "https://localhost:8080/"
        },
        "id": "D3MaLu6w_91u",
        "outputId": "3adef180-a7a2-4798-c5ef-9f6dc42f00fa"
      },
      "execution_count": 32,
      "outputs": [
        {
          "output_type": "stream",
          "name": "stdout",
          "text": [
            "\u001b[1m63/63\u001b[0m \u001b[32m━━━━━━━━━━━━━━━━━━━━\u001b[0m\u001b[37m\u001b[0m \u001b[1m0s\u001b[0m 1ms/step\n",
            "[[0 0]\n",
            " [0 1]\n",
            " [0 0]\n",
            " ...\n",
            " [0 0]\n",
            " [0 0]\n",
            " [0 0]]\n"
          ]
        }
      ]
    },
    {
      "cell_type": "markdown",
      "source": [
        "**Penjelasan:**\n",
        "\n",
        "Kode program tersebut bertujuan untuk melakukan prediksi pada data uji (X_test) menggunakan model ANN yang telah dilatih, kemudian menampilkan hasil prediksi dan label sebenarnya secara berdampingan.\n",
        "* **print(...)**: Menampilkan array yang telah digabungkan ke layar.\n",
        "* **y_pred = ann.predict(X_test)**:\n",
        "  * **ann.predict(X_test)**: Metode ini menggunakan model ANN yang telah dilatih (ann) untuk memprediksi label pada data uji (X_test). Hasil prediksi berupa probabilitas disimpan dalam variabel y_pred.\n",
        "* **y_pred = (y_pred > 0.5)**:\n",
        "  * Baris ini mengubah probabilitas dalam y_pred menjadi label kelas (0 atau 1).\n",
        "  * Jika probabilitas lebih besar dari 0.5, maka label kelas menjadi 1 (churn), jika tidak maka label kelas menjadi 0 (tidak churn).\n",
        "* **print(np.concatenate((y_pred.reshape(len(y_pred),1), y_test.reshape(len(y_test),1)),1))**:\n",
        "  * **y_pred.reshape(len(y_pred),1)**: Mengubah bentuk array y_pred menjadi array 2 dimensi dengan 1 kolom. Hal ini dilakukan agar dapat digabungkan dengan y_test.\n",
        "  * **y_test.reshape(len(y_test),1)**: Mengubah bentuk array y_test (label sebenarnya) menjadi array 2 dimensi dengan 1 kolom.\n",
        "  * **np.concatenate((...), 1)**: Menggabungkan array y_pred dan y_test secara horizontal (axis=1), sehingga hasil prediksi dan label sebenarnya ditampilkan berdampingan dalam satu array.\n",
        "\n",
        "---"
      ],
      "metadata": {
        "id": "TCtn72ZZ_uw3"
      }
    },
    {
      "cell_type": "markdown",
      "source": [
        "**Cek Akurasi dan Confusion Matrix**"
      ],
      "metadata": {
        "id": "NlRBaTdMAAp8"
      }
    },
    {
      "cell_type": "code",
      "source": [
        "from sklearn.metrics import confusion_matrix, accuracy_score\n",
        "cm = confusion_matrix(y_test, y_pred)\n",
        "print(cm)\n",
        "accuracy_score(y_test, y_pred)"
      ],
      "metadata": {
        "colab": {
          "base_uri": "https://localhost:8080/"
        },
        "id": "vKfnd5tDAChs",
        "outputId": "230e968a-2aed-40ee-abb1-6295013b93db"
      },
      "execution_count": 33,
      "outputs": [
        {
          "output_type": "stream",
          "name": "stdout",
          "text": [
            "[[1514   81]\n",
            " [ 196  209]]\n"
          ]
        },
        {
          "output_type": "execute_result",
          "data": {
            "text/plain": [
              "0.8615"
            ]
          },
          "metadata": {},
          "execution_count": 33
        }
      ]
    },
    {
      "cell_type": "markdown",
      "source": [
        "**Penjelasan:**\n",
        "\n",
        "Kode program tersebut bertujuan untuk mengevaluasi kinerja model ANN yang telah dilatih menggunakan confusion matrix dan accuracy score.\n",
        "* **from sklearn.metrics import confusion_matrix, accuracy_score**:\n",
        "  * Mengimpor fungsi confusion_matrix dan accuracy_score dari modul sklearn.metrics.\n",
        "  * **confusion_matrix** digunakan untuk membuat confusion matrix, yang merupakan tabel yang menunjukkan jumlah prediksi yang benar dan salah untuk setiap kelas.\n",
        "  * **accuracy_score** digunakan untuk menghitung accuracy score, yang merupakan persentase prediksi yang benar.\n",
        "* **cm = confusion_matrix(y_test, y_pred)**:\n",
        "  * Memanggil fungsi confusion_matrix dengan parameter:\n",
        "    * **y_test**: Label sebenarnya dari data uji.\n",
        "    * **y_pred**: Label yang diprediksi oleh model pada data uji.\n",
        "  * Hasilnya, yaitu confusion matrix, disimpan dalam variabel cm.\n",
        "* **print(cm)**: Menampilkan confusion matrix ke layar.\n",
        "* **accuracy_score(y_test, y_pred)**:\n",
        "  * Memanggil fungsi accuracy_score dengan parameter yang sama seperti confusion_matrix.\n",
        "  * Hasilnya, yaitu accuracy score, dihitung tetapi tidak ditampilkan secara langsung. Anda perlu menggunakan fungsi print() untuk menampilkannya jika diperlukan.\n",
        "  \n",
        "---"
      ],
      "metadata": {
        "id": "dHU6O35p_vRo"
      }
    },
    {
      "cell_type": "markdown",
      "source": [
        "# **Tugas**\n",
        "* Lakukan klasifikasi pada data MNIST dengan menggunakan model ANN\n",
        "* Anda diperbolehkan melakukan eksplorasi terhadap,\n",
        "  * Metode pra pengolahan\n",
        "  * Pemilihan fitur\n",
        "  * Arsitektur ANN\n",
        "  * Fungsi Aktiviasi\n",
        "* ANN diimplementasikan dengan menggunakan tensorflow.\n",
        "* DIKERJAKAN SECARA BERKELOMPOK\n",
        "* JELASKAN HASIL YANG ANDA DAPATKAN,\n",
        "  * AKURASI\n",
        "  * CONFUSION MATRIX\n",
        "  * KONFIGURASI MODEL --> MULAI DARI PRA PENGOLAHAN SAMPAI ARSITEKTUR ANN\n",
        "\n",
        "---"
      ],
      "metadata": {
        "id": "geaJwx2SAFLd"
      }
    },
    {
      "cell_type": "markdown",
      "source": [
        "**Langkah 1 - Import Library**"
      ],
      "metadata": {
        "id": "5QcZf2eBLO6H"
      }
    },
    {
      "cell_type": "code",
      "source": [
        "import numpy as np\n",
        "import pandas as pd\n",
        "import matplotlib.pyplot as plt\n",
        "from sklearn.datasets import fetch_openml\n",
        "from sklearn.model_selection import train_test_split\n",
        "import tensorflow as tf\n",
        "from sklearn.metrics import confusion_matrix, accuracy_score\n",
        "from collections import Counter\n",
        "import seaborn as sns"
      ],
      "metadata": {
        "id": "h-XxjmwNLOVh"
      },
      "execution_count": 34,
      "outputs": []
    },
    {
      "cell_type": "markdown",
      "source": [
        "**Penjelasan:**\n",
        "\n",
        "Kode program tersebut bertujuan untuk mempersiapkan lingkungan dan alat yang dibutuhkan untuk melakukan tugas machine learning, khususnya yang melibatkan data gambar MNIST.\n",
        "* **import numpy as np**: Mengimpor library NumPy dan memberikan alias np. NumPy digunakan untuk operasi numerik dan manipulasi array multidimensi, yang sangat penting dalam machine learning.\n",
        "* **import pandas as pd**: Mengimpor library Pandas dan memberikan alias pd. Pandas digunakan untuk manipulasi dan analisis data tabular, khususnya dalam bentuk DataFrame.\n",
        "* **import matplotlib.pyplot as plt**: Mengimpor modul pyplot dari library Matplotlib dan memberikan alias plt. Matplotlib digunakan untuk membuat visualisasi data, seperti grafik dan plot.\n",
        "* **from sklearn.datasets import fetch_openml**: Mengimpor fungsi fetch_openml dari modul datasets di library scikit-learn. Fungsi ini digunakan untuk mengunduh dataset dari repositori OpenML, termasuk dataset MNIST.\n",
        "* **from sklearn.model_selection import train_test_split**: Mengimpor fungsi train_test_split dari modul model_selection di library scikit-learn. Fungsi ini digunakan untuk membagi dataset menjadi data latih dan data uji.\n",
        "* **import tensorflow as tf**: Mengimpor library TensorFlow dan memberikan alias tf. TensorFlow adalah library populer untuk machine learning dan deep learning, khususnya untuk membangun dan melatih model jaringan saraf.\n",
        "* **from sklearn.metrics import confusion_matrix, accuracy_score**: Mengimpor fungsi confusion_matrix dan accuracy_score dari modul metrics di library scikit-learn. Fungsi-fungsi ini digunakan untuk mengevaluasi kinerja model klasifikasi.\n",
        "* **from collections import Counter**: Mengimpor kelas Counter dari modul collections. Counter digunakan untuk menghitung frekuensi elemen dalam sebuah koleksi, seperti list atau tuple.\n",
        "* **import seaborn as sns**: Mengimpor library Seaborn dan memberikan alias sns. Seaborn dibangun di atas Matplotlib dan menyediakan antarmuka tingkat tinggi untuk membuat visualisasi data yang lebih informatif dan menarik.\n",
        "\n",
        "---"
      ],
      "metadata": {
        "id": "-x8-h0Mx_vxs"
      }
    },
    {
      "cell_type": "markdown",
      "source": [
        "**Langkah 2 - Load Data**"
      ],
      "metadata": {
        "id": "N2LO48q6Nl02"
      }
    },
    {
      "cell_type": "code",
      "source": [
        "mnist = fetch_openml('mnist_784', version=1)\n",
        "X, y = mnist.data, mnist.target.astype(int)"
      ],
      "metadata": {
        "id": "klLOQJEsNrQq"
      },
      "execution_count": 35,
      "outputs": []
    },
    {
      "cell_type": "markdown",
      "source": [
        "**Penjelasan:**\n",
        "\n",
        "Kode program tersebut bertujuan untuk mengunduh dataset MNIST dan menyimpan data serta labelnya ke dalam variabel.\n",
        "* **mnist = fetch_openml('mnist_784', version=1)**:\n",
        "  * Baris ini mengunduh dataset MNIST menggunakan fungsi fetch_openml dari scikit-learn.\n",
        "  * **'mnist_784'** adalah nama dataset MNIST yang akan diunduh.\n",
        "  * **version=1** menentukan versi dataset yang akan diunduh.\n",
        "  *Hasil unduhan, yaitu objek yang berisi data dan informasi dataset MNIST, disimpan dalam variabel mnist.\n",
        "* **X, y = mnist.data, mnist.target.astype(int)**:\n",
        "  * Baris ini mengambil data dan label dari objek mnist dan menyimpannya ke dalam variabel X dan y.\n",
        "  * **mnist.data** berisi data gambar MNIST dalam bentuk array NumPy. Setiap baris array merepresentasikan satu gambar, dan setiap kolom merepresentasikan satu piksel gambar.\n",
        "  * **mnist.target** berisi label untuk setiap gambar, yaitu digit yang direpresentasikan oleh gambar tersebut.\n",
        "  * **.astype(int)** digunakan untuk mengonversi label dari tipe data string ke tipe data integer.\n",
        "\n",
        "**Hasil yang Didapat:**\n",
        "* Setelah kode ini dijalankan, akan memiliki dua variabel:\n",
        "  * **X**: Berisi data gambar MNIST dalam bentuk array NumPy dengan dimensi (70000, 784). Artinya, terdapat 70000 gambar, dan setiap gambar berukuran 28x28 piksel (784 piksel total).\n",
        "  * **y**: Berisi label untuk setiap gambar dalam bentuk array NumPy dengan dimensi (70000,). Setiap elemen array merepresentasikan digit yang direpresentasikan oleh gambar yang sesuai.\n",
        "  \n",
        "---"
      ],
      "metadata": {
        "id": "8BNp4JOPNaav"
      }
    },
    {
      "cell_type": "markdown",
      "source": [
        "**Langkah 3 - Data Processing**"
      ],
      "metadata": {
        "id": "OOJL28k9Nt7T"
      }
    },
    {
      "cell_type": "code",
      "source": [
        "x, y = mnist.data, mnist.target.astype(int)\n",
        "class_counts = Counter(y)\n",
        "print(class_counts)\n",
        "counts = [class_counts[i] for i in range(10)]\n",
        "class_labels = [str(i) for i in range(10)]\n",
        "\n",
        "plt.bar(class_labels, counts)\n",
        "plt.xlabel('Class')\n",
        "plt.ylabel('Number of Samples')\n",
        "plt.title('Class Distribution in MNIST Dataset')\n",
        "plt.show()"
      ],
      "metadata": {
        "colab": {
          "base_uri": "https://localhost:8080/",
          "height": 489
        },
        "id": "W60NgmDXNypX",
        "outputId": "a353ae0e-1143-4649-f908-6a1e4f2844ad"
      },
      "execution_count": 36,
      "outputs": [
        {
          "output_type": "stream",
          "name": "stdout",
          "text": [
            "Counter({1: 7877, 7: 7293, 3: 7141, 2: 6990, 9: 6958, 0: 6903, 6: 6876, 8: 6825, 4: 6824, 5: 6313})\n"
          ]
        },
        {
          "output_type": "display_data",
          "data": {
            "text/plain": [
              "<Figure size 640x480 with 1 Axes>"
            ],
            "image/png": "[encoded data removed]"
          },
          "metadata": {}
        }
      ]
    },
    {
      "cell_type": "markdown",
      "source": [
        "**Penjelasan:**\n",
        "\n",
        "Kode program tersebut bertujuan untuk menghitung jumlah sampel untuk setiap kelas (digit 0-9) dalam dataset MNIST dan kemudian memvisualisasikan distribusinya dalam bentuk diagram batang.\n",
        "* **x, y = mnist.data, mnist.target.astype(int)**:\n",
        "  * Baris ini mengambil data dan label dari objek mnist (yang diasumsikan sudah diunduh sebelumnya) dan menyimpannya ke dalam variabel x dan y.\n",
        "  * **x** berisi data gambar, dan y berisi label digit (0-9) yang sesuai dengan setiap gambar. astype(int) memastikan label berupa integer.\n",
        "* **class_counts = Counter(y)**:\n",
        "  * Baris ini menggunakan Counter dari modul collections untuk menghitung frekuensi setiap digit (kelas) dalam label (y).\n",
        "  * **class_counts** akan menjadi dictionary di mana key adalah digit (0-9) dan value adalah jumlah kemunculannya dalam dataset.\n",
        "* **print(class_counts)**: Baris ini mencetak dictionary class_counts ke konsol, menampilkan jumlah sampel untuk setiap kelas.\n",
        "* **counts = [class_counts[i] for i in range(10)]**: Baris ini membuat list counts yang berisi jumlah sampel untuk setiap kelas (digit 0-9) secara berurutan.\n",
        "* **class_labels = [str(i) for i in range(10)]**: Baris ini membuat list class_labels yang berisi label kelas (digit 0-9) dalam bentuk string. Ini digunakan sebagai label sumbu x pada diagram batang.\n",
        "* **plt.bar(class_labels, counts)**:\n",
        "  * Baris ini membuat diagram batang menggunakan Matplotlib.\n",
        "  * **class_labels** digunakan sebagai label sumbu x, dan counts digunakan sebagai tinggi batang untuk setiap kelas.\n",
        "* **plt.xlabel('Class')**: Menambahkan label \"Class\" pada sumbu x.\n",
        "* **plt.ylabel('Number of Samples')**: Menambahkan label \"Number of Samples\" pada sumbu y.\n",
        "* **plt.title('Class Distribution in MNIST Dataset')**: Menambahkan judul \"Class Distribution in MNIST Dataset\" pada diagram.\n",
        "* **plt.show()**: Menampilkan diagram batang yang telah dibuat.\n",
        "\n",
        "**Hasil yang Didapat:**\n",
        "  * **Output print(class_counts)**: Menampilkan dictionary yang menunjukkan jumlah sampel untuk setiap kelas (digit 0-9) dalam dataset MNIST.\n",
        "  * **Diagram batang**: Diagram batang akan memvisualisasikan distribusi kelas dalam dataset MNIST. Sumbu x menunjukkan kelas (digit 0-9), dan sumbu y menunjukkan jumlah sampel untuk setiap kelas. Tinggi batang menunjukkan seberapa banyak data yang ada untuk setiap kelas.\n",
        "  \n",
        "---"
      ],
      "metadata": {
        "id": "Kewlgz6ONbci"
      }
    },
    {
      "cell_type": "markdown",
      "source": [
        "**Langkah 4 - Split Data**"
      ],
      "metadata": {
        "id": "tDQ-cPy7N4W_"
      }
    },
    {
      "cell_type": "code",
      "source": [
        "X_train, X_test, y_train, y_test = train_test_split(X, y, test_size=0.2)\n",
        "\n",
        "x_convert = X.values.astype(int)\n",
        "\n",
        "plt.figure(figsize=(10, 6))\n",
        "for i in range(10):\n",
        "    plt.subplot(2, 5, i + 1)\n",
        "    plt.imshow(x_convert[i].reshape(28, 28), cmap='gray')\n",
        "    plt.title(f\"Label: {y[i]}\")\n",
        "    plt.axis('off')  # Turn off axis labels\n",
        "\n",
        "plt.suptitle('First 10 Images from MNIST Dataset')\n",
        "plt.show()"
      ],
      "metadata": {
        "colab": {
          "base_uri": "https://localhost:8080/",
          "height": 520
        },
        "id": "CT-yvxx6N7LI",
        "outputId": "faecf13a-c1ef-4fdb-bc17-0db5fc84692b"
      },
      "execution_count": 37,
      "outputs": [
        {
          "output_type": "display_data",
          "data": {
            "text/plain": [
              "<Figure size 1000x600 with 10 Axes>"
            ],
            "image/png": "[encoded data removed]"
          },
          "metadata": {}
        }
      ]
    },
    {
      "cell_type": "markdown",
      "source": [
        "**Penjelasan:**\n",
        "\n",
        "Kode program tersebut bertujuan untuk membagi dataset MNIST menjadi data latih dan data uji, mengonversi data gambar ke tipe data integer, dan menampilkan 10 gambar pertama dari dataset MNIST beserta labelnya.\n",
        "* **X_train, X_test, y_train, y_test = train_test_split(X, y, test_size=0.2)**:\n",
        "  * Baris ini menggunakan fungsi train_test_split dari scikit-learn untuk membagi dataset MNIST (X dan y) menjadi data latih (X_train, y_train) dan data uji (X_test, y_test).\n",
        "  * **test_size=0.2** menunjukkan bahwa 20% dari data akan digunakan sebagai data uji, dan sisanya (80%) sebagai data latih.\n",
        "* **x_convert = X.values.astype(int)**: Baris ini mengonversi data gambar (X) ke tipe data integer menggunakan .astype(int). Ini dilakukan agar data gambar dapat ditampilkan dengan benar menggunakan plt.imshow.\n",
        "* **plt.figure(figsize=(10, 6))**:Baris ini membuat figure (area plot) dengan ukuran 10x6 inci.\n",
        "* **for i in range(10): ...**:\n",
        "  * Loop ini akan diulang sebanyak 10 kali untuk menampilkan 10 gambar pertama dari dataset.\n",
        "  * **plt.subplot(2, 5, i + 1)**: Membuat subplot (area plot kecil) dalam grid 2x5.\n",
        "  * **plt.imshow(x_convert[i].reshape(28, 28), cmap='gray')**: Menampilkan gambar ke-i dari dataset. reshape(28, 28) digunakan untuk mengubah bentuk data gambar menjadi 28x28 piksel. cmap='gray' digunakan untuk menampilkan gambar dalam skala abu-abu.\n",
        "  * **plt.title(f\"Label: {y[i]}\")**: Menambahkan judul pada subplot yang menunjukkan label dari gambar.\n",
        "  * **plt.axis('off')**: Menonaktifkan label sumbu pada subplot.\n",
        "* **plt.suptitle('First 10 Images from MNIST Dataset')**: Menambahkan judul utama pada figure.\n",
        "* **plt.show()**: Menampilkan figure yang berisi 10 gambar MNIST beserta labelnya.\n",
        "\n",
        "**Hasil yang Didapat:**\n",
        "  * Setelah kode ini dijalankan, akan mendapatkan:\n",
        "    * **Data latih dan data uji**: Dataset MNIST akan dibagi menjadi data latih (X_train, y_train) dan data uji (X_test, y_test).\n",
        "    * **Data gambar integer**: Data gambar MNIST akan dikonversi ke tipe data integer.\n",
        "    * **Visualisasi 10 gambar pertama**: Akan ditampilkan figure yang berisi 10 gambar pertama dari dataset MNIST beserta labelnya dalam grid 2x5. Setiap subplot akan menampilkan satu gambar dan labelnya.\n",
        "    \n",
        "---"
      ],
      "metadata": {
        "id": "68DB31KWNbzW"
      }
    },
    {
      "cell_type": "markdown",
      "source": [
        "**Langkah 5 - Normalisasi**"
      ],
      "metadata": {
        "id": "IIGUpDmZOAeO"
      }
    },
    {
      "cell_type": "code",
      "source": [
        "X_train = tf.keras.utils.normalize(X_train, axis=1)\n",
        "X_test = tf.keras.utils.normalize(X_test, axis=1)\n",
        "\n",
        "X_train = X_train / 255.0\n",
        "X_test = X_test / 255.0"
      ],
      "metadata": {
        "id": "Y08nPZuwODjZ"
      },
      "execution_count": 38,
      "outputs": []
    },
    {
      "cell_type": "markdown",
      "source": [
        "**Penjelasan:**\n",
        "\n",
        "Kode program tersebut bertujuan untuk menormalisasi data gambar dalam dataset MNIST, yang tersimpan dalam variabel X_train dan X_test. Normalisasi dilakukan dalam dua langkah untuk mempersiapkan data sebelum digunakan untuk melatih model machine learning.\n",
        "* **X_train = tf.keras.utils.normalize(X_train, axis=1) dan X_test = tf.keras.utils.normalize(X_test, axis=1)**:\n",
        "  * Baris ini melakukan normalisasi L2 pada setiap baris (gambar) dari data X_train dan X_test. Normalisasi L2 mengubah setiap baris data sehingga memiliki panjang vektor (magnitude) sebesar 1.\n",
        "  * Normalisasi ini penting untuk meningkatkan kinerja model machine learning. Dengan membuat data berada dalam skala yang sama, model dapat belajar lebih efisien dan mencegah fitur dengan nilai besar mendominasi fitur dengan nilai kecil.\n",
        "  * **Hasil**: Nilai piksel dalam X_train dan X_test akan diubah sehingga setiap baris (gambar) memiliki panjang vektor 1.\n",
        "* **X_train = X_train / 255.0 dan X_test = X_test / 255.0**:\n",
        "  * Baris ini melakukan penskalaan pada data X_train dan X_test dengan membagi setiap nilai piksel dengan 255.0.\n",
        "  * Nilai piksel dalam gambar MNIST biasanya berada dalam rentang 0-255. Dengan membagi dengan 255.0, nilai piksel akan diubah ke rentang 0-1. Penskalaan ini membantu model machine learning untuk belajar lebih efisien dan mencegah masalah overflow atau underflow numerik.\n",
        "  * **Hasil**: Nilai piksel dalam X_train dan X_test akan berada dalam rentang 0-1.\n",
        "\n",
        "**Hasil yang Didapat:**\n",
        "  * Setelah kedua langkah normalisasi ini, data gambar dalam X_train dan X_test akan memiliki karakteristik berikut:\n",
        "    * **Terskala**: Nilai piksel berada dalam rentang 0-1, sehingga data lebih mudah diproses oleh model machine learning.\n",
        "    * **Dinormalisasi:** Setiap baris (gambar) memiliki panjang vektor 1 (setelah langkah pertama), memastikan bahwa fitur dengan nilai besar tidak mendominasi fitur dengan nilai kecil.\n",
        "    \n",
        "---"
      ],
      "metadata": {
        "id": "MwBJHiW-NcRX"
      }
    },
    {
      "cell_type": "markdown",
      "source": [
        "**Langkah 6 - ANN Modeling**"
      ],
      "metadata": {
        "id": "iGdV1ExFOm3Y"
      }
    },
    {
      "cell_type": "code",
      "source": [
        "ann = tf.keras.models.Sequential()"
      ],
      "metadata": {
        "id": "gVTcXi2wOp-M"
      },
      "execution_count": 39,
      "outputs": []
    },
    {
      "cell_type": "markdown",
      "source": [
        "**Penjelasan:**\n",
        "\n",
        "Kode program tersebut bertujuan untuk menginisialisasi model Artificial Neural Network (ANN) dengan arsitektur sequential menggunakan library TensorFlow dan Keras. Model sequential adalah jenis model ANN yang paling sederhana, di mana lapisan-lapisan disusun secara berurutan.\n",
        "* **tf.keras.models.Sequential()**: Ini adalah konstruktor dari kelas Sequential di TensorFlow/Keras. Ketika dipanggil, ia akan membuat objek model ANN baru yang kosong dengan arsitektur sequential.\n",
        "* **ann = ...**: Objek model ANN yang baru dibuat disimpan dalam variabel ann. Variabel ini selanjutnya akan digunakan untuk menambahkan lapisan-lapisan ke model, mengompilasi model, dan melatih model.\n",
        "\n",
        "**Hasil yang Didapat:**\n",
        "* Setelah kode ini dijalankan, akan mendapatkan:\n",
        "    * **Objek model ANN**: Variabel ann akan berisi objek model ANN sequential yang kosong. Model ini belum memiliki lapisan apa pun dan belum siap untuk digunakan.\n",
        "    \n",
        "---"
      ],
      "metadata": {
        "id": "AQ4l2s0cNcnu"
      }
    },
    {
      "cell_type": "markdown",
      "source": [
        "**Langkah 7 - Building Layer**"
      ],
      "metadata": {
        "id": "HMGEB74yOt5h"
      }
    },
    {
      "cell_type": "code",
      "source": [
        "ann.add(tf.keras.layers.Dense(units=128, activation='relu', input_shape=(784, )))\n",
        "ann.add(tf.keras.layers.Dense(units=128, activation='relu'))\n",
        "ann.add(tf.keras.layers.Dense(units=10, activation='softmax'))\n",
        "\n",
        "ann.summary()"
      ],
      "metadata": {
        "colab": {
          "base_uri": "https://localhost:8080/",
          "height": 280
        },
        "id": "A6t2QvsoOxZ4",
        "outputId": "25ad24c4-ddf7-437c-a6ca-d3e0c9b654ac"
      },
      "execution_count": 40,
      "outputs": [
        {
          "output_type": "stream",
          "name": "stderr",
          "text": [
            "/usr/local/lib/python3.10/dist-packages/keras/src/layers/core/dense.py:87: UserWarning: Do not pass an `input_shape`/`input_dim` argument to a layer. When using Sequential models, prefer using an `Input(shape)` object as the first layer in the model instead.\n",
            "  super().__init__(activity_regularizer=activity_regularizer, **kwargs)\n"
          ]
        },
        {
          "output_type": "display_data",
          "data": {
            "text/plain": [
              "\u001b[1mModel: \"sequential_1\"\u001b[0m\n"
            ],
            "text/html": [
              "<pre style=\"white-space:pre;overflow-x:auto;line-height:normal;font-family:Menlo,'DejaVu Sans Mono',consolas,'Courier New',monospace\"><span style=\"font-weight: bold\">Model: \"sequential_1\"</span>\n",
              "</pre>\n"
            ]
          },
          "metadata": {}
        },
        {
          "output_type": "display_data",
          "data": {
            "text/plain": [
              "┏━━━━━━━━━━━━━━━━━━━━━━━━━━━━━━━━━━━━━━┳━━━━━━━━━━━━━━━━━━━━━━━━━━━━━┳━━━━━━━━━━━━━━━━━┓\n",
              "┃\u001b[1m \u001b[0m\u001b[1mLayer (type)                        \u001b[0m\u001b[1m \u001b[0m┃\u001b[1m \u001b[0m\u001b[1mOutput Shape               \u001b[0m\u001b[1m \u001b[0m┃\u001b[1m \u001b[0m\u001b[1m        Param #\u001b[0m\u001b[1m \u001b[0m┃\n",
              "┡━━━━━━━━━━━━━━━━━━━━━━━━━━━━━━━━━━━━━━╇━━━━━━━━━━━━━━━━━━━━━━━━━━━━━╇━━━━━━━━━━━━━━━━━┩\n",
              "│ dense_3 (\u001b[38;5;33mDense\u001b[0m)                      │ (\u001b[38;5;45mNone\u001b[0m, \u001b[38;5;34m128\u001b[0m)                 │         \u001b[38;5;34m100,480\u001b[0m │\n",
              "├──────────────────────────────────────┼─────────────────────────────┼─────────────────┤\n",
              "│ dense_4 (\u001b[38;5;33mDense\u001b[0m)                      │ (\u001b[38;5;45mNone\u001b[0m, \u001b[38;5;34m128\u001b[0m)                 │          \u001b[38;5;34m16,512\u001b[0m │\n",
              "├──────────────────────────────────────┼─────────────────────────────┼─────────────────┤\n",
              "│ dense_5 (\u001b[38;5;33mDense\u001b[0m)                      │ (\u001b[38;5;45mNone\u001b[0m, \u001b[38;5;34m10\u001b[0m)                  │           \u001b[38;5;34m1,290\u001b[0m │\n",
              "└──────────────────────────────────────┴─────────────────────────────┴─────────────────┘\n"
            ],
            "text/html": [
              "<pre style=\"white-space:pre;overflow-x:auto;line-height:normal;font-family:Menlo,'DejaVu Sans Mono',consolas,'Courier New',monospace\">┏━━━━━━━━━━━━━━━━━━━━━━━━━━━━━━━━━━━━━━┳━━━━━━━━━━━━━━━━━━━━━━━━━━━━━┳━━━━━━━━━━━━━━━━━┓\n",
              "┃<span style=\"font-weight: bold\"> Layer (type)                         </span>┃<span style=\"font-weight: bold\"> Output Shape                </span>┃<span style=\"font-weight: bold\">         Param # </span>┃\n",
              "┡━━━━━━━━━━━━━━━━━━━━━━━━━━━━━━━━━━━━━━╇━━━━━━━━━━━━━━━━━━━━━━━━━━━━━╇━━━━━━━━━━━━━━━━━┩\n",
              "│ dense_3 (<span style=\"color: #0087ff; text-decoration-color: #0087ff\">Dense</span>)                      │ (<span style=\"color: #00d7ff; text-decoration-color: #00d7ff\">None</span>, <span style=\"color: #00af00; text-decoration-color: #00af00\">128</span>)                 │         <span style=\"color: #00af00; text-decoration-color: #00af00\">100,480</span> │\n",
              "├──────────────────────────────────────┼─────────────────────────────┼─────────────────┤\n",
              "│ dense_4 (<span style=\"color: #0087ff; text-decoration-color: #0087ff\">Dense</span>)                      │ (<span style=\"color: #00d7ff; text-decoration-color: #00d7ff\">None</span>, <span style=\"color: #00af00; text-decoration-color: #00af00\">128</span>)                 │          <span style=\"color: #00af00; text-decoration-color: #00af00\">16,512</span> │\n",
              "├──────────────────────────────────────┼─────────────────────────────┼─────────────────┤\n",
              "│ dense_5 (<span style=\"color: #0087ff; text-decoration-color: #0087ff\">Dense</span>)                      │ (<span style=\"color: #00d7ff; text-decoration-color: #00d7ff\">None</span>, <span style=\"color: #00af00; text-decoration-color: #00af00\">10</span>)                  │           <span style=\"color: #00af00; text-decoration-color: #00af00\">1,290</span> │\n",
              "└──────────────────────────────────────┴─────────────────────────────┴─────────────────┘\n",
              "</pre>\n"
            ]
          },
          "metadata": {}
        },
        {
          "output_type": "display_data",
          "data": {
            "text/plain": [
              "\u001b[1m Total params: \u001b[0m\u001b[38;5;34m118,282\u001b[0m (462.04 KB)\n"
            ],
            "text/html": [
              "<pre style=\"white-space:pre;overflow-x:auto;line-height:normal;font-family:Menlo,'DejaVu Sans Mono',consolas,'Courier New',monospace\"><span style=\"font-weight: bold\"> Total params: </span><span style=\"color: #00af00; text-decoration-color: #00af00\">118,282</span> (462.04 KB)\n",
              "</pre>\n"
            ]
          },
          "metadata": {}
        },
        {
          "output_type": "display_data",
          "data": {
            "text/plain": [
              "\u001b[1m Trainable params: \u001b[0m\u001b[38;5;34m118,282\u001b[0m (462.04 KB)\n"
            ],
            "text/html": [
              "<pre style=\"white-space:pre;overflow-x:auto;line-height:normal;font-family:Menlo,'DejaVu Sans Mono',consolas,'Courier New',monospace\"><span style=\"font-weight: bold\"> Trainable params: </span><span style=\"color: #00af00; text-decoration-color: #00af00\">118,282</span> (462.04 KB)\n",
              "</pre>\n"
            ]
          },
          "metadata": {}
        },
        {
          "output_type": "display_data",
          "data": {
            "text/plain": [
              "\u001b[1m Non-trainable params: \u001b[0m\u001b[38;5;34m0\u001b[0m (0.00 B)\n"
            ],
            "text/html": [
              "<pre style=\"white-space:pre;overflow-x:auto;line-height:normal;font-family:Menlo,'DejaVu Sans Mono',consolas,'Courier New',monospace\"><span style=\"font-weight: bold\"> Non-trainable params: </span><span style=\"color: #00af00; text-decoration-color: #00af00\">0</span> (0.00 B)\n",
              "</pre>\n"
            ]
          },
          "metadata": {}
        }
      ]
    },
    {
      "cell_type": "markdown",
      "source": [
        "**Penjelasan:**\n",
        "\n",
        "Kode program tersebut bertujuan untuk membangun arsitektur model Artificial Neural Network (ANN) dan menampilkan ringkasannya. Model ini dirancang untuk mengklasifikasikan gambar digit tulisan tangan dari dataset MNIST.\n",
        "* **ann.add(tf.keras.layers.Dense(units=128, activation='relu', input_shape=(784, )))**:\n",
        "  * Menambahkan lapisan Dense (fully connected) pertama ke model ann.\n",
        "  * **Parameter**:\n",
        "    * **units=128**: Lapisan ini memiliki 128 neuron (unit).\n",
        "    * **activation='relu'**: Fungsi aktivasi yang digunakan adalah ReLU (Rectified Linear Unit).\n",
        "    * **input_shape=(784,)**: Menentukan bentuk input yang diharapkan oleh model. Dalam kasus MNIST, setiap gambar direpresentasikan sebagai vektor 784 piksel (28x28).\n",
        "  * Lapisan ini menerima input gambar dan melakukan transformasi linier, diikuti oleh fungsi aktivasi ReLU untuk memperkenalkan non-linearitas ke model.\n",
        "* **ann.add(tf.keras.layers.Dense(units=128, activation='relu'))**:\n",
        "  * Menambahkan lapisan Dense kedua ke model.\n",
        "  * **Parameter**:\n",
        "    * **units=128**: Lapisan ini memiliki 128 neuron.\n",
        "    * **activation='relu'**: Fungsi aktivasi yang digunakan adalah ReLU.\n",
        "  * Lapisan ini menerima output dari lapisan sebelumnya dan melakukan transformasi linier, diikuti oleh fungsi aktivasi ReLU.\n",
        "* **ann.add(tf.keras.layers.Dense(units=10, activation='softmax'))**:\n",
        "  * Menambahkan lapisan Dense ketiga (lapisan output) ke model.\n",
        "  * **Parameter**:\n",
        "    * **units=10**: Lapisan ini memiliki 10 neuron, merepresentasikan 10 kelas digit (0-9).\n",
        "    * **activation='softmax'**: Fungsi aktivasi yang digunakan adalah softmax.\n",
        "  * Lapisan ini menerima output dari lapisan sebelumnya dan menghasilkan probabilitas untuk setiap kelas digit. Fungsi aktivasi softmax memastikan bahwa probabilitas semua kelas berjumlah 1.\n",
        "* **ann.summary()**:\n",
        "  * Menampilkan ringkasan arsitektur model, termasuk jumlah parameter di setiap lapisan.\n",
        "  * Akan mencetak tabel yang menunjukkan lapisan-lapisan model, bentuk output setiap lapisan, dan jumlah parameter yang dapat dipelajari.\n",
        "\n",
        "**Hasil yang Didapat:**\n",
        "  * Setelah kode ini dijalankan, akan mendapatkan:\n",
        "    * **Model ANN dengan 3 lapisan Dense**: Model ann akan memiliki arsitektur sequential dengan 3 lapisan Dense.\n",
        "    * **Ringkasan model**: Fungsi ann.summary() akan mencetak ringkasan model ke konsol, memberikan informasi tentang lapisan-lapisan, bentuk output, dan jumlah parameter.\n",
        "    \n",
        "---"
      ],
      "metadata": {
        "id": "D_0dIltmNc6r"
      }
    },
    {
      "cell_type": "markdown",
      "source": [
        "**Langkah 8 - Compiling ANN Model**"
      ],
      "metadata": {
        "id": "P844KydAO2So"
      }
    },
    {
      "cell_type": "code",
      "source": [
        "ann.compile(optimizer='adam', loss='sparse_categorical_crossentropy', metrics=['accuracy'])"
      ],
      "metadata": {
        "id": "W1ujNtzaO44F"
      },
      "execution_count": 41,
      "outputs": []
    },
    {
      "cell_type": "markdown",
      "source": [
        "**Penjelasan:**\n",
        "\n",
        "Kode program tersebut bertujuan untuk mengkonfigurasi proses pelatihan model Artificial Neural Network (ANN) yang telah dibuat sebelumnya. Proses konfigurasi ini disebut compiling dalam Keras.\n",
        "* **ann.compile(...)**: Fungsi ini digunakan untuk mengkonfigurasi model ann sebelum pelatihan.\n",
        "* **optimizer='adam'**: Menentukan algoritma optimasi yang akan digunakan untuk memperbarui bobot model selama pelatihan. 'adam' adalah algoritma optimasi yang populer dan efisien.\n",
        "* **loss='sparse_categorical_crossentropy'**: Menentukan fungsi loss yang akan digunakan untuk mengukur kesalahan prediksi model. 'sparse_categorical_crossentropy' adalah fungsi loss yang umum digunakan untuk masalah klasifikasi multi-kelas dengan label berupa integer.\n",
        "* **metrics=['accuracy']**: Menentukan metrik yang akan digunakan untuk mengevaluasi kinerja model selama pelatihan dan pengujian. 'accuracy' adalah metrik yang umum digunakan untuk mengukur persentase prediksi yang benar.\n",
        "\n",
        "**Hasil yang Didapat:**\n",
        "  * Setelah kode ini dijalankan, model ann akan siap untuk dilatih. Model ini telah dikonfigurasi dengan algoritma optimasi 'adam', fungsi loss 'sparse_categorical_crossentropy', dan metrik evaluasi 'accuracy'.\n",
        "  \n",
        "---"
      ],
      "metadata": {
        "id": "EIgBRZBQNj0A"
      }
    },
    {
      "cell_type": "markdown",
      "source": [
        "**Langkah 9 - Fitting**"
      ],
      "metadata": {
        "id": "HTgW5oR5O-4d"
      }
    },
    {
      "cell_type": "code",
      "source": [
        "ann.fit(X_train, y_train, epochs=50, batch_size=100, validation_data=(X_test, y_test))"
      ],
      "metadata": {
        "colab": {
          "base_uri": "https://localhost:8080/"
        },
        "id": "XevDGUmsPBQM",
        "outputId": "3d8d4a3e-0297-47ad-fd29-81929b662c11"
      },
      "execution_count": 42,
      "outputs": [
        {
          "output_type": "stream",
          "name": "stdout",
          "text": [
            "Epoch 1/50\n",
            "\u001b[1m560/560\u001b[0m \u001b[32m━━━━━━━━━━━━━━━━━━━━\u001b[0m\u001b[37m\u001b[0m \u001b[1m6s\u001b[0m 6ms/step - accuracy: 0.1694 - loss: 2.2135 - val_accuracy: 0.5216 - val_loss: 1.4097\n",
            "Epoch 2/50\n",
            "\u001b[1m560/560\u001b[0m \u001b[32m━━━━━━━━━━━━━━━━━━━━\u001b[0m\u001b[37m\u001b[0m \u001b[1m5s\u001b[0m 8ms/step - accuracy: 0.5618 - loss: 1.2960 - val_accuracy: 0.6717 - val_loss: 1.0068\n",
            "Epoch 3/50\n",
            "\u001b[1m560/560\u001b[0m \u001b[32m━━━━━━━━━━━━━━━━━━━━\u001b[0m\u001b[37m\u001b[0m \u001b[1m6s\u001b[0m 11ms/step - accuracy: 0.6928 - loss: 0.9409 - val_accuracy: 0.7414 - val_loss: 0.8008\n",
            "Epoch 4/50\n",
            "\u001b[1m560/560\u001b[0m \u001b[32m━━━━━━━━━━━━━━━━━━━━\u001b[0m\u001b[37m\u001b[0m \u001b[1m10s\u001b[0m 10ms/step - accuracy: 0.7455 - loss: 0.7759 - val_accuracy: 0.7729 - val_loss: 0.7143\n",
            "Epoch 5/50\n",
            "\u001b[1m560/560\u001b[0m \u001b[32m━━━━━━━━━━━━━━━━━━━━\u001b[0m\u001b[37m\u001b[0m \u001b[1m3s\u001b[0m 5ms/step - accuracy: 0.7734 - loss: 0.7094 - val_accuracy: 0.7838 - val_loss: 0.6784\n",
            "Epoch 6/50\n",
            "\u001b[1m560/560\u001b[0m \u001b[32m━━━━━━━━━━━━━━━━━━━━\u001b[0m\u001b[37m\u001b[0m \u001b[1m3s\u001b[0m 6ms/step - accuracy: 0.7874 - loss: 0.6664 - val_accuracy: 0.7948 - val_loss: 0.6523\n",
            "Epoch 7/50\n",
            "\u001b[1m560/560\u001b[0m \u001b[32m━━━━━━━━━━━━━━━━━━━━\u001b[0m\u001b[37m\u001b[0m \u001b[1m6s\u001b[0m 10ms/step - accuracy: 0.7992 - loss: 0.6493 - val_accuracy: 0.8059 - val_loss: 0.6255\n",
            "Epoch 8/50\n",
            "\u001b[1m560/560\u001b[0m \u001b[32m━━━━━━━━━━━━━━━━━━━━\u001b[0m\u001b[37m\u001b[0m \u001b[1m10s\u001b[0m 10ms/step - accuracy: 0.8078 - loss: 0.6241 - val_accuracy: 0.8079 - val_loss: 0.6123\n",
            "Epoch 9/50\n",
            "\u001b[1m560/560\u001b[0m \u001b[32m━━━━━━━━━━━━━━━━━━━━\u001b[0m\u001b[37m\u001b[0m \u001b[1m8s\u001b[0m 7ms/step - accuracy: 0.8142 - loss: 0.6046 - val_accuracy: 0.8170 - val_loss: 0.5944\n",
            "Epoch 10/50\n",
            "\u001b[1m560/560\u001b[0m \u001b[32m━━━━━━━━━━━━━━━━━━━━\u001b[0m\u001b[37m\u001b[0m \u001b[1m3s\u001b[0m 5ms/step - accuracy: 0.8193 - loss: 0.5870 - val_accuracy: 0.8205 - val_loss: 0.5819\n",
            "Epoch 11/50\n",
            "\u001b[1m560/560\u001b[0m \u001b[32m━━━━━━━━━━━━━━━━━━━━\u001b[0m\u001b[37m\u001b[0m \u001b[1m6s\u001b[0m 11ms/step - accuracy: 0.8281 - loss: 0.5735 - val_accuracy: 0.8336 - val_loss: 0.5600\n",
            "Epoch 12/50\n",
            "\u001b[1m560/560\u001b[0m \u001b[32m━━━━━━━━━━━━━━━━━━━━\u001b[0m\u001b[37m\u001b[0m \u001b[1m11s\u001b[0m 12ms/step - accuracy: 0.8325 - loss: 0.5593 - val_accuracy: 0.8291 - val_loss: 0.5617\n",
            "Epoch 13/50\n",
            "\u001b[1m560/560\u001b[0m \u001b[32m━━━━━━━━━━━━━━━━━━━━\u001b[0m\u001b[37m\u001b[0m \u001b[1m9s\u001b[0m 9ms/step - accuracy: 0.8376 - loss: 0.5427 - val_accuracy: 0.8480 - val_loss: 0.5247\n",
            "Epoch 14/50\n",
            "\u001b[1m560/560\u001b[0m \u001b[32m━━━━━━━━━━━━━━━━━━━━\u001b[0m\u001b[37m\u001b[0m \u001b[1m5s\u001b[0m 9ms/step - accuracy: 0.8455 - loss: 0.5155 - val_accuracy: 0.8515 - val_loss: 0.5164\n",
            "Epoch 15/50\n",
            "\u001b[1m560/560\u001b[0m \u001b[32m━━━━━━━━━━━━━━━━━━━━\u001b[0m\u001b[37m\u001b[0m \u001b[1m4s\u001b[0m 7ms/step - accuracy: 0.8539 - loss: 0.4990 - val_accuracy: 0.8635 - val_loss: 0.4745\n",
            "Epoch 16/50\n",
            "\u001b[1m560/560\u001b[0m \u001b[32m━━━━━━━━━━━━━━━━━━━━\u001b[0m\u001b[37m\u001b[0m \u001b[1m3s\u001b[0m 5ms/step - accuracy: 0.8650 - loss: 0.4654 - val_accuracy: 0.8672 - val_loss: 0.4551\n",
            "Epoch 17/50\n",
            "\u001b[1m560/560\u001b[0m \u001b[32m━━━━━━━━━━━━━━━━━━━━\u001b[0m\u001b[37m\u001b[0m \u001b[1m5s\u001b[0m 5ms/step - accuracy: 0.8685 - loss: 0.4523 - val_accuracy: 0.8747 - val_loss: 0.4334\n",
            "Epoch 18/50\n",
            "\u001b[1m560/560\u001b[0m \u001b[32m━━━━━━━━━━━━━━━━━━━━\u001b[0m\u001b[37m\u001b[0m \u001b[1m5s\u001b[0m 5ms/step - accuracy: 0.8737 - loss: 0.4327 - val_accuracy: 0.8786 - val_loss: 0.4145\n",
            "Epoch 19/50\n",
            "\u001b[1m560/560\u001b[0m \u001b[32m━━━━━━━━━━━━━━━━━━━━\u001b[0m\u001b[37m\u001b[0m \u001b[1m5s\u001b[0m 6ms/step - accuracy: 0.8834 - loss: 0.4010 - val_accuracy: 0.8825 - val_loss: 0.3998\n",
            "Epoch 20/50\n",
            "\u001b[1m560/560\u001b[0m \u001b[32m━━━━━━━━━━━━━━━━━━━━\u001b[0m\u001b[37m\u001b[0m \u001b[1m4s\u001b[0m 7ms/step - accuracy: 0.8851 - loss: 0.3899 - val_accuracy: 0.8883 - val_loss: 0.3792\n",
            "Epoch 21/50\n",
            "\u001b[1m560/560\u001b[0m \u001b[32m━━━━━━━━━━━━━━━━━━━━\u001b[0m\u001b[37m\u001b[0m \u001b[1m5s\u001b[0m 7ms/step - accuracy: 0.8919 - loss: 0.3699 - val_accuracy: 0.8921 - val_loss: 0.3646\n",
            "Epoch 22/50\n",
            "\u001b[1m560/560\u001b[0m \u001b[32m━━━━━━━━━━━━━━━━━━━━\u001b[0m\u001b[37m\u001b[0m \u001b[1m4s\u001b[0m 5ms/step - accuracy: 0.8921 - loss: 0.3602 - val_accuracy: 0.8941 - val_loss: 0.3613\n",
            "Epoch 23/50\n",
            "\u001b[1m560/560\u001b[0m \u001b[32m━━━━━━━━━━━━━━━━━━━━\u001b[0m\u001b[37m\u001b[0m \u001b[1m4s\u001b[0m 7ms/step - accuracy: 0.8986 - loss: 0.3478 - val_accuracy: 0.8961 - val_loss: 0.3461\n",
            "Epoch 24/50\n",
            "\u001b[1m560/560\u001b[0m \u001b[32m━━━━━━━━━━━━━━━━━━━━\u001b[0m\u001b[37m\u001b[0m \u001b[1m4s\u001b[0m 6ms/step - accuracy: 0.9010 - loss: 0.3376 - val_accuracy: 0.9001 - val_loss: 0.3339\n",
            "Epoch 25/50\n",
            "\u001b[1m560/560\u001b[0m \u001b[32m━━━━━━━━━━━━━━━━━━━━\u001b[0m\u001b[37m\u001b[0m \u001b[1m4s\u001b[0m 5ms/step - accuracy: 0.9060 - loss: 0.3264 - val_accuracy: 0.9046 - val_loss: 0.3217\n",
            "Epoch 26/50\n",
            "\u001b[1m560/560\u001b[0m \u001b[32m━━━━━━━━━━━━━━━━━━━━\u001b[0m\u001b[37m\u001b[0m \u001b[1m3s\u001b[0m 6ms/step - accuracy: 0.9055 - loss: 0.3212 - val_accuracy: 0.9044 - val_loss: 0.3240\n",
            "Epoch 27/50\n",
            "\u001b[1m560/560\u001b[0m \u001b[32m━━━━━━━━━━━━━━━━━━━━\u001b[0m\u001b[37m\u001b[0m \u001b[1m5s\u001b[0m 9ms/step - accuracy: 0.9080 - loss: 0.3121 - val_accuracy: 0.9079 - val_loss: 0.3101\n",
            "Epoch 28/50\n",
            "\u001b[1m560/560\u001b[0m \u001b[32m━━━━━━━━━━━━━━━━━━━━\u001b[0m\u001b[37m\u001b[0m \u001b[1m3s\u001b[0m 5ms/step - accuracy: 0.9099 - loss: 0.3029 - val_accuracy: 0.9112 - val_loss: 0.3017\n",
            "Epoch 29/50\n",
            "\u001b[1m560/560\u001b[0m \u001b[32m━━━━━━━━━━━━━━━━━━━━\u001b[0m\u001b[37m\u001b[0m \u001b[1m3s\u001b[0m 5ms/step - accuracy: 0.9131 - loss: 0.2919 - val_accuracy: 0.9116 - val_loss: 0.2948\n",
            "Epoch 30/50\n",
            "\u001b[1m560/560\u001b[0m \u001b[32m━━━━━━━━━━━━━━━━━━━━\u001b[0m\u001b[37m\u001b[0m \u001b[1m6s\u001b[0m 7ms/step - accuracy: 0.9136 - loss: 0.2879 - val_accuracy: 0.9106 - val_loss: 0.3011\n",
            "Epoch 31/50\n",
            "\u001b[1m560/560\u001b[0m \u001b[32m━━━━━━━━━━━━━━━━━━━━\u001b[0m\u001b[37m\u001b[0m \u001b[1m3s\u001b[0m 6ms/step - accuracy: 0.9158 - loss: 0.2817 - val_accuracy: 0.9168 - val_loss: 0.2898\n",
            "Epoch 32/50\n",
            "\u001b[1m560/560\u001b[0m \u001b[32m━━━━━━━━━━━━━━━━━━━━\u001b[0m\u001b[37m\u001b[0m \u001b[1m3s\u001b[0m 5ms/step - accuracy: 0.9158 - loss: 0.2833 - val_accuracy: 0.9143 - val_loss: 0.2802\n",
            "Epoch 33/50\n",
            "\u001b[1m560/560\u001b[0m \u001b[32m━━━━━━━━━━━━━━━━━━━━\u001b[0m\u001b[37m\u001b[0m \u001b[1m6s\u001b[0m 8ms/step - accuracy: 0.9210 - loss: 0.2651 - val_accuracy: 0.9170 - val_loss: 0.2727\n",
            "Epoch 34/50\n",
            "\u001b[1m560/560\u001b[0m \u001b[32m━━━━━━━━━━━━━━━━━━━━\u001b[0m\u001b[37m\u001b[0m \u001b[1m5s\u001b[0m 7ms/step - accuracy: 0.9204 - loss: 0.2696 - val_accuracy: 0.9216 - val_loss: 0.2652\n",
            "Epoch 35/50\n",
            "\u001b[1m560/560\u001b[0m \u001b[32m━━━━━━━━━━━━━━━━━━━━\u001b[0m\u001b[37m\u001b[0m \u001b[1m3s\u001b[0m 5ms/step - accuracy: 0.9224 - loss: 0.2566 - val_accuracy: 0.9221 - val_loss: 0.2608\n",
            "Epoch 36/50\n",
            "\u001b[1m560/560\u001b[0m \u001b[32m━━━━━━━━━━━━━━━━━━━━\u001b[0m\u001b[37m\u001b[0m \u001b[1m3s\u001b[0m 5ms/step - accuracy: 0.9260 - loss: 0.2464 - val_accuracy: 0.9224 - val_loss: 0.2595\n",
            "Epoch 37/50\n",
            "\u001b[1m560/560\u001b[0m \u001b[32m━━━━━━━━━━━━━━━━━━━━\u001b[0m\u001b[37m\u001b[0m \u001b[1m5s\u001b[0m 5ms/step - accuracy: 0.9273 - loss: 0.2435 - val_accuracy: 0.9229 - val_loss: 0.2587\n",
            "Epoch 38/50\n",
            "\u001b[1m560/560\u001b[0m \u001b[32m━━━━━━━━━━━━━━━━━━━━\u001b[0m\u001b[37m\u001b[0m \u001b[1m3s\u001b[0m 5ms/step - accuracy: 0.9263 - loss: 0.2418 - val_accuracy: 0.9244 - val_loss: 0.2542\n",
            "Epoch 39/50\n",
            "\u001b[1m560/560\u001b[0m \u001b[32m━━━━━━━━━━━━━━━━━━━━\u001b[0m\u001b[37m\u001b[0m \u001b[1m3s\u001b[0m 5ms/step - accuracy: 0.9304 - loss: 0.2363 - val_accuracy: 0.9264 - val_loss: 0.2397\n",
            "Epoch 40/50\n",
            "\u001b[1m560/560\u001b[0m \u001b[32m━━━━━━━━━━━━━━━━━━━━\u001b[0m\u001b[37m\u001b[0m \u001b[1m5s\u001b[0m 9ms/step - accuracy: 0.9298 - loss: 0.2330 - val_accuracy: 0.9286 - val_loss: 0.2392\n",
            "Epoch 41/50\n",
            "\u001b[1m560/560\u001b[0m \u001b[32m━━━━━━━━━━━━━━━━━━━━\u001b[0m\u001b[37m\u001b[0m \u001b[1m4s\u001b[0m 6ms/step - accuracy: 0.9331 - loss: 0.2277 - val_accuracy: 0.9290 - val_loss: 0.2350\n",
            "Epoch 42/50\n",
            "\u001b[1m560/560\u001b[0m \u001b[32m━━━━━━━━━━━━━━━━━━━━\u001b[0m\u001b[37m\u001b[0m \u001b[1m3s\u001b[0m 5ms/step - accuracy: 0.9318 - loss: 0.2258 - val_accuracy: 0.9294 - val_loss: 0.2337\n",
            "Epoch 43/50\n",
            "\u001b[1m560/560\u001b[0m \u001b[32m━━━━━━━━━━━━━━━━━━━━\u001b[0m\u001b[37m\u001b[0m \u001b[1m3s\u001b[0m 6ms/step - accuracy: 0.9331 - loss: 0.2230 - val_accuracy: 0.9298 - val_loss: 0.2372\n",
            "Epoch 44/50\n",
            "\u001b[1m560/560\u001b[0m \u001b[32m━━━━━━━━━━━━━━━━━━━━\u001b[0m\u001b[37m\u001b[0m \u001b[1m5s\u001b[0m 9ms/step - accuracy: 0.9338 - loss: 0.2150 - val_accuracy: 0.9314 - val_loss: 0.2249\n",
            "Epoch 45/50\n",
            "\u001b[1m560/560\u001b[0m \u001b[32m━━━━━━━━━━━━━━━━━━━━\u001b[0m\u001b[37m\u001b[0m \u001b[1m3s\u001b[0m 5ms/step - accuracy: 0.9363 - loss: 0.2145 - val_accuracy: 0.9334 - val_loss: 0.2203\n",
            "Epoch 46/50\n",
            "\u001b[1m560/560\u001b[0m \u001b[32m━━━━━━━━━━━━━━━━━━━━\u001b[0m\u001b[37m\u001b[0m \u001b[1m3s\u001b[0m 5ms/step - accuracy: 0.9383 - loss: 0.2075 - val_accuracy: 0.9302 - val_loss: 0.2304\n",
            "Epoch 47/50\n",
            "\u001b[1m560/560\u001b[0m \u001b[32m━━━━━━━━━━━━━━━━━━━━\u001b[0m\u001b[37m\u001b[0m \u001b[1m3s\u001b[0m 5ms/step - accuracy: 0.9399 - loss: 0.2031 - val_accuracy: 0.9343 - val_loss: 0.2168\n",
            "Epoch 48/50\n",
            "\u001b[1m560/560\u001b[0m \u001b[32m━━━━━━━━━━━━━━━━━━━━\u001b[0m\u001b[37m\u001b[0m \u001b[1m5s\u001b[0m 6ms/step - accuracy: 0.9387 - loss: 0.2065 - val_accuracy: 0.9357 - val_loss: 0.2102\n",
            "Epoch 49/50\n",
            "\u001b[1m560/560\u001b[0m \u001b[32m━━━━━━━━━━━━━━━━━━━━\u001b[0m\u001b[37m\u001b[0m \u001b[1m3s\u001b[0m 6ms/step - accuracy: 0.9398 - loss: 0.2028 - val_accuracy: 0.9336 - val_loss: 0.2167\n",
            "Epoch 50/50\n",
            "\u001b[1m560/560\u001b[0m \u001b[32m━━━━━━━━━━━━━━━━━━━━\u001b[0m\u001b[37m\u001b[0m \u001b[1m3s\u001b[0m 6ms/step - accuracy: 0.9432 - loss: 0.1941 - val_accuracy: 0.9378 - val_loss: 0.2035\n"
          ]
        },
        {
          "output_type": "execute_result",
          "data": {
            "text/plain": [
              "<keras.src.callbacks.history.History at 0x7f279a4fba90>"
            ]
          },
          "metadata": {},
          "execution_count": 42
        }
      ]
    },
    {
      "cell_type": "markdown",
      "source": [
        "**Penjelasan:**\n",
        "\n",
        "Kode program tersebut merupakan inti dari proses pelatihan model Artificial Neural Network (ANN) yang telah diinisialisasi sebelumnya. Fungsi fit() digunakan untuk melatih model ANN menggunakan data latih (X_train, y_train).\n",
        "* **Parameter**:\n",
        "  * **X_train**: Data fitur (input) yang digunakan untuk melatih model.\n",
        "  * **y_train**: Data target (output) yang sesuai dengan X_train, digunakan untuk melatih model.\n",
        "  * **epochs=50**: Jumlah epoch atau iterasi pelatihan. Satu epoch berarti model telah melihat seluruh data latih sekali.\n",
        "    * Nilai 50 berarti model akan dilatih selama 50 epoch, melewati seluruh data latih sebanyak 50 kali.\n",
        "  * **batch_size=100**: Jumlah sampel data yang diproses sebelum bobot model diperbarui.\n",
        "    * Nilai 100 berarti model akan memproses 100 sampel data, menghitung error, dan kemudian memperbarui bobotnya. Proses ini diulang hingga seluruh data latih dalam satu epoch selesai diproses.\n",
        "  * **validation_data=(X_test, y_test)**: Data yang digunakan untuk validasi model selama pelatihan.\n",
        "    * Model akan dievaluasi menggunakan data validasi (X_test, y_test) di setiap epoch. Ini membantu untuk memantau kinerja model pada data yang belum pernah dilihat sebelumnya dan mencegah overfitting (model terlalu menyesuaikan diri dengan data latih).\n",
        "\n",
        "**Hasil yang Didapat:**\n",
        "  * Setelah kode program dijalankan, model ANN akan dilatih dan bobot-bobot internalnya akan disesuaikan untuk meminimalkan error prediksi.\n",
        "\n",
        "---"
      ],
      "metadata": {
        "id": "kxc6cSW6NkJL"
      }
    },
    {
      "cell_type": "markdown",
      "source": [
        "**Langkah 10 - Evaluating**"
      ],
      "metadata": {
        "id": "v-YmNwgtPKhR"
      }
    },
    {
      "cell_type": "code",
      "source": [
        "loss, accuracy = ann.evaluate(X_test, y_test)\n",
        "\n",
        "print(f\"Loss: {loss}\")\n",
        "print(f\"Accuracy: {accuracy}\")"
      ],
      "metadata": {
        "colab": {
          "base_uri": "https://localhost:8080/"
        },
        "id": "1ja9YAWzPMMC",
        "outputId": "bab2ad81-0bee-4be2-9a5e-260df9e54348"
      },
      "execution_count": 43,
      "outputs": [
        {
          "output_type": "stream",
          "name": "stdout",
          "text": [
            "\u001b[1m438/438\u001b[0m \u001b[32m━━━━━━━━━━━━━━━━━━━━\u001b[0m\u001b[37m\u001b[0m \u001b[1m1s\u001b[0m 2ms/step - accuracy: 0.9423 - loss: 0.1894\n",
            "Loss: 0.2035100758075714\n",
            "Accuracy: 0.9377856850624084\n"
          ]
        }
      ]
    },
    {
      "cell_type": "markdown",
      "source": [
        "**Penjelasan:**\n",
        "\n",
        "Kode program tersebut bertujuan untuk mengevaluasi kinerja model Artificial Neural Network (ANN) yang telah dilatih sebelumnya menggunakan data uji (X_test dan y_test).\n",
        "* **loss, accuracy = ann.evaluate(X_test, y_test)**:\n",
        "  * Fungsi evaluate() pada model ann digunakan untuk menghitung loss dan akurasi model pada data uji.\n",
        "  * **Parameter**:\n",
        "    * **X_test**: Data input (gambar) untuk pengujian.\n",
        "    * **y_test**: Label yang benar untuk data uji.\n",
        "  * Fungsi evaluate() mengembalikan dua nilai: loss dan akurasi. Nilai-nilai ini disimpan dalam variabel loss dan accuracy.\n",
        "* **print(f\"Loss: {loss}\") dan print(f\"Accuracy: {accuracy}\")**:\n",
        "  * Baris ini mencetak nilai loss dan akurasi ke konsol.\n",
        "  * Akan melihat output yang menunjukkan nilai loss dan akurasi model pada data uji.\n",
        "\n",
        "**Hasil yang Didapat:**\n",
        "  * Setelah kode ini dijalankan, akan mendapatkan:\n",
        "    * **Nilai loss**: Menunjukkan seberapa besar kesalahan prediksi model pada data uji. Semakin rendah nilai loss, semakin baik kinerja model.\n",
        "    * **Nilai akurasi**: Menunjukkan persentase prediksi yang benar oleh model pada data uji. Semakin tinggi nilai akurasi, semakin baik kinerja model.\n",
        "    \n",
        "---"
      ],
      "metadata": {
        "id": "hhlRJrpuPESu"
      }
    },
    {
      "cell_type": "markdown",
      "source": [
        "**Langkah 11 - Confusion Matrix**"
      ],
      "metadata": {
        "id": "nrcx4PlXPOG0"
      }
    },
    {
      "cell_type": "code",
      "source": [
        "y_pred = ann.predict(X_test)\n",
        "y_pred = np.argmax(y_pred, axis=1)\n",
        "\n",
        "cm = confusion_matrix(y_test, y_pred)\n",
        "cm_percent = cm.astype('float') / cm.sum(axis=1)[:, np.newaxis] * 100\n",
        "\n",
        "fig, ax = plt.subplots(figsize=(10, 10))\n",
        "\n",
        "sns.heatmap(cm_percent, annot=True, ax=ax, cmap='Blues', fmt='.2f', cbar=False)\n",
        "ax.set_xlabel('Predicted Label')\n",
        "ax.set_ylabel('True Label')\n",
        "ax.set_title('Confusion Matrix(%)')\n",
        "\n",
        "class_names = [str(i) for i in range(10)]\n",
        "ax.xaxis.set_ticklabels(class_names)\n",
        "ax.yaxis.set_ticklabels(class_names)\n",
        "\n",
        "plt.show()"
      ],
      "metadata": {
        "colab": {
          "base_uri": "https://localhost:8080/",
          "height": 889
        },
        "id": "f8WKqCkXPRCY",
        "outputId": "adc1c595-ed4d-460c-da12-c00a366666dd"
      },
      "execution_count": 44,
      "outputs": [
        {
          "output_type": "stream",
          "name": "stdout",
          "text": [
            "\u001b[1m438/438\u001b[0m \u001b[32m━━━━━━━━━━━━━━━━━━━━\u001b[0m\u001b[37m\u001b[0m \u001b[1m1s\u001b[0m 2ms/step\n"
          ]
        },
        {
          "output_type": "display_data",
          "data": {
            "text/plain": [
              "<Figure size 1000x1000 with 1 Axes>"
            ],
            "image/png": "[encoded data removed]"
          },
          "metadata": {}
        }
      ]
    },
    {
      "cell_type": "markdown",
      "source": [
        "**Penjelasan:**\n",
        "\n",
        "Kode program tersebut bertujuan untuk mengevaluasi kinerja model Artificial Neural Network (ANN) yang telah dilatih sebelumnya menggunakan data uji (X_test dan y_test), dan kemudian memvisualisasikan hasilnya dalam bentuk confusion matrix.\n",
        "* **y_pred = ann.predict(X_test)**:\n",
        "  * Model ann digunakan untuk memprediksi label dari data uji (X_test). Hasil prediksi disimpan dalam variabel y_pred.\n",
        "  * **Hasil**: y_pred akan berisi probabilitas untuk setiap kelas (digit 0-9) untuk setiap gambar dalam data uji.\n",
        "* **y_pred = np.argmax(y_pred, axis=1)**:\n",
        "  * Mengubah probabilitas prediksi menjadi label kelas yang diprediksi. Fungsi argmax digunakan untuk menemukan indeks (kelas) dengan probabilitas tertinggi untuk setiap gambar.\n",
        "  * **Hasil**: y_pred sekarang berisi label kelas yang diprediksi untuk setiap gambar dalam data uji.\n",
        "* **cm = confusion_matrix(y_test, y_pred)**:\n",
        "  * Membuat confusion matrix dengan membandingkan label yang benar (y_test) dengan label yang diprediksi (y_pred).\n",
        "  * **Hasil**: cm akan berisi confusion matrix yang menunjukkan jumlah prediksi yang benar dan salah untuk setiap kelas.\n",
        "* **cm_percent = cm.astype('float') / cm.sum(axis=1)[:, np.newaxis] * 100**:\n",
        "  * Mengubah nilai dalam confusion matrix menjadi persentase.\n",
        "  * **Hasil**: cm_percent akan berisi confusion matrix dalam bentuk persentase, menunjukkan persentase prediksi yang benar dan salah untuk setiap kelas.\n",
        "* **fig, ax = plt.subplots(figsize=(10, 10))**:\n",
        "  * Membuat figure dan axes untuk plot confusion matrix.\n",
        "  * **Hasil**: fig akan berisi figure, dan ax akan berisi axes yang akan digunakan untuk menampilkan confusion matrix.\n",
        "* **sns.heatmap(cm_percent, annot=True, ax=ax, cmap='Blues', fmt='.2f', cbar=False)**:\n",
        "  * Membuat heatmap dari confusion matrix menggunakan Seaborn.\n",
        "  * **Parameter**:\n",
        "    * **cm_percent**: Data confusion matrix dalam bentuk persentase.\n",
        "    * **annot=True**: Menampilkan nilai dalam setiap sel heatmap.\n",
        "    * **ax=ax**: Menampilkan heatmap pada axes yang telah dibuat.\n",
        "    * **cmap='Blues'**: Menggunakan colormap 'Blues' untuk heatmap.\n",
        "    * **fmt='.2f'**: Menampilkan nilai dengan 2 angka di belakang koma.\n",
        "    * **cbar=False**: Menonaktifkan colorbar.\n",
        "  * **Hasil**: Heatmap dari confusion matrix akan ditampilkan pada figure.\n",
        "* **ax.set_xlabel('Predicted Label'), ax.set_ylabel('True Label'), ax.set_title('Confusion Matrix(%)')**:\n",
        "  * Menambahkan label dan judul pada heatmap.\n",
        "  * **Hasil**: Heatmap akan memiliki label sumbu x, label sumbu y, dan judul.\n",
        "* **class_names = [str(i) for i in range(10)], ax.xaxis.set_ticklabels(class_names), ax.yaxis.set_ticklabels(class_names)**:\n",
        "  * Menambahkan label kelas (digit 0-9) pada sumbu x dan sumbu y heatmap.\n",
        "  * **Hasil**: Heatmap akan memiliki label kelas pada sumbu x dan sumbu y.\n",
        "* **plt.show()**:\n",
        "  * Menampilkan figure yang berisi heatmap dari confusion matrix.\n",
        "  * **Hasil**: Heatmap confusion matrix akan ditampilkan.\n",
        "\n",
        "**Hasil yang Didapat:**\n",
        "* Setelah kode ini dijalankan, akan mendapatkan:\n",
        "  * **Prediksi label**: Model akan memprediksi label untuk data uji.\n",
        "  * **Confusion matrix**: Confusion matrix akan dihitung dan ditampilkan dalam bentuk heatmap. Heatmap ini menunjukkan persentase prediksi yang benar dan salah untuk setiap kelas (digit 0-9).\n",
        "  \n",
        "---"
      ],
      "metadata": {
        "id": "OTjisj0lPE_U"
      }
    }
  ]
}