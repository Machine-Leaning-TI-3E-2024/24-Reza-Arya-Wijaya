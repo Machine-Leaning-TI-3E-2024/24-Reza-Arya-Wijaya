{
  "nbformat": 4,
  "nbformat_minor": 0,
  "metadata": {
    "colab": {
      "provenance": [],
      "authorship_tag": "ABX9TyOlzTA9O/Swai5tq1mj5DSw",
      "include_colab_link": true
    },
    "kernelspec": {
      "name": "python3",
      "display_name": "Python 3"
    },
    "language_info": {
      "name": "python"
    }
  },
  "cells": [
    {
      "cell_type": "markdown",
      "metadata": {
        "id": "view-in-github",
        "colab_type": "text"
      },
      "source": [
        "<a href=\"https://colab.research.google.com/github/NafiulVega/Machine-Learning-TI-3E-2024/blob/main/ML_Jobsheet_06.ipynb\" target=\"_parent\"><img src=\"https://colab.research.google.com/assets/colab-badge.svg\" alt=\"Open In Colab\"/></a>"
      ]
    },
    {
      "cell_type": "markdown",
      "source": [
        "# Biodata\n",
        "*   Nama : Nafi'ul Alam Dary Vega\n",
        "*   NIM : 2241720048\n",
        "*   Kelas : TI-3E\n",
        "*   Jobsheet 06"
      ],
      "metadata": {
        "id": "2nHy7xPi_rKD"
      }
    },
    {
      "cell_type": "markdown",
      "source": [
        "# **Praktikum 1**\n",
        "Bagging"
      ],
      "metadata": {
        "id": "BSOAT3A-AA0T"
      }
    },
    {
      "cell_type": "markdown",
      "source": [
        "**Bagging dengan RandomForest**\n",
        "\n",
        "Pada kasus ini kita akan menggunakan salah satu metode bagging yaitu RandomForest untuk mengklasifikasikan jenis tumor. Dalam latihan ini Anda akan melakukan training dengan data Wisconsin Breast Cancer Dataset dari UCI machine learning repository. Latihan ini akan melakukan prediksi memprediksi apakah tumor ganas atau jinak.\n",
        "\n",
        "Kita akan membandingkan performa dari algoritma Decision Tree dan RandomForest pada kasus ini."
      ],
      "metadata": {
        "id": "KcmUCIBDAJEY"
      }
    },
    {
      "cell_type": "markdown",
      "source": [
        "**Import Library**"
      ],
      "metadata": {
        "id": "Y-OIcVhLAevB"
      }
    },
    {
      "cell_type": "code",
      "execution_count": null,
      "metadata": {
        "id": "_lzG1TNW_b53"
      },
      "outputs": [],
      "source": [
        "import numpy as np\n",
        "import pandas as pd\n",
        "from sklearn.tree import DecisionTreeClassifier # import DT\n",
        "from sklearn.ensemble import RandomForestClassifier # import RandomForest\n",
        "from sklearn.model_selection import train_test_split\n",
        "from sklearn.metrics import accuracy_score, classification_report"
      ]
    },
    {
      "cell_type": "markdown",
      "source": [
        "**Penjelasan :** \\\n",
        "1. import numpy as np Mengimpor library NumPy dan memberinya alias np. NumPy digunakan untuk operasi numerik, terutama pada array multidimensi.\n",
        "2. import pandas as pd Mengimpor library Pandas dan memberinya alias pd. Pandas digunakan untuk manipulasi dan analisis data, terutama menggunakan struktur data DataFrame.\n",
        "3. from sklearn.tree import DecisionTreeClassifier # import DT Mengimpor kelas DecisionTreeClassifier dari modul sklearn.tree. Kelas ini digunakan untuk membuat model Decision Tree.\n",
        "4. from sklearn.ensemble import RandomForestClassifier # import RandomForest Mengimpor kelas RandomForestClassifier dari modul sklearn.ensemble. Kelas ini digunakan untuk membuat model Random Forest.\n",
        "5. from sklearn.model_selection import train_test_split Mengimpor fungsi train_test_split dari modul sklearn.model_selection. Fungsi ini digunakan untuk membagi dataset menjadi data training dan data testing.\n",
        "6. from sklearn.metrics import accuracy_score, classification_report Mengimpor fungsi accuracy_score dan classification_report dari modul sklearn.metrics. Fungsi-fungsi ini digunakan untuk mengevaluasi performa model, yaitu menghitung akurasi dan membuat laporan klasifikasi."
      ],
      "metadata": {
        "id": "1iG1sgAY5BUU"
      }
    },
    {
      "cell_type": "code",
      "source": [
        "from google.colab import drive\n",
        "drive.mount('/content/drive')\n",
        "\n",
        "dir = '/content/drive/MyDrive/Colab Notebooks/Machine Learning/Jobsheet 06/Data/'"
      ],
      "metadata": {
        "colab": {
          "base_uri": "https://localhost:8080/"
        },
        "id": "HAXshlGiArpO",
        "outputId": "965e5399-2392-47d4-a253-0a100d465ad8"
      },
      "execution_count": null,
      "outputs": [
        {
          "output_type": "stream",
          "name": "stdout",
          "text": [
            "Drive already mounted at /content/drive; to attempt to forcibly remount, call drive.mount(\"/content/drive\", force_remount=True).\n"
          ]
        }
      ]
    },
    {
      "cell_type": "markdown",
      "source": [
        "**Penjelasan :**\n",
        "1. from google.colab import drive Mengimpor modul drive dari library google.colab. Modul ini menyediakan fungsi untuk berinteraksi dengan Google Drive di lingkungan Google Colab.\n",
        "2. drive.mount('/content/drive') Memanggil fungsi mount dari modul drive untuk menghubungkan Google Drive ke Google Colab. Parameter /content/drive menentukan path di mana Google Drive akan di-mount.\n",
        "3. dir = '/content/drive/MyDrive/Colab Notebooks/Machine Learning/Jobsheet 06/Data/' Menetapkan variabel dir dengan path ke folder 'Data' di dalam Google Drive Anda. Path ini mengasumsikan bahwa Anda memiliki folder 'Colab Notebooks/Machine Learning/Jobsheet 06/Data/' di dalam Google Drive 'MyDrive' Anda."
      ],
      "metadata": {
        "id": "sbaVwIdX5vyJ"
      }
    },
    {
      "cell_type": "markdown",
      "source": [
        "**Persiapan Data**"
      ],
      "metadata": {
        "id": "91b2XqxBAkOJ"
      }
    },
    {
      "cell_type": "code",
      "source": [
        "# Load data\n",
        "df = pd.read_csv(dir + 'wbc.csv')\n",
        "\n",
        "df.head()"
      ],
      "metadata": {
        "colab": {
          "base_uri": "https://localhost:8080/",
          "height": 273
        },
        "id": "9wo9-YlHApi7",
        "outputId": "8fb27645-5b5a-431c-aa9a-cb5861bf9535"
      },
      "execution_count": null,
      "outputs": [
        {
          "output_type": "execute_result",
          "data": {
            "text/plain": [
              "         id diagnosis  radius_mean  texture_mean  perimeter_mean  area_mean  \\\n",
              "0    842302         M        17.99         10.38          122.80     1001.0   \n",
              "1    842517         M        20.57         17.77          132.90     1326.0   \n",
              "2  84300903         M        19.69         21.25          130.00     1203.0   \n",
              "3  84348301         M        11.42         20.38           77.58      386.1   \n",
              "4  84358402         M        20.29         14.34          135.10     1297.0   \n",
              "\n",
              "   smoothness_mean  compactness_mean  concavity_mean  concave points_mean  \\\n",
              "0          0.11840           0.27760          0.3001              0.14710   \n",
              "1          0.08474           0.07864          0.0869              0.07017   \n",
              "2          0.10960           0.15990          0.1974              0.12790   \n",
              "3          0.14250           0.28390          0.2414              0.10520   \n",
              "4          0.10030           0.13280          0.1980              0.10430   \n",
              "\n",
              "   ...  texture_worst  perimeter_worst  area_worst  smoothness_worst  \\\n",
              "0  ...          17.33           184.60      2019.0            0.1622   \n",
              "1  ...          23.41           158.80      1956.0            0.1238   \n",
              "2  ...          25.53           152.50      1709.0            0.1444   \n",
              "3  ...          26.50            98.87       567.7            0.2098   \n",
              "4  ...          16.67           152.20      1575.0            0.1374   \n",
              "\n",
              "   compactness_worst  concavity_worst  concave points_worst  symmetry_worst  \\\n",
              "0             0.6656           0.7119                0.2654          0.4601   \n",
              "1             0.1866           0.2416                0.1860          0.2750   \n",
              "2             0.4245           0.4504                0.2430          0.3613   \n",
              "3             0.8663           0.6869                0.2575          0.6638   \n",
              "4             0.2050           0.4000                0.1625          0.2364   \n",
              "\n",
              "   fractal_dimension_worst  Unnamed: 32  \n",
              "0                  0.11890          NaN  \n",
              "1                  0.08902          NaN  \n",
              "2                  0.08758          NaN  \n",
              "3                  0.17300          NaN  \n",
              "4                  0.07678          NaN  \n",
              "\n",
              "[5 rows x 33 columns]"
            ],
            "text/html": [
              "\n",
              "  <div id=\"df-b2c9e827-b6d8-47fb-84f0-b28b4016ecb4\" class=\"colab-df-container\">\n",
              "    <div>\n",
              "<style scoped>\n",
              "    .dataframe tbody tr th:only-of-type {\n",
              "        vertical-align: middle;\n",
              "    }\n",
              "\n",
              "    .dataframe tbody tr th {\n",
              "        vertical-align: top;\n",
              "    }\n",
              "\n",
              "    .dataframe thead th {\n",
              "        text-align: right;\n",
              "    }\n",
              "</style>\n",
              "<table border=\"1\" class=\"dataframe\">\n",
              "  <thead>\n",
              "    <tr style=\"text-align: right;\">\n",
              "      <th></th>\n",
              "      <th>id</th>\n",
              "      <th>diagnosis</th>\n",
              "      <th>radius_mean</th>\n",
              "      <th>texture_mean</th>\n",
              "      <th>perimeter_mean</th>\n",
              "      <th>area_mean</th>\n",
              "      <th>smoothness_mean</th>\n",
              "      <th>compactness_mean</th>\n",
              "      <th>concavity_mean</th>\n",
              "      <th>concave points_mean</th>\n",
              "      <th>...</th>\n",
              "      <th>texture_worst</th>\n",
              "      <th>perimeter_worst</th>\n",
              "      <th>area_worst</th>\n",
              "      <th>smoothness_worst</th>\n",
              "      <th>compactness_worst</th>\n",
              "      <th>concavity_worst</th>\n",
              "      <th>concave points_worst</th>\n",
              "      <th>symmetry_worst</th>\n",
              "      <th>fractal_dimension_worst</th>\n",
              "      <th>Unnamed: 32</th>\n",
              "    </tr>\n",
              "  </thead>\n",
              "  <tbody>\n",
              "    <tr>\n",
              "      <th>0</th>\n",
              "      <td>842302</td>\n",
              "      <td>M</td>\n",
              "      <td>17.99</td>\n",
              "      <td>10.38</td>\n",
              "      <td>122.80</td>\n",
              "      <td>1001.0</td>\n",
              "      <td>0.11840</td>\n",
              "      <td>0.27760</td>\n",
              "      <td>0.3001</td>\n",
              "      <td>0.14710</td>\n",
              "      <td>...</td>\n",
              "      <td>17.33</td>\n",
              "      <td>184.60</td>\n",
              "      <td>2019.0</td>\n",
              "      <td>0.1622</td>\n",
              "      <td>0.6656</td>\n",
              "      <td>0.7119</td>\n",
              "      <td>0.2654</td>\n",
              "      <td>0.4601</td>\n",
              "      <td>0.11890</td>\n",
              "      <td>NaN</td>\n",
              "    </tr>\n",
              "    <tr>\n",
              "      <th>1</th>\n",
              "      <td>842517</td>\n",
              "      <td>M</td>\n",
              "      <td>20.57</td>\n",
              "      <td>17.77</td>\n",
              "      <td>132.90</td>\n",
              "      <td>1326.0</td>\n",
              "      <td>0.08474</td>\n",
              "      <td>0.07864</td>\n",
              "      <td>0.0869</td>\n",
              "      <td>0.07017</td>\n",
              "      <td>...</td>\n",
              "      <td>23.41</td>\n",
              "      <td>158.80</td>\n",
              "      <td>1956.0</td>\n",
              "      <td>0.1238</td>\n",
              "      <td>0.1866</td>\n",
              "      <td>0.2416</td>\n",
              "      <td>0.1860</td>\n",
              "      <td>0.2750</td>\n",
              "      <td>0.08902</td>\n",
              "      <td>NaN</td>\n",
              "    </tr>\n",
              "    <tr>\n",
              "      <th>2</th>\n",
              "      <td>84300903</td>\n",
              "      <td>M</td>\n",
              "      <td>19.69</td>\n",
              "      <td>21.25</td>\n",
              "      <td>130.00</td>\n",
              "      <td>1203.0</td>\n",
              "      <td>0.10960</td>\n",
              "      <td>0.15990</td>\n",
              "      <td>0.1974</td>\n",
              "      <td>0.12790</td>\n",
              "      <td>...</td>\n",
              "      <td>25.53</td>\n",
              "      <td>152.50</td>\n",
              "      <td>1709.0</td>\n",
              "      <td>0.1444</td>\n",
              "      <td>0.4245</td>\n",
              "      <td>0.4504</td>\n",
              "      <td>0.2430</td>\n",
              "      <td>0.3613</td>\n",
              "      <td>0.08758</td>\n",
              "      <td>NaN</td>\n",
              "    </tr>\n",
              "    <tr>\n",
              "      <th>3</th>\n",
              "      <td>84348301</td>\n",
              "      <td>M</td>\n",
              "      <td>11.42</td>\n",
              "      <td>20.38</td>\n",
              "      <td>77.58</td>\n",
              "      <td>386.1</td>\n",
              "      <td>0.14250</td>\n",
              "      <td>0.28390</td>\n",
              "      <td>0.2414</td>\n",
              "      <td>0.10520</td>\n",
              "      <td>...</td>\n",
              "      <td>26.50</td>\n",
              "      <td>98.87</td>\n",
              "      <td>567.7</td>\n",
              "      <td>0.2098</td>\n",
              "      <td>0.8663</td>\n",
              "      <td>0.6869</td>\n",
              "      <td>0.2575</td>\n",
              "      <td>0.6638</td>\n",
              "      <td>0.17300</td>\n",
              "      <td>NaN</td>\n",
              "    </tr>\n",
              "    <tr>\n",
              "      <th>4</th>\n",
              "      <td>84358402</td>\n",
              "      <td>M</td>\n",
              "      <td>20.29</td>\n",
              "      <td>14.34</td>\n",
              "      <td>135.10</td>\n",
              "      <td>1297.0</td>\n",
              "      <td>0.10030</td>\n",
              "      <td>0.13280</td>\n",
              "      <td>0.1980</td>\n",
              "      <td>0.10430</td>\n",
              "      <td>...</td>\n",
              "      <td>16.67</td>\n",
              "      <td>152.20</td>\n",
              "      <td>1575.0</td>\n",
              "      <td>0.1374</td>\n",
              "      <td>0.2050</td>\n",
              "      <td>0.4000</td>\n",
              "      <td>0.1625</td>\n",
              "      <td>0.2364</td>\n",
              "      <td>0.07678</td>\n",
              "      <td>NaN</td>\n",
              "    </tr>\n",
              "  </tbody>\n",
              "</table>\n",
              "<p>5 rows × 33 columns</p>\n",
              "</div>\n",
              "    <div class=\"colab-df-buttons\">\n",
              "\n",
              "  <div class=\"colab-df-container\">\n",
              "    <button class=\"colab-df-convert\" onclick=\"convertToInteractive('df-b2c9e827-b6d8-47fb-84f0-b28b4016ecb4')\"\n",
              "            title=\"Convert this dataframe to an interactive table.\"\n",
              "            style=\"display:none;\">\n",
              "\n",
              "  <svg xmlns=\"http://www.w3.org/2000/svg\" height=\"24px\" viewBox=\"0 -960 960 960\">\n",
              "    <path d=\"M120-120v-720h720v720H120Zm60-500h600v-160H180v160Zm220 220h160v-160H400v160Zm0 220h160v-160H400v160ZM180-400h160v-160H180v160Zm440 0h160v-160H620v160ZM180-180h160v-160H180v160Zm440 0h160v-160H620v160Z\"/>\n",
              "  </svg>\n",
              "    </button>\n",
              "\n",
              "  <style>\n",
              "    .colab-df-container {\n",
              "      display:flex;\n",
              "      gap: 12px;\n",
              "    }\n",
              "\n",
              "    .colab-df-convert {\n",
              "      background-color: #E8F0FE;\n",
              "      border: none;\n",
              "      border-radius: 50%;\n",
              "      cursor: pointer;\n",
              "      display: none;\n",
              "      fill: #1967D2;\n",
              "      height: 32px;\n",
              "      padding: 0 0 0 0;\n",
              "      width: 32px;\n",
              "    }\n",
              "\n",
              "    .colab-df-convert:hover {\n",
              "      background-color: #E2EBFA;\n",
              "      box-shadow: 0px 1px 2px rgba(60, 64, 67, 0.3), 0px 1px 3px 1px rgba(60, 64, 67, 0.15);\n",
              "      fill: #174EA6;\n",
              "    }\n",
              "\n",
              "    .colab-df-buttons div {\n",
              "      margin-bottom: 4px;\n",
              "    }\n",
              "\n",
              "    [theme=dark] .colab-df-convert {\n",
              "      background-color: #3B4455;\n",
              "      fill: #D2E3FC;\n",
              "    }\n",
              "\n",
              "    [theme=dark] .colab-df-convert:hover {\n",
              "      background-color: #434B5C;\n",
              "      box-shadow: 0px 1px 3px 1px rgba(0, 0, 0, 0.15);\n",
              "      filter: drop-shadow(0px 1px 2px rgba(0, 0, 0, 0.3));\n",
              "      fill: #FFFFFF;\n",
              "    }\n",
              "  </style>\n",
              "\n",
              "    <script>\n",
              "      const buttonEl =\n",
              "        document.querySelector('#df-b2c9e827-b6d8-47fb-84f0-b28b4016ecb4 button.colab-df-convert');\n",
              "      buttonEl.style.display =\n",
              "        google.colab.kernel.accessAllowed ? 'block' : 'none';\n",
              "\n",
              "      async function convertToInteractive(key) {\n",
              "        const element = document.querySelector('#df-b2c9e827-b6d8-47fb-84f0-b28b4016ecb4');\n",
              "        const dataTable =\n",
              "          await google.colab.kernel.invokeFunction('convertToInteractive',\n",
              "                                                    [key], {});\n",
              "        if (!dataTable) return;\n",
              "\n",
              "        const docLinkHtml = 'Like what you see? Visit the ' +\n",
              "          '<a target=\"_blank\" href=https://colab.research.google.com/notebooks/data_table.ipynb>data table notebook</a>'\n",
              "          + ' to learn more about interactive tables.';\n",
              "        element.innerHTML = '';\n",
              "        dataTable['output_type'] = 'display_data';\n",
              "        await google.colab.output.renderOutput(dataTable, element);\n",
              "        const docLink = document.createElement('div');\n",
              "        docLink.innerHTML = docLinkHtml;\n",
              "        element.appendChild(docLink);\n",
              "      }\n",
              "    </script>\n",
              "  </div>\n",
              "\n",
              "\n",
              "<div id=\"df-d7ee82b8-051b-4b7e-9169-412d11414895\">\n",
              "  <button class=\"colab-df-quickchart\" onclick=\"quickchart('df-d7ee82b8-051b-4b7e-9169-412d11414895')\"\n",
              "            title=\"Suggest charts\"\n",
              "            style=\"display:none;\">\n",
              "\n",
              "<svg xmlns=\"http://www.w3.org/2000/svg\" height=\"24px\"viewBox=\"0 0 24 24\"\n",
              "     width=\"24px\">\n",
              "    <g>\n",
              "        <path d=\"M19 3H5c-1.1 0-2 .9-2 2v14c0 1.1.9 2 2 2h14c1.1 0 2-.9 2-2V5c0-1.1-.9-2-2-2zM9 17H7v-7h2v7zm4 0h-2V7h2v10zm4 0h-2v-4h2v4z\"/>\n",
              "    </g>\n",
              "</svg>\n",
              "  </button>\n",
              "\n",
              "<style>\n",
              "  .colab-df-quickchart {\n",
              "      --bg-color: #E8F0FE;\n",
              "      --fill-color: #1967D2;\n",
              "      --hover-bg-color: #E2EBFA;\n",
              "      --hover-fill-color: #174EA6;\n",
              "      --disabled-fill-color: #AAA;\n",
              "      --disabled-bg-color: #DDD;\n",
              "  }\n",
              "\n",
              "  [theme=dark] .colab-df-quickchart {\n",
              "      --bg-color: #3B4455;\n",
              "      --fill-color: #D2E3FC;\n",
              "      --hover-bg-color: #434B5C;\n",
              "      --hover-fill-color: #FFFFFF;\n",
              "      --disabled-bg-color: #3B4455;\n",
              "      --disabled-fill-color: #666;\n",
              "  }\n",
              "\n",
              "  .colab-df-quickchart {\n",
              "    background-color: var(--bg-color);\n",
              "    border: none;\n",
              "    border-radius: 50%;\n",
              "    cursor: pointer;\n",
              "    display: none;\n",
              "    fill: var(--fill-color);\n",
              "    height: 32px;\n",
              "    padding: 0;\n",
              "    width: 32px;\n",
              "  }\n",
              "\n",
              "  .colab-df-quickchart:hover {\n",
              "    background-color: var(--hover-bg-color);\n",
              "    box-shadow: 0 1px 2px rgba(60, 64, 67, 0.3), 0 1px 3px 1px rgba(60, 64, 67, 0.15);\n",
              "    fill: var(--button-hover-fill-color);\n",
              "  }\n",
              "\n",
              "  .colab-df-quickchart-complete:disabled,\n",
              "  .colab-df-quickchart-complete:disabled:hover {\n",
              "    background-color: var(--disabled-bg-color);\n",
              "    fill: var(--disabled-fill-color);\n",
              "    box-shadow: none;\n",
              "  }\n",
              "\n",
              "  .colab-df-spinner {\n",
              "    border: 2px solid var(--fill-color);\n",
              "    border-color: transparent;\n",
              "    border-bottom-color: var(--fill-color);\n",
              "    animation:\n",
              "      spin 1s steps(1) infinite;\n",
              "  }\n",
              "\n",
              "  @keyframes spin {\n",
              "    0% {\n",
              "      border-color: transparent;\n",
              "      border-bottom-color: var(--fill-color);\n",
              "      border-left-color: var(--fill-color);\n",
              "    }\n",
              "    20% {\n",
              "      border-color: transparent;\n",
              "      border-left-color: var(--fill-color);\n",
              "      border-top-color: var(--fill-color);\n",
              "    }\n",
              "    30% {\n",
              "      border-color: transparent;\n",
              "      border-left-color: var(--fill-color);\n",
              "      border-top-color: var(--fill-color);\n",
              "      border-right-color: var(--fill-color);\n",
              "    }\n",
              "    40% {\n",
              "      border-color: transparent;\n",
              "      border-right-color: var(--fill-color);\n",
              "      border-top-color: var(--fill-color);\n",
              "    }\n",
              "    60% {\n",
              "      border-color: transparent;\n",
              "      border-right-color: var(--fill-color);\n",
              "    }\n",
              "    80% {\n",
              "      border-color: transparent;\n",
              "      border-right-color: var(--fill-color);\n",
              "      border-bottom-color: var(--fill-color);\n",
              "    }\n",
              "    90% {\n",
              "      border-color: transparent;\n",
              "      border-bottom-color: var(--fill-color);\n",
              "    }\n",
              "  }\n",
              "</style>\n",
              "\n",
              "  <script>\n",
              "    async function quickchart(key) {\n",
              "      const quickchartButtonEl =\n",
              "        document.querySelector('#' + key + ' button');\n",
              "      quickchartButtonEl.disabled = true;  // To prevent multiple clicks.\n",
              "      quickchartButtonEl.classList.add('colab-df-spinner');\n",
              "      try {\n",
              "        const charts = await google.colab.kernel.invokeFunction(\n",
              "            'suggestCharts', [key], {});\n",
              "      } catch (error) {\n",
              "        console.error('Error during call to suggestCharts:', error);\n",
              "      }\n",
              "      quickchartButtonEl.classList.remove('colab-df-spinner');\n",
              "      quickchartButtonEl.classList.add('colab-df-quickchart-complete');\n",
              "    }\n",
              "    (() => {\n",
              "      let quickchartButtonEl =\n",
              "        document.querySelector('#df-d7ee82b8-051b-4b7e-9169-412d11414895 button');\n",
              "      quickchartButtonEl.style.display =\n",
              "        google.colab.kernel.accessAllowed ? 'block' : 'none';\n",
              "    })();\n",
              "  </script>\n",
              "</div>\n",
              "\n",
              "    </div>\n",
              "  </div>\n"
            ],
            "application/vnd.google.colaboratory.intrinsic+json": {
              "type": "dataframe",
              "variable_name": "df"
            }
          },
          "metadata": {},
          "execution_count": 71
        }
      ]
    },
    {
      "cell_type": "markdown",
      "source": [
        "**Penjelasan :**\n",
        "1. df = pd.read_csv(dir + 'wbc.csv'): Baris ini membaca data dari file CSV 'wbc.csv' yang terletak di direktori yang ditentukan oleh variabel dir. Data tersebut kemudian disimpan dalam sebuah DataFrame Pandas bernama df. Fungsi pd.read_csv() dari library Pandas digunakan untuk membaca file CSV.\n",
        "2. df.head(): Baris ini menampilkan 5 baris pertama dari DataFrame df. Fungsi head() dari Pandas digunakan untuk menampilkan beberapa baris pertama dari DataFrame, yang berguna untuk melihat sekilas struktur dan isi data."
      ],
      "metadata": {
        "id": "CRxhUjJeqm9V"
      }
    },
    {
      "cell_type": "code",
      "source": [
        "# Cek kolom null\n",
        "df.isnull().sum()"
      ],
      "metadata": {
        "colab": {
          "base_uri": "https://localhost:8080/",
          "height": 1000
        },
        "id": "7fwOLjESBXlJ",
        "outputId": "1bb06188-662f-46db-9a08-3ca70841ffca"
      },
      "execution_count": null,
      "outputs": [
        {
          "output_type": "execute_result",
          "data": {
            "text/plain": [
              "id                           0\n",
              "diagnosis                    0\n",
              "radius_mean                  0\n",
              "texture_mean                 0\n",
              "perimeter_mean               0\n",
              "area_mean                    0\n",
              "smoothness_mean              0\n",
              "compactness_mean             0\n",
              "concavity_mean               0\n",
              "concave points_mean          0\n",
              "symmetry_mean                0\n",
              "fractal_dimension_mean       0\n",
              "radius_se                    0\n",
              "texture_se                   0\n",
              "perimeter_se                 0\n",
              "area_se                      0\n",
              "smoothness_se                0\n",
              "compactness_se               0\n",
              "concavity_se                 0\n",
              "concave points_se            0\n",
              "symmetry_se                  0\n",
              "fractal_dimension_se         0\n",
              "radius_worst                 0\n",
              "texture_worst                0\n",
              "perimeter_worst              0\n",
              "area_worst                   0\n",
              "smoothness_worst             0\n",
              "compactness_worst            0\n",
              "concavity_worst              0\n",
              "concave points_worst         0\n",
              "symmetry_worst               0\n",
              "fractal_dimension_worst      0\n",
              "Unnamed: 32                569\n",
              "dtype: int64"
            ],
            "text/html": [
              "<div>\n",
              "<style scoped>\n",
              "    .dataframe tbody tr th:only-of-type {\n",
              "        vertical-align: middle;\n",
              "    }\n",
              "\n",
              "    .dataframe tbody tr th {\n",
              "        vertical-align: top;\n",
              "    }\n",
              "\n",
              "    .dataframe thead th {\n",
              "        text-align: right;\n",
              "    }\n",
              "</style>\n",
              "<table border=\"1\" class=\"dataframe\">\n",
              "  <thead>\n",
              "    <tr style=\"text-align: right;\">\n",
              "      <th></th>\n",
              "      <th>0</th>\n",
              "    </tr>\n",
              "  </thead>\n",
              "  <tbody>\n",
              "    <tr>\n",
              "      <th>id</th>\n",
              "      <td>0</td>\n",
              "    </tr>\n",
              "    <tr>\n",
              "      <th>diagnosis</th>\n",
              "      <td>0</td>\n",
              "    </tr>\n",
              "    <tr>\n",
              "      <th>radius_mean</th>\n",
              "      <td>0</td>\n",
              "    </tr>\n",
              "    <tr>\n",
              "      <th>texture_mean</th>\n",
              "      <td>0</td>\n",
              "    </tr>\n",
              "    <tr>\n",
              "      <th>perimeter_mean</th>\n",
              "      <td>0</td>\n",
              "    </tr>\n",
              "    <tr>\n",
              "      <th>area_mean</th>\n",
              "      <td>0</td>\n",
              "    </tr>\n",
              "    <tr>\n",
              "      <th>smoothness_mean</th>\n",
              "      <td>0</td>\n",
              "    </tr>\n",
              "    <tr>\n",
              "      <th>compactness_mean</th>\n",
              "      <td>0</td>\n",
              "    </tr>\n",
              "    <tr>\n",
              "      <th>concavity_mean</th>\n",
              "      <td>0</td>\n",
              "    </tr>\n",
              "    <tr>\n",
              "      <th>concave points_mean</th>\n",
              "      <td>0</td>\n",
              "    </tr>\n",
              "    <tr>\n",
              "      <th>symmetry_mean</th>\n",
              "      <td>0</td>\n",
              "    </tr>\n",
              "    <tr>\n",
              "      <th>fractal_dimension_mean</th>\n",
              "      <td>0</td>\n",
              "    </tr>\n",
              "    <tr>\n",
              "      <th>radius_se</th>\n",
              "      <td>0</td>\n",
              "    </tr>\n",
              "    <tr>\n",
              "      <th>texture_se</th>\n",
              "      <td>0</td>\n",
              "    </tr>\n",
              "    <tr>\n",
              "      <th>perimeter_se</th>\n",
              "      <td>0</td>\n",
              "    </tr>\n",
              "    <tr>\n",
              "      <th>area_se</th>\n",
              "      <td>0</td>\n",
              "    </tr>\n",
              "    <tr>\n",
              "      <th>smoothness_se</th>\n",
              "      <td>0</td>\n",
              "    </tr>\n",
              "    <tr>\n",
              "      <th>compactness_se</th>\n",
              "      <td>0</td>\n",
              "    </tr>\n",
              "    <tr>\n",
              "      <th>concavity_se</th>\n",
              "      <td>0</td>\n",
              "    </tr>\n",
              "    <tr>\n",
              "      <th>concave points_se</th>\n",
              "      <td>0</td>\n",
              "    </tr>\n",
              "    <tr>\n",
              "      <th>symmetry_se</th>\n",
              "      <td>0</td>\n",
              "    </tr>\n",
              "    <tr>\n",
              "      <th>fractal_dimension_se</th>\n",
              "      <td>0</td>\n",
              "    </tr>\n",
              "    <tr>\n",
              "      <th>radius_worst</th>\n",
              "      <td>0</td>\n",
              "    </tr>\n",
              "    <tr>\n",
              "      <th>texture_worst</th>\n",
              "      <td>0</td>\n",
              "    </tr>\n",
              "    <tr>\n",
              "      <th>perimeter_worst</th>\n",
              "      <td>0</td>\n",
              "    </tr>\n",
              "    <tr>\n",
              "      <th>area_worst</th>\n",
              "      <td>0</td>\n",
              "    </tr>\n",
              "    <tr>\n",
              "      <th>smoothness_worst</th>\n",
              "      <td>0</td>\n",
              "    </tr>\n",
              "    <tr>\n",
              "      <th>compactness_worst</th>\n",
              "      <td>0</td>\n",
              "    </tr>\n",
              "    <tr>\n",
              "      <th>concavity_worst</th>\n",
              "      <td>0</td>\n",
              "    </tr>\n",
              "    <tr>\n",
              "      <th>concave points_worst</th>\n",
              "      <td>0</td>\n",
              "    </tr>\n",
              "    <tr>\n",
              "      <th>symmetry_worst</th>\n",
              "      <td>0</td>\n",
              "    </tr>\n",
              "    <tr>\n",
              "      <th>fractal_dimension_worst</th>\n",
              "      <td>0</td>\n",
              "    </tr>\n",
              "    <tr>\n",
              "      <th>Unnamed: 32</th>\n",
              "      <td>569</td>\n",
              "    </tr>\n",
              "  </tbody>\n",
              "</table>\n",
              "</div><br><label><b>dtype:</b> int64</label>"
            ]
          },
          "metadata": {},
          "execution_count": 72
        }
      ]
    },
    {
      "cell_type": "markdown",
      "source": [
        "**Penjelasan :**\n",
        "1. df.isnull().sum(): Baris ini merupakan inti dari proses pengecekan nilai null. Berikut rinciannya:\n",
        "  *   df.isnull(): Fungsi ini akan mengecek setiap sel pada DataFrame (df) dan menghasilkan DataFrame baru dengan nilai boolean. Nilai True menunjukkan keberadaan nilai null, sedangkan False menunjukkan sebaliknya.\n",
        "  *   .sum(): Fungsi ini akan menjumlahkan nilai True (yang merepresentasikan nilai null) pada setiap kolom DataFrame hasil dari df.isnull().\n"
      ],
      "metadata": {
        "id": "hm7nMZ2_rBRF"
      }
    },
    {
      "cell_type": "code",
      "source": [
        "# Seleksi fitur\n",
        "\n",
        "# Slice dataframe mulai dari kolom 'radius_mean' sampai 'fractal_dimension_worst'\n",
        "X = df.iloc[:,3:-1]\n",
        "y = df['diagnosis']\n",
        "y = y.map({'M':1, 'B':0}) # Encode label\n",
        "\n",
        "# Cek jumlah fitur dan instance\n",
        "X.shape"
      ],
      "metadata": {
        "colab": {
          "base_uri": "https://localhost:8080/"
        },
        "id": "uecr8IS1Bei6",
        "outputId": "adb87e76-7909-40ed-e7fd-682b6cd0232f"
      },
      "execution_count": null,
      "outputs": [
        {
          "output_type": "execute_result",
          "data": {
            "text/plain": [
              "(569, 29)"
            ]
          },
          "metadata": {},
          "execution_count": 73
        }
      ]
    },
    {
      "cell_type": "markdown",
      "source": [
        "**Penjelasan :**\n",
        "1. X = df.iloc[:,3:-1]: Baris ini melakukan slice pada DataFrame df untuk mengambil fitur-fitur.\n",
        "  *   df.iloc[] digunakan untuk mengakses elemen DataFrame berdasarkan indeks numerik.\n",
        "  *   [:,3:-1] artinya mengambil semua baris (:) dan kolom mulai dari indeks 3 hingga indeks kedua dari belakang (-1 dikurangi 1). Dengan kata lain, fitur-fitur yang diambil adalah kolom 'radius_mean' hingga 'fractal_dimension_worst'. Data fitur-fitur ini disimpan dalam variabel X.\n",
        "2. y = df['diagnosis']: Baris ini mengambil kolom 'diagnosis' dari DataFrame df dan menyimpannya dalam variabel y. Kolom ini merupakan target variabel atau label yang akan diprediksi oleh model.\n",
        "3. y = y.map({'M':1, 'B':0}) # Encode label: Baris ini melakukan encoding pada label y.\n",
        "  *   map() digunakan untuk mengganti nilai 'M' dengan 1 dan 'B' dengan 0.\n",
        "  *   Encoding ini dilakukan agar label berupa data numerik, yang umumnya dibutuhkan oleh algoritma machine learning.\n",
        "4. X.shape: Baris ini menampilkan dimensi dari variabel X, yang menunjukkan jumlah instance (baris) dan jumlah fitur (kolom) dalam data fitur."
      ],
      "metadata": {
        "id": "mWPAtkxzshES"
      }
    },
    {
      "cell_type": "markdown",
      "source": [
        "**Split data training dan testing**"
      ],
      "metadata": {
        "id": "I0GW477vBi9c"
      }
    },
    {
      "cell_type": "code",
      "source": [
        "from sklearn.model_selection import train_test_split\n",
        "\n",
        "X_train, X_test, y_train, y_test = train_test_split(X, y, test_size=0.2, random_state=1)"
      ],
      "metadata": {
        "id": "Dgw-yKSvBp99"
      },
      "execution_count": null,
      "outputs": []
    },
    {
      "cell_type": "markdown",
      "source": [
        "**Penjelasan :**\n",
        "1. from sklearn.model_selection import train_test_split: Baris ini mengimpor fungsi train_test_split dari modul sklearn.model_selection. Fungsi ini digunakan untuk membagi dataset menjadi data training dan data testing.\n",
        "2. X_train, X_test, y_train, y_test = train_test_split(X, y, test_size=0.2, random_state=1): Baris ini melakukan pembagian data menggunakan fungsi train_test_split.\n",
        "  *   X: Variabel yang berisi data fitur.\n",
        "  *   y: Variabel yang berisi data target (label).\n",
        "  *   test_size=0.2: Menentukan proporsi data yang akan digunakan sebagai data testing, yaitu 20% dalam kasus ini. Sisanya 80% akan digunakan sebagai data training.\n",
        "  *   random_state=1: Menentukan seed untuk pengacakan data. Dengan menetapkan nilai random_state, pembagian data akan selalu sama setiap kali kode dijalankan, sehingga hasilnya dapat direproduksi.\n",
        "  *   X_train, X_test, y_train, y_test: Variabel-variabel yang akan menyimpan hasil pembagian data, yaitu data fitur training (X_train), data fitur testing (X_test), data target training (y_train), dan data target testing (y_test)."
      ],
      "metadata": {
        "id": "o7Tr9c5wtUAT"
      }
    },
    {
      "cell_type": "markdown",
      "source": [
        "**Traning Decision Tree**"
      ],
      "metadata": {
        "id": "TDuQ1KGIBtIa"
      }
    },
    {
      "cell_type": "code",
      "source": [
        "# Secara default, DecisionTreeClassifier dari scikit-learn akan menggunakan nilai \"Gini\" untuk kriteria\n",
        "# Terdapat beberapa \"hyperparamater\" yang dapat digunakan. Silahka baca dokumentasi\n",
        "# Pada kasus ini kita akan menggunakan parameter default\n",
        "dt = DecisionTreeClassifier()\n",
        "\n",
        "# Sesuaikan dt ke set training\n",
        "dt.fit(X_train, y_train)\n",
        "\n",
        "# Memprediksi label set test\n",
        "y_pred_dt = dt.predict(X_test)\n",
        "\n",
        "#  menghitung set accuracy\n",
        "acc_dt = accuracy_score(y_test, y_pred_dt)\n",
        "print(\"Test set accuracy: {:.2f}\".format(acc_dt))\n",
        "print(f\"Test set accuracy: {acc_dt}\")"
      ],
      "metadata": {
        "colab": {
          "base_uri": "https://localhost:8080/"
        },
        "id": "-5AFrlaVBxzH",
        "outputId": "9aab9737-9419-4fac-9875-c74f6b4f905a"
      },
      "execution_count": null,
      "outputs": [
        {
          "output_type": "stream",
          "name": "stdout",
          "text": [
            "Test set accuracy: 0.94\n",
            "Test set accuracy: 0.9385964912280702\n"
          ]
        }
      ]
    },
    {
      "cell_type": "markdown",
      "source": [
        "**Penjelasan :**\n",
        "1. dt = DecisionTreeClassifier(): Baris ini membuat objek DecisionTreeClassifier dan menyimpannya dalam variabel dt. Objek ini merupakan model Decision Tree yang akan digunakan untuk klasifikasi.\n",
        "2. dt.fit(X_train, y_train): Baris ini melatih model Decision Tree (dt) menggunakan data training (X_train dan y_train). Proses training ini akan membuat model mempelajari pola dari data training sehingga dapat digunakan untuk prediksi.\n",
        "3. y_pred_dt = dt.predict(X_test): Baris ini menggunakan model Decision Tree yang telah dilatih (dt) untuk memprediksi label pada data testing (X_test). Hasil prediksi disimpan dalam variabel y_pred_dt.\n",
        "4. acc_dt = accuracy_score(y_test, y_pred_dt): Baris ini menghitung akurasi model dengan membandingkan label prediksi (y_pred_dt) dengan label sebenarnya (y_test). Fungsi accuracy_score dari sklearn.metrics digunakan untuk menghitung akurasi. Hasil perhitungan akurasi disimpan dalam variabel acc_dt.\n",
        "5. print(\"Test set accuracy: {:.2f}\".format(acc_dt)): Baris ini menampilkan akurasi model dengan format dua angka di belakang koma.\n",
        "6. print(f\"Test set accuracy: {acc_dt}\"): Baris ini menampilkan akurasi model menggunakan f-string."
      ],
      "metadata": {
        "id": "1zFjc_Gft3XO"
      }
    },
    {
      "cell_type": "markdown",
      "source": [
        "**Training RandomForest**"
      ],
      "metadata": {
        "id": "h5SeR9wVB3_k"
      }
    },
    {
      "cell_type": "code",
      "source": [
        "# Pada kasus kali ini kita akan menggunakan estimator pada RandomForest\n",
        "# Untuk detail parameter (hyperparameter) silahkan cek dokumentasi\n",
        "\n",
        "rf = RandomForestClassifier(n_estimators=10, random_state=1)\n",
        "\n",
        "# Sesuaikan dt ke set training\n",
        "rf.fit(X_train, y_train)\n",
        "\n",
        "# Memprediksi label set test\n",
        "y_pred_rf = rf.predict(X_test)\n",
        "\n",
        "#  menghitung set accuracy\n",
        "acc_rf = accuracy_score(y_test, y_pred_rf)\n",
        "print(\"Test set accuracy: {:.2f}\".format(acc_rf))\n",
        "print(f\"Test set accuracy: {acc_rf}\")"
      ],
      "metadata": {
        "colab": {
          "base_uri": "https://localhost:8080/"
        },
        "id": "bz5ZwIUEB9T3",
        "outputId": "2b88e048-af2e-449b-e374-02d3fbb0c5d0"
      },
      "execution_count": null,
      "outputs": [
        {
          "output_type": "stream",
          "name": "stdout",
          "text": [
            "Test set accuracy: 0.96\n",
            "Test set accuracy: 0.956140350877193\n"
          ]
        }
      ]
    },
    {
      "cell_type": "markdown",
      "source": [
        "**Penjelasan :**\n",
        "1. rf = RandomForestClassifier(n_estimators=10, random_state=1): Baris ini membuat objek RandomForestClassifier dan menyimpannya dalam variabel rf.\n",
        "  *   n_estimators=10: Menentukan jumlah pohon keputusan (decision tree) dalam model Random Forest, yaitu 10 dalam kasus ini.\n",
        "  *   random_state=1: Menetapkan seed untuk pengacakan data, sehingga hasil training model dapat direproduksi.\n",
        "2. rf.fit(X_train, y_train): Baris ini melatih model Random Forest (rf) menggunakan data training (X_train dan y_train). Proses training ini akan membangun sejumlah pohon keputusan dan menggabungkannya untuk membuat prediksi.\n",
        "3. y_pred_rf = rf.predict(X_test): Baris ini menggunakan model Random Forest yang telah dilatih (rf) untuk memprediksi label pada data testing (X_test). Hasil prediksi disimpan dalam variabel y_pred_rf.\n",
        "4. acc_rf = accuracy_score(y_test, y_pred_rf): Baris ini menghitung akurasi model dengan membandingkan label prediksi (y_pred_rf) dengan label sebenarnya (y_test). Fungsi accuracy_score dari sklearn.metrics digunakan untuk menghitung akurasi. Hasil perhitungan akurasi disimpan dalam variabel acc_rf.\n",
        "5. print(\"Test set accuracy: {:.2f}\".format(acc_rf)): Baris ini menampilkan akurasi model dengan format dua angka di belakang koma.\n",
        "6. print(f\"Test set accuracy: {acc_rf}\"): Baris ini menampilkan akurasi model menggunakan f-string."
      ],
      "metadata": {
        "id": "ckg94ZhTuxrN"
      }
    },
    {
      "cell_type": "markdown",
      "source": [
        "# **Praktikum**\n",
        "Boosting"
      ],
      "metadata": {
        "id": "337Gu7xcCEKv"
      }
    },
    {
      "cell_type": "markdown",
      "source": [
        "**Boosting dengan AdaBoost**\n",
        "\n",
        "Pada kasus ini kita akan menggunakan salah satu metode boosting yaitu AdaBoost untuk mengklasifikasikan jenis bunga Iris. Dalam latihan ini kita akan menggunakan dataset Iris yang sangat lazim digunakan. Latihan ini akan melakukan prediksi memprediksi 3 jenis bunga Iris yaitu, Iris Setosa, Iris Versicolor, dan Iris Virginica berdasarkan panjang dan lebar sepal dan petal.\n",
        "\n",
        "Kita akan membandingkan performa dari algoritma Decision Tree dan AdaBoost pada kasus ini."
      ],
      "metadata": {
        "id": "k5UwS2apCKpH"
      }
    },
    {
      "cell_type": "markdown",
      "source": [
        "**Import Library**"
      ],
      "metadata": {
        "id": "-H8ZPSvYCZMy"
      }
    },
    {
      "cell_type": "code",
      "source": [
        "import numpy as np\n",
        "import pandas as pd\n",
        "from sklearn.tree import DecisionTreeClassifier # import DT\n",
        "from sklearn.ensemble import AdaBoostClassifier # import AdaBoost\n",
        "from sklearn.model_selection import train_test_split\n",
        "from sklearn.metrics import accuracy_score, classification_report\n",
        "from sklearn.preprocessing import LabelEncoder # Kebutuhan encoding label"
      ],
      "metadata": {
        "id": "UsLRhEhDCcFR"
      },
      "execution_count": null,
      "outputs": []
    },
    {
      "cell_type": "markdown",
      "source": [
        "**Penjelasan :**\n",
        "1. import numpy as np: Mengimpor library NumPy dan memberinya alias np. NumPy digunakan untuk operasi numerik, terutama pada array multidimensi.\n",
        "2. import pandas as pd: Mengimpor library Pandas dan memberinya alias pd. Pandas digunakan untuk manipulasi dan analisis data, terutama menggunakan struktur data DataFrame.\n",
        "3. from sklearn.tree import DecisionTreeClassifier: Mengimpor kelas DecisionTreeClassifier dari modul sklearn.tree dan memberinya alias DT. Kelas ini digunakan untuk membuat model Decision Tree.\n",
        "4. from sklearn.ensemble import AdaBoostClassifier: Mengimpor kelas AdaBoostClassifier dari modul sklearn.ensemble dan memberinya alias AdaBoost. Kelas ini digunakan untuk membuat model AdaBoost.\n",
        "5. from sklearn.model_selection import train_test_split: Mengimpor fungsi train_test_split dari modul sklearn.model_selection. Fungsi ini digunakan untuk membagi dataset menjadi data training dan data testing.\n",
        "6. from sklearn.metrics import accuracy_score, classification_report: Mengimpor fungsi accuracy_score dan classification_report dari modul sklearn.metrics. Fungsi-fungsi ini digunakan untuk mengevaluasi performa model, yaitu menghitung akurasi dan membuat laporan klasifikasi.\n",
        "7. from sklearn.preprocessing import LabelEncoder: Mengimpor kelas LabelEncoder dari modul sklearn.preprocessing. Kelas ini digunakan untuk melakukan encoding pada label kategorikal menjadi numerik."
      ],
      "metadata": {
        "id": "2MUlMa1gxKDa"
      }
    },
    {
      "cell_type": "markdown",
      "source": [
        "**Persiapan Data**"
      ],
      "metadata": {
        "id": "dYp3uKqsCec-"
      }
    },
    {
      "cell_type": "code",
      "source": [
        "# Load data\n",
        "df = pd.read_csv(dir + 'iris.csv')\n",
        "\n",
        "df.head()"
      ],
      "metadata": {
        "colab": {
          "base_uri": "https://localhost:8080/",
          "height": 206
        },
        "id": "aTNm79_tCgte",
        "outputId": "d22dd2a8-35a6-46ec-d12d-f87eabc4f6b2"
      },
      "execution_count": null,
      "outputs": [
        {
          "output_type": "execute_result",
          "data": {
            "text/plain": [
              "   Id  SepalLengthCm  SepalWidthCm  PetalLengthCm  PetalWidthCm      Species\n",
              "0   1            5.1           3.5            1.4           0.2  Iris-setosa\n",
              "1   2            4.9           3.0            1.4           0.2  Iris-setosa\n",
              "2   3            4.7           3.2            1.3           0.2  Iris-setosa\n",
              "3   4            4.6           3.1            1.5           0.2  Iris-setosa\n",
              "4   5            5.0           3.6            1.4           0.2  Iris-setosa"
            ],
            "text/html": [
              "\n",
              "  <div id=\"df-35d6cc3a-48fe-4907-bad6-52d5782d46fd\" class=\"colab-df-container\">\n",
              "    <div>\n",
              "<style scoped>\n",
              "    .dataframe tbody tr th:only-of-type {\n",
              "        vertical-align: middle;\n",
              "    }\n",
              "\n",
              "    .dataframe tbody tr th {\n",
              "        vertical-align: top;\n",
              "    }\n",
              "\n",
              "    .dataframe thead th {\n",
              "        text-align: right;\n",
              "    }\n",
              "</style>\n",
              "<table border=\"1\" class=\"dataframe\">\n",
              "  <thead>\n",
              "    <tr style=\"text-align: right;\">\n",
              "      <th></th>\n",
              "      <th>Id</th>\n",
              "      <th>SepalLengthCm</th>\n",
              "      <th>SepalWidthCm</th>\n",
              "      <th>PetalLengthCm</th>\n",
              "      <th>PetalWidthCm</th>\n",
              "      <th>Species</th>\n",
              "    </tr>\n",
              "  </thead>\n",
              "  <tbody>\n",
              "    <tr>\n",
              "      <th>0</th>\n",
              "      <td>1</td>\n",
              "      <td>5.1</td>\n",
              "      <td>3.5</td>\n",
              "      <td>1.4</td>\n",
              "      <td>0.2</td>\n",
              "      <td>Iris-setosa</td>\n",
              "    </tr>\n",
              "    <tr>\n",
              "      <th>1</th>\n",
              "      <td>2</td>\n",
              "      <td>4.9</td>\n",
              "      <td>3.0</td>\n",
              "      <td>1.4</td>\n",
              "      <td>0.2</td>\n",
              "      <td>Iris-setosa</td>\n",
              "    </tr>\n",
              "    <tr>\n",
              "      <th>2</th>\n",
              "      <td>3</td>\n",
              "      <td>4.7</td>\n",
              "      <td>3.2</td>\n",
              "      <td>1.3</td>\n",
              "      <td>0.2</td>\n",
              "      <td>Iris-setosa</td>\n",
              "    </tr>\n",
              "    <tr>\n",
              "      <th>3</th>\n",
              "      <td>4</td>\n",
              "      <td>4.6</td>\n",
              "      <td>3.1</td>\n",
              "      <td>1.5</td>\n",
              "      <td>0.2</td>\n",
              "      <td>Iris-setosa</td>\n",
              "    </tr>\n",
              "    <tr>\n",
              "      <th>4</th>\n",
              "      <td>5</td>\n",
              "      <td>5.0</td>\n",
              "      <td>3.6</td>\n",
              "      <td>1.4</td>\n",
              "      <td>0.2</td>\n",
              "      <td>Iris-setosa</td>\n",
              "    </tr>\n",
              "  </tbody>\n",
              "</table>\n",
              "</div>\n",
              "    <div class=\"colab-df-buttons\">\n",
              "\n",
              "  <div class=\"colab-df-container\">\n",
              "    <button class=\"colab-df-convert\" onclick=\"convertToInteractive('df-35d6cc3a-48fe-4907-bad6-52d5782d46fd')\"\n",
              "            title=\"Convert this dataframe to an interactive table.\"\n",
              "            style=\"display:none;\">\n",
              "\n",
              "  <svg xmlns=\"http://www.w3.org/2000/svg\" height=\"24px\" viewBox=\"0 -960 960 960\">\n",
              "    <path d=\"M120-120v-720h720v720H120Zm60-500h600v-160H180v160Zm220 220h160v-160H400v160Zm0 220h160v-160H400v160ZM180-400h160v-160H180v160Zm440 0h160v-160H620v160ZM180-180h160v-160H180v160Zm440 0h160v-160H620v160Z\"/>\n",
              "  </svg>\n",
              "    </button>\n",
              "\n",
              "  <style>\n",
              "    .colab-df-container {\n",
              "      display:flex;\n",
              "      gap: 12px;\n",
              "    }\n",
              "\n",
              "    .colab-df-convert {\n",
              "      background-color: #E8F0FE;\n",
              "      border: none;\n",
              "      border-radius: 50%;\n",
              "      cursor: pointer;\n",
              "      display: none;\n",
              "      fill: #1967D2;\n",
              "      height: 32px;\n",
              "      padding: 0 0 0 0;\n",
              "      width: 32px;\n",
              "    }\n",
              "\n",
              "    .colab-df-convert:hover {\n",
              "      background-color: #E2EBFA;\n",
              "      box-shadow: 0px 1px 2px rgba(60, 64, 67, 0.3), 0px 1px 3px 1px rgba(60, 64, 67, 0.15);\n",
              "      fill: #174EA6;\n",
              "    }\n",
              "\n",
              "    .colab-df-buttons div {\n",
              "      margin-bottom: 4px;\n",
              "    }\n",
              "\n",
              "    [theme=dark] .colab-df-convert {\n",
              "      background-color: #3B4455;\n",
              "      fill: #D2E3FC;\n",
              "    }\n",
              "\n",
              "    [theme=dark] .colab-df-convert:hover {\n",
              "      background-color: #434B5C;\n",
              "      box-shadow: 0px 1px 3px 1px rgba(0, 0, 0, 0.15);\n",
              "      filter: drop-shadow(0px 1px 2px rgba(0, 0, 0, 0.3));\n",
              "      fill: #FFFFFF;\n",
              "    }\n",
              "  </style>\n",
              "\n",
              "    <script>\n",
              "      const buttonEl =\n",
              "        document.querySelector('#df-35d6cc3a-48fe-4907-bad6-52d5782d46fd button.colab-df-convert');\n",
              "      buttonEl.style.display =\n",
              "        google.colab.kernel.accessAllowed ? 'block' : 'none';\n",
              "\n",
              "      async function convertToInteractive(key) {\n",
              "        const element = document.querySelector('#df-35d6cc3a-48fe-4907-bad6-52d5782d46fd');\n",
              "        const dataTable =\n",
              "          await google.colab.kernel.invokeFunction('convertToInteractive',\n",
              "                                                    [key], {});\n",
              "        if (!dataTable) return;\n",
              "\n",
              "        const docLinkHtml = 'Like what you see? Visit the ' +\n",
              "          '<a target=\"_blank\" href=https://colab.research.google.com/notebooks/data_table.ipynb>data table notebook</a>'\n",
              "          + ' to learn more about interactive tables.';\n",
              "        element.innerHTML = '';\n",
              "        dataTable['output_type'] = 'display_data';\n",
              "        await google.colab.output.renderOutput(dataTable, element);\n",
              "        const docLink = document.createElement('div');\n",
              "        docLink.innerHTML = docLinkHtml;\n",
              "        element.appendChild(docLink);\n",
              "      }\n",
              "    </script>\n",
              "  </div>\n",
              "\n",
              "\n",
              "<div id=\"df-4ddf222e-78e4-4f47-8e9a-f6b7d7acb3f5\">\n",
              "  <button class=\"colab-df-quickchart\" onclick=\"quickchart('df-4ddf222e-78e4-4f47-8e9a-f6b7d7acb3f5')\"\n",
              "            title=\"Suggest charts\"\n",
              "            style=\"display:none;\">\n",
              "\n",
              "<svg xmlns=\"http://www.w3.org/2000/svg\" height=\"24px\"viewBox=\"0 0 24 24\"\n",
              "     width=\"24px\">\n",
              "    <g>\n",
              "        <path d=\"M19 3H5c-1.1 0-2 .9-2 2v14c0 1.1.9 2 2 2h14c1.1 0 2-.9 2-2V5c0-1.1-.9-2-2-2zM9 17H7v-7h2v7zm4 0h-2V7h2v10zm4 0h-2v-4h2v4z\"/>\n",
              "    </g>\n",
              "</svg>\n",
              "  </button>\n",
              "\n",
              "<style>\n",
              "  .colab-df-quickchart {\n",
              "      --bg-color: #E8F0FE;\n",
              "      --fill-color: #1967D2;\n",
              "      --hover-bg-color: #E2EBFA;\n",
              "      --hover-fill-color: #174EA6;\n",
              "      --disabled-fill-color: #AAA;\n",
              "      --disabled-bg-color: #DDD;\n",
              "  }\n",
              "\n",
              "  [theme=dark] .colab-df-quickchart {\n",
              "      --bg-color: #3B4455;\n",
              "      --fill-color: #D2E3FC;\n",
              "      --hover-bg-color: #434B5C;\n",
              "      --hover-fill-color: #FFFFFF;\n",
              "      --disabled-bg-color: #3B4455;\n",
              "      --disabled-fill-color: #666;\n",
              "  }\n",
              "\n",
              "  .colab-df-quickchart {\n",
              "    background-color: var(--bg-color);\n",
              "    border: none;\n",
              "    border-radius: 50%;\n",
              "    cursor: pointer;\n",
              "    display: none;\n",
              "    fill: var(--fill-color);\n",
              "    height: 32px;\n",
              "    padding: 0;\n",
              "    width: 32px;\n",
              "  }\n",
              "\n",
              "  .colab-df-quickchart:hover {\n",
              "    background-color: var(--hover-bg-color);\n",
              "    box-shadow: 0 1px 2px rgba(60, 64, 67, 0.3), 0 1px 3px 1px rgba(60, 64, 67, 0.15);\n",
              "    fill: var(--button-hover-fill-color);\n",
              "  }\n",
              "\n",
              "  .colab-df-quickchart-complete:disabled,\n",
              "  .colab-df-quickchart-complete:disabled:hover {\n",
              "    background-color: var(--disabled-bg-color);\n",
              "    fill: var(--disabled-fill-color);\n",
              "    box-shadow: none;\n",
              "  }\n",
              "\n",
              "  .colab-df-spinner {\n",
              "    border: 2px solid var(--fill-color);\n",
              "    border-color: transparent;\n",
              "    border-bottom-color: var(--fill-color);\n",
              "    animation:\n",
              "      spin 1s steps(1) infinite;\n",
              "  }\n",
              "\n",
              "  @keyframes spin {\n",
              "    0% {\n",
              "      border-color: transparent;\n",
              "      border-bottom-color: var(--fill-color);\n",
              "      border-left-color: var(--fill-color);\n",
              "    }\n",
              "    20% {\n",
              "      border-color: transparent;\n",
              "      border-left-color: var(--fill-color);\n",
              "      border-top-color: var(--fill-color);\n",
              "    }\n",
              "    30% {\n",
              "      border-color: transparent;\n",
              "      border-left-color: var(--fill-color);\n",
              "      border-top-color: var(--fill-color);\n",
              "      border-right-color: var(--fill-color);\n",
              "    }\n",
              "    40% {\n",
              "      border-color: transparent;\n",
              "      border-right-color: var(--fill-color);\n",
              "      border-top-color: var(--fill-color);\n",
              "    }\n",
              "    60% {\n",
              "      border-color: transparent;\n",
              "      border-right-color: var(--fill-color);\n",
              "    }\n",
              "    80% {\n",
              "      border-color: transparent;\n",
              "      border-right-color: var(--fill-color);\n",
              "      border-bottom-color: var(--fill-color);\n",
              "    }\n",
              "    90% {\n",
              "      border-color: transparent;\n",
              "      border-bottom-color: var(--fill-color);\n",
              "    }\n",
              "  }\n",
              "</style>\n",
              "\n",
              "  <script>\n",
              "    async function quickchart(key) {\n",
              "      const quickchartButtonEl =\n",
              "        document.querySelector('#' + key + ' button');\n",
              "      quickchartButtonEl.disabled = true;  // To prevent multiple clicks.\n",
              "      quickchartButtonEl.classList.add('colab-df-spinner');\n",
              "      try {\n",
              "        const charts = await google.colab.kernel.invokeFunction(\n",
              "            'suggestCharts', [key], {});\n",
              "      } catch (error) {\n",
              "        console.error('Error during call to suggestCharts:', error);\n",
              "      }\n",
              "      quickchartButtonEl.classList.remove('colab-df-spinner');\n",
              "      quickchartButtonEl.classList.add('colab-df-quickchart-complete');\n",
              "    }\n",
              "    (() => {\n",
              "      let quickchartButtonEl =\n",
              "        document.querySelector('#df-4ddf222e-78e4-4f47-8e9a-f6b7d7acb3f5 button');\n",
              "      quickchartButtonEl.style.display =\n",
              "        google.colab.kernel.accessAllowed ? 'block' : 'none';\n",
              "    })();\n",
              "  </script>\n",
              "</div>\n",
              "\n",
              "    </div>\n",
              "  </div>\n"
            ],
            "application/vnd.google.colaboratory.intrinsic+json": {
              "type": "dataframe",
              "variable_name": "df",
              "summary": "{\n  \"name\": \"df\",\n  \"rows\": 150,\n  \"fields\": [\n    {\n      \"column\": \"Id\",\n      \"properties\": {\n        \"dtype\": \"number\",\n        \"std\": 43,\n        \"min\": 1,\n        \"max\": 150,\n        \"num_unique_values\": 150,\n        \"samples\": [\n          74,\n          19,\n          119\n        ],\n        \"semantic_type\": \"\",\n        \"description\": \"\"\n      }\n    },\n    {\n      \"column\": \"SepalLengthCm\",\n      \"properties\": {\n        \"dtype\": \"number\",\n        \"std\": 0.8280661279778629,\n        \"min\": 4.3,\n        \"max\": 7.9,\n        \"num_unique_values\": 35,\n        \"samples\": [\n          6.2,\n          4.5,\n          5.6\n        ],\n        \"semantic_type\": \"\",\n        \"description\": \"\"\n      }\n    },\n    {\n      \"column\": \"SepalWidthCm\",\n      \"properties\": {\n        \"dtype\": \"number\",\n        \"std\": 0.4335943113621737,\n        \"min\": 2.0,\n        \"max\": 4.4,\n        \"num_unique_values\": 23,\n        \"samples\": [\n          2.3,\n          4.0,\n          3.5\n        ],\n        \"semantic_type\": \"\",\n        \"description\": \"\"\n      }\n    },\n    {\n      \"column\": \"PetalLengthCm\",\n      \"properties\": {\n        \"dtype\": \"number\",\n        \"std\": 1.7644204199522617,\n        \"min\": 1.0,\n        \"max\": 6.9,\n        \"num_unique_values\": 43,\n        \"samples\": [\n          6.7,\n          3.8,\n          3.7\n        ],\n        \"semantic_type\": \"\",\n        \"description\": \"\"\n      }\n    },\n    {\n      \"column\": \"PetalWidthCm\",\n      \"properties\": {\n        \"dtype\": \"number\",\n        \"std\": 0.7631607417008414,\n        \"min\": 0.1,\n        \"max\": 2.5,\n        \"num_unique_values\": 22,\n        \"samples\": [\n          0.2,\n          1.2,\n          1.3\n        ],\n        \"semantic_type\": \"\",\n        \"description\": \"\"\n      }\n    },\n    {\n      \"column\": \"Species\",\n      \"properties\": {\n        \"dtype\": \"category\",\n        \"num_unique_values\": 3,\n        \"samples\": [\n          \"Iris-setosa\",\n          \"Iris-versicolor\",\n          \"Iris-virginica\"\n        ],\n        \"semantic_type\": \"\",\n        \"description\": \"\"\n      }\n    }\n  ]\n}"
            }
          },
          "metadata": {},
          "execution_count": 78
        }
      ]
    },
    {
      "cell_type": "markdown",
      "source": [
        "**Penjelasan :**\n",
        "1. df = pd.read_csv(dir + 'iris.csv'): Baris ini membaca data dari file CSV 'wbc.csv' yang terletak di direktori yang ditentukan oleh variabel dir. Data tersebut kemudian disimpan dalam sebuah DataFrame Pandas bernama df. Fungsi pd.read_csv() dari library Pandas digunakan untuk membaca file CSV.\n",
        "2. df.head(): Baris ini menampilkan 5 baris pertama dari DataFrame df. Fungsi head() dari Pandas digunakan untuk menampilkan beberapa baris pertama dari DataFrame, yang berguna untuk melihat sekilas struktur dan isi data."
      ],
      "metadata": {
        "id": "5BI5aUPAxqhv"
      }
    },
    {
      "cell_type": "code",
      "source": [
        "# Cek kolom null\n",
        "df.isnull().sum()"
      ],
      "metadata": {
        "colab": {
          "base_uri": "https://localhost:8080/",
          "height": 272
        },
        "id": "FGKcWy3PCoHI",
        "outputId": "8e03f82e-5337-4523-fc4a-f4783ae08e35"
      },
      "execution_count": null,
      "outputs": [
        {
          "output_type": "execute_result",
          "data": {
            "text/plain": [
              "Id               0\n",
              "SepalLengthCm    0\n",
              "SepalWidthCm     0\n",
              "PetalLengthCm    0\n",
              "PetalWidthCm     0\n",
              "Species          0\n",
              "dtype: int64"
            ],
            "text/html": [
              "<div>\n",
              "<style scoped>\n",
              "    .dataframe tbody tr th:only-of-type {\n",
              "        vertical-align: middle;\n",
              "    }\n",
              "\n",
              "    .dataframe tbody tr th {\n",
              "        vertical-align: top;\n",
              "    }\n",
              "\n",
              "    .dataframe thead th {\n",
              "        text-align: right;\n",
              "    }\n",
              "</style>\n",
              "<table border=\"1\" class=\"dataframe\">\n",
              "  <thead>\n",
              "    <tr style=\"text-align: right;\">\n",
              "      <th></th>\n",
              "      <th>0</th>\n",
              "    </tr>\n",
              "  </thead>\n",
              "  <tbody>\n",
              "    <tr>\n",
              "      <th>Id</th>\n",
              "      <td>0</td>\n",
              "    </tr>\n",
              "    <tr>\n",
              "      <th>SepalLengthCm</th>\n",
              "      <td>0</td>\n",
              "    </tr>\n",
              "    <tr>\n",
              "      <th>SepalWidthCm</th>\n",
              "      <td>0</td>\n",
              "    </tr>\n",
              "    <tr>\n",
              "      <th>PetalLengthCm</th>\n",
              "      <td>0</td>\n",
              "    </tr>\n",
              "    <tr>\n",
              "      <th>PetalWidthCm</th>\n",
              "      <td>0</td>\n",
              "    </tr>\n",
              "    <tr>\n",
              "      <th>Species</th>\n",
              "      <td>0</td>\n",
              "    </tr>\n",
              "  </tbody>\n",
              "</table>\n",
              "</div><br><label><b>dtype:</b> int64</label>"
            ]
          },
          "metadata": {},
          "execution_count": 79
        }
      ]
    },
    {
      "cell_type": "markdown",
      "source": [
        "**Penjelasan :**\n",
        "1. df.isnull().sum(): Baris ini merupakan inti dari proses pengecekan nilai null. Berikut rinciannya:\n",
        "  *   df.isnull(): Fungsi ini akan mengecek setiap sel pada DataFrame (df) dan menghasilkan DataFrame baru dengan nilai boolean. Nilai True menunjukkan keberadaan nilai null, sedangkan False menunjukkan sebaliknya.\n",
        "  *   .sum(): Fungsi ini akan menjumlahkan nilai True (yang merepresentasikan nilai null) pada setiap kolom DataFrame hasil dari df.isnull().\n"
      ],
      "metadata": {
        "id": "fyVio_Pixzab"
      }
    },
    {
      "cell_type": "code",
      "source": [
        "# Seleksi fitur\n",
        "X = df.iloc[:,2:-1]\n",
        "y = df['Species']\n",
        "\n",
        "# encode label\n",
        "ec = LabelEncoder()\n",
        "y = ec.fit_transform(y)\n",
        "\n",
        "# Cek jumlah fitur dan instance\n",
        "print(X.shape)\n",
        "\n",
        "# Cek label\n",
        "print(y)"
      ],
      "metadata": {
        "colab": {
          "base_uri": "https://localhost:8080/"
        },
        "id": "n3EFP80kCs7U",
        "outputId": "76f00718-477a-49a7-f3a5-fe1fe91dd100"
      },
      "execution_count": null,
      "outputs": [
        {
          "output_type": "stream",
          "name": "stdout",
          "text": [
            "(150, 3)\n",
            "[0 0 0 0 0 0 0 0 0 0 0 0 0 0 0 0 0 0 0 0 0 0 0 0 0 0 0 0 0 0 0 0 0 0 0 0 0\n",
            " 0 0 0 0 0 0 0 0 0 0 0 0 0 1 1 1 1 1 1 1 1 1 1 1 1 1 1 1 1 1 1 1 1 1 1 1 1\n",
            " 1 1 1 1 1 1 1 1 1 1 1 1 1 1 1 1 1 1 1 1 1 1 1 1 1 1 2 2 2 2 2 2 2 2 2 2 2\n",
            " 2 2 2 2 2 2 2 2 2 2 2 2 2 2 2 2 2 2 2 2 2 2 2 2 2 2 2 2 2 2 2 2 2 2 2 2 2\n",
            " 2 2]\n"
          ]
        }
      ]
    },
    {
      "cell_type": "markdown",
      "source": [
        "**Penjelasan :**\n",
        "1. X = df.iloc[:,2:-1]: Baris ini melakukan slicing pada DataFrame df untuk mengambil fitur-fitur.\n",
        "  *   df.iloc[] digunakan untuk mengakses elemen DataFrame berdasarkan indeks numerik.\n",
        "  *   [:,2:-1] artinya mengambil semua baris (:) dan kolom mulai dari indeks 2 hingga indeks kedua dari belakang (-1 dikurangi 1). Data fitur-fitur ini disimpan dalam variabel X.\n",
        "2. y = df['Species']: Baris ini mengambil kolom 'Species' dari DataFrame df dan menyimpannya dalam variabel y. Kolom ini merupakan target variabel atau label yang akan diprediksi oleh model.\n",
        "3. ec = LabelEncoder(): Baris ini membuat objek LabelEncoder dan menyimpannya dalam variabel ec. Objek ini akan digunakan untuk mengonversi label kategorikal menjadi numerik.\n",
        "4. y = ec.fit_transform(y): Baris ini melakukan proses encoding pada label y menggunakan objek ec.\n",
        "  *   fit_transform() akan mempelajari mapping antara\n",
        "label kategorikal dan nilai numerik, kemudian mengonversi label y menjadi nilai numerik sesuai mapping tersebut.\n",
        "5. print(X.shape): Baris ini menampilkan dimensi dari variabel X, yang menunjukkan jumlah instance (baris) dan jumlah fitur (kolom) dalam data fitur.\n",
        "6. print(y): Baris ini menampilkan isi dari variabel y, yang sekarang berisi label yang telah di-encode menjadi numerik."
      ],
      "metadata": {
        "id": "q_QcBVihyDfl"
      }
    },
    {
      "cell_type": "markdown",
      "source": [
        "**Split data training dan testing**"
      ],
      "metadata": {
        "id": "bzIjmz65Cx_F"
      }
    },
    {
      "cell_type": "code",
      "source": [
        "from sklearn.model_selection import train_test_split\n",
        "\n",
        "X_train, X_test, y_train, y_test = train_test_split(X, y, test_size=0.2, random_state=1)"
      ],
      "metadata": {
        "id": "z2-cMLUwC0lN"
      },
      "execution_count": null,
      "outputs": []
    },
    {
      "cell_type": "markdown",
      "source": [
        "**Penjelasan :**\n",
        "1. from sklearn.model_selection import train_test_split: Baris ini mengimpor fungsi train_test_split dari modul sklearn.model_selection. Fungsi ini digunakan untuk membagi dataset menjadi data training dan data testing.\n",
        "2. X_train, X_test, y_train, y_test = train_test_split(X, y, test_size=0.2, random_state=1): Baris ini melakukan pembagian data menggunakan fungsi train_test_split.\n",
        "  *   X: Variabel yang berisi data fitur.\n",
        "  *   y: Variabel yang berisi data target (label).\n",
        "  *   test_size=0.2: Menentukan proporsi data yang akan digunakan sebagai data testing, yaitu 20% dalam kasus ini. Sisanya 80% akan digunakan sebagai data training.\n",
        "  *   random_state=1: Menentukan seed untuk pengacakan data. Dengan menetapkan nilai random_state, pembagian data akan selalu sama setiap kali kode dijalankan, sehingga hasilnya dapat direproduksi.\n",
        "  *   X_train, X_test, y_train, y_test: Variabel-variabel yang akan menyimpan hasil pembagian data, yaitu data fitur training (X_train), data fitur testing (X_test), data target training (y_train), dan data target testing (y_test)."
      ],
      "metadata": {
        "id": "0b2DUdR4zEkH"
      }
    },
    {
      "cell_type": "markdown",
      "source": [
        "**Training Decision Tree**"
      ],
      "metadata": {
        "id": "jwXzuYGYC20U"
      }
    },
    {
      "cell_type": "code",
      "source": [
        "# Secara default, DecisionTreeClassifier dari scikit-learn akan menggunakan nilai \"Gini\" untuk kriteria\n",
        "# Terdapat beberapa \"hyperparamater\" yang dapat digunakan. Silahka baca dokumentasi\n",
        "# Pada kasus ini kita akan menggunakan parameter default\n",
        "dt = DecisionTreeClassifier()\n",
        "\n",
        "# Sesuaikan dt ke set training\n",
        "dt.fit(X_train, y_train)\n",
        "\n",
        "# Memprediksi label set test\n",
        "y_pred_dt = dt.predict(X_test)\n",
        "\n",
        "#  menghitung set accuracy\n",
        "acc_dt = accuracy_score(y_test, y_pred_dt)\n",
        "print(\"Test set accuracy: {:.2f}\".format(acc_dt))\n",
        "print(f\"Test set accuracy: {acc_dt}\")"
      ],
      "metadata": {
        "colab": {
          "base_uri": "https://localhost:8080/"
        },
        "id": "8ezCeJVcC7u-",
        "outputId": "77baa1a9-2744-4296-e601-ef479e7902a8"
      },
      "execution_count": null,
      "outputs": [
        {
          "output_type": "stream",
          "name": "stdout",
          "text": [
            "Test set accuracy: 0.97\n",
            "Test set accuracy: 0.9666666666666667\n"
          ]
        }
      ]
    },
    {
      "cell_type": "markdown",
      "source": [
        "**Penjelasan :**\n",
        "1. dt = DecisionTreeClassifier(): Baris ini membuat objek DecisionTreeClassifier dan menyimpannya dalam variabel dt. Objek ini merupakan model Decision Tree yang akan digunakan untuk klasifikasi.\n",
        "2. dt.fit(X_train, y_train): Baris ini melatih model Decision Tree (dt) menggunakan data training (X_train dan y_train). Proses training ini akan membuat model mempelajari pola dari data training sehingga dapat digunakan untuk prediksi.\n",
        "3. y_pred_dt = dt.predict(X_test): Baris ini menggunakan model Decision Tree yang telah dilatih (dt) untuk memprediksi label pada data testing (X_test). Hasil prediksi disimpan dalam variabel y_pred_dt.\n",
        "4. acc_dt = accuracy_score(y_test, y_pred_dt): Baris ini menghitung akurasi model dengan membandingkan label prediksi (y_pred_dt) dengan label sebenarnya (y_test). Fungsi accuracy_score dari sklearn.metrics digunakan untuk menghitung akurasi. Hasil perhitungan akurasi disimpan dalam variabel acc_dt.\n",
        "5. print(\"Test set accuracy: {:.2f}\".format(acc_dt)): Baris ini menampilkan akurasi model dengan format dua angka di belakang koma.\n",
        "6. print(f\"Test set accuracy: {acc_dt}\"): Baris ini menampilkan akurasi model menggunakan f-string."
      ],
      "metadata": {
        "id": "T0d2o60R1WcG"
      }
    },
    {
      "cell_type": "markdown",
      "source": [
        "**Training AdaBoost**"
      ],
      "metadata": {
        "id": "OxaZ-SiODAHu"
      }
    },
    {
      "cell_type": "code",
      "source": [
        "# Pada kasus kali ini kita akan menggunakan estimator pada AdaBoost\n",
        "# Untuk detail parameter (hyperparameter) silahkan cek dokumentasi\n",
        "\n",
        "ada = AdaBoostClassifier(n_estimators=2)\n",
        "\n",
        "# Sesuaikan dt ke set training\n",
        "ada.fit(X_train, y_train)\n",
        "\n",
        "# Memprediksi label set test\n",
        "y_pred_ada = ada.predict(X_test)\n",
        "\n",
        "#  menghitung set accuracy\n",
        "acc_ada = accuracy_score(y_test, y_pred_ada)\n",
        "print(\"Test set accuracy: {:.2f}\".format(acc_ada))\n",
        "print(f\"Test set accuracy: {acc_ada}\")"
      ],
      "metadata": {
        "colab": {
          "base_uri": "https://localhost:8080/"
        },
        "id": "DBya5P1BDBRc",
        "outputId": "d025b62c-f38a-4f74-8dce-9353d8e8aa39"
      },
      "execution_count": null,
      "outputs": [
        {
          "output_type": "stream",
          "name": "stdout",
          "text": [
            "Test set accuracy: 0.97\n",
            "Test set accuracy: 0.9666666666666667\n"
          ]
        },
        {
          "output_type": "stream",
          "name": "stderr",
          "text": [
            "/usr/local/lib/python3.10/dist-packages/sklearn/ensemble/_weight_boosting.py:527: FutureWarning: The SAMME.R algorithm (the default) is deprecated and will be removed in 1.6. Use the SAMME algorithm to circumvent this warning.\n",
            "  warnings.warn(\n"
          ]
        }
      ]
    },
    {
      "cell_type": "markdown",
      "source": [
        "**Penjelasan :**\n",
        "1. ada = AdaBoostClassifier(n_estimators=2): Baris ini membuat objek AdaBoostClassifier dan menyimpannya dalam variabel ada.\n",
        "  *   n_estimators=2: Menentukan jumlah estimator (dalam kasus ini, Decision Tree) yang akan digunakan dalam model AdaBoost.\n",
        "2. ada.fit(X_train, y_train): Baris ini melatih model AdaBoost (ada) menggunakan data training (X_train dan y_train). Proses training ini akan membangun model dengan menggabungkan beberapa estimator yang lemah (weak learners) menjadi estimator yang kuat (strong learner).\n",
        "3. y_pred_ada = ada.predict(X_test): Baris ini menggunakan model AdaBoost yang telah dilatih (ada) untuk memprediksi label pada data testing (X_test). Hasil prediksi disimpan dalam variabel y_pred_ada.\n",
        "4. acc_ada = accuracy_score(y_test, y_pred_ada): Baris ini menghitung akurasi model dengan membandingkan label prediksi (y_pred_ada) dengan label sebenarnya (y_test). Fungsi accuracy_score dari sklearn.metrics digunakan untuk menghitung akurasi. Hasil perhitungan akurasi disimpan dalam variabel acc_ada.\n",
        "5. print(\"Test set accuracy: {:.2f}\".format(acc_ada)): Baris ini menampilkan akurasi model dengan format dua angka di belakang koma.\n",
        "6. print(f\"Test set accuracy: {acc_ada}\"): Baris ini menampilkan akurasi model menggunakan f-string."
      ],
      "metadata": {
        "id": "UWdQBtbH2Yu1"
      }
    },
    {
      "cell_type": "markdown",
      "source": [
        "# **Praktikum 3**\n",
        "Stackking"
      ],
      "metadata": {
        "id": "SncBlGywDKo_"
      }
    },
    {
      "cell_type": "markdown",
      "source": [
        "**Stacking**\n",
        "\n",
        "Lengkapi bagian berikut dengan data sesuai tugas, dan tentukan perbedaan nilai akurasi antara Random Forest, Adaboost, dan Stacking"
      ],
      "metadata": {
        "id": "NK-wfVGRDQ6s"
      }
    },
    {
      "cell_type": "code",
      "source": [
        "from sklearn.ensemble import RandomForestClassifier, StackingClassifier\n",
        "from sklearn.linear_model import LogisticRegression\n",
        "from sklearn.model_selection import train_test_split, GridSearchCV\n",
        "from sklearn.neighbors import KNeighborsClassifier\n",
        "from sklearn.tree import DecisionTreeClassifier\n",
        "\n",
        "# Load data\n",
        "df = pd.read_csv(dir + 'diabetes.csv')\n",
        "\n",
        "df.head()\n",
        "\n",
        "# Seleksi fitur\n",
        "X = df.iloc[:,:-1]\n",
        "y = df['Outcome']\n",
        "\n",
        "# Split data training\n",
        "X_train, X_test, y_train, y_test = train_test_split(X, y, stratify=y, random_state=42)\n",
        "\n",
        "# Defines Models\n",
        "\n",
        "#Stacking\n",
        "layer_one_estimators = [\n",
        "    ('rf_1', RandomForestClassifier(n_estimators=10, random_state=42)),\n",
        "    ('knn_1', KNeighborsClassifier(n_neighbors=5))\n",
        "]\n",
        "layer_two_estimators = [\n",
        "    ('dt_2', DecisionTreeClassifier()),\n",
        "    ('rf_2', RandomForestClassifier(n_estimators=50, random_state=42)),\n",
        "]\n",
        "\n",
        "layer_two = StackingClassifier(estimators=layer_two_estimators, final_estimator=LogisticRegression())\n",
        "stackingCLF = StackingClassifier(estimators=layer_one_estimators, final_estimator=layer_two)\n",
        "\n",
        "# RF\n",
        "rfCLF = RandomForestClassifier(n_estimators=10, random_state=1)\n",
        "\n",
        "# Ada\n",
        "adaCLF = AdaBoostClassifier(n_estimators=2, algorithm=\"SAMME\")\n",
        "\n",
        "# Fitting\n",
        "stackingCLF.fit(X_train, y_train).score(X_test, y_test)\n",
        "rfCLF.fit(X_train, y_train)\n",
        "adaCLF.fit(X_train, y_train)\n",
        "\n",
        "# Prediction\n",
        "stacking_pred = stackingCLF.predict(X_test)\n",
        "rf_pred = rfCLF.predict(X_test)\n",
        "ada_pred = adaCLF.predict(X_test)\n",
        "\n",
        "# Accuracy Eval\n",
        "print('Stacking Accuracy: ', accuracy_score(y_test, stacking_pred))\n",
        "print('RF Accuracy: ', accuracy_score(y_test, rf_pred))\n",
        "print('Ada Accuracy: ', accuracy_score(y_test, ada_pred))"
      ],
      "metadata": {
        "colab": {
          "base_uri": "https://localhost:8080/"
        },
        "id": "X4-lUfqYDVp-",
        "outputId": "416902e5-8fc1-4b1a-db9e-61aeafa2d5a0"
      },
      "execution_count": null,
      "outputs": [
        {
          "output_type": "stream",
          "name": "stdout",
          "text": [
            "Stacking Accuracy:  0.7239583333333334\n",
            "RF Accuracy:  0.7239583333333334\n",
            "Ada Accuracy:  0.6822916666666666\n"
          ]
        }
      ]
    },
    {
      "cell_type": "markdown",
      "source": [
        "**Penjelasan :**\n",
        "1. from sklearn.ensemble import RandomForestClassifier, StackingClassifier: Baris ini mengimpor dua kelas dari modul sklearn.ensemble:\n",
        "  *   RandomForestClassifier: Digunakan untuk membuat model Random Forest.\n",
        "  *   StackingClassifier: Digunakan untuk membuat model Stacking, yang menggabungkan beberapa model lain.\n",
        "2. from sklearn.linear_model import LogisticRegression: Baris ini mengimpor kelas LogisticRegression dari modul sklearn.linear_model. Kelas ini digunakan untuk membuat model Logistic Regression.\n",
        "3. from sklearn.model_selection import train_test_split, GridSearchCV: Baris ini mengimpor dua fungsi dari modul sklearn.model_selection:\n",
        "  *   train_test_split: Digunakan untuk membagi dataset menjadi data training dan data testing.\n",
        "  *   GridSearchCV: Digunakan untuk mencari hyperparameter terbaik untuk model machine learning.\n",
        "4. from sklearn.neighbors import KNeighborsClassifier: Baris ini mengimpor kelas KNeighborsClassifier dari modul sklearn.neighbors. Kelas ini digunakan untuk membuat model K-Nearest Neighbors.\n",
        "5. from sklearn.tree import DecisionTreeClassifier: Baris ini mengimpor kelas DecisionTreeClassifier dari modul sklearn.tree. Kelas ini digunakan untuk membuat model Decision Tree.\n",
        "6. df = pd.read_csv(dir + 'diabetes.csv'): Baris ini membaca data dari file CSV 'wbc.csv' yang terletak di direktori yang ditentukan oleh variabel dir. Data tersebut kemudian disimpan dalam sebuah DataFrame Pandas bernama df. Fungsi pd.read_csv() dari library Pandas digunakan untuk membaca file CSV.\n",
        "7. df.head(): Baris ini menampilkan 5 baris pertama dari DataFrame df. Fungsi head() dari Pandas digunakan untuk menampilkan beberapa baris pertama dari DataFrame, yang berguna untuk melihat sekilas struktur dan isi data.\n",
        "8. X = df.iloc[:,:-1]: Baris ini melakukan slicing pada DataFrame df untuk mengambil fitur-fitur.\n",
        "  *   df.iloc[] digunakan untuk mengakses elemen DataFrame berdasarkan indeks numerik.\n",
        "  *   [:,:-1] artinya mengambil semua baris (:) dan semua kolom kecuali kolom terakhir (-1). Data fitur-fitur ini disimpan dalam variabel X.\n",
        "9. y = df['Outcome']: Baris ini mengambil kolom 'Outcome' dari DataFrame df dan menyimpannya dalam variabel y. Kolom ini merupakan target variabel atau label yang akan diprediksi oleh model.\n",
        "10. training dan data testing.\n",
        "X_train, X_test, y_train, y_test = train_test_split(X, y, stratify=y, random_state=42): Baris ini melakukan pembagian data menggunakan fungsi train_test_split.\n",
        "  *   X: Variabel yang berisi data fitur.\n",
        "  *   y: Variabel yang berisi data target (label).\n",
        "  *   stratify=y: Menentukan bahwa pembagian data harus dilakukan secara stratifikasi berdasarkan nilai y. Ini memastikan bahwa proporsi kelas dalam data training dan data testing sama dengan proporsi kelas dalam dataset asli.\n",
        "  *   random_state=42: Menentukan seed untuk pengacakan data, sehingga hasil pembagian data dapat direproduksi.\n",
        "  *   X_train, X_test, y_train, y_test: Variabel-variabel yang akan menyimpan hasil pembagian data, yaitu data fitur training (X_train), data fitur testing (X_test), data target training (y_train), dan data target testing (y_test).\n",
        "11. layer_two = StackingClassifier(estimators=layer_two_estimators, final_estimator=LogisticRegression()): Baris ini membuat objek StackingClassifier yang disebut layer_two.\n",
        "  *   estimators=layer_two_estimators: Menentukan estimator base pada layer kedua dari stacking classifier.\n",
        "  *   final_estimator=LogisticRegression(): Menentukan estimator final yang digunakan untuk menggabungkan prediksi dari estimator base, yaitu Logistic Regression.\n",
        "12. stackingCLF = StackingClassifier(estimators=layer_one_estimators, final_estimator=layer_two): Baris ini membuat objek StackingClassifier yang disebut stackingCLF.\n",
        "  *   estimators=layer_two_estimators: Menentukan estimator base pada layer kedua dari stacking classifier.\n",
        "  *   final_estimator=layer_two: Menentukan estimator final yang digunakan untuk menggabungkan prediksi dari estimator base, yaitu objek layer_two yang telah dibuat sebelumnya.\n",
        "13. rfCLF = RandomForestClassifier(n_estimators=10, random_state=1): Baris ini membuat objek RandomForestClassifier dan menyimpannya dalam variabel rfCLF.\n",
        "  *   n_estimators=10: Menentukan jumlah pohon keputusan (decision tree) dalam model Random Forest.\n",
        "  *   random_state=1: Menetapkan seed untuk pengacakan data, sehingga hasil training model dapat direproduksi.\n",
        "14. adaCLF = AdaBoostClassifier(n_estimators=2, algorithm=\"SAMME\"): Baris ini membuat objek AdaBoostClassifier dan menyimpannya dalam variabel adaCLF.\n",
        "  *   n_estimators=2: Menentukan jumlah estimator (dalam kasus ini, Decision Tree) yang akan digunakan dalam model AdaBoost.\n",
        "  *   algorithm=\"SAMME\": Menentukan algoritma yang digunakan untuk boosting, yaitu SAMME (Stagewise Additive Modeling using a Multi-class Exponential loss function).\n",
        "15. stackingCLF.fit(X_train, y_train).score(X_test, y_test): Baris ini melatih model Stacking Classifier (stackingCLF) menggunakan data training (X_train, y_train) dan langsung menghitung skor akurasi pada data testing (X_test, y_test).\n",
        "  *   fit(): Metode untuk melatih model.\n",
        "  *   score(): Metode untuk menghitung skor akurasi model pada data yang diberikan.\n",
        "16. rfCLF.fit(X_train, y_train): Baris ini melatih model Random Forest (rfCLF) menggunakan data training (X_train, y_train).\n",
        "17. adaCLF.fit(X_train, y_train): Baris ini melatih model AdaBoost (adaCLF) menggunakan data training (X_train, y_train).\n",
        "18. stacking_pred = stackingCLF.predict(X_test): Baris ini menggunakan model Stacking Classifier (stackingCLF) untuk memprediksi label pada data testing (X_test) dan menyimpan hasilnya dalam variabel stacking_pred.\n",
        "19. rf_pred = rfCLF.predict(X_test): Baris ini menggunakan model Random Forest (rfCLF) untuk memprediksi label pada data testing (X_test) dan menyimpan hasilnya dalam variabel rf_pred.\n",
        "20. ada_pred = adaCLF.predict(X_test): Baris ini menggunakan model AdaBoost (adaCLF) untuk memprediksi label pada data testing (X_test) dan menyimpan hasilnya dalam variabel ada_pred.\n",
        "21. print('Stacking Accuracy: ', accuracy_score(y_test, stacking_pred)): Baris ini menampilkan akurasi model Stacking Classifier menggunakan fungsi accuracy_score dari sklearn.metrics.\n",
        "22. print('RF Accuracy: ', accuracy_score(y_test, rf_pred)): Baris ini menampilkan akurasi model Random Forest menggunakan fungsi accuracy_score.\n",
        "23. print('Ada Accuracy: ', accuracy_score(y_test, ada_pred)): Baris ini menampilkan akurasi model AdaBoost menggunakan fungsi accuracy_score."
      ],
      "metadata": {
        "id": "qM3preC93uno"
      }
    },
    {
      "cell_type": "markdown",
      "source": [
        "# **Praktikum 4**\n",
        "Voting"
      ],
      "metadata": {
        "id": "xwOEAbtPDcos"
      }
    },
    {
      "cell_type": "markdown",
      "source": [
        "**Stacking dengan Voting**\n",
        "\n",
        "Pada kasus ini kita akan menggunakan salah satu metode stacking yaitu voting untuk mengklasifikasikan pasien penderita diabetes dengan beberapa ciri. Pasien akan di klasifikasikan menjadi pasien menderita diabetes (1) dan tidak menderita diabetes (0). Pertama-tama, kita akan menggunakan beberapa algoritma klasifikasi secara terpisah, yaitu Naive Bayes, SVM Linier, dan SVM RBF. Setelah itu, kita akan menggabungkan performa dari 3 algoritma tersebut dengan menggunakan metode ensemble voting."
      ],
      "metadata": {
        "id": "rV7OuVHRDhgB"
      }
    },
    {
      "cell_type": "markdown",
      "source": [
        "**Import Library**"
      ],
      "metadata": {
        "id": "VBFGSHbxDtWT"
      }
    },
    {
      "cell_type": "code",
      "source": [
        "import numpy as np\n",
        "import pandas as pd\n",
        "from sklearn.naive_bayes import GaussianNB # import Naive Bayes model Gaussian (asumsi data terdistribusi normal)\n",
        "from sklearn.svm import SVC # import SVM classifier\n",
        "from sklearn.ensemble import VotingClassifier # import model Voting\n",
        "from sklearn.model_selection import train_test_split\n",
        "from sklearn.metrics import accuracy_score, classification_report"
      ],
      "metadata": {
        "id": "CTXk6JQpDwaT"
      },
      "execution_count": null,
      "outputs": []
    },
    {
      "cell_type": "markdown",
      "source": [
        "**Penjelasan :**\n",
        "1. import numpy as np: Mengimpor library NumPy dan memberinya alias np. NumPy digunakan untuk operasi numerik, terutama pada array multidimensi.\n",
        "2. import pandas as pd: Mengimpor library Pandas dan memberinya alias pd. Pandas digunakan untuk manipulasi dan analisis data, terutama menggunakan struktur data DataFrame.\n",
        "3. from sklearn.naive_bayes import GaussianNB: Mengimpor kelas GaussianNB dari modul sklearn.naive_bayes. Kelas ini digunakan untuk membuat model Naive Bayes dengan asumsi data terdistribusi Gaussian (normal).\n",
        "4. from sklearn.svm import SVC: Mengimpor kelas SVC dari modul sklearn.svm. Kelas ini digunakan untuk membuat model Support Vector Machine (SVM).\n",
        "5. from sklearn.ensemble import VotingClassifier: Mengimpor kelas VotingClassifier dari modul sklearn.ensemble. Kelas ini digunakan untuk membuat model ensemble voting, yang menggabungkan prediksi dari beberapa model lain.\n",
        "6. from sklearn.model_selection import train_test_split: Mengimpor fungsi train_test_split dari modul sklearn.model_selection. Fungsi ini digunakan untuk membagi dataset menjadi data training dan data testing.\n",
        "7. from sklearn.metrics import accuracy_score, classification_report: Mengimpor fungsi accuracy_score dan classification_report dari modul sklearn.metrics. Fungsi-fungsi ini digunakan untuk mengevaluasi performa model, yaitu menghitung akurasi dan membuat laporan klasifikasi."
      ],
      "metadata": {
        "id": "cJE3dty-AdV6"
      }
    },
    {
      "cell_type": "markdown",
      "source": [
        "**Persiapan Data**"
      ],
      "metadata": {
        "id": "NetukayuDzdX"
      }
    },
    {
      "cell_type": "code",
      "source": [
        "# Load Data\n",
        "\n",
        "dbt = pd.read_csv(dir + 'diabetes.csv')\n",
        "\n",
        "dbt.head()"
      ],
      "metadata": {
        "colab": {
          "base_uri": "https://localhost:8080/",
          "height": 226
        },
        "id": "4GKE-EbfD0r4",
        "outputId": "8973db5e-85a1-4261-dc36-e99a5c567a08"
      },
      "execution_count": null,
      "outputs": [
        {
          "output_type": "execute_result",
          "data": {
            "text/plain": [
              "   Pregnancies  Glucose  BloodPressure  SkinThickness  Insulin   BMI  \\\n",
              "0            6      148             72             35        0  33.6   \n",
              "1            1       85             66             29        0  26.6   \n",
              "2            8      183             64              0        0  23.3   \n",
              "3            1       89             66             23       94  28.1   \n",
              "4            0      137             40             35      168  43.1   \n",
              "\n",
              "   DiabetesPedigreeFunction  Age  Outcome  \n",
              "0                     0.627   50        1  \n",
              "1                     0.351   31        0  \n",
              "2                     0.672   32        1  \n",
              "3                     0.167   21        0  \n",
              "4                     2.288   33        1  "
            ],
            "text/html": [
              "\n",
              "  <div id=\"df-17c73783-77f5-4df9-b2d5-066a8bb3f670\" class=\"colab-df-container\">\n",
              "    <div>\n",
              "<style scoped>\n",
              "    .dataframe tbody tr th:only-of-type {\n",
              "        vertical-align: middle;\n",
              "    }\n",
              "\n",
              "    .dataframe tbody tr th {\n",
              "        vertical-align: top;\n",
              "    }\n",
              "\n",
              "    .dataframe thead th {\n",
              "        text-align: right;\n",
              "    }\n",
              "</style>\n",
              "<table border=\"1\" class=\"dataframe\">\n",
              "  <thead>\n",
              "    <tr style=\"text-align: right;\">\n",
              "      <th></th>\n",
              "      <th>Pregnancies</th>\n",
              "      <th>Glucose</th>\n",
              "      <th>BloodPressure</th>\n",
              "      <th>SkinThickness</th>\n",
              "      <th>Insulin</th>\n",
              "      <th>BMI</th>\n",
              "      <th>DiabetesPedigreeFunction</th>\n",
              "      <th>Age</th>\n",
              "      <th>Outcome</th>\n",
              "    </tr>\n",
              "  </thead>\n",
              "  <tbody>\n",
              "    <tr>\n",
              "      <th>0</th>\n",
              "      <td>6</td>\n",
              "      <td>148</td>\n",
              "      <td>72</td>\n",
              "      <td>35</td>\n",
              "      <td>0</td>\n",
              "      <td>33.6</td>\n",
              "      <td>0.627</td>\n",
              "      <td>50</td>\n",
              "      <td>1</td>\n",
              "    </tr>\n",
              "    <tr>\n",
              "      <th>1</th>\n",
              "      <td>1</td>\n",
              "      <td>85</td>\n",
              "      <td>66</td>\n",
              "      <td>29</td>\n",
              "      <td>0</td>\n",
              "      <td>26.6</td>\n",
              "      <td>0.351</td>\n",
              "      <td>31</td>\n",
              "      <td>0</td>\n",
              "    </tr>\n",
              "    <tr>\n",
              "      <th>2</th>\n",
              "      <td>8</td>\n",
              "      <td>183</td>\n",
              "      <td>64</td>\n",
              "      <td>0</td>\n",
              "      <td>0</td>\n",
              "      <td>23.3</td>\n",
              "      <td>0.672</td>\n",
              "      <td>32</td>\n",
              "      <td>1</td>\n",
              "    </tr>\n",
              "    <tr>\n",
              "      <th>3</th>\n",
              "      <td>1</td>\n",
              "      <td>89</td>\n",
              "      <td>66</td>\n",
              "      <td>23</td>\n",
              "      <td>94</td>\n",
              "      <td>28.1</td>\n",
              "      <td>0.167</td>\n",
              "      <td>21</td>\n",
              "      <td>0</td>\n",
              "    </tr>\n",
              "    <tr>\n",
              "      <th>4</th>\n",
              "      <td>0</td>\n",
              "      <td>137</td>\n",
              "      <td>40</td>\n",
              "      <td>35</td>\n",
              "      <td>168</td>\n",
              "      <td>43.1</td>\n",
              "      <td>2.288</td>\n",
              "      <td>33</td>\n",
              "      <td>1</td>\n",
              "    </tr>\n",
              "  </tbody>\n",
              "</table>\n",
              "</div>\n",
              "    <div class=\"colab-df-buttons\">\n",
              "\n",
              "  <div class=\"colab-df-container\">\n",
              "    <button class=\"colab-df-convert\" onclick=\"convertToInteractive('df-17c73783-77f5-4df9-b2d5-066a8bb3f670')\"\n",
              "            title=\"Convert this dataframe to an interactive table.\"\n",
              "            style=\"display:none;\">\n",
              "\n",
              "  <svg xmlns=\"http://www.w3.org/2000/svg\" height=\"24px\" viewBox=\"0 -960 960 960\">\n",
              "    <path d=\"M120-120v-720h720v720H120Zm60-500h600v-160H180v160Zm220 220h160v-160H400v160Zm0 220h160v-160H400v160ZM180-400h160v-160H180v160Zm440 0h160v-160H620v160ZM180-180h160v-160H180v160Zm440 0h160v-160H620v160Z\"/>\n",
              "  </svg>\n",
              "    </button>\n",
              "\n",
              "  <style>\n",
              "    .colab-df-container {\n",
              "      display:flex;\n",
              "      gap: 12px;\n",
              "    }\n",
              "\n",
              "    .colab-df-convert {\n",
              "      background-color: #E8F0FE;\n",
              "      border: none;\n",
              "      border-radius: 50%;\n",
              "      cursor: pointer;\n",
              "      display: none;\n",
              "      fill: #1967D2;\n",
              "      height: 32px;\n",
              "      padding: 0 0 0 0;\n",
              "      width: 32px;\n",
              "    }\n",
              "\n",
              "    .colab-df-convert:hover {\n",
              "      background-color: #E2EBFA;\n",
              "      box-shadow: 0px 1px 2px rgba(60, 64, 67, 0.3), 0px 1px 3px 1px rgba(60, 64, 67, 0.15);\n",
              "      fill: #174EA6;\n",
              "    }\n",
              "\n",
              "    .colab-df-buttons div {\n",
              "      margin-bottom: 4px;\n",
              "    }\n",
              "\n",
              "    [theme=dark] .colab-df-convert {\n",
              "      background-color: #3B4455;\n",
              "      fill: #D2E3FC;\n",
              "    }\n",
              "\n",
              "    [theme=dark] .colab-df-convert:hover {\n",
              "      background-color: #434B5C;\n",
              "      box-shadow: 0px 1px 3px 1px rgba(0, 0, 0, 0.15);\n",
              "      filter: drop-shadow(0px 1px 2px rgba(0, 0, 0, 0.3));\n",
              "      fill: #FFFFFF;\n",
              "    }\n",
              "  </style>\n",
              "\n",
              "    <script>\n",
              "      const buttonEl =\n",
              "        document.querySelector('#df-17c73783-77f5-4df9-b2d5-066a8bb3f670 button.colab-df-convert');\n",
              "      buttonEl.style.display =\n",
              "        google.colab.kernel.accessAllowed ? 'block' : 'none';\n",
              "\n",
              "      async function convertToInteractive(key) {\n",
              "        const element = document.querySelector('#df-17c73783-77f5-4df9-b2d5-066a8bb3f670');\n",
              "        const dataTable =\n",
              "          await google.colab.kernel.invokeFunction('convertToInteractive',\n",
              "                                                    [key], {});\n",
              "        if (!dataTable) return;\n",
              "\n",
              "        const docLinkHtml = 'Like what you see? Visit the ' +\n",
              "          '<a target=\"_blank\" href=https://colab.research.google.com/notebooks/data_table.ipynb>data table notebook</a>'\n",
              "          + ' to learn more about interactive tables.';\n",
              "        element.innerHTML = '';\n",
              "        dataTable['output_type'] = 'display_data';\n",
              "        await google.colab.output.renderOutput(dataTable, element);\n",
              "        const docLink = document.createElement('div');\n",
              "        docLink.innerHTML = docLinkHtml;\n",
              "        element.appendChild(docLink);\n",
              "      }\n",
              "    </script>\n",
              "  </div>\n",
              "\n",
              "\n",
              "<div id=\"df-b75e19de-4f96-454e-a2b2-57d0b82889cf\">\n",
              "  <button class=\"colab-df-quickchart\" onclick=\"quickchart('df-b75e19de-4f96-454e-a2b2-57d0b82889cf')\"\n",
              "            title=\"Suggest charts\"\n",
              "            style=\"display:none;\">\n",
              "\n",
              "<svg xmlns=\"http://www.w3.org/2000/svg\" height=\"24px\"viewBox=\"0 0 24 24\"\n",
              "     width=\"24px\">\n",
              "    <g>\n",
              "        <path d=\"M19 3H5c-1.1 0-2 .9-2 2v14c0 1.1.9 2 2 2h14c1.1 0 2-.9 2-2V5c0-1.1-.9-2-2-2zM9 17H7v-7h2v7zm4 0h-2V7h2v10zm4 0h-2v-4h2v4z\"/>\n",
              "    </g>\n",
              "</svg>\n",
              "  </button>\n",
              "\n",
              "<style>\n",
              "  .colab-df-quickchart {\n",
              "      --bg-color: #E8F0FE;\n",
              "      --fill-color: #1967D2;\n",
              "      --hover-bg-color: #E2EBFA;\n",
              "      --hover-fill-color: #174EA6;\n",
              "      --disabled-fill-color: #AAA;\n",
              "      --disabled-bg-color: #DDD;\n",
              "  }\n",
              "\n",
              "  [theme=dark] .colab-df-quickchart {\n",
              "      --bg-color: #3B4455;\n",
              "      --fill-color: #D2E3FC;\n",
              "      --hover-bg-color: #434B5C;\n",
              "      --hover-fill-color: #FFFFFF;\n",
              "      --disabled-bg-color: #3B4455;\n",
              "      --disabled-fill-color: #666;\n",
              "  }\n",
              "\n",
              "  .colab-df-quickchart {\n",
              "    background-color: var(--bg-color);\n",
              "    border: none;\n",
              "    border-radius: 50%;\n",
              "    cursor: pointer;\n",
              "    display: none;\n",
              "    fill: var(--fill-color);\n",
              "    height: 32px;\n",
              "    padding: 0;\n",
              "    width: 32px;\n",
              "  }\n",
              "\n",
              "  .colab-df-quickchart:hover {\n",
              "    background-color: var(--hover-bg-color);\n",
              "    box-shadow: 0 1px 2px rgba(60, 64, 67, 0.3), 0 1px 3px 1px rgba(60, 64, 67, 0.15);\n",
              "    fill: var(--button-hover-fill-color);\n",
              "  }\n",
              "\n",
              "  .colab-df-quickchart-complete:disabled,\n",
              "  .colab-df-quickchart-complete:disabled:hover {\n",
              "    background-color: var(--disabled-bg-color);\n",
              "    fill: var(--disabled-fill-color);\n",
              "    box-shadow: none;\n",
              "  }\n",
              "\n",
              "  .colab-df-spinner {\n",
              "    border: 2px solid var(--fill-color);\n",
              "    border-color: transparent;\n",
              "    border-bottom-color: var(--fill-color);\n",
              "    animation:\n",
              "      spin 1s steps(1) infinite;\n",
              "  }\n",
              "\n",
              "  @keyframes spin {\n",
              "    0% {\n",
              "      border-color: transparent;\n",
              "      border-bottom-color: var(--fill-color);\n",
              "      border-left-color: var(--fill-color);\n",
              "    }\n",
              "    20% {\n",
              "      border-color: transparent;\n",
              "      border-left-color: var(--fill-color);\n",
              "      border-top-color: var(--fill-color);\n",
              "    }\n",
              "    30% {\n",
              "      border-color: transparent;\n",
              "      border-left-color: var(--fill-color);\n",
              "      border-top-color: var(--fill-color);\n",
              "      border-right-color: var(--fill-color);\n",
              "    }\n",
              "    40% {\n",
              "      border-color: transparent;\n",
              "      border-right-color: var(--fill-color);\n",
              "      border-top-color: var(--fill-color);\n",
              "    }\n",
              "    60% {\n",
              "      border-color: transparent;\n",
              "      border-right-color: var(--fill-color);\n",
              "    }\n",
              "    80% {\n",
              "      border-color: transparent;\n",
              "      border-right-color: var(--fill-color);\n",
              "      border-bottom-color: var(--fill-color);\n",
              "    }\n",
              "    90% {\n",
              "      border-color: transparent;\n",
              "      border-bottom-color: var(--fill-color);\n",
              "    }\n",
              "  }\n",
              "</style>\n",
              "\n",
              "  <script>\n",
              "    async function quickchart(key) {\n",
              "      const quickchartButtonEl =\n",
              "        document.querySelector('#' + key + ' button');\n",
              "      quickchartButtonEl.disabled = true;  // To prevent multiple clicks.\n",
              "      quickchartButtonEl.classList.add('colab-df-spinner');\n",
              "      try {\n",
              "        const charts = await google.colab.kernel.invokeFunction(\n",
              "            'suggestCharts', [key], {});\n",
              "      } catch (error) {\n",
              "        console.error('Error during call to suggestCharts:', error);\n",
              "      }\n",
              "      quickchartButtonEl.classList.remove('colab-df-spinner');\n",
              "      quickchartButtonEl.classList.add('colab-df-quickchart-complete');\n",
              "    }\n",
              "    (() => {\n",
              "      let quickchartButtonEl =\n",
              "        document.querySelector('#df-b75e19de-4f96-454e-a2b2-57d0b82889cf button');\n",
              "      quickchartButtonEl.style.display =\n",
              "        google.colab.kernel.accessAllowed ? 'block' : 'none';\n",
              "    })();\n",
              "  </script>\n",
              "</div>\n",
              "\n",
              "    </div>\n",
              "  </div>\n"
            ],
            "application/vnd.google.colaboratory.intrinsic+json": {
              "type": "dataframe",
              "variable_name": "dbt",
              "summary": "{\n  \"name\": \"dbt\",\n  \"rows\": 768,\n  \"fields\": [\n    {\n      \"column\": \"Pregnancies\",\n      \"properties\": {\n        \"dtype\": \"number\",\n        \"std\": 3,\n        \"min\": 0,\n        \"max\": 17,\n        \"num_unique_values\": 17,\n        \"samples\": [\n          6,\n          1,\n          3\n        ],\n        \"semantic_type\": \"\",\n        \"description\": \"\"\n      }\n    },\n    {\n      \"column\": \"Glucose\",\n      \"properties\": {\n        \"dtype\": \"number\",\n        \"std\": 31,\n        \"min\": 0,\n        \"max\": 199,\n        \"num_unique_values\": 136,\n        \"samples\": [\n          151,\n          101,\n          112\n        ],\n        \"semantic_type\": \"\",\n        \"description\": \"\"\n      }\n    },\n    {\n      \"column\": \"BloodPressure\",\n      \"properties\": {\n        \"dtype\": \"number\",\n        \"std\": 19,\n        \"min\": 0,\n        \"max\": 122,\n        \"num_unique_values\": 47,\n        \"samples\": [\n          86,\n          46,\n          85\n        ],\n        \"semantic_type\": \"\",\n        \"description\": \"\"\n      }\n    },\n    {\n      \"column\": \"SkinThickness\",\n      \"properties\": {\n        \"dtype\": \"number\",\n        \"std\": 15,\n        \"min\": 0,\n        \"max\": 99,\n        \"num_unique_values\": 51,\n        \"samples\": [\n          7,\n          12,\n          48\n        ],\n        \"semantic_type\": \"\",\n        \"description\": \"\"\n      }\n    },\n    {\n      \"column\": \"Insulin\",\n      \"properties\": {\n        \"dtype\": \"number\",\n        \"std\": 115,\n        \"min\": 0,\n        \"max\": 846,\n        \"num_unique_values\": 186,\n        \"samples\": [\n          52,\n          41,\n          183\n        ],\n        \"semantic_type\": \"\",\n        \"description\": \"\"\n      }\n    },\n    {\n      \"column\": \"BMI\",\n      \"properties\": {\n        \"dtype\": \"number\",\n        \"std\": 7.8841603203754405,\n        \"min\": 0.0,\n        \"max\": 67.1,\n        \"num_unique_values\": 248,\n        \"samples\": [\n          19.9,\n          31.0,\n          38.1\n        ],\n        \"semantic_type\": \"\",\n        \"description\": \"\"\n      }\n    },\n    {\n      \"column\": \"DiabetesPedigreeFunction\",\n      \"properties\": {\n        \"dtype\": \"number\",\n        \"std\": 0.33132859501277484,\n        \"min\": 0.078,\n        \"max\": 2.42,\n        \"num_unique_values\": 517,\n        \"samples\": [\n          1.731,\n          0.426,\n          0.138\n        ],\n        \"semantic_type\": \"\",\n        \"description\": \"\"\n      }\n    },\n    {\n      \"column\": \"Age\",\n      \"properties\": {\n        \"dtype\": \"number\",\n        \"std\": 11,\n        \"min\": 21,\n        \"max\": 81,\n        \"num_unique_values\": 52,\n        \"samples\": [\n          60,\n          47,\n          72\n        ],\n        \"semantic_type\": \"\",\n        \"description\": \"\"\n      }\n    },\n    {\n      \"column\": \"Outcome\",\n      \"properties\": {\n        \"dtype\": \"number\",\n        \"std\": 0,\n        \"min\": 0,\n        \"max\": 1,\n        \"num_unique_values\": 2,\n        \"samples\": [\n          0,\n          1\n        ],\n        \"semantic_type\": \"\",\n        \"description\": \"\"\n      }\n    }\n  ]\n}"
            }
          },
          "metadata": {},
          "execution_count": 86
        }
      ]
    },
    {
      "cell_type": "markdown",
      "source": [
        "**Penjelasan :**\n",
        "1. df = pd.read_csv(dir + 'diabetes.csv'): Baris ini membaca data dari file CSV 'wbc.csv' yang terletak di direktori yang ditentukan oleh variabel dir. Data tersebut kemudian disimpan dalam sebuah DataFrame Pandas bernama df. Fungsi pd.read_csv() dari library Pandas digunakan untuk membaca file CSV.\n",
        "2. df.head(): Baris ini menampilkan 5 baris pertama dari DataFrame df. Fungsi head() dari Pandas digunakan untuk menampilkan beberapa baris pertama dari DataFrame, yang berguna untuk melihat sekilas struktur dan isi data."
      ],
      "metadata": {
        "id": "9oqt8zGRAvKy"
      }
    },
    {
      "cell_type": "code",
      "source": [
        "# Cek nama kolom\n",
        "dbt.columns"
      ],
      "metadata": {
        "colab": {
          "base_uri": "https://localhost:8080/"
        },
        "id": "tgypA67rD5Yt",
        "outputId": "13196961-f810-4324-a706-e363aade60d0"
      },
      "execution_count": null,
      "outputs": [
        {
          "output_type": "execute_result",
          "data": {
            "text/plain": [
              "Index(['Pregnancies', 'Glucose', 'BloodPressure', 'SkinThickness', 'Insulin',\n",
              "       'BMI', 'DiabetesPedigreeFunction', 'Age', 'Outcome'],\n",
              "      dtype='object')"
            ]
          },
          "metadata": {},
          "execution_count": 87
        }
      ]
    },
    {
      "cell_type": "markdown",
      "source": [
        "**Penjelasan :**\n",
        "1. dbt.columns: Baris ini mengakses atribut columns dari DataFrame dbt. Atribut ini berisi indeks dari kolom-kolom DataFrame."
      ],
      "metadata": {
        "id": "AvM8XksxBMCN"
      }
    },
    {
      "cell_type": "code",
      "source": [
        "# Cek kolom null\n",
        "dbt.isnull().sum()"
      ],
      "metadata": {
        "colab": {
          "base_uri": "https://localhost:8080/",
          "height": 366
        },
        "id": "WAKO3Pd-D_un",
        "outputId": "c67d2baf-e9e6-413d-bbf8-60856d07e099"
      },
      "execution_count": null,
      "outputs": [
        {
          "output_type": "execute_result",
          "data": {
            "text/plain": [
              "Pregnancies                 0\n",
              "Glucose                     0\n",
              "BloodPressure               0\n",
              "SkinThickness               0\n",
              "Insulin                     0\n",
              "BMI                         0\n",
              "DiabetesPedigreeFunction    0\n",
              "Age                         0\n",
              "Outcome                     0\n",
              "dtype: int64"
            ],
            "text/html": [
              "<div>\n",
              "<style scoped>\n",
              "    .dataframe tbody tr th:only-of-type {\n",
              "        vertical-align: middle;\n",
              "    }\n",
              "\n",
              "    .dataframe tbody tr th {\n",
              "        vertical-align: top;\n",
              "    }\n",
              "\n",
              "    .dataframe thead th {\n",
              "        text-align: right;\n",
              "    }\n",
              "</style>\n",
              "<table border=\"1\" class=\"dataframe\">\n",
              "  <thead>\n",
              "    <tr style=\"text-align: right;\">\n",
              "      <th></th>\n",
              "      <th>0</th>\n",
              "    </tr>\n",
              "  </thead>\n",
              "  <tbody>\n",
              "    <tr>\n",
              "      <th>Pregnancies</th>\n",
              "      <td>0</td>\n",
              "    </tr>\n",
              "    <tr>\n",
              "      <th>Glucose</th>\n",
              "      <td>0</td>\n",
              "    </tr>\n",
              "    <tr>\n",
              "      <th>BloodPressure</th>\n",
              "      <td>0</td>\n",
              "    </tr>\n",
              "    <tr>\n",
              "      <th>SkinThickness</th>\n",
              "      <td>0</td>\n",
              "    </tr>\n",
              "    <tr>\n",
              "      <th>Insulin</th>\n",
              "      <td>0</td>\n",
              "    </tr>\n",
              "    <tr>\n",
              "      <th>BMI</th>\n",
              "      <td>0</td>\n",
              "    </tr>\n",
              "    <tr>\n",
              "      <th>DiabetesPedigreeFunction</th>\n",
              "      <td>0</td>\n",
              "    </tr>\n",
              "    <tr>\n",
              "      <th>Age</th>\n",
              "      <td>0</td>\n",
              "    </tr>\n",
              "    <tr>\n",
              "      <th>Outcome</th>\n",
              "      <td>0</td>\n",
              "    </tr>\n",
              "  </tbody>\n",
              "</table>\n",
              "</div><br><label><b>dtype:</b> int64</label>"
            ]
          },
          "metadata": {},
          "execution_count": 88
        }
      ]
    },
    {
      "cell_type": "markdown",
      "source": [
        "**Penjelasan :**\n",
        "1. df.isnull().sum(): Baris ini merupakan inti dari proses pengecekan nilai null. Berikut rinciannya:\n",
        "  *   df.isnull(): Fungsi ini akan mengecek setiap sel pada DataFrame (df) dan menghasilkan DataFrame baru dengan nilai boolean. Nilai True menunjukkan keberadaan nilai null, sedangkan False menunjukkan sebaliknya.\n",
        "  *   .sum(): Fungsi ini akan menjumlahkan nilai True (yang merepresentasikan nilai null) pada setiap kolom DataFrame hasil dari df.isnull().\n"
      ],
      "metadata": {
        "id": "m_GvuzyaBVAg"
      }
    },
    {
      "cell_type": "code",
      "source": [
        "# Pada kasus ini, agak tidak masuk akal jika beberapa parameter bernilai 0\n",
        "# sebagai contoh adalah nilai 'Glucose', 'BloodPlessure' ataupun 'Insulin'.\n",
        "# Sekecil apapun nilainya, setiap manusia yang hidup pasti miliki nilai-nilai tersebut\n",
        "\n",
        "# Kita akan manipulasi nilai yang 0 dengan melakukan 'imputasi' atau mengganti nilainya dengan nilai sintetis\n",
        "# Pada kasus ini, kita akan menggunakan nilai mean\n",
        "\n",
        "# Cek kolom neng nilai 0\n",
        "feature_columns = ['Pregnancies', 'Glucose', 'BloodPressure', 'SkinThickness', 'Insulin', 'BMI', 'DiabetesPedigreeFunction', 'Age']\n",
        "for column in feature_columns:\n",
        "    print(\"============================================\")\n",
        "    print(f\"{column} ==> Missing zeros : {len(dbt.loc[dbt[column] == 0])}\")"
      ],
      "metadata": {
        "colab": {
          "base_uri": "https://localhost:8080/"
        },
        "id": "zPEOO3IPEDdw",
        "outputId": "18ef968a-e1ea-4122-9278-5e1f45200632"
      },
      "execution_count": null,
      "outputs": [
        {
          "output_type": "stream",
          "name": "stdout",
          "text": [
            "============================================\n",
            "Pregnancies ==> Missing zeros : 111\n",
            "============================================\n",
            "Glucose ==> Missing zeros : 5\n",
            "============================================\n",
            "BloodPressure ==> Missing zeros : 35\n",
            "============================================\n",
            "SkinThickness ==> Missing zeros : 227\n",
            "============================================\n",
            "Insulin ==> Missing zeros : 374\n",
            "============================================\n",
            "BMI ==> Missing zeros : 11\n",
            "============================================\n",
            "DiabetesPedigreeFunction ==> Missing zeros : 0\n",
            "============================================\n",
            "Age ==> Missing zeros : 0\n"
          ]
        }
      ]
    },
    {
      "cell_type": "markdown",
      "source": [
        "**Penjelasan :**\n",
        "1. eature_columns = ['Pregnancies', 'Glucose', 'BloodPressure', 'SkinThickness', 'Insulin', 'BMI', 'DiabetesPedigreeFunction', 'Age']: Baris ini mendefinisikan sebuah list bernama feature_columns yang berisi nama-nama kolom fitur dalam dataset. Kolom-kolom ini adalah yang akan diperiksa untuk keberadaan nilai nol.\n",
        "2. for column in feature_columns:: Ini memulai loop for yang akan mengiterasi melalui setiap nama kolom dalam feature_columns.\n",
        "3. print(\"============================================\"): Baris ini mencetak garis pemisah untuk memperjelas output.\n",
        "4. print(f\"{column} ==> Missing zeros : {len(dbt.loc[dbt[column] == 0])}\"): Baris ini mencetak informasi tentang jumlah nilai nol yang hilang untuk setiap kolom. Mari kita uraikan bagian ini:\n",
        "  *   f\"{column} ==> Missing zeros : ...\": Ini adalah f-string yang digunakan untuk memformat output. {column} akan diganti dengan nama kolom saat ini dalam loop.\n",
        "  *   len(dbt.loc[dbt[column] == 0]): Bagian ini menghitung jumlah nilai nol yang hilang dalam kolom.\n",
        "    *   dbt[column] == 0: Ini membuat Series boolean yang bernilai True jika nilai dalam kolom column sama dengan 0, dan False jika tidak.\n",
        "    *   dbt.loc[...]: Ini memilih baris dalam DataFrame dbt di mana kondisi dalam tanda kurung siku bernilai True (yaitu, baris di mana nilai dalam kolom column sama dengan 0).\n",
        "    *   len(...): Ini menghitung jumlah baris yang dipilih, yang sama dengan jumlah nilai nol yang hilang dalam kolom."
      ],
      "metadata": {
        "id": "ZZcYXr0pBdkF"
      }
    },
    {
      "cell_type": "code",
      "source": [
        "# Impute nilai 0 dengan mean\n",
        "from sklearn.impute import SimpleImputer\n",
        "\n",
        "fill_values = SimpleImputer(missing_values=0, strategy=\"mean\", copy=False)\n",
        "\n",
        "dbt[feature_columns] = fill_values.fit_transform(dbt[feature_columns])"
      ],
      "metadata": {
        "id": "lKKf6Q4eETai"
      },
      "execution_count": null,
      "outputs": []
    },
    {
      "cell_type": "markdown",
      "source": [
        "**Penjelasan :**\n",
        "1. from sklearn.impute import SimpleImputer: Baris ini mengimpor kelas SimpleImputer dari modul sklearn.impute. Kelas ini digunakan untuk mengisi nilai yang hilang (missing values) dalam dataset.\n",
        "2. fill_values = SimpleImputer(missing_values=0, strategy=\"mean\", copy=False): Baris ini membuat objek SimpleImputer dan menyimpannya dalam variabel fill_values.\n",
        "  *   missing_values=0: Menentukan bahwa nilai yang hilang yang akan diisi adalah nilai 0.\n",
        "  *   strategy=\"mean\": Menentukan strategi pengisian nilai yang hilang, yaitu menggunakan nilai rata-rata (mean) dari kolom tersebut.\n",
        "  *   copy=False: Menentukan bahwa data asli akan diubah secara langsung, tanpa membuat salinan\n",
        "3. dbt[feature_columns] = fill_values.fit_transform(dbt[feature_columns]): Baris ini melakukan proses pengisian nilai yang hilang pada kolom-kolom yang ditentukan dalam feature_columns.\n",
        "  *   fit_transform(): Metode ini melakukan dua hal:\n",
        "    *   fit(): Mempelajari parameter yang dibutuhkan untuk strategi pengisian (dalam kasus ini, menghitung nilai rata-rata dari setiap kolom).\n",
        "    *   transform(): Mengisi nilai yang hilang menggunakan parameter yang telah dipelajari.\n",
        "  *   dbt[feature_columns]: Ini memilih kolom-kolom yang ditentukan dalam feature_columns dari DataFrame dbt.\n",
        "  *   =: Operator penugasan digunakan untuk mengganti nilai asli dalam kolom-kolom tersebut dengan nilai yang telah diisi."
      ],
      "metadata": {
        "id": "3S3KwV6sCDKr"
      }
    },
    {
      "cell_type": "markdown",
      "source": [
        "**Split data training dan testing**"
      ],
      "metadata": {
        "id": "z17dVrm7EWC1"
      }
    },
    {
      "cell_type": "code",
      "source": [
        "X = dbt[feature_columns]\n",
        "y = dbt.Outcome\n",
        "\n",
        "X_train, X_test, y_train, y_test = train_test_split(X, y, test_size=0.3, random_state=42)"
      ],
      "metadata": {
        "id": "9TIM1l1NEYLg"
      },
      "execution_count": null,
      "outputs": []
    },
    {
      "cell_type": "markdown",
      "source": [
        "**Penjelasan :**\n",
        "1. X = dbt[feature_columns]: Baris ini mengambil kolom-kolom yang tercantum dalam feature_columns dari DataFrame dbt dan menyimpannya dalam variabel X. Ini berarti X sekarang berisi data fitur yang akan digunakan untuk melatih model.\n",
        "2. y = dbt.Outcome: Baris ini mengambil kolom 'Outcome' dari DataFrame dbt dan menyimpannya dalam variabel y. Kolom ini berisi label atau target variabel yang akan diprediksi oleh model.\n",
        "3. X_train, X_test, y_train, y_test = train_test_split(X, y, test_size=0.3, random_state=42): Baris ini membagi data fitur (X) dan data target (y) menjadi data training dan data testing menggunakan fungsi train_test_split.\n",
        "  *   test_size=0.3: Menentukan bahwa 30% data akan digunakan sebagai data testing, dan 70% sisanya akan digunakan sebagai data training.\n",
        "  *   random_state=42: Menetapkan seed untuk pengacakan data, sehingga hasil pembagian data dapat direproduksi.\n",
        "  *   X_train, X_test, y_train, y_test: Variabel-variabel ini akan menyimpan hasil pembagian data:\n",
        "    *   X_train: Data fitur untuk training.\n",
        "    *   X_test: Data fitur untuk testing.\n",
        "    *   y_train: Data target untuk training.\n",
        "    *   y_test: Data target untuk testing.\n",
        "\n"
      ],
      "metadata": {
        "id": "zQm3cYZYC1Jg"
      }
    },
    {
      "cell_type": "markdown",
      "source": [
        "**Training dengan GaussianNB**\n",
        "\n",
        "**Standarisasi Fitur**"
      ],
      "metadata": {
        "id": "Q6cUkaRtEa5B"
      }
    },
    {
      "cell_type": "code",
      "source": [
        "# Karena asumsi Gaussian NB adalah data terdistribusi secara normal,\n",
        "# maka kita perlu melakukan standarisasi\n",
        "\n",
        "from sklearn.preprocessing import StandardScaler\n",
        "\n",
        "sc = StandardScaler()\n",
        "\n",
        "# Standarisasi pada fitur di X_train dan X_test\n",
        "X_train_std = sc.fit_transform(X_train)\n",
        "X_test_std = sc.transform(X_test)"
      ],
      "metadata": {
        "id": "ubQ7lbtDEgQN"
      },
      "execution_count": null,
      "outputs": []
    },
    {
      "cell_type": "markdown",
      "source": [
        "**Penjelasan :**\n",
        "1. from sklearn.preprocessing import StandardScaler: Baris ini mengimpor kelas StandardScaler dari modul sklearn.preprocessing. Kelas ini digunakan untuk melakukan standarisasi data, yaitu mengubah data agar memiliki rata-rata 0 dan deviasi standar 1.\n",
        "2. sc = StandardScaler(): Baris ini membuat objek StandardScaler dan menyimpannya dalam variabel sc. Objek ini akan digunakan untuk melakukan standarisasi data.\n",
        "3. X_train_std = sc.fit_transform(X_train): Baris ini melakukan dua hal:\n",
        "  *   fit(): Mempelajari parameter (rata-rata dan deviasi standar) dari data training (X_train).\n",
        "  *   transform(): Mengubah data training (X_train) menggunakan parameter yang telah dipelajari, sehingga data training terstandarisasi. Hasil transformasi disimpan dalam variabel X_train_std.\n",
        "4. X_test_std = sc.transform(X_test): Baris ini mengubah data testing (X_test) menggunakan parameter (rata-rata dan deviasi standar) yang telah dipelajari dari data training. Ini penting agar data testing diubah dengan cara yang sama seperti data training. Hasil transformasi disimpan dalam variabel X_test_std."
      ],
      "metadata": {
        "id": "EyVzzKaRHbfx"
      }
    },
    {
      "cell_type": "markdown",
      "source": [
        "**Training dan Evaluasi**"
      ],
      "metadata": {
        "id": "sxmbTpFAEirm"
      }
    },
    {
      "cell_type": "code",
      "source": [
        "# Buat obyek GaussianNB\n",
        "gnb_std = GaussianNB()\n",
        "\n",
        "# Fit dengan data yang telah di standarisasi\n",
        "gnb_std.fit(X_train_std, y_train)\n",
        "\n",
        "# Prediksi dengan data test\n",
        "y_pred_gnb = gnb_std.predict(X_test_std)\n",
        "\n",
        "# Evaluasi akurasi testing data\n",
        "acc_gnb = accuracy_score(y_test, y_pred_gnb)\n",
        "\n",
        "# Print hasil evaluasi\n",
        "print(\"Test set accuracy: {:.2f}\".format(acc_gnb))\n",
        "print(f\"Test set accuracy: {acc_gnb}\")"
      ],
      "metadata": {
        "colab": {
          "base_uri": "https://localhost:8080/"
        },
        "id": "c_YJwtqWElaP",
        "outputId": "e8d3749e-2a9f-4420-8dae-c5df45814ac5"
      },
      "execution_count": null,
      "outputs": [
        {
          "output_type": "stream",
          "name": "stdout",
          "text": [
            "Test set accuracy: 0.74\n",
            "Test set accuracy: 0.7359307359307359\n"
          ]
        }
      ]
    },
    {
      "cell_type": "markdown",
      "source": [
        "**Penjelasan :**\n",
        "1. gnb_std = GaussianNB(): Baris ini membuat objek GaussianNB dan menyimpannya dalam variabel gnb_std. Objek ini merupakan model Naive Bayes yang akan digunakan untuk klasifikasi.\n",
        "2. gnb_std.fit(X_train_std, y_train): Baris ini melatih model Naive Bayes (gnb_std) menggunakan data training yang telah distandarisasi (X_train_std dan y_train). Proses training ini akan membuat model mempelajari pola dari data training sehingga dapat digunakan untuk prediksi.\n",
        "3. y_pred_gnb = gnb_std.predict(X_test_std): Baris ini menggunakan model Naive Bayes yang telah dilatih (gnb_std) untuk memprediksi label pada data testing yang telah distandarisasi (X_test_std). Hasil prediksi disimpan dalam variabel y_pred_gnb.\n",
        "4. acc_gnb = accuracy_score(y_test, y_pred_gnb): Baris ini menghitung akurasi model dengan membandingkan label prediksi (y_pred_gnb) dengan label sebenarnya (y_test). Fungsi accuracy_score dari sklearn.metrics digunakan untuk menghitung akurasi. Hasil perhitungan akurasi disimpan dalam variabel acc_gnb.\n",
        "5. print(\"Test set accuracy: {:.2f}\".format(acc_gnb)): Baris ini menampilkan akurasi model dengan format dua angka di belakang koma.\n",
        "6. print(f\"Test set accuracy: {acc_gnb}\"): Baris ini menampilkan akurasi model menggunakan f-string."
      ],
      "metadata": {
        "id": "ZV-L9PefH-PI"
      }
    },
    {
      "cell_type": "markdown",
      "source": [
        "**Training dengan SVM Linier**"
      ],
      "metadata": {
        "id": "4SvTkc76EpJF"
      }
    },
    {
      "cell_type": "code",
      "source": [
        "# Model SVM linier tanpa tunnning hyperparameter\n",
        "svm_lin = SVC(kernel='linear')\n",
        "\n",
        "# Fit ke model\n",
        "svm_lin.fit(X_train_std, y_train)\n",
        "\n",
        "# Prediksi\n",
        "y_pred_svm_lin = svm_lin.predict(X_test_std)\n",
        "\n",
        "# Evaluasi akurasi testing data\n",
        "acc_svm_lin = accuracy_score(y_test, y_pred_svm_lin)\n",
        "\n",
        "# Print hasil evaluasi\n",
        "print(\"Test set accuracy: {:.2f}\".format(acc_svm_lin))\n",
        "print(f\"Test set accuracy: {acc_svm_lin}\")"
      ],
      "metadata": {
        "colab": {
          "base_uri": "https://localhost:8080/"
        },
        "id": "tyiN7fGaEtE5",
        "outputId": "17ee8aa0-519d-4a7c-893d-94e373f52bfe"
      },
      "execution_count": null,
      "outputs": [
        {
          "output_type": "stream",
          "name": "stdout",
          "text": [
            "Test set accuracy: 0.74\n",
            "Test set accuracy: 0.7402597402597403\n"
          ]
        }
      ]
    },
    {
      "cell_type": "markdown",
      "source": [
        "**Penjelasan :**\n",
        "1. svm_lin = SVC(kernel='linear'): Baris ini membuat objek SVC dengan kernel linear dan menyimpannya dalam variabel svm_lin. Objek ini merupakan model SVM yang akan digunakan untuk klasifikasi.\n",
        "2. svm_lin.fit(X_train_std, y_train): Baris ini melatih model SVM (svm_lin) menggunakan data training yang telah distandarisasi (X_train_std dan y_train). Proses training ini akan membuat model mempelajari pola dari data training sehingga dapat digunakan untuk prediksi.\n",
        "3. y_pred_svm_lin = svm_lin.predict(X_test_std): Baris ini menggunakan model SVM yang telah dilatih (svm_lin) untuk memprediksi label pada data testing yang telah distandarisasi (X_test_std). Hasil prediksi disimpan dalam variabel y_pred_svm_lin.\n",
        "4. acc_svm_lin = accuracy_score(y_test, y_pred_svm_lin): Baris ini menghitung akurasi model dengan membandingkan label prediksi (y_pred_svm_lin) dengan label sebenarnya (y_test). Fungsi accuracy_score dari sklearn.metrics digunakan untuk menghitung akurasi. Hasil perhitungan akurasi disimpan dalam variabel acc_svm_lin.\n",
        "5. print(\"Test set accuracy: {:.2f}\".format(acc_svm_lin)): Baris ini menampilkan akurasi model dengan format dua angka di belakang koma.\n",
        "6. print(f\"Test set accuracy: {acc_svm_lin}\"): Baris ini menampilkan akurasi model menggunakan f-string."
      ],
      "metadata": {
        "id": "UslLqO17IUjH"
      }
    },
    {
      "cell_type": "markdown",
      "source": [
        "**Training dengan SVM RBF**"
      ],
      "metadata": {
        "id": "N2c68cnDEvLG"
      }
    },
    {
      "cell_type": "code",
      "source": [
        "# Model SVM RBF tanpa tunnning hyperparameter\n",
        "svm_rbf = SVC(kernel='rbf')\n",
        "\n",
        "# Fit ke model\n",
        "svm_rbf.fit(X_train_std, y_train)\n",
        "\n",
        "# Prediksi\n",
        "y_pred_svm_rbf = svm_rbf.predict(X_test_std)\n",
        "\n",
        "# Evaluasi akurasi testing data\n",
        "acc_svm_rbf = accuracy_score(y_test, y_pred_svm_rbf)\n",
        "\n",
        "# Print hasil evaluasi\n",
        "print(\"Test set accuracy: {:.2f}\".format(acc_svm_rbf))\n",
        "print(f\"Test set accuracy: {acc_svm_rbf}\")"
      ],
      "metadata": {
        "colab": {
          "base_uri": "https://localhost:8080/"
        },
        "id": "3RLi9teWEx0O",
        "outputId": "d72c2ec9-366f-4e4e-a9f4-7310bbea2211"
      },
      "execution_count": null,
      "outputs": [
        {
          "output_type": "stream",
          "name": "stdout",
          "text": [
            "Test set accuracy: 0.72\n",
            "Test set accuracy: 0.7229437229437229\n"
          ]
        }
      ]
    },
    {
      "cell_type": "markdown",
      "source": [
        "**Penjelasan :**\n",
        "1. svm_rbf = SVC(kernel='rbf'): Baris ini membuat objek SVC dengan kernel Radial Basis Function (RBF) dan menyimpannya dalam variabel svm_rbf. Objek ini merupakan model SVM yang akan digunakan untuk klasifikasi.\n",
        "2. svm_rbf.fit(X_train_std, y_train): Baris ini melatih model SVM (svm_rbf) menggunakan data training yang telah distandarisasi (X_train_std dan y_train). Proses training ini akan membuat model mempelajari pola dari data training sehingga dapat digunakan untuk prediksi.\n",
        "3. y_pred_svm_rbf = svm_rbf.predict(X_test_std): Baris ini menggunakan model SVM yang telah dilatih (svm_rbf) untuk memprediksi label pada data testing yang telah distandarisasi (X_test_std). Hasil prediksi disimpan dalam variabel y_pred_svm_rbf.\n",
        "4. acc_svm_rbf = accuracy_score(y_test, y_pred_svm_rbf): Baris ini menghitung akurasi model dengan membandingkan label prediksi (y_pred_svm_rbf) dengan label sebenarnya (y_test). Fungsi accuracy_score dari sklearn.metrics digunakan untuk menghitung akurasi. Hasil perhitungan akurasi disimpan dalam variabel acc_svm_rbf.\n",
        "5. print(\"Test set accuracy: {:.2f}\".format(acc_svm_rbf)): Baris ini menampilkan akurasi model dengan format dua angka di belakang koma.\n",
        "6. print(f\"Test set accuracy: {acc_svm_rbf}\"): Baris ini menampilkan akurasi model menggunakan f-string."
      ],
      "metadata": {
        "id": "YzT66ZbCIl_a"
      }
    },
    {
      "cell_type": "markdown",
      "source": [
        "**Training dengan Voting**"
      ],
      "metadata": {
        "id": "BW9yXCS6E1dD"
      }
    },
    {
      "cell_type": "code",
      "source": [
        "# Definisikan algoritma yang akan digunakan untuk voting\n",
        "\n",
        "clf1 = GaussianNB()\n",
        "clf2 = SVC(kernel='linear')\n",
        "clf3 = SVC(kernel='rbf', probability=True)\n",
        "\n",
        "# model hard voting\n",
        "voting = VotingClassifier(estimators=[('GaussianNB', clf1), ('SVM-LIN', clf2), ('SVM-RBF', clf3)], voting='hard')\n",
        "\n",
        "# Fit model\n",
        "voting.fit(X_train_std, y_train)\n",
        "\n",
        "# Prediksi\n",
        "y_pred_vt1 = voting.predict(X_test_std)\n",
        "\n",
        "# Evaluasi akurasi testing data\n",
        "acc_vt1 = accuracy_score(y_test, y_pred_vt1)\n",
        "\n",
        "# Print hasil evaluasi\n",
        "print('Voting Hard')\n",
        "print(\"Test set accuracy: {:.2f}\".format(acc_vt1))\n",
        "print(f\"Test set accuracy: {acc_vt1}\")"
      ],
      "metadata": {
        "colab": {
          "base_uri": "https://localhost:8080/"
        },
        "id": "v7ibzFbtE38a",
        "outputId": "b6edd37d-f896-455a-cbb0-1d91c2d43fd2"
      },
      "execution_count": null,
      "outputs": [
        {
          "output_type": "stream",
          "name": "stdout",
          "text": [
            "Voting Hard\n",
            "Test set accuracy: 0.74\n",
            "Test set accuracy: 0.7402597402597403\n"
          ]
        }
      ]
    },
    {
      "cell_type": "markdown",
      "source": [
        "**Penjelasan :**\n",
        "1. clf1 = GaussianNB(): Baris ini membuat objek GaussianNB dan menyimpannya dalam variabel clf1. Objek ini merupakan model Naive Bayes yang akan digunakan sebagai salah satu estimator dalam ensemble voting.\n",
        "2. clf2 = SVC(kernel='linear'): Baris ini membuat objek SVC dengan kernel linear dan menyimpannya dalam variabel clf2. Objek ini merupakan model SVM linear yang akan digunakan sebagai estimator dalam ensemble voting.\n",
        "3. clf3 = SVC(kernel='rbf', probability=True): Baris ini membuat objek SVC dengan kernel RBF dan menyimpannya dalam variabel clf3.\n",
        "  *   probability=True: Parameter ini diaktifkan agar model SVM RBF dapat menghitung probabilitas kelas, yang diperlukan untuk voting jenis 'soft'. Objek ini merupakan model SVM RBF yang akan digunakan sebagai estimator dalam ensemble voting.\n",
        "4. voting = VotingClassifier(estimators=[('GaussianNB', clf1), ('SVM-LIN', clf2), ('SVM-RBF', clf3)], voting='hard'): Baris ini membuat objek VotingClassifier dan menyimpannya dalam variabel voting.\n",
        "  *   estimators=[('GaussianNB', clf1), ('SVM-LIN', clf2), ('SVM-RBF', clf3)]: Menentukan estimator-estimator yang akan digunakan dalam ensemble voting, beserta nama-nama mereka.\n",
        "  *   voting='hard': Menentukan metode voting yang digunakan, yaitu 'hard voting'. Dalam hard voting, prediksi akhir ditentukan berdasarkan kelas yang paling banyak diprediksi oleh estimator-estimator.\n",
        "5. voting.fit(X_train_std, y_train): Baris ini melatih model ensemble voting (voting) menggunakan data training yang telah distandarisasi (X_train_std dan y_train). Proses training ini akan melatih masing-masing estimator dalam ensemble.\n",
        "6. y_pred_vt1 = voting.predict(X_test_std): Baris ini menggunakan model ensemble voting yang telah dilatih (voting) untuk memprediksi label pada data testing yang telah distandarisasi (X_test_std). Hasil prediksi disimpan dalam variabel y_pred_vt1.\n",
        "7. acc_vt1 = accuracy_score(y_test, y_pred_vt1): Baris ini menghitung akurasi model dengan membandingkan label prediksi (y_pred_vt1) dengan label sebenarnya (y_test). Fungsi accuracy_score dari sklearn.metrics digunakan untuk menghitung akurasi. Hasil perhitungan akurasi disimpan dalam variabel acc_vt1.\n",
        "8. print('Voting Hard'): Baris ini menampilkan teks 'Voting Hard' untuk menunjukkan jenis voting yang digunakan.\n",
        "9. print(\"Test set accuracy: {:.2f}\".format(acc_vt1)): Baris ini menampilkan akurasi model dengan format dua angka di belakang koma.\n",
        "10. print(f\"Test set accuracy: {acc_vt1}\"): Baris ini menampilkan akurasi model menggunakan f-string."
      ],
      "metadata": {
        "id": "sAeqLj_-JUUt"
      }
    },
    {
      "cell_type": "markdown",
      "source": [
        "# **Tugas**"
      ],
      "metadata": {
        "id": "R4AX9ourFV6Z"
      }
    },
    {
      "cell_type": "markdown",
      "source": [
        "**Tugas 1**\n",
        "\n",
        "Terdapat dataset mushroom. Berdasarkan dataset yang tersebut, bandingkan peforma antara algoritma Decision Tree dan RandomForest. Gunakan tunning hyperparameter untuk mendapatkan parameter dan akurasi yang terbaik."
      ],
      "metadata": {
        "id": "UaOY4tRNFZEo"
      }
    },
    {
      "cell_type": "code",
      "source": [
        "# Import dependencies\n",
        "import numpy as np\n",
        "import pandas as pd\n",
        "from sklearn.tree import DecisionTreeClassifier\n",
        "from sklearn.ensemble import RandomForestClassifier\n",
        "from sklearn.model_selection import train_test_split\n",
        "from sklearn.metrics import accuracy_score, classification_report\n",
        "from sklearn.preprocessing import LabelEncoder\n",
        "\n",
        "# Preprocess\n",
        "df = pd.read_csv(dir + 'mushrooms.csv')\n",
        "df.head()\n",
        "\n",
        "labelencoder=LabelEncoder()\n",
        "for column in df.columns:\n",
        "    df[column] = labelencoder.fit_transform(df[column])\n",
        "\n",
        "# Extract features and targets\n",
        "X = df.iloc[:,1:]\n",
        "y = df.iloc[:,0]\n",
        "\n",
        "# Split train and test\n",
        "X_train, X_test, y_train, y_test = train_test_split(X, y, test_size=0.2, random_state=1)\n",
        "\n",
        "dtf = DecisionTreeClassifier()\n",
        "rfc = RandomForestClassifier()\n",
        "\n",
        "grid_dtf = GridSearchCV(\n",
        "    estimator=dtf,\n",
        "    param_grid={\n",
        "        'max_depth': [10, 20, 30, None],\n",
        "        'min_samples_split': [2, 5, 10],\n",
        "        'min_samples_leaf': [1, 2, 4]\n",
        "    },\n",
        "    cv=5, verbose=0,\n",
        "    scoring='neg_mean_squared_error'\n",
        ")\n",
        "\n",
        "grid_rfc = GridSearchCV(\n",
        "    estimator=rfc,\n",
        "    param_grid={\n",
        "      'n_estimators': [25, 50, 100, 150],\n",
        "      'max_features': ['sqrt', 'log2', None],\n",
        "      'max_depth': [3, 6, 9],\n",
        "      'max_leaf_nodes': [3, 6, 9],\n",
        "    },\n",
        "    cv=5, verbose=0,\n",
        "    scoring='neg_mean_squared_error'\n",
        ")\n",
        "\n",
        "# Fit\n",
        "grid_dtf.fit(X_train, y_train)\n",
        "grid_rfc.fit(X_train, y_train)\n",
        "\n",
        "# Eval\n",
        "dtf_pred = grid_dtf.predict(X_test)\n",
        "rfc_pred = grid_rfc.predict(X_test)\n",
        "\n",
        "print(\"Decision Tree Accuracy: {:.2F}\".format(accuracy_score(y_test, dtf_pred)))\n",
        "print(\"Random Forest Accuracy: {:.2F}\".format(accuracy_score(y_test, rfc_pred)))"
      ],
      "metadata": {
        "colab": {
          "base_uri": "https://localhost:8080/"
        },
        "id": "VC9CNe7tFdwP",
        "outputId": "6c3ff947-44f1-4614-eb0f-5d393db0140a"
      },
      "execution_count": null,
      "outputs": [
        {
          "output_type": "stream",
          "name": "stdout",
          "text": [
            "Decision Tree Accuracy: 1.00\n",
            "Random Forest Accuracy: 0.99\n"
          ]
        }
      ]
    },
    {
      "cell_type": "markdown",
      "source": [
        "**Tugas 2**\n",
        "\n",
        "Terdapat dataset mushroom. Berdasarkan dataset tersebut, bandingkan peforma antara algoritma Decision Tree dan AdaBoost. Gunakan tunning hyperparameter untuk mendapatkan parameter dan akurasi yang terbaik."
      ],
      "metadata": {
        "id": "mcBJzG8ZFd9t"
      }
    },
    {
      "cell_type": "code",
      "source": [
        "# Import dependencies\n",
        "import numpy as np\n",
        "import pandas as pd\n",
        "from sklearn.tree import DecisionTreeClassifier\n",
        "from sklearn.ensemble import AdaBoostClassifier\n",
        "from sklearn.model_selection import train_test_split\n",
        "from sklearn.metrics import accuracy_score, classification_report\n",
        "from sklearn.preprocessing import LabelEncoder\n",
        "\n",
        "# Preprocess\n",
        "df = pd.read_csv(dir + 'mushrooms.csv')\n",
        "df.head()\n",
        "\n",
        "labelencoder=LabelEncoder()\n",
        "for column in df.columns:\n",
        "    df[column] = labelencoder.fit_transform(df[column])\n",
        "\n",
        "# Extract features and targets\n",
        "X = df.iloc[:,1:]\n",
        "y = df.iloc[:,0]\n",
        "\n",
        "# Split train and test\n",
        "X_train, X_test, y_train, y_test = train_test_split(X, y, test_size=0.2, random_state=1)\n",
        "\n",
        "dtf = DecisionTreeClassifier()\n",
        "ada = AdaBoostClassifier()\n",
        "\n",
        "grid_dtf = GridSearchCV(\n",
        "    estimator=dtf,\n",
        "    param_grid={\n",
        "        'max_depth': [10, 20, 30, None],\n",
        "        'min_samples_split': [2, 5, 10],\n",
        "        'min_samples_leaf': [1, 2, 4]\n",
        "    },\n",
        "    cv=5,\n",
        "    verbose=0,\n",
        ")\n",
        "\n",
        "grid_ada = GridSearchCV(\n",
        "    estimator=ada,\n",
        "    param_grid={\n",
        "      'algorithm': ['SAMME'],\n",
        "      'n_estimators' : [50, 70, 90, 120, 180, 200],\n",
        "      'learning_rate' : [0.001, 0.01, 0.1, 1, 10]\n",
        "    },\n",
        "    cv=5,\n",
        "    verbose=0,\n",
        ")\n",
        "\n",
        "# Fit\n",
        "grid_dtf.fit(X_train, y_train)\n",
        "grid_ada.fit(X_train, y_train)\n",
        "\n",
        "# Eval\n",
        "dtf_pred = grid_dtf.predict(X_test)\n",
        "ada_pred = grid_ada.predict(X_test)\n",
        "\n",
        "print(\"Decision Tree Accuracy: {:.2F}\".format(accuracy_score(y_test, dtf_pred)))\n",
        "print(\"Ada Boost Accuracy: {:.2F}\".format(accuracy_score(y_test, ada_pred)))"
      ],
      "metadata": {
        "colab": {
          "base_uri": "https://localhost:8080/"
        },
        "id": "s_FoNbDjFhkb",
        "outputId": "d3568bb6-6231-4ff0-9081-0525f26272f6"
      },
      "execution_count": null,
      "outputs": [
        {
          "output_type": "stream",
          "name": "stdout",
          "text": [
            "Decision Tree Accuracy: 1.00\n",
            "Ada Boost Accuracy: 1.00\n"
          ]
        }
      ]
    },
    {
      "cell_type": "markdown",
      "source": [
        "**Tugas 3**\n",
        "\n",
        "Dengan menggunakan dataset diabetes, buatlah ensemble voting dengan algoritma\n",
        "\n",
        "1. Logistic Regression\n",
        "2. SVM kernel polynomial\n",
        "3. Decission Tree\n",
        "\n",
        "Anda boleh melakukan eksplorasi dengan melakukan tunning hyperparameter"
      ],
      "metadata": {
        "id": "E-tR8zdIFiro"
      }
    },
    {
      "cell_type": "code",
      "source": [
        "from sklearn.ensemble import RandomForestClassifier, StackingClassifier\n",
        "from sklearn.linear_model import LogisticRegression\n",
        "from sklearn.model_selection import train_test_split, GridSearchCV\n",
        "from sklearn.neighbors import KNeighborsClassifier\n",
        "from sklearn.tree import DecisionTreeClassifier\n",
        "\n",
        "# Load data\n",
        "df = pd.read_csv(dir + 'diabetes.csv')\n",
        "\n",
        "df.head()\n",
        "\n",
        "# Seleksi fitur\n",
        "X = df.iloc[:,:-1]\n",
        "y = df['Outcome']\n",
        "\n",
        "# Split data training\n",
        "X_train, X_test, y_train, y_test = train_test_split(X, y, stratify=y, random_state=42)\n",
        "\n",
        "from sklearn.preprocessing import StandardScaler\n",
        "\n",
        "sc = StandardScaler()\n",
        "\n",
        "# Standarisasi pada fitur di X_train dan X_test\n",
        "X_train_std = sc.fit_transform(X_train)\n",
        "X_test_std = sc.transform(X_test)\n",
        "\n",
        "\n",
        "# Definisikan algoritma yang akan digunakan untuk voting\n",
        "\n",
        "clf1 = LogisticRegression()\n",
        "clf2 = SVC(kernel='poly')\n",
        "clf3 = DecisionTreeClassifier()\n",
        "\n",
        "# model hard voting\n",
        "voting = VotingClassifier(estimators=[('LR', clf1), ('SVM-POL', clf2), ('DTC', clf3)], voting='hard')\n",
        "\n",
        "# Fit model\n",
        "voting.fit(X_train_std, y_train)\n",
        "\n",
        "# Prediksi\n",
        "y_pred_vt1 = voting.predict(X_test_std)\n",
        "\n",
        "# Evaluasi akurasi testing data\n",
        "acc_vt1 = accuracy_score(y_test, y_pred_vt1)\n",
        "\n",
        "# Print hasil evaluasi\n",
        "print('Voting Hard')\n",
        "print(\"Test set accuracy: {:.2f}\".format(acc_vt1))\n",
        "print(f\"Test set accuracy: {acc_vt1}\")"
      ],
      "metadata": {
        "colab": {
          "base_uri": "https://localhost:8080/"
        },
        "id": "-2gFGhYtGWyg",
        "outputId": "0ba5065b-49fe-4b3a-a6c3-4472201e0ddf"
      },
      "execution_count": null,
      "outputs": [
        {
          "output_type": "stream",
          "name": "stdout",
          "text": [
            "Voting Hard\n",
            "Test set accuracy: 0.74\n",
            "Test set accuracy: 0.7447916666666666\n"
          ]
        }
      ]
    }
  ]
}