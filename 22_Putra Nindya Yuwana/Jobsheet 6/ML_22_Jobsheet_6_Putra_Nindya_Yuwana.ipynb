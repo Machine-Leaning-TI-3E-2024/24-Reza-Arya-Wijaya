{
  "nbformat": 4,
  "nbformat_minor": 0,
  "metadata": {
    "colab": {
      "provenance": []
    },
    "kernelspec": {
      "name": "python3",
      "display_name": "Python 3"
    },
    "language_info": {
      "name": "python"
    }
  },
  "cells": [
    {
      "cell_type": "markdown",
      "source": [
        "* Nama : Putra Nindya Yuwana\n",
        "* NIM : 2241720089\n",
        "* Kelas : TI-3E / 22"
      ],
      "metadata": {
        "id": "WqfAKV695gAj"
      }
    },
    {
      "cell_type": "markdown",
      "source": [
        "# PRAKTIKUM 1"
      ],
      "metadata": {
        "id": "ej69NonE5h6r"
      }
    },
    {
      "cell_type": "markdown",
      "source": [
        "## Bagging dengan RandomForest"
      ],
      "metadata": {
        "id": "7IydTKZ65qq8"
      }
    },
    {
      "cell_type": "markdown",
      "source": [
        "### Import Library"
      ],
      "metadata": {
        "id": "8oXg7kj97jfr"
      }
    },
    {
      "cell_type": "code",
      "execution_count": null,
      "metadata": {
        "id": "BO6g-8vu5bf4"
      },
      "outputs": [],
      "source": [
        "import numpy as np\n",
        "import pandas as pd\n",
        "from sklearn.tree import DecisionTreeClassifier # import DT\n",
        "from sklearn.ensemble import RandomForestClassifier # import RandomForest\n",
        "from sklearn.model_selection import train_test_split\n",
        "from sklearn.metrics import accuracy_score, classification_report"
      ]
    },
    {
      "cell_type": "markdown",
      "source": [
        "- import numpy as np: Mengimpor NumPy, library untuk komputasi numerik, khususnya untuk bekerja dengan array dan operasi matematika.\n",
        "- import pandas as pd: Mengimpor Pandas, library untuk manipulasi dan analisis data, terutama menggunakan struktur data seperti DataFrame.\n",
        "- from sklearn.tree import DecisionTreeClassifier: Mengimpor DecisionTreeClassifier, sebuah algoritma pohon keputusan untuk melakukan tugas klasifikasi.\n",
        "- from sklearn.ensemble import RandomForestClassifier: Mengimpor RandomForestClassifier, algoritma machine learning yang menggabungkan beberapa pohon keputusan untuk meningkatkan akurasi klasifikasi.\n",
        "- from sklearn.model_selection import train_test_split: Mengimpor fungsi train_test_split yang digunakan untuk membagi dataset menjadi dua bagian: data pelatihan dan data pengujian.\n",
        "- from sklearn.metrics import accuracy_score, classification_report: Mengimpor accuracy_score dan classification_report untuk mengevaluasi model.\n",
        "- accuracy_score mengukur tingkat akurasi prediksi.\n",
        "- classification_report memberikan metrik evaluasi seperti precision, recall, dan F1-score untuk klasifikasi."
      ],
      "metadata": {
        "id": "xWaT4rzG6lgu"
      }
    },
    {
      "cell_type": "markdown",
      "source": [
        "### Persiapan Data"
      ],
      "metadata": {
        "id": "2xrDrNZp7lkW"
      }
    },
    {
      "cell_type": "code",
      "source": [
        "# Load data\n",
        "df = pd.read_csv('wbc.csv')\n",
        "\n",
        "df.head()"
      ],
      "metadata": {
        "colab": {
          "base_uri": "https://localhost:8080/",
          "height": 273
        },
        "id": "4JR492rn6c5d",
        "outputId": "2ae98933-0874-4655-d4ec-dfc263ba2b41"
      },
      "execution_count": null,
      "outputs": [
        {
          "output_type": "execute_result",
          "data": {
            "text/plain": [
              "         id diagnosis  radius_mean  texture_mean  perimeter_mean  area_mean  \\\n",
              "0    842302         M        17.99         10.38          122.80     1001.0   \n",
              "1    842517         M        20.57         17.77          132.90     1326.0   \n",
              "2  84300903         M        19.69         21.25          130.00     1203.0   \n",
              "3  84348301         M        11.42         20.38           77.58      386.1   \n",
              "4  84358402         M        20.29         14.34          135.10     1297.0   \n",
              "\n",
              "   smoothness_mean  compactness_mean  concavity_mean  concave points_mean  \\\n",
              "0          0.11840           0.27760          0.3001              0.14710   \n",
              "1          0.08474           0.07864          0.0869              0.07017   \n",
              "2          0.10960           0.15990          0.1974              0.12790   \n",
              "3          0.14250           0.28390          0.2414              0.10520   \n",
              "4          0.10030           0.13280          0.1980              0.10430   \n",
              "\n",
              "   ...  texture_worst  perimeter_worst  area_worst  smoothness_worst  \\\n",
              "0  ...          17.33           184.60      2019.0            0.1622   \n",
              "1  ...          23.41           158.80      1956.0            0.1238   \n",
              "2  ...          25.53           152.50      1709.0            0.1444   \n",
              "3  ...          26.50            98.87       567.7            0.2098   \n",
              "4  ...          16.67           152.20      1575.0            0.1374   \n",
              "\n",
              "   compactness_worst  concavity_worst  concave points_worst  symmetry_worst  \\\n",
              "0             0.6656           0.7119                0.2654          0.4601   \n",
              "1             0.1866           0.2416                0.1860          0.2750   \n",
              "2             0.4245           0.4504                0.2430          0.3613   \n",
              "3             0.8663           0.6869                0.2575          0.6638   \n",
              "4             0.2050           0.4000                0.1625          0.2364   \n",
              "\n",
              "   fractal_dimension_worst  Unnamed: 32  \n",
              "0                  0.11890          NaN  \n",
              "1                  0.08902          NaN  \n",
              "2                  0.08758          NaN  \n",
              "3                  0.17300          NaN  \n",
              "4                  0.07678          NaN  \n",
              "\n",
              "[5 rows x 33 columns]"
            ],
            "text/html": [
              "\n",
              "  <div id=\"df-248bab01-7128-4891-a692-08caca05d4d6\" class=\"colab-df-container\">\n",
              "    <div>\n",
              "<style scoped>\n",
              "    .dataframe tbody tr th:only-of-type {\n",
              "        vertical-align: middle;\n",
              "    }\n",
              "\n",
              "    .dataframe tbody tr th {\n",
              "        vertical-align: top;\n",
              "    }\n",
              "\n",
              "    .dataframe thead th {\n",
              "        text-align: right;\n",
              "    }\n",
              "</style>\n",
              "<table border=\"1\" class=\"dataframe\">\n",
              "  <thead>\n",
              "    <tr style=\"text-align: right;\">\n",
              "      <th></th>\n",
              "      <th>id</th>\n",
              "      <th>diagnosis</th>\n",
              "      <th>radius_mean</th>\n",
              "      <th>texture_mean</th>\n",
              "      <th>perimeter_mean</th>\n",
              "      <th>area_mean</th>\n",
              "      <th>smoothness_mean</th>\n",
              "      <th>compactness_mean</th>\n",
              "      <th>concavity_mean</th>\n",
              "      <th>concave points_mean</th>\n",
              "      <th>...</th>\n",
              "      <th>texture_worst</th>\n",
              "      <th>perimeter_worst</th>\n",
              "      <th>area_worst</th>\n",
              "      <th>smoothness_worst</th>\n",
              "      <th>compactness_worst</th>\n",
              "      <th>concavity_worst</th>\n",
              "      <th>concave points_worst</th>\n",
              "      <th>symmetry_worst</th>\n",
              "      <th>fractal_dimension_worst</th>\n",
              "      <th>Unnamed: 32</th>\n",
              "    </tr>\n",
              "  </thead>\n",
              "  <tbody>\n",
              "    <tr>\n",
              "      <th>0</th>\n",
              "      <td>842302</td>\n",
              "      <td>M</td>\n",
              "      <td>17.99</td>\n",
              "      <td>10.38</td>\n",
              "      <td>122.80</td>\n",
              "      <td>1001.0</td>\n",
              "      <td>0.11840</td>\n",
              "      <td>0.27760</td>\n",
              "      <td>0.3001</td>\n",
              "      <td>0.14710</td>\n",
              "      <td>...</td>\n",
              "      <td>17.33</td>\n",
              "      <td>184.60</td>\n",
              "      <td>2019.0</td>\n",
              "      <td>0.1622</td>\n",
              "      <td>0.6656</td>\n",
              "      <td>0.7119</td>\n",
              "      <td>0.2654</td>\n",
              "      <td>0.4601</td>\n",
              "      <td>0.11890</td>\n",
              "      <td>NaN</td>\n",
              "    </tr>\n",
              "    <tr>\n",
              "      <th>1</th>\n",
              "      <td>842517</td>\n",
              "      <td>M</td>\n",
              "      <td>20.57</td>\n",
              "      <td>17.77</td>\n",
              "      <td>132.90</td>\n",
              "      <td>1326.0</td>\n",
              "      <td>0.08474</td>\n",
              "      <td>0.07864</td>\n",
              "      <td>0.0869</td>\n",
              "      <td>0.07017</td>\n",
              "      <td>...</td>\n",
              "      <td>23.41</td>\n",
              "      <td>158.80</td>\n",
              "      <td>1956.0</td>\n",
              "      <td>0.1238</td>\n",
              "      <td>0.1866</td>\n",
              "      <td>0.2416</td>\n",
              "      <td>0.1860</td>\n",
              "      <td>0.2750</td>\n",
              "      <td>0.08902</td>\n",
              "      <td>NaN</td>\n",
              "    </tr>\n",
              "    <tr>\n",
              "      <th>2</th>\n",
              "      <td>84300903</td>\n",
              "      <td>M</td>\n",
              "      <td>19.69</td>\n",
              "      <td>21.25</td>\n",
              "      <td>130.00</td>\n",
              "      <td>1203.0</td>\n",
              "      <td>0.10960</td>\n",
              "      <td>0.15990</td>\n",
              "      <td>0.1974</td>\n",
              "      <td>0.12790</td>\n",
              "      <td>...</td>\n",
              "      <td>25.53</td>\n",
              "      <td>152.50</td>\n",
              "      <td>1709.0</td>\n",
              "      <td>0.1444</td>\n",
              "      <td>0.4245</td>\n",
              "      <td>0.4504</td>\n",
              "      <td>0.2430</td>\n",
              "      <td>0.3613</td>\n",
              "      <td>0.08758</td>\n",
              "      <td>NaN</td>\n",
              "    </tr>\n",
              "    <tr>\n",
              "      <th>3</th>\n",
              "      <td>84348301</td>\n",
              "      <td>M</td>\n",
              "      <td>11.42</td>\n",
              "      <td>20.38</td>\n",
              "      <td>77.58</td>\n",
              "      <td>386.1</td>\n",
              "      <td>0.14250</td>\n",
              "      <td>0.28390</td>\n",
              "      <td>0.2414</td>\n",
              "      <td>0.10520</td>\n",
              "      <td>...</td>\n",
              "      <td>26.50</td>\n",
              "      <td>98.87</td>\n",
              "      <td>567.7</td>\n",
              "      <td>0.2098</td>\n",
              "      <td>0.8663</td>\n",
              "      <td>0.6869</td>\n",
              "      <td>0.2575</td>\n",
              "      <td>0.6638</td>\n",
              "      <td>0.17300</td>\n",
              "      <td>NaN</td>\n",
              "    </tr>\n",
              "    <tr>\n",
              "      <th>4</th>\n",
              "      <td>84358402</td>\n",
              "      <td>M</td>\n",
              "      <td>20.29</td>\n",
              "      <td>14.34</td>\n",
              "      <td>135.10</td>\n",
              "      <td>1297.0</td>\n",
              "      <td>0.10030</td>\n",
              "      <td>0.13280</td>\n",
              "      <td>0.1980</td>\n",
              "      <td>0.10430</td>\n",
              "      <td>...</td>\n",
              "      <td>16.67</td>\n",
              "      <td>152.20</td>\n",
              "      <td>1575.0</td>\n",
              "      <td>0.1374</td>\n",
              "      <td>0.2050</td>\n",
              "      <td>0.4000</td>\n",
              "      <td>0.1625</td>\n",
              "      <td>0.2364</td>\n",
              "      <td>0.07678</td>\n",
              "      <td>NaN</td>\n",
              "    </tr>\n",
              "  </tbody>\n",
              "</table>\n",
              "<p>5 rows × 33 columns</p>\n",
              "</div>\n",
              "    <div class=\"colab-df-buttons\">\n",
              "\n",
              "  <div class=\"colab-df-container\">\n",
              "    <button class=\"colab-df-convert\" onclick=\"convertToInteractive('df-248bab01-7128-4891-a692-08caca05d4d6')\"\n",
              "            title=\"Convert this dataframe to an interactive table.\"\n",
              "            style=\"display:none;\">\n",
              "\n",
              "  <svg xmlns=\"http://www.w3.org/2000/svg\" height=\"24px\" viewBox=\"0 -960 960 960\">\n",
              "    <path d=\"M120-120v-720h720v720H120Zm60-500h600v-160H180v160Zm220 220h160v-160H400v160Zm0 220h160v-160H400v160ZM180-400h160v-160H180v160Zm440 0h160v-160H620v160ZM180-180h160v-160H180v160Zm440 0h160v-160H620v160Z\"/>\n",
              "  </svg>\n",
              "    </button>\n",
              "\n",
              "  <style>\n",
              "    .colab-df-container {\n",
              "      display:flex;\n",
              "      gap: 12px;\n",
              "    }\n",
              "\n",
              "    .colab-df-convert {\n",
              "      background-color: #E8F0FE;\n",
              "      border: none;\n",
              "      border-radius: 50%;\n",
              "      cursor: pointer;\n",
              "      display: none;\n",
              "      fill: #1967D2;\n",
              "      height: 32px;\n",
              "      padding: 0 0 0 0;\n",
              "      width: 32px;\n",
              "    }\n",
              "\n",
              "    .colab-df-convert:hover {\n",
              "      background-color: #E2EBFA;\n",
              "      box-shadow: 0px 1px 2px rgba(60, 64, 67, 0.3), 0px 1px 3px 1px rgba(60, 64, 67, 0.15);\n",
              "      fill: #174EA6;\n",
              "    }\n",
              "\n",
              "    .colab-df-buttons div {\n",
              "      margin-bottom: 4px;\n",
              "    }\n",
              "\n",
              "    [theme=dark] .colab-df-convert {\n",
              "      background-color: #3B4455;\n",
              "      fill: #D2E3FC;\n",
              "    }\n",
              "\n",
              "    [theme=dark] .colab-df-convert:hover {\n",
              "      background-color: #434B5C;\n",
              "      box-shadow: 0px 1px 3px 1px rgba(0, 0, 0, 0.15);\n",
              "      filter: drop-shadow(0px 1px 2px rgba(0, 0, 0, 0.3));\n",
              "      fill: #FFFFFF;\n",
              "    }\n",
              "  </style>\n",
              "\n",
              "    <script>\n",
              "      const buttonEl =\n",
              "        document.querySelector('#df-248bab01-7128-4891-a692-08caca05d4d6 button.colab-df-convert');\n",
              "      buttonEl.style.display =\n",
              "        google.colab.kernel.accessAllowed ? 'block' : 'none';\n",
              "\n",
              "      async function convertToInteractive(key) {\n",
              "        const element = document.querySelector('#df-248bab01-7128-4891-a692-08caca05d4d6');\n",
              "        const dataTable =\n",
              "          await google.colab.kernel.invokeFunction('convertToInteractive',\n",
              "                                                    [key], {});\n",
              "        if (!dataTable) return;\n",
              "\n",
              "        const docLinkHtml = 'Like what you see? Visit the ' +\n",
              "          '<a target=\"_blank\" href=https://colab.research.google.com/notebooks/data_table.ipynb>data table notebook</a>'\n",
              "          + ' to learn more about interactive tables.';\n",
              "        element.innerHTML = '';\n",
              "        dataTable['output_type'] = 'display_data';\n",
              "        await google.colab.output.renderOutput(dataTable, element);\n",
              "        const docLink = document.createElement('div');\n",
              "        docLink.innerHTML = docLinkHtml;\n",
              "        element.appendChild(docLink);\n",
              "      }\n",
              "    </script>\n",
              "  </div>\n",
              "\n",
              "\n",
              "<div id=\"df-87d02c5f-39f1-49a0-b4b4-f087a6bdff44\">\n",
              "  <button class=\"colab-df-quickchart\" onclick=\"quickchart('df-87d02c5f-39f1-49a0-b4b4-f087a6bdff44')\"\n",
              "            title=\"Suggest charts\"\n",
              "            style=\"display:none;\">\n",
              "\n",
              "<svg xmlns=\"http://www.w3.org/2000/svg\" height=\"24px\"viewBox=\"0 0 24 24\"\n",
              "     width=\"24px\">\n",
              "    <g>\n",
              "        <path d=\"M19 3H5c-1.1 0-2 .9-2 2v14c0 1.1.9 2 2 2h14c1.1 0 2-.9 2-2V5c0-1.1-.9-2-2-2zM9 17H7v-7h2v7zm4 0h-2V7h2v10zm4 0h-2v-4h2v4z\"/>\n",
              "    </g>\n",
              "</svg>\n",
              "  </button>\n",
              "\n",
              "<style>\n",
              "  .colab-df-quickchart {\n",
              "      --bg-color: #E8F0FE;\n",
              "      --fill-color: #1967D2;\n",
              "      --hover-bg-color: #E2EBFA;\n",
              "      --hover-fill-color: #174EA6;\n",
              "      --disabled-fill-color: #AAA;\n",
              "      --disabled-bg-color: #DDD;\n",
              "  }\n",
              "\n",
              "  [theme=dark] .colab-df-quickchart {\n",
              "      --bg-color: #3B4455;\n",
              "      --fill-color: #D2E3FC;\n",
              "      --hover-bg-color: #434B5C;\n",
              "      --hover-fill-color: #FFFFFF;\n",
              "      --disabled-bg-color: #3B4455;\n",
              "      --disabled-fill-color: #666;\n",
              "  }\n",
              "\n",
              "  .colab-df-quickchart {\n",
              "    background-color: var(--bg-color);\n",
              "    border: none;\n",
              "    border-radius: 50%;\n",
              "    cursor: pointer;\n",
              "    display: none;\n",
              "    fill: var(--fill-color);\n",
              "    height: 32px;\n",
              "    padding: 0;\n",
              "    width: 32px;\n",
              "  }\n",
              "\n",
              "  .colab-df-quickchart:hover {\n",
              "    background-color: var(--hover-bg-color);\n",
              "    box-shadow: 0 1px 2px rgba(60, 64, 67, 0.3), 0 1px 3px 1px rgba(60, 64, 67, 0.15);\n",
              "    fill: var(--button-hover-fill-color);\n",
              "  }\n",
              "\n",
              "  .colab-df-quickchart-complete:disabled,\n",
              "  .colab-df-quickchart-complete:disabled:hover {\n",
              "    background-color: var(--disabled-bg-color);\n",
              "    fill: var(--disabled-fill-color);\n",
              "    box-shadow: none;\n",
              "  }\n",
              "\n",
              "  .colab-df-spinner {\n",
              "    border: 2px solid var(--fill-color);\n",
              "    border-color: transparent;\n",
              "    border-bottom-color: var(--fill-color);\n",
              "    animation:\n",
              "      spin 1s steps(1) infinite;\n",
              "  }\n",
              "\n",
              "  @keyframes spin {\n",
              "    0% {\n",
              "      border-color: transparent;\n",
              "      border-bottom-color: var(--fill-color);\n",
              "      border-left-color: var(--fill-color);\n",
              "    }\n",
              "    20% {\n",
              "      border-color: transparent;\n",
              "      border-left-color: var(--fill-color);\n",
              "      border-top-color: var(--fill-color);\n",
              "    }\n",
              "    30% {\n",
              "      border-color: transparent;\n",
              "      border-left-color: var(--fill-color);\n",
              "      border-top-color: var(--fill-color);\n",
              "      border-right-color: var(--fill-color);\n",
              "    }\n",
              "    40% {\n",
              "      border-color: transparent;\n",
              "      border-right-color: var(--fill-color);\n",
              "      border-top-color: var(--fill-color);\n",
              "    }\n",
              "    60% {\n",
              "      border-color: transparent;\n",
              "      border-right-color: var(--fill-color);\n",
              "    }\n",
              "    80% {\n",
              "      border-color: transparent;\n",
              "      border-right-color: var(--fill-color);\n",
              "      border-bottom-color: var(--fill-color);\n",
              "    }\n",
              "    90% {\n",
              "      border-color: transparent;\n",
              "      border-bottom-color: var(--fill-color);\n",
              "    }\n",
              "  }\n",
              "</style>\n",
              "\n",
              "  <script>\n",
              "    async function quickchart(key) {\n",
              "      const quickchartButtonEl =\n",
              "        document.querySelector('#' + key + ' button');\n",
              "      quickchartButtonEl.disabled = true;  // To prevent multiple clicks.\n",
              "      quickchartButtonEl.classList.add('colab-df-spinner');\n",
              "      try {\n",
              "        const charts = await google.colab.kernel.invokeFunction(\n",
              "            'suggestCharts', [key], {});\n",
              "      } catch (error) {\n",
              "        console.error('Error during call to suggestCharts:', error);\n",
              "      }\n",
              "      quickchartButtonEl.classList.remove('colab-df-spinner');\n",
              "      quickchartButtonEl.classList.add('colab-df-quickchart-complete');\n",
              "    }\n",
              "    (() => {\n",
              "      let quickchartButtonEl =\n",
              "        document.querySelector('#df-87d02c5f-39f1-49a0-b4b4-f087a6bdff44 button');\n",
              "      quickchartButtonEl.style.display =\n",
              "        google.colab.kernel.accessAllowed ? 'block' : 'none';\n",
              "    })();\n",
              "  </script>\n",
              "</div>\n",
              "\n",
              "    </div>\n",
              "  </div>\n"
            ],
            "application/vnd.google.colaboratory.intrinsic+json": {
              "type": "dataframe",
              "variable_name": "df"
            }
          },
          "metadata": {},
          "execution_count": 2
        }
      ]
    },
    {
      "cell_type": "markdown",
      "source": [
        "- df = pd.read_csv('data/wbc.csv'): Membaca file CSV bernama 'wbc.csv' yang terletak di folder 'data' menggunakan Pandas.\n",
        "- df.head(): Menampilkan 5 baris pertama dari DataFrame df untuk memberikan gambaran awal tentang isi data (kolom dan nilainya)."
      ],
      "metadata": {
        "id": "vOo4gPSe64MH"
      }
    },
    {
      "cell_type": "code",
      "source": [
        "# Cek kolom null\n",
        "df.isnull().sum()"
      ],
      "metadata": {
        "colab": {
          "base_uri": "https://localhost:8080/",
          "height": 1000
        },
        "id": "kbp6XJfV69bU",
        "outputId": "b0e6785f-caff-46a5-ace6-0a8f64dcf41e"
      },
      "execution_count": null,
      "outputs": [
        {
          "output_type": "execute_result",
          "data": {
            "text/plain": [
              "id                           0\n",
              "diagnosis                    0\n",
              "radius_mean                  0\n",
              "texture_mean                 0\n",
              "perimeter_mean               0\n",
              "area_mean                    0\n",
              "smoothness_mean              0\n",
              "compactness_mean             0\n",
              "concavity_mean               0\n",
              "concave points_mean          0\n",
              "symmetry_mean                0\n",
              "fractal_dimension_mean       0\n",
              "radius_se                    0\n",
              "texture_se                   0\n",
              "perimeter_se                 0\n",
              "area_se                      0\n",
              "smoothness_se                0\n",
              "compactness_se               0\n",
              "concavity_se                 0\n",
              "concave points_se            0\n",
              "symmetry_se                  0\n",
              "fractal_dimension_se         0\n",
              "radius_worst                 0\n",
              "texture_worst                0\n",
              "perimeter_worst              0\n",
              "area_worst                   0\n",
              "smoothness_worst             0\n",
              "compactness_worst            0\n",
              "concavity_worst              0\n",
              "concave points_worst         0\n",
              "symmetry_worst               0\n",
              "fractal_dimension_worst      0\n",
              "Unnamed: 32                569\n",
              "dtype: int64"
            ],
            "text/html": [
              "<div>\n",
              "<style scoped>\n",
              "    .dataframe tbody tr th:only-of-type {\n",
              "        vertical-align: middle;\n",
              "    }\n",
              "\n",
              "    .dataframe tbody tr th {\n",
              "        vertical-align: top;\n",
              "    }\n",
              "\n",
              "    .dataframe thead th {\n",
              "        text-align: right;\n",
              "    }\n",
              "</style>\n",
              "<table border=\"1\" class=\"dataframe\">\n",
              "  <thead>\n",
              "    <tr style=\"text-align: right;\">\n",
              "      <th></th>\n",
              "      <th>0</th>\n",
              "    </tr>\n",
              "  </thead>\n",
              "  <tbody>\n",
              "    <tr>\n",
              "      <th>id</th>\n",
              "      <td>0</td>\n",
              "    </tr>\n",
              "    <tr>\n",
              "      <th>diagnosis</th>\n",
              "      <td>0</td>\n",
              "    </tr>\n",
              "    <tr>\n",
              "      <th>radius_mean</th>\n",
              "      <td>0</td>\n",
              "    </tr>\n",
              "    <tr>\n",
              "      <th>texture_mean</th>\n",
              "      <td>0</td>\n",
              "    </tr>\n",
              "    <tr>\n",
              "      <th>perimeter_mean</th>\n",
              "      <td>0</td>\n",
              "    </tr>\n",
              "    <tr>\n",
              "      <th>area_mean</th>\n",
              "      <td>0</td>\n",
              "    </tr>\n",
              "    <tr>\n",
              "      <th>smoothness_mean</th>\n",
              "      <td>0</td>\n",
              "    </tr>\n",
              "    <tr>\n",
              "      <th>compactness_mean</th>\n",
              "      <td>0</td>\n",
              "    </tr>\n",
              "    <tr>\n",
              "      <th>concavity_mean</th>\n",
              "      <td>0</td>\n",
              "    </tr>\n",
              "    <tr>\n",
              "      <th>concave points_mean</th>\n",
              "      <td>0</td>\n",
              "    </tr>\n",
              "    <tr>\n",
              "      <th>symmetry_mean</th>\n",
              "      <td>0</td>\n",
              "    </tr>\n",
              "    <tr>\n",
              "      <th>fractal_dimension_mean</th>\n",
              "      <td>0</td>\n",
              "    </tr>\n",
              "    <tr>\n",
              "      <th>radius_se</th>\n",
              "      <td>0</td>\n",
              "    </tr>\n",
              "    <tr>\n",
              "      <th>texture_se</th>\n",
              "      <td>0</td>\n",
              "    </tr>\n",
              "    <tr>\n",
              "      <th>perimeter_se</th>\n",
              "      <td>0</td>\n",
              "    </tr>\n",
              "    <tr>\n",
              "      <th>area_se</th>\n",
              "      <td>0</td>\n",
              "    </tr>\n",
              "    <tr>\n",
              "      <th>smoothness_se</th>\n",
              "      <td>0</td>\n",
              "    </tr>\n",
              "    <tr>\n",
              "      <th>compactness_se</th>\n",
              "      <td>0</td>\n",
              "    </tr>\n",
              "    <tr>\n",
              "      <th>concavity_se</th>\n",
              "      <td>0</td>\n",
              "    </tr>\n",
              "    <tr>\n",
              "      <th>concave points_se</th>\n",
              "      <td>0</td>\n",
              "    </tr>\n",
              "    <tr>\n",
              "      <th>symmetry_se</th>\n",
              "      <td>0</td>\n",
              "    </tr>\n",
              "    <tr>\n",
              "      <th>fractal_dimension_se</th>\n",
              "      <td>0</td>\n",
              "    </tr>\n",
              "    <tr>\n",
              "      <th>radius_worst</th>\n",
              "      <td>0</td>\n",
              "    </tr>\n",
              "    <tr>\n",
              "      <th>texture_worst</th>\n",
              "      <td>0</td>\n",
              "    </tr>\n",
              "    <tr>\n",
              "      <th>perimeter_worst</th>\n",
              "      <td>0</td>\n",
              "    </tr>\n",
              "    <tr>\n",
              "      <th>area_worst</th>\n",
              "      <td>0</td>\n",
              "    </tr>\n",
              "    <tr>\n",
              "      <th>smoothness_worst</th>\n",
              "      <td>0</td>\n",
              "    </tr>\n",
              "    <tr>\n",
              "      <th>compactness_worst</th>\n",
              "      <td>0</td>\n",
              "    </tr>\n",
              "    <tr>\n",
              "      <th>concavity_worst</th>\n",
              "      <td>0</td>\n",
              "    </tr>\n",
              "    <tr>\n",
              "      <th>concave points_worst</th>\n",
              "      <td>0</td>\n",
              "    </tr>\n",
              "    <tr>\n",
              "      <th>symmetry_worst</th>\n",
              "      <td>0</td>\n",
              "    </tr>\n",
              "    <tr>\n",
              "      <th>fractal_dimension_worst</th>\n",
              "      <td>0</td>\n",
              "    </tr>\n",
              "    <tr>\n",
              "      <th>Unnamed: 32</th>\n",
              "      <td>569</td>\n",
              "    </tr>\n",
              "  </tbody>\n",
              "</table>\n",
              "</div><br><label><b>dtype:</b> int64</label>"
            ]
          },
          "metadata": {},
          "execution_count": 3
        }
      ]
    },
    {
      "cell_type": "markdown",
      "source": [
        "df.isnull().sum():\n",
        "- df.isnull(): Mengecek setiap nilai dalam DataFrame df, apakah terdapat nilai kosong atau null. Hasilnya adalah DataFrame baru dengan nilai boolean (True untuk null, False untuk tidak null).\n",
        "- sum(): Menjumlahkan nilai True (nilai kosong) di setiap kolom, sehingga diperoleh jumlah total nilai kosong untuk masing-masing kolom."
      ],
      "metadata": {
        "id": "hQmQOgln7JfX"
      }
    },
    {
      "cell_type": "code",
      "source": [
        "# Seleksi fitur\n",
        "\n",
        "# Slice dataframe mulai dari kolom 'radius_mean' sampai 'fractal_dimension_worst'\n",
        "X = df.iloc[:,3:-1]\n",
        "y = df['diagnosis']\n",
        "y = y.map({'M':1, 'B':0}) # Encode label\n",
        "\n",
        "# Cek jumlah fitur dan instance\n",
        "X.shape"
      ],
      "metadata": {
        "colab": {
          "base_uri": "https://localhost:8080/"
        },
        "id": "vv4f7lCk7OTP",
        "outputId": "540fadd9-654c-40af-eb06-3a2233b660b9"
      },
      "execution_count": null,
      "outputs": [
        {
          "output_type": "execute_result",
          "data": {
            "text/plain": [
              "(569, 29)"
            ]
          },
          "metadata": {},
          "execution_count": 4
        }
      ]
    },
    {
      "cell_type": "markdown",
      "source": [
        "- X = df.iloc[:, 3:-1]: Mengambil subset kolom dari DataFrame df, yaitu kolom ke-4 hingga kolom terakhir kecuali yang paling akhir (penyeleksian dengan iloc berdasarkan indeks).\n",
        "- y = df['diagnosis']: Mengambil kolom 'diagnosis' dari DataFrame df sebagai label atau target yang akan diprediksi, disimpan dalam variabel y.\n",
        "- y = y.map({'M':1, 'B':0}): Mengubah label dari bentuk kategoris ke bentuk numerik. Label 'M' (Malignant, ganas) diubah menjadi 1, dan 'B' (Benign, jinak) diubah menjadi 0.\n",
        "- X.shape: Mengecek bentuk dari DataFrame X, yaitu jumlah baris (instance) dan kolom (fitur) yang dipilih."
      ],
      "metadata": {
        "id": "viOJzuPp7VDf"
      }
    },
    {
      "cell_type": "markdown",
      "source": [
        "### Split data training dan testing"
      ],
      "metadata": {
        "id": "oOkwU__d7orm"
      }
    },
    {
      "cell_type": "code",
      "source": [
        "from sklearn.model_selection import train_test_split\n",
        "\n",
        "X_train, X_test, y_train, y_test = train_test_split(X, y, test_size=0.2, random_state=1)"
      ],
      "metadata": {
        "id": "GtMpBqbs7fN7"
      },
      "execution_count": null,
      "outputs": []
    },
    {
      "cell_type": "markdown",
      "source": [
        "- from sklearn.model_selection import train_test_split: Mengimpor fungsi train_test_split dari Scikit-learn, yang digunakan untuk membagi dataset menjadi data pelatihan dan data pengujian.\n",
        "- test_size=0.2: Menentukan bahwa 20% dari data digunakan untuk pengujian, sementara 80% digunakan untuk pelatihan.\n",
        "- random_state=1: Menetapkan seed acak untuk memastikan hasil pembagian dataset konsisten setiap kali kode dijalankan."
      ],
      "metadata": {
        "id": "o-1VEX5p71yx"
      }
    },
    {
      "cell_type": "markdown",
      "source": [
        "### Training Decision Tree"
      ],
      "metadata": {
        "id": "DI0oH_LG77Ig"
      }
    },
    {
      "cell_type": "code",
      "source": [
        "# Secara default, DecisionTreeClassifier dari scikit-learn akan menggunakan nilai \"Gini\" untuk kriteria\n",
        "# Terdapat beberapa \"hyperparamater\" yang dapat digunakan. Silahka baca dokumentasi\n",
        "# Pada kasus ini kita akan menggunakan parameter default\n",
        "dt = DecisionTreeClassifier()\n",
        "\n",
        "# Sesuaikan dt ke set training\n",
        "dt.fit(X_train, y_train)\n",
        "\n",
        "# Memprediksi label set test\n",
        "y_pred_dt = dt.predict(X_test)\n",
        "\n",
        "#  menghitung set accuracy\n",
        "acc_dt = accuracy_score(y_test, y_pred_dt)\n",
        "print(\"Test set accuracy: {:.2f}\".format(acc_dt))\n",
        "print(f\"Test set accuracy: {acc_dt}\")"
      ],
      "metadata": {
        "colab": {
          "base_uri": "https://localhost:8080/"
        },
        "id": "kkC_orAH8DZ1",
        "outputId": "f55791f4-44dd-47ff-fc42-ab99721462f0"
      },
      "execution_count": null,
      "outputs": [
        {
          "output_type": "stream",
          "name": "stdout",
          "text": [
            "Test set accuracy: 0.95\n",
            "Test set accuracy: 0.9473684210526315\n"
          ]
        }
      ]
    },
    {
      "cell_type": "markdown",
      "source": [
        "- dt = DecisionTreeClassifier(): Membuat model pohon keputusan (DecisionTreeClassifier) menggunakan parameter default, yang akan menggunakan kriteria \"Gini\" untuk mengukur kualitas split di setiap node.\n",
        "- dt.fit(X_train, y_train): Melatih (fit) model pohon keputusan dt menggunakan data pelatihan (X_train dan y_train). Model akan mempelajari hubungan antara fitur dan label.\n",
        "- y_pred_dt = dt.predict(X_test): Menggunakan model yang sudah dilatih untuk memprediksi label dari data pengujian (X_test). Hasil prediksi disimpan di variabel y_pred_dt.\n",
        "- acc_dt = accuracy_score(y_test, y_pred_dt): Menghitung akurasi dari model pohon keputusan dengan membandingkan prediksi (y_pred_dt) dengan label asli (y_test) menggunakan fungsi accuracy_score.\n",
        "\n",
        "- print(\"Test set accuracy: {:.2f}\".format(acc_dt)) dan print(f\"Test set accuracy: {acc_dt}\"): Menampilkan akurasi model pada set pengujian. Yang pertama menampilkan hasil dengan 2 angka desimal, sementara yang kedua menggunakan f-string untuk mencetak hasil."
      ],
      "metadata": {
        "id": "Nwlmc1HY8XdE"
      }
    },
    {
      "cell_type": "markdown",
      "source": [
        "### Training Random Forest"
      ],
      "metadata": {
        "id": "JZb6Rsz78M2O"
      }
    },
    {
      "cell_type": "code",
      "source": [
        "# Pada kasus kali ini kita akan menggunakan estimator pada RandomForest\n",
        "# Untuk detail parameter (hyperparameter) silahkan cek dokumentasi\n",
        "\n",
        "rf = RandomForestClassifier(n_estimators=10, random_state=1)\n",
        "\n",
        "# Sesuaikan dt ke set training\n",
        "rf.fit(X_train, y_train)\n",
        "\n",
        "# Memprediksi label set test\n",
        "y_pred_rf = rf.predict(X_test)\n",
        "\n",
        "#  menghitung set accuracy\n",
        "acc_rf = accuracy_score(y_test, y_pred_rf)\n",
        "print(\"Test set accuracy: {:.2f}\".format(acc_rf))\n",
        "print(f\"Test set accuracy: {acc_rf}\")"
      ],
      "metadata": {
        "colab": {
          "base_uri": "https://localhost:8080/"
        },
        "id": "Fi4ixyW68P1M",
        "outputId": "90701003-93a5-4e36-d884-5ab51a3577c9"
      },
      "execution_count": null,
      "outputs": [
        {
          "output_type": "stream",
          "name": "stdout",
          "text": [
            "Test set accuracy: 0.96\n",
            "Test set accuracy: 0.956140350877193\n"
          ]
        }
      ]
    },
    {
      "cell_type": "markdown",
      "source": [
        "- rf = RandomForestClassifier(n_estimators=10, random_state=1): Membuat model RandomForestClassifier dengan 10 pohon keputusan (n_estimators=10) sebagai komponen ensemble. random_state=1 digunakan untuk memastikan hasil yang konsisten saat menjalankan kode.\n",
        "Random Forest adalah algoritma yang menggabungkan beberapa pohon keputusan untuk meningkatkan akurasi dan mengurangi overfitting.\n",
        "- rf.fit(X_train, y_train): Melatih (fit) model Random Forest menggunakan data pelatihan (X_train dan y_train).\n",
        "- y_pred_rf = rf.predict(X_test): Menggunakan model Random Forest yang sudah dilatih untuk memprediksi label dari data pengujian (X_test). Hasil prediksi disimpan dalam variabel y_pred_rf.\n",
        "- acc_rf = accuracy_score(y_test, y_pred_rf): Menghitung akurasi model dengan membandingkan hasil prediksi (y_pred_rf) dengan label asli (y_test) menggunakan fungsi accuracy_score.\n",
        "- print(\"Test set accuracy: {:.2f}\".format(acc_rf)) dan print(f\"Test set accuracy: {acc_rf}\"): Menampilkan akurasi model Random Forest pada set pengujian. Yang pertama menampilkan akurasi dengan 2 angka desimal, sementara yang kedua menggunakan f-string untuk menampilkan akurasi secara langsung."
      ],
      "metadata": {
        "id": "X6pn7cl-8mIG"
      }
    },
    {
      "cell_type": "markdown",
      "source": [
        "# PRAKTIKUM 2"
      ],
      "metadata": {
        "id": "fY29xWem81ma"
      }
    },
    {
      "cell_type": "markdown",
      "source": [
        "## Boosting dengan AdaBoost"
      ],
      "metadata": {
        "id": "yU8BQLGS84qq"
      }
    },
    {
      "cell_type": "markdown",
      "source": [
        "### Import Library"
      ],
      "metadata": {
        "id": "a6gvAIZN9FeH"
      }
    },
    {
      "cell_type": "code",
      "source": [
        "import numpy as np\n",
        "import pandas as pd\n",
        "from sklearn.tree import DecisionTreeClassifier # import DT\n",
        "from sklearn.ensemble import AdaBoostClassifier # import AdaBoost\n",
        "from sklearn.model_selection import train_test_split\n",
        "from sklearn.metrics import accuracy_score, classification_report\n",
        "from sklearn.preprocessing import LabelEncoder # Kebutuhan encoding label"
      ],
      "metadata": {
        "id": "0RlfS31C8_zo"
      },
      "execution_count": null,
      "outputs": []
    },
    {
      "cell_type": "markdown",
      "source": [
        "- import numpy as np: Mengimpor NumPy, library untuk komputasi numerik, khususnya bekerja dengan array dan operasi matematika.\n",
        "- import pandas as pd: Mengimpor Pandas, library untuk manipulasi dan analisis data, menggunakan struktur seperti DataFrame.\n",
        "- from sklearn.tree import DecisionTreeClassifier: Mengimpor DecisionTreeClassifier, algoritma pohon keputusan untuk klasifikasi yang bisa digunakan sebagai model dasar atau model individual.\n",
        "- from sklearn.ensemble import AdaBoostClassifier: Mengimpor AdaBoostClassifier, sebuah metode boosting yang menggabungkan beberapa model sederhana (weak learners) untuk meningkatkan performa.\n",
        "- from sklearn.model_selection import train_test_split: Mengimpor fungsi train_test_split untuk membagi dataset menjadi data pelatihan dan data pengujian.\n",
        "- from sklearn.metrics import accuracy_score, classification_report: Mengimpor metrik accuracy_score dan classification_report untuk mengevaluasi performa model.\n",
        "  - accuracy_score menghitung akurasi prediksi.\n",
        "  - classification_report memberikan metrik evaluasi seperti precision, recall, dan F1-score.\n",
        "- from sklearn.preprocessing import LabelEncoder: Mengimpor LabelEncoder, yang digunakan untuk mengubah label kategori menjadi bentuk numerik sehingga bisa digunakan oleh algoritma machine learning."
      ],
      "metadata": {
        "id": "H_4KJZRK9mQf"
      }
    },
    {
      "cell_type": "markdown",
      "source": [
        "### Persiapan Data"
      ],
      "metadata": {
        "id": "wNQa_hmH9IqE"
      }
    },
    {
      "cell_type": "code",
      "source": [
        "# Load data\n",
        "df = pd.read_csv('iris.csv')\n",
        "\n",
        "df.head()"
      ],
      "metadata": {
        "colab": {
          "base_uri": "https://localhost:8080/",
          "height": 206
        },
        "id": "XAYrg3mS9KpW",
        "outputId": "eaa99379-326b-46ef-9845-5a9bd16aeaca"
      },
      "execution_count": null,
      "outputs": [
        {
          "output_type": "execute_result",
          "data": {
            "text/plain": [
              "   Id  SepalLengthCm  SepalWidthCm  PetalLengthCm  PetalWidthCm      Species\n",
              "0   1            5.1           3.5            1.4           0.2  Iris-setosa\n",
              "1   2            4.9           3.0            1.4           0.2  Iris-setosa\n",
              "2   3            4.7           3.2            1.3           0.2  Iris-setosa\n",
              "3   4            4.6           3.1            1.5           0.2  Iris-setosa\n",
              "4   5            5.0           3.6            1.4           0.2  Iris-setosa"
            ],
            "text/html": [
              "\n",
              "  <div id=\"df-efbfa52a-a7d1-401e-9ea8-3d6be49ea39c\" class=\"colab-df-container\">\n",
              "    <div>\n",
              "<style scoped>\n",
              "    .dataframe tbody tr th:only-of-type {\n",
              "        vertical-align: middle;\n",
              "    }\n",
              "\n",
              "    .dataframe tbody tr th {\n",
              "        vertical-align: top;\n",
              "    }\n",
              "\n",
              "    .dataframe thead th {\n",
              "        text-align: right;\n",
              "    }\n",
              "</style>\n",
              "<table border=\"1\" class=\"dataframe\">\n",
              "  <thead>\n",
              "    <tr style=\"text-align: right;\">\n",
              "      <th></th>\n",
              "      <th>Id</th>\n",
              "      <th>SepalLengthCm</th>\n",
              "      <th>SepalWidthCm</th>\n",
              "      <th>PetalLengthCm</th>\n",
              "      <th>PetalWidthCm</th>\n",
              "      <th>Species</th>\n",
              "    </tr>\n",
              "  </thead>\n",
              "  <tbody>\n",
              "    <tr>\n",
              "      <th>0</th>\n",
              "      <td>1</td>\n",
              "      <td>5.1</td>\n",
              "      <td>3.5</td>\n",
              "      <td>1.4</td>\n",
              "      <td>0.2</td>\n",
              "      <td>Iris-setosa</td>\n",
              "    </tr>\n",
              "    <tr>\n",
              "      <th>1</th>\n",
              "      <td>2</td>\n",
              "      <td>4.9</td>\n",
              "      <td>3.0</td>\n",
              "      <td>1.4</td>\n",
              "      <td>0.2</td>\n",
              "      <td>Iris-setosa</td>\n",
              "    </tr>\n",
              "    <tr>\n",
              "      <th>2</th>\n",
              "      <td>3</td>\n",
              "      <td>4.7</td>\n",
              "      <td>3.2</td>\n",
              "      <td>1.3</td>\n",
              "      <td>0.2</td>\n",
              "      <td>Iris-setosa</td>\n",
              "    </tr>\n",
              "    <tr>\n",
              "      <th>3</th>\n",
              "      <td>4</td>\n",
              "      <td>4.6</td>\n",
              "      <td>3.1</td>\n",
              "      <td>1.5</td>\n",
              "      <td>0.2</td>\n",
              "      <td>Iris-setosa</td>\n",
              "    </tr>\n",
              "    <tr>\n",
              "      <th>4</th>\n",
              "      <td>5</td>\n",
              "      <td>5.0</td>\n",
              "      <td>3.6</td>\n",
              "      <td>1.4</td>\n",
              "      <td>0.2</td>\n",
              "      <td>Iris-setosa</td>\n",
              "    </tr>\n",
              "  </tbody>\n",
              "</table>\n",
              "</div>\n",
              "    <div class=\"colab-df-buttons\">\n",
              "\n",
              "  <div class=\"colab-df-container\">\n",
              "    <button class=\"colab-df-convert\" onclick=\"convertToInteractive('df-efbfa52a-a7d1-401e-9ea8-3d6be49ea39c')\"\n",
              "            title=\"Convert this dataframe to an interactive table.\"\n",
              "            style=\"display:none;\">\n",
              "\n",
              "  <svg xmlns=\"http://www.w3.org/2000/svg\" height=\"24px\" viewBox=\"0 -960 960 960\">\n",
              "    <path d=\"M120-120v-720h720v720H120Zm60-500h600v-160H180v160Zm220 220h160v-160H400v160Zm0 220h160v-160H400v160ZM180-400h160v-160H180v160Zm440 0h160v-160H620v160ZM180-180h160v-160H180v160Zm440 0h160v-160H620v160Z\"/>\n",
              "  </svg>\n",
              "    </button>\n",
              "\n",
              "  <style>\n",
              "    .colab-df-container {\n",
              "      display:flex;\n",
              "      gap: 12px;\n",
              "    }\n",
              "\n",
              "    .colab-df-convert {\n",
              "      background-color: #E8F0FE;\n",
              "      border: none;\n",
              "      border-radius: 50%;\n",
              "      cursor: pointer;\n",
              "      display: none;\n",
              "      fill: #1967D2;\n",
              "      height: 32px;\n",
              "      padding: 0 0 0 0;\n",
              "      width: 32px;\n",
              "    }\n",
              "\n",
              "    .colab-df-convert:hover {\n",
              "      background-color: #E2EBFA;\n",
              "      box-shadow: 0px 1px 2px rgba(60, 64, 67, 0.3), 0px 1px 3px 1px rgba(60, 64, 67, 0.15);\n",
              "      fill: #174EA6;\n",
              "    }\n",
              "\n",
              "    .colab-df-buttons div {\n",
              "      margin-bottom: 4px;\n",
              "    }\n",
              "\n",
              "    [theme=dark] .colab-df-convert {\n",
              "      background-color: #3B4455;\n",
              "      fill: #D2E3FC;\n",
              "    }\n",
              "\n",
              "    [theme=dark] .colab-df-convert:hover {\n",
              "      background-color: #434B5C;\n",
              "      box-shadow: 0px 1px 3px 1px rgba(0, 0, 0, 0.15);\n",
              "      filter: drop-shadow(0px 1px 2px rgba(0, 0, 0, 0.3));\n",
              "      fill: #FFFFFF;\n",
              "    }\n",
              "  </style>\n",
              "\n",
              "    <script>\n",
              "      const buttonEl =\n",
              "        document.querySelector('#df-efbfa52a-a7d1-401e-9ea8-3d6be49ea39c button.colab-df-convert');\n",
              "      buttonEl.style.display =\n",
              "        google.colab.kernel.accessAllowed ? 'block' : 'none';\n",
              "\n",
              "      async function convertToInteractive(key) {\n",
              "        const element = document.querySelector('#df-efbfa52a-a7d1-401e-9ea8-3d6be49ea39c');\n",
              "        const dataTable =\n",
              "          await google.colab.kernel.invokeFunction('convertToInteractive',\n",
              "                                                    [key], {});\n",
              "        if (!dataTable) return;\n",
              "\n",
              "        const docLinkHtml = 'Like what you see? Visit the ' +\n",
              "          '<a target=\"_blank\" href=https://colab.research.google.com/notebooks/data_table.ipynb>data table notebook</a>'\n",
              "          + ' to learn more about interactive tables.';\n",
              "        element.innerHTML = '';\n",
              "        dataTable['output_type'] = 'display_data';\n",
              "        await google.colab.output.renderOutput(dataTable, element);\n",
              "        const docLink = document.createElement('div');\n",
              "        docLink.innerHTML = docLinkHtml;\n",
              "        element.appendChild(docLink);\n",
              "      }\n",
              "    </script>\n",
              "  </div>\n",
              "\n",
              "\n",
              "<div id=\"df-773d0c74-1e26-4c81-a01a-61b322d729c3\">\n",
              "  <button class=\"colab-df-quickchart\" onclick=\"quickchart('df-773d0c74-1e26-4c81-a01a-61b322d729c3')\"\n",
              "            title=\"Suggest charts\"\n",
              "            style=\"display:none;\">\n",
              "\n",
              "<svg xmlns=\"http://www.w3.org/2000/svg\" height=\"24px\"viewBox=\"0 0 24 24\"\n",
              "     width=\"24px\">\n",
              "    <g>\n",
              "        <path d=\"M19 3H5c-1.1 0-2 .9-2 2v14c0 1.1.9 2 2 2h14c1.1 0 2-.9 2-2V5c0-1.1-.9-2-2-2zM9 17H7v-7h2v7zm4 0h-2V7h2v10zm4 0h-2v-4h2v4z\"/>\n",
              "    </g>\n",
              "</svg>\n",
              "  </button>\n",
              "\n",
              "<style>\n",
              "  .colab-df-quickchart {\n",
              "      --bg-color: #E8F0FE;\n",
              "      --fill-color: #1967D2;\n",
              "      --hover-bg-color: #E2EBFA;\n",
              "      --hover-fill-color: #174EA6;\n",
              "      --disabled-fill-color: #AAA;\n",
              "      --disabled-bg-color: #DDD;\n",
              "  }\n",
              "\n",
              "  [theme=dark] .colab-df-quickchart {\n",
              "      --bg-color: #3B4455;\n",
              "      --fill-color: #D2E3FC;\n",
              "      --hover-bg-color: #434B5C;\n",
              "      --hover-fill-color: #FFFFFF;\n",
              "      --disabled-bg-color: #3B4455;\n",
              "      --disabled-fill-color: #666;\n",
              "  }\n",
              "\n",
              "  .colab-df-quickchart {\n",
              "    background-color: var(--bg-color);\n",
              "    border: none;\n",
              "    border-radius: 50%;\n",
              "    cursor: pointer;\n",
              "    display: none;\n",
              "    fill: var(--fill-color);\n",
              "    height: 32px;\n",
              "    padding: 0;\n",
              "    width: 32px;\n",
              "  }\n",
              "\n",
              "  .colab-df-quickchart:hover {\n",
              "    background-color: var(--hover-bg-color);\n",
              "    box-shadow: 0 1px 2px rgba(60, 64, 67, 0.3), 0 1px 3px 1px rgba(60, 64, 67, 0.15);\n",
              "    fill: var(--button-hover-fill-color);\n",
              "  }\n",
              "\n",
              "  .colab-df-quickchart-complete:disabled,\n",
              "  .colab-df-quickchart-complete:disabled:hover {\n",
              "    background-color: var(--disabled-bg-color);\n",
              "    fill: var(--disabled-fill-color);\n",
              "    box-shadow: none;\n",
              "  }\n",
              "\n",
              "  .colab-df-spinner {\n",
              "    border: 2px solid var(--fill-color);\n",
              "    border-color: transparent;\n",
              "    border-bottom-color: var(--fill-color);\n",
              "    animation:\n",
              "      spin 1s steps(1) infinite;\n",
              "  }\n",
              "\n",
              "  @keyframes spin {\n",
              "    0% {\n",
              "      border-color: transparent;\n",
              "      border-bottom-color: var(--fill-color);\n",
              "      border-left-color: var(--fill-color);\n",
              "    }\n",
              "    20% {\n",
              "      border-color: transparent;\n",
              "      border-left-color: var(--fill-color);\n",
              "      border-top-color: var(--fill-color);\n",
              "    }\n",
              "    30% {\n",
              "      border-color: transparent;\n",
              "      border-left-color: var(--fill-color);\n",
              "      border-top-color: var(--fill-color);\n",
              "      border-right-color: var(--fill-color);\n",
              "    }\n",
              "    40% {\n",
              "      border-color: transparent;\n",
              "      border-right-color: var(--fill-color);\n",
              "      border-top-color: var(--fill-color);\n",
              "    }\n",
              "    60% {\n",
              "      border-color: transparent;\n",
              "      border-right-color: var(--fill-color);\n",
              "    }\n",
              "    80% {\n",
              "      border-color: transparent;\n",
              "      border-right-color: var(--fill-color);\n",
              "      border-bottom-color: var(--fill-color);\n",
              "    }\n",
              "    90% {\n",
              "      border-color: transparent;\n",
              "      border-bottom-color: var(--fill-color);\n",
              "    }\n",
              "  }\n",
              "</style>\n",
              "\n",
              "  <script>\n",
              "    async function quickchart(key) {\n",
              "      const quickchartButtonEl =\n",
              "        document.querySelector('#' + key + ' button');\n",
              "      quickchartButtonEl.disabled = true;  // To prevent multiple clicks.\n",
              "      quickchartButtonEl.classList.add('colab-df-spinner');\n",
              "      try {\n",
              "        const charts = await google.colab.kernel.invokeFunction(\n",
              "            'suggestCharts', [key], {});\n",
              "      } catch (error) {\n",
              "        console.error('Error during call to suggestCharts:', error);\n",
              "      }\n",
              "      quickchartButtonEl.classList.remove('colab-df-spinner');\n",
              "      quickchartButtonEl.classList.add('colab-df-quickchart-complete');\n",
              "    }\n",
              "    (() => {\n",
              "      let quickchartButtonEl =\n",
              "        document.querySelector('#df-773d0c74-1e26-4c81-a01a-61b322d729c3 button');\n",
              "      quickchartButtonEl.style.display =\n",
              "        google.colab.kernel.accessAllowed ? 'block' : 'none';\n",
              "    })();\n",
              "  </script>\n",
              "</div>\n",
              "\n",
              "    </div>\n",
              "  </div>\n"
            ],
            "application/vnd.google.colaboratory.intrinsic+json": {
              "type": "dataframe",
              "variable_name": "df",
              "summary": "{\n  \"name\": \"df\",\n  \"rows\": 150,\n  \"fields\": [\n    {\n      \"column\": \"Id\",\n      \"properties\": {\n        \"dtype\": \"number\",\n        \"std\": 43,\n        \"min\": 1,\n        \"max\": 150,\n        \"num_unique_values\": 150,\n        \"samples\": [\n          74,\n          19,\n          119\n        ],\n        \"semantic_type\": \"\",\n        \"description\": \"\"\n      }\n    },\n    {\n      \"column\": \"SepalLengthCm\",\n      \"properties\": {\n        \"dtype\": \"number\",\n        \"std\": 0.8280661279778629,\n        \"min\": 4.3,\n        \"max\": 7.9,\n        \"num_unique_values\": 35,\n        \"samples\": [\n          6.2,\n          4.5,\n          5.6\n        ],\n        \"semantic_type\": \"\",\n        \"description\": \"\"\n      }\n    },\n    {\n      \"column\": \"SepalWidthCm\",\n      \"properties\": {\n        \"dtype\": \"number\",\n        \"std\": 0.4335943113621737,\n        \"min\": 2.0,\n        \"max\": 4.4,\n        \"num_unique_values\": 23,\n        \"samples\": [\n          2.3,\n          4.0,\n          3.5\n        ],\n        \"semantic_type\": \"\",\n        \"description\": \"\"\n      }\n    },\n    {\n      \"column\": \"PetalLengthCm\",\n      \"properties\": {\n        \"dtype\": \"number\",\n        \"std\": 1.7644204199522617,\n        \"min\": 1.0,\n        \"max\": 6.9,\n        \"num_unique_values\": 43,\n        \"samples\": [\n          6.7,\n          3.8,\n          3.7\n        ],\n        \"semantic_type\": \"\",\n        \"description\": \"\"\n      }\n    },\n    {\n      \"column\": \"PetalWidthCm\",\n      \"properties\": {\n        \"dtype\": \"number\",\n        \"std\": 0.7631607417008414,\n        \"min\": 0.1,\n        \"max\": 2.5,\n        \"num_unique_values\": 22,\n        \"samples\": [\n          0.2,\n          1.2,\n          1.3\n        ],\n        \"semantic_type\": \"\",\n        \"description\": \"\"\n      }\n    },\n    {\n      \"column\": \"Species\",\n      \"properties\": {\n        \"dtype\": \"category\",\n        \"num_unique_values\": 3,\n        \"samples\": [\n          \"Iris-setosa\",\n          \"Iris-versicolor\",\n          \"Iris-virginica\"\n        ],\n        \"semantic_type\": \"\",\n        \"description\": \"\"\n      }\n    }\n  ]\n}"
            }
          },
          "metadata": {},
          "execution_count": 9
        }
      ]
    },
    {
      "cell_type": "markdown",
      "source": [
        "- df = pd.read_csv('iris.csv'): Membaca file CSV bernama iris.csv menggunakan Pandas dan menyimpannya sebagai DataFrame dalam variabel df.\n",
        "File ini berisi dataset Iris, yang sering digunakan untuk tugas klasifikasi, berisi informasi tentang spesies bunga iris serta beberapa fitur seperti panjang dan lebar sepal serta petal.\n",
        "- df.head(): Menampilkan 5 baris pertama dari DataFrame df untuk melihat gambaran umum struktur data, termasuk nama kolom dan beberapa nilai sampel dari dataset."
      ],
      "metadata": {
        "id": "OBW5xzR79wgk"
      }
    },
    {
      "cell_type": "code",
      "source": [
        "# Cek kolom null\n",
        "df.isnull().sum()"
      ],
      "metadata": {
        "colab": {
          "base_uri": "https://localhost:8080/",
          "height": 272
        },
        "id": "h8EtNeSB95Jb",
        "outputId": "3eb8197b-3b1d-4d4e-9e2e-1cd55e3c1fac"
      },
      "execution_count": null,
      "outputs": [
        {
          "output_type": "execute_result",
          "data": {
            "text/plain": [
              "Id               0\n",
              "SepalLengthCm    0\n",
              "SepalWidthCm     0\n",
              "PetalLengthCm    0\n",
              "PetalWidthCm     0\n",
              "Species          0\n",
              "dtype: int64"
            ],
            "text/html": [
              "<div>\n",
              "<style scoped>\n",
              "    .dataframe tbody tr th:only-of-type {\n",
              "        vertical-align: middle;\n",
              "    }\n",
              "\n",
              "    .dataframe tbody tr th {\n",
              "        vertical-align: top;\n",
              "    }\n",
              "\n",
              "    .dataframe thead th {\n",
              "        text-align: right;\n",
              "    }\n",
              "</style>\n",
              "<table border=\"1\" class=\"dataframe\">\n",
              "  <thead>\n",
              "    <tr style=\"text-align: right;\">\n",
              "      <th></th>\n",
              "      <th>0</th>\n",
              "    </tr>\n",
              "  </thead>\n",
              "  <tbody>\n",
              "    <tr>\n",
              "      <th>Id</th>\n",
              "      <td>0</td>\n",
              "    </tr>\n",
              "    <tr>\n",
              "      <th>SepalLengthCm</th>\n",
              "      <td>0</td>\n",
              "    </tr>\n",
              "    <tr>\n",
              "      <th>SepalWidthCm</th>\n",
              "      <td>0</td>\n",
              "    </tr>\n",
              "    <tr>\n",
              "      <th>PetalLengthCm</th>\n",
              "      <td>0</td>\n",
              "    </tr>\n",
              "    <tr>\n",
              "      <th>PetalWidthCm</th>\n",
              "      <td>0</td>\n",
              "    </tr>\n",
              "    <tr>\n",
              "      <th>Species</th>\n",
              "      <td>0</td>\n",
              "    </tr>\n",
              "  </tbody>\n",
              "</table>\n",
              "</div><br><label><b>dtype:</b> int64</label>"
            ]
          },
          "metadata": {},
          "execution_count": 10
        }
      ]
    },
    {
      "cell_type": "markdown",
      "source": [
        "df.isnull().sum():\n",
        "- df.isnull(): Memeriksa setiap nilai dalam DataFrame df untuk menentukan apakah ada nilai yang kosong (null). Hasilnya adalah DataFrame baru yang berisi nilai boolean (True untuk null dan False untuk tidak null).\n",
        "- sum(): Menghitung jumlah nilai True (yaitu nilai kosong) di setiap kolom, sehingga Anda mendapatkan total jumlah nilai kosong untuk masing-masing kolom."
      ],
      "metadata": {
        "id": "auSQldNr-CWp"
      }
    },
    {
      "cell_type": "code",
      "source": [
        "# Seleksi fitur\n",
        "X = df.iloc[:,2:-1]\n",
        "y = df['Species']\n",
        "\n",
        "# encode label\n",
        "ec = LabelEncoder()\n",
        "y = ec.fit_transform(y)\n",
        "\n",
        "# Cek jumlah fitur dan instance\n",
        "print(X.shape)\n",
        "\n",
        "# Cek label\n",
        "print(y)"
      ],
      "metadata": {
        "colab": {
          "base_uri": "https://localhost:8080/"
        },
        "id": "mUYtutvd-FEC",
        "outputId": "6f4f8f6d-641e-4460-ddca-ef4d9b3493f4"
      },
      "execution_count": null,
      "outputs": [
        {
          "output_type": "stream",
          "name": "stdout",
          "text": [
            "(150, 3)\n",
            "[0 0 0 0 0 0 0 0 0 0 0 0 0 0 0 0 0 0 0 0 0 0 0 0 0 0 0 0 0 0 0 0 0 0 0 0 0\n",
            " 0 0 0 0 0 0 0 0 0 0 0 0 0 1 1 1 1 1 1 1 1 1 1 1 1 1 1 1 1 1 1 1 1 1 1 1 1\n",
            " 1 1 1 1 1 1 1 1 1 1 1 1 1 1 1 1 1 1 1 1 1 1 1 1 1 1 2 2 2 2 2 2 2 2 2 2 2\n",
            " 2 2 2 2 2 2 2 2 2 2 2 2 2 2 2 2 2 2 2 2 2 2 2 2 2 2 2 2 2 2 2 2 2 2 2 2 2\n",
            " 2 2]\n"
          ]
        }
      ]
    },
    {
      "cell_type": "markdown",
      "source": [
        "- X = df.iloc[:, 2:-1]: Mengambil subset kolom dari DataFrame df, yaitu kolom dari indeks ke-2 hingga kolom sebelum kolom terakhir. Ini menyimpan fitur yang akan digunakan untuk pelatihan model dalam variabel X. Pada dataset Iris, ini biasanya berisi panjang dan lebar sepal serta panjang dan lebar petal.\n",
        "- y = df['Species']: Mengambil kolom 'Species' dari DataFrame df sebagai label atau target yang akan diprediksi, disimpan dalam variabel y.\n",
        "- ec = LabelEncoder(): Membuat instance dari LabelEncoder, yang digunakan untuk mengubah label kategori menjadi bentuk numerik.\n",
        "- y = ec.fit_transform(y): Menggunakan fit_transform untuk mengubah label y yang awalnya dalam format kategori (misalnya, 'setosa', 'versicolor', 'virginica') menjadi angka (misalnya, 0, 1, 2). Ini memungkinkan label untuk digunakan dalam algoritma machine learning.\n",
        "- print(X.shape): Menampilkan bentuk dari DataFrame X, yaitu jumlah baris (instance) dan kolom (fitur) yang dipilih. Ini memberikan informasi tentang ukuran dataset yang digunakan.\n",
        "- print(y): Menampilkan array y yang berisi label yang telah dienkode secara numerik. Ini membantu untuk memeriksa hasil encoding label."
      ],
      "metadata": {
        "id": "CBMlwkDa-OPw"
      }
    },
    {
      "cell_type": "markdown",
      "source": [
        "### Split Training dan Testing"
      ],
      "metadata": {
        "id": "89r_uYQO-ZWr"
      }
    },
    {
      "cell_type": "code",
      "source": [
        "from sklearn.model_selection import train_test_split\n",
        "\n",
        "X_train, X_test, y_train, y_test = train_test_split(X, y, test_size=0.2, random_state=1)"
      ],
      "metadata": {
        "id": "sztNXlXB-Wtq"
      },
      "execution_count": null,
      "outputs": []
    },
    {
      "cell_type": "markdown",
      "source": [
        "- from sklearn.model_selection import train_test_split: Mengimpor fungsi train_test_split dari Scikit-learn. Fungsi ini digunakan untuk membagi dataset menjadi dua bagian: data pelatihan dan data pengujian\n",
        "- test_size=0.2: Menentukan bahwa 20% dari dataset digunakan untuk pengujian, sementara 80% sisanya digunakan untuk pelatihan. Ini membantu dalam menguji performa model setelah dilatih.\n",
        "- random_state=1: Mengatur seed acak untuk memastikan bahwa pembagian data ke dalam set pelatihan dan pengujian konsisten setiap kali kode dijalankan. Ini penting untuk reproduksibilitas hasil."
      ],
      "metadata": {
        "id": "s0YgboHs-ct0"
      }
    },
    {
      "cell_type": "markdown",
      "source": [
        "### Training decision tree"
      ],
      "metadata": {
        "id": "VG8g1S5E-mV4"
      }
    },
    {
      "cell_type": "code",
      "source": [
        "# Secara default, DecisionTreeClassifier dari scikit-learn akan menggunakan nilai \"Gini\" untuk kriteria\n",
        "# Terdapat beberapa \"hyperparamater\" yang dapat digunakan. Silahka baca dokumentasi\n",
        "# Pada kasus ini kita akan menggunakan parameter default\n",
        "dt = DecisionTreeClassifier()\n",
        "\n",
        "# Sesuaikan dt ke set training\n",
        "dt.fit(X_train, y_train)\n",
        "\n",
        "# Memprediksi label set test\n",
        "y_pred_dt = dt.predict(X_test)\n",
        "\n",
        "#  menghitung set accuracy\n",
        "acc_dt = accuracy_score(y_test, y_pred_dt)\n",
        "print(\"Test set accuracy: {:.2f}\".format(acc_dt))\n",
        "print(f\"Test set accuracy: {acc_dt}\")"
      ],
      "metadata": {
        "colab": {
          "base_uri": "https://localhost:8080/"
        },
        "id": "kgydrnJm-sDD",
        "outputId": "624cd3f2-2ec6-4fe8-ade2-37094868e265"
      },
      "execution_count": null,
      "outputs": [
        {
          "output_type": "stream",
          "name": "stdout",
          "text": [
            "Test set accuracy: 0.97\n",
            "Test set accuracy: 0.9666666666666667\n"
          ]
        }
      ]
    },
    {
      "cell_type": "markdown",
      "source": [
        "- dt = DecisionTreeClassifier(): Membuat model DecisionTreeClassifier menggunakan parameter default. Secara default, algoritma ini menggunakan kriteria \"Gini\" untuk menentukan kualitas split di setiap node pohon keputusan.\n",
        "- dt.fit(X_train, y_train): Melatih (fit) model pohon keputusan dt menggunakan data pelatihan (X_train dan y_train). Dalam langkah ini, model mempelajari hubungan antara fitur dan label.\n",
        "- y_pred_dt = dt.predict(X_test): Menggunakan model yang telah dilatih untuk memprediksi label dari data pengujian (X_test). Hasil prediksi disimpan dalam variabel y_pred_dt.\n",
        "- acc_dt = accuracy_score(y_test, y_pred_dt): Menghitung akurasi dari model pohon keputusan dengan membandingkan prediksi (y_pred_dt) dengan label asli (y_test) menggunakan fungsi accuracy_score. Akurasi ini memberikan informasi seberapa banyak prediksi model yang benar.\n",
        "- print(\"Test set accuracy: {:.2f}\".format(acc_dt)) dan print(f\"Test set accuracy: {acc_dt}\"): Menampilkan akurasi model pada set pengujian. Yang pertama menampilkan hasil dengan 2 angka desimal, sedangkan yang kedua menggunakan f-string untuk mencetak hasil akurasi secara langsung."
      ],
      "metadata": {
        "id": "DLasvY_R-0Tm"
      }
    },
    {
      "cell_type": "markdown",
      "source": [
        "### Training AdaBoost"
      ],
      "metadata": {
        "id": "rct9K_PA-t-l"
      }
    },
    {
      "cell_type": "code",
      "source": [
        "# Pada kasus kali ini kita akan menggunakan estimator pada AdaBoost\n",
        "# Untuk detail parameter (hyperparameter) silahkan cek dokumentasi\n",
        "\n",
        "ada = AdaBoostClassifier(n_estimators=2)\n",
        "\n",
        "# Sesuaikan dt ke set training\n",
        "ada.fit(X_train, y_train)\n",
        "\n",
        "# Memprediksi label set test\n",
        "y_pred_ada = ada.predict(X_test)\n",
        "\n",
        "#  menghitung set accuracy\n",
        "acc_ada = accuracy_score(y_test, y_pred_ada)\n",
        "print(\"Test set accuracy: {:.2f}\".format(acc_ada))\n",
        "print(f\"Test set accuracy: {acc_ada}\")"
      ],
      "metadata": {
        "colab": {
          "base_uri": "https://localhost:8080/"
        },
        "id": "Ds_qs677-y64",
        "outputId": "a761383a-de3f-4e1e-ebfc-2125fa8e5265"
      },
      "execution_count": null,
      "outputs": [
        {
          "output_type": "stream",
          "name": "stdout",
          "text": [
            "Test set accuracy: 0.97\n",
            "Test set accuracy: 0.9666666666666667\n"
          ]
        },
        {
          "output_type": "stream",
          "name": "stderr",
          "text": [
            "/usr/local/lib/python3.10/dist-packages/sklearn/ensemble/_weight_boosting.py:527: FutureWarning: The SAMME.R algorithm (the default) is deprecated and will be removed in 1.6. Use the SAMME algorithm to circumvent this warning.\n",
            "  warnings.warn(\n"
          ]
        }
      ]
    },
    {
      "cell_type": "markdown",
      "source": [
        "- ada = AdaBoostClassifier(n_estimators=2): Membuat model AdaBoostClassifier dengan 2 estimator (pohon keputusan) sebagai komponen ensemble. AdaBoost adalah algoritma boosting yang menggabungkan beberapa model sederhana (weak learners) untuk meningkatkan performa model secara keseluruhan.\n",
        "- ada.fit(X_train, y_train): Melatih (fit) model AdaBoost menggunakan data pelatihan (X_train dan y_train). Model ini akan mempelajari hubungan antara fitur dan label untuk membangun klasifikasi.\n",
        "- y_pred_ada = ada.predict(X_test): Menggunakan model yang telah dilatih untuk memprediksi label dari data pengujian (X_test). Hasil prediksi disimpan dalam variabel y_pred_ada.\n",
        "- acc_ada = accuracy_score(y_test, y_pred_ada): Menghitung akurasi model AdaBoost dengan membandingkan prediksi (y_pred_ada) dengan label asli (y_test) menggunakan fungsi accuracy_score. Akurasi ini menunjukkan seberapa banyak prediksi model yang benar.\n",
        "- print(\"Test set accuracy: {:.2f}\".format(acc_ada)) dan print(f\"Test set accuracy: {acc_ada}\"): Menampilkan akurasi model pada set pengujian. Yang pertama mencetak hasil dengan 2 angka desimal, sedangkan yang kedua menggunakan f-string untuk mencetak hasil akurasi secara langsung."
      ],
      "metadata": {
        "id": "2rF2Kzx--xGn"
      }
    },
    {
      "cell_type": "markdown",
      "source": [
        "# PRAKTIKUM 3"
      ],
      "metadata": {
        "id": "G0YLFc9__XkQ"
      }
    },
    {
      "cell_type": "markdown",
      "source": [
        "## Stacking"
      ],
      "metadata": {
        "id": "xgrFyHCg_ZIG"
      }
    },
    {
      "cell_type": "code",
      "source": [
        "from sklearn.ensemble import RandomForestClassifier, StackingClassifier\n",
        "from sklearn.linear_model import LogisticRegression\n",
        "from sklearn.model_selection import train_test_split\n",
        "from sklearn.neighbors import KNeighborsClassifier\n",
        "from sklearn.tree import DecisionTreeClassifier\n",
        "\n",
        "\n",
        "layer_one_estimators = [\n",
        "                        ('rf_1', RandomForestClassifier(n_estimators=10, random_state=42)),\n",
        "                        ('knn_1', KNeighborsClassifier(n_neighbors=5))\n",
        "                       ]\n",
        "layer_two_estimators = [\n",
        "                        ('dt_2', DecisionTreeClassifier()),\n",
        "                        ('rf_2', RandomForestClassifier(n_estimators=50, random_state=42)),\n",
        "                       ]\n",
        "layer_two = StackingClassifier(estimators=layer_two_estimators, final_estimator=LogisticRegression())\n",
        "\n",
        "\n",
        "clf = StackingClassifier(estimators=layer_one_estimators, final_estimator=layer_two)\n",
        "\n",
        "X_train, X_test, y_train, y_test = train_test_split(X, y, stratify=y, random_state=42)\n",
        "clf.fit(X_train, y_train).score(X_test, y_test)"
      ],
      "metadata": {
        "colab": {
          "base_uri": "https://localhost:8080/"
        },
        "id": "qXqA5sqi_mOA",
        "outputId": "c5c1717e-c36b-4d7a-e7b8-5fb894252df0"
      },
      "execution_count": null,
      "outputs": [
        {
          "output_type": "execute_result",
          "data": {
            "text/plain": [
              "0.8947368421052632"
            ]
          },
          "metadata": {},
          "execution_count": 15
        }
      ]
    },
    {
      "cell_type": "markdown",
      "source": [
        "- Import Library:\n",
        "  - from sklearn.ensemble import RandomForestClassifier, StackingClassifier: Mengimpor algoritma Random Forest dan Stacking Classifier.\n",
        "  - from sklearn.linear_model import LogisticRegression: Mengimpor model regresi logistik yang akan digunakan sebagai estimator akhir dalam stacking.\n",
        "  - from sklearn.model_selection import train_test_split: Mengimpor fungsi untuk membagi dataset menjadi data pelatihan dan pengujian.\n",
        "  - from sklearn.neighbors import KNeighborsClassifier: Mengimpor algoritma K-Nearest Neighbors (KNN).\n",
        "  - from sklearn.tree import DecisionTreeClassifier: Mengimpor algoritma pohon keputusan.\n",
        "- Layer One Estimators:\n",
        "  - layer_one_estimators: Merupakan list yang berisi model-model pertama yang akan digunakan dalam stacking. Di sini kita menggunakan Random Forest dan KNN.\n",
        "- Layer Two Estimators:\n",
        "  - layer_two_estimators: Merupakan list model yang akan berfungsi sebagai layer kedua dari stacking. Di sini kita menggunakan Decision Tree dan Random Forest.\n",
        "- Stacking Classifier:\n",
        "  - layer_two: Menggunakan estimators dari layer kedua dan menetapkan regresi logistik sebagai estimator akhir.\n",
        "  - clf: Menggabungkan layer satu dengan layer dua.\n",
        "- Membagi Dataset: X_train, X_test, y_train, y_test = train_test_split(X, y, stratify=y, random_state=42): Membagi dataset menjadi data pelatihan dan pengujian dengan stratifikasi berdasarkan label untuk memastikan proporsi label di kedua set tetap sama.\n",
        "- Melatih Model dan Menghitung Akurasi: clf.fit(X_train, y_train).score(X_test, y_test): Melatih model stacking dengan data pelatihan dan menghitung akurasi pada data pengujian."
      ],
      "metadata": {
        "id": "GIQGJrTSAB8l"
      }
    },
    {
      "cell_type": "code",
      "source": [
        "from sklearn.ensemble import RandomForestClassifier, StackingClassifier, AdaBoostClassifier\n",
        "from sklearn.linear_model import LogisticRegression\n",
        "from sklearn.model_selection import train_test_split\n",
        "from sklearn.neighbors import KNeighborsClassifier\n",
        "from sklearn.tree import DecisionTreeClassifier\n",
        "from sklearn.metrics import accuracy_score\n",
        "\n",
        "# Membagi dataset\n",
        "X_train, X_test, y_train, y_test = train_test_split(X, y, stratify=y, random_state=42)\n",
        "\n",
        "# Model Random Forest\n",
        "rf = RandomForestClassifier(n_estimators=10, random_state=42)\n",
        "rf.fit(X_train, y_train)\n",
        "y_pred_rf = rf.predict(X_test)\n",
        "acc_rf = accuracy_score(y_test, y_pred_rf)\n",
        "\n",
        "# Model AdaBoost\n",
        "ada = AdaBoostClassifier(n_estimators=2)\n",
        "ada.fit(X_train, y_train)\n",
        "y_pred_ada = ada.predict(X_test)\n",
        "acc_ada = accuracy_score(y_test, y_pred_ada)\n",
        "\n",
        "# Stacking Classifier\n",
        "layer_one_estimators = [\n",
        "    ('rf_1', RandomForestClassifier(n_estimators=10, random_state=42)),\n",
        "    ('knn_1', KNeighborsClassifier(n_neighbors=5))\n",
        "]\n",
        "layer_two_estimators = [\n",
        "    ('dt_2', DecisionTreeClassifier()),\n",
        "    ('rf_2', RandomForestClassifier(n_estimators=50, random_state=42)),\n",
        "]\n",
        "layer_two = StackingClassifier(estimators=layer_two_estimators, final_estimator=LogisticRegression())\n",
        "\n",
        "clf = StackingClassifier(estimators=layer_one_estimators, final_estimator=layer_two)\n",
        "clf.fit(X_train, y_train)\n",
        "acc_stacking = clf.score(X_test, y_test)\n",
        "\n",
        "# Menampilkan akurasi\n",
        "print(\"Akurasi Random Forest: {:.2f}\".format(acc_rf))\n",
        "print(\"Akurasi AdaBoost: {:.2f}\".format(acc_ada))\n",
        "print(\"Akurasi Stacking: {:.2f}\".format(acc_stacking))\n",
        "\n",
        "# Perbedaan nilai akurasi\n",
        "print(\"Perbedaan Akurasi Random Forest dan Stacking: {:.2f}\".format(acc_stacking - acc_rf))\n",
        "print(\"Perbedaan Akurasi AdaBoost dan Stacking: {:.2f}\".format(acc_stacking - acc_ada))\n"
      ],
      "metadata": {
        "colab": {
          "base_uri": "https://localhost:8080/"
        },
        "id": "MQ8nREnGAt3D",
        "outputId": "16504a85-342f-4784-e423-7780867d55d5"
      },
      "execution_count": null,
      "outputs": [
        {
          "output_type": "stream",
          "name": "stderr",
          "text": [
            "/usr/local/lib/python3.10/dist-packages/sklearn/ensemble/_weight_boosting.py:527: FutureWarning: The SAMME.R algorithm (the default) is deprecated and will be removed in 1.6. Use the SAMME algorithm to circumvent this warning.\n",
            "  warnings.warn(\n"
          ]
        },
        {
          "output_type": "stream",
          "name": "stdout",
          "text": [
            "Akurasi Random Forest: 0.95\n",
            "Akurasi AdaBoost: 0.89\n",
            "Akurasi Stacking: 0.89\n",
            "Perbedaan Akurasi Random Forest dan Stacking: -0.05\n",
            "Perbedaan Akurasi AdaBoost dan Stacking: 0.00\n"
          ]
        }
      ]
    },
    {
      "cell_type": "markdown",
      "source": [
        "# PRAKTIKUM 4"
      ],
      "metadata": {
        "id": "Pir8JFXRBQku"
      }
    },
    {
      "cell_type": "markdown",
      "source": [
        "## Stacking dengan Voting"
      ],
      "metadata": {
        "id": "TUa04bmpBbRl"
      }
    },
    {
      "cell_type": "markdown",
      "source": [
        "### Import Library"
      ],
      "metadata": {
        "id": "9hK9MjQRJoiK"
      }
    },
    {
      "cell_type": "code",
      "source": [
        "import numpy as np\n",
        "import pandas as pd\n",
        "from sklearn.naive_bayes import GaussianNB # import Naive Bayes model Gaussian (asumsi data terdistribusi normal)\n",
        "from sklearn.svm import SVC # import SVM classifier\n",
        "from sklearn.ensemble import VotingClassifier # import model Voting\n",
        "from sklearn.model_selection import train_test_split\n",
        "from sklearn.metrics import accuracy_score, classification_report"
      ],
      "metadata": {
        "id": "DREElx_GBU76"
      },
      "execution_count": null,
      "outputs": []
    },
    {
      "cell_type": "markdown",
      "source": [
        "- import numpy as np: Mengimpor NumPy, library untuk perhitungan numerik dan operasi array, yang banyak digunakan dalam pengolahan data dan machine learning.\n",
        "- import pandas as pd: Mengimpor Pandas, library untuk manipulasi dan analisis data berbasis tabel (dataframe).\n",
        "- from sklearn.naive_bayes import GaussianNB: Mengimpor Gaussian Naive Bayes, sebuah model probabilistik yang digunakan untuk klasifikasi. Model ini mengasumsikan bahwa fitur-fitur memiliki distribusi normal (Gaussian).\n",
        "- from sklearn.svm import SVC: Mengimpor Support Vector Classifier (SVC), salah satu algoritma klasifikasi dari Support Vector Machine (SVM), yang efektif dalam klasifikasi untuk dataset dengan margin yang jelas antara kelas-kelas.\n",
        "- from sklearn.ensemble import VotingClassifier: Mengimpor Voting Classifier, sebuah teknik ensemble yang menggabungkan prediksi dari beberapa model berbeda untuk meningkatkan akurasi klasifikasi. Dalam hal ini, prediksi dari Naive Bayes dan SVM akan digabungkan.\n",
        "- from sklearn.model_selection import train_test_split: Mengimpor fungsi train_test_split, yang digunakan untuk membagi dataset menjadi data pelatihan dan data pengujian. Ini adalah teknik yang umum dalam machine learning untuk memvalidasi performa model.\n",
        "- from sklearn.metrics import accuracy_score, classification_report: Mengimpor accuracy_score dan classification_report untuk mengevaluasi model.   accuracy_score digunakan untuk menghitung tingkat akurasi prediksi, sementara classification_report memberikan laporan rinci mengenai metrik evaluasi seperti precision, recall, dan F1-score."
      ],
      "metadata": {
        "id": "5rsGCJIsJ0P5"
      }
    },
    {
      "cell_type": "markdown",
      "source": [
        "### Persiapan Data"
      ],
      "metadata": {
        "id": "b0uQ47x1Kc-P"
      }
    },
    {
      "cell_type": "code",
      "source": [
        "# Load Data\n",
        "\n",
        "dbt = pd.read_csv('diabetes.csv')\n",
        "\n",
        "dbt.head()"
      ],
      "metadata": {
        "colab": {
          "base_uri": "https://localhost:8080/",
          "height": 206
        },
        "id": "qpY6sT1MKDMT",
        "outputId": "a8679481-091c-4732-c306-b0d407a63601"
      },
      "execution_count": null,
      "outputs": [
        {
          "output_type": "execute_result",
          "data": {
            "text/plain": [
              "   Pregnancies  Glucose  BloodPressure  SkinThickness  Insulin   BMI  \\\n",
              "0            6      148             72             35        0  33.6   \n",
              "1            1       85             66             29        0  26.6   \n",
              "2            8      183             64              0        0  23.3   \n",
              "3            1       89             66             23       94  28.1   \n",
              "4            0      137             40             35      168  43.1   \n",
              "\n",
              "   DiabetesPedigreeFunction  Age  Outcome  \n",
              "0                     0.627   50        1  \n",
              "1                     0.351   31        0  \n",
              "2                     0.672   32        1  \n",
              "3                     0.167   21        0  \n",
              "4                     2.288   33        1  "
            ],
            "text/html": [
              "\n",
              "  <div id=\"df-e2650886-abb4-49c0-9ede-97835ab73713\" class=\"colab-df-container\">\n",
              "    <div>\n",
              "<style scoped>\n",
              "    .dataframe tbody tr th:only-of-type {\n",
              "        vertical-align: middle;\n",
              "    }\n",
              "\n",
              "    .dataframe tbody tr th {\n",
              "        vertical-align: top;\n",
              "    }\n",
              "\n",
              "    .dataframe thead th {\n",
              "        text-align: right;\n",
              "    }\n",
              "</style>\n",
              "<table border=\"1\" class=\"dataframe\">\n",
              "  <thead>\n",
              "    <tr style=\"text-align: right;\">\n",
              "      <th></th>\n",
              "      <th>Pregnancies</th>\n",
              "      <th>Glucose</th>\n",
              "      <th>BloodPressure</th>\n",
              "      <th>SkinThickness</th>\n",
              "      <th>Insulin</th>\n",
              "      <th>BMI</th>\n",
              "      <th>DiabetesPedigreeFunction</th>\n",
              "      <th>Age</th>\n",
              "      <th>Outcome</th>\n",
              "    </tr>\n",
              "  </thead>\n",
              "  <tbody>\n",
              "    <tr>\n",
              "      <th>0</th>\n",
              "      <td>6</td>\n",
              "      <td>148</td>\n",
              "      <td>72</td>\n",
              "      <td>35</td>\n",
              "      <td>0</td>\n",
              "      <td>33.6</td>\n",
              "      <td>0.627</td>\n",
              "      <td>50</td>\n",
              "      <td>1</td>\n",
              "    </tr>\n",
              "    <tr>\n",
              "      <th>1</th>\n",
              "      <td>1</td>\n",
              "      <td>85</td>\n",
              "      <td>66</td>\n",
              "      <td>29</td>\n",
              "      <td>0</td>\n",
              "      <td>26.6</td>\n",
              "      <td>0.351</td>\n",
              "      <td>31</td>\n",
              "      <td>0</td>\n",
              "    </tr>\n",
              "    <tr>\n",
              "      <th>2</th>\n",
              "      <td>8</td>\n",
              "      <td>183</td>\n",
              "      <td>64</td>\n",
              "      <td>0</td>\n",
              "      <td>0</td>\n",
              "      <td>23.3</td>\n",
              "      <td>0.672</td>\n",
              "      <td>32</td>\n",
              "      <td>1</td>\n",
              "    </tr>\n",
              "    <tr>\n",
              "      <th>3</th>\n",
              "      <td>1</td>\n",
              "      <td>89</td>\n",
              "      <td>66</td>\n",
              "      <td>23</td>\n",
              "      <td>94</td>\n",
              "      <td>28.1</td>\n",
              "      <td>0.167</td>\n",
              "      <td>21</td>\n",
              "      <td>0</td>\n",
              "    </tr>\n",
              "    <tr>\n",
              "      <th>4</th>\n",
              "      <td>0</td>\n",
              "      <td>137</td>\n",
              "      <td>40</td>\n",
              "      <td>35</td>\n",
              "      <td>168</td>\n",
              "      <td>43.1</td>\n",
              "      <td>2.288</td>\n",
              "      <td>33</td>\n",
              "      <td>1</td>\n",
              "    </tr>\n",
              "  </tbody>\n",
              "</table>\n",
              "</div>\n",
              "    <div class=\"colab-df-buttons\">\n",
              "\n",
              "  <div class=\"colab-df-container\">\n",
              "    <button class=\"colab-df-convert\" onclick=\"convertToInteractive('df-e2650886-abb4-49c0-9ede-97835ab73713')\"\n",
              "            title=\"Convert this dataframe to an interactive table.\"\n",
              "            style=\"display:none;\">\n",
              "\n",
              "  <svg xmlns=\"http://www.w3.org/2000/svg\" height=\"24px\" viewBox=\"0 -960 960 960\">\n",
              "    <path d=\"M120-120v-720h720v720H120Zm60-500h600v-160H180v160Zm220 220h160v-160H400v160Zm0 220h160v-160H400v160ZM180-400h160v-160H180v160Zm440 0h160v-160H620v160ZM180-180h160v-160H180v160Zm440 0h160v-160H620v160Z\"/>\n",
              "  </svg>\n",
              "    </button>\n",
              "\n",
              "  <style>\n",
              "    .colab-df-container {\n",
              "      display:flex;\n",
              "      gap: 12px;\n",
              "    }\n",
              "\n",
              "    .colab-df-convert {\n",
              "      background-color: #E8F0FE;\n",
              "      border: none;\n",
              "      border-radius: 50%;\n",
              "      cursor: pointer;\n",
              "      display: none;\n",
              "      fill: #1967D2;\n",
              "      height: 32px;\n",
              "      padding: 0 0 0 0;\n",
              "      width: 32px;\n",
              "    }\n",
              "\n",
              "    .colab-df-convert:hover {\n",
              "      background-color: #E2EBFA;\n",
              "      box-shadow: 0px 1px 2px rgba(60, 64, 67, 0.3), 0px 1px 3px 1px rgba(60, 64, 67, 0.15);\n",
              "      fill: #174EA6;\n",
              "    }\n",
              "\n",
              "    .colab-df-buttons div {\n",
              "      margin-bottom: 4px;\n",
              "    }\n",
              "\n",
              "    [theme=dark] .colab-df-convert {\n",
              "      background-color: #3B4455;\n",
              "      fill: #D2E3FC;\n",
              "    }\n",
              "\n",
              "    [theme=dark] .colab-df-convert:hover {\n",
              "      background-color: #434B5C;\n",
              "      box-shadow: 0px 1px 3px 1px rgba(0, 0, 0, 0.15);\n",
              "      filter: drop-shadow(0px 1px 2px rgba(0, 0, 0, 0.3));\n",
              "      fill: #FFFFFF;\n",
              "    }\n",
              "  </style>\n",
              "\n",
              "    <script>\n",
              "      const buttonEl =\n",
              "        document.querySelector('#df-e2650886-abb4-49c0-9ede-97835ab73713 button.colab-df-convert');\n",
              "      buttonEl.style.display =\n",
              "        google.colab.kernel.accessAllowed ? 'block' : 'none';\n",
              "\n",
              "      async function convertToInteractive(key) {\n",
              "        const element = document.querySelector('#df-e2650886-abb4-49c0-9ede-97835ab73713');\n",
              "        const dataTable =\n",
              "          await google.colab.kernel.invokeFunction('convertToInteractive',\n",
              "                                                    [key], {});\n",
              "        if (!dataTable) return;\n",
              "\n",
              "        const docLinkHtml = 'Like what you see? Visit the ' +\n",
              "          '<a target=\"_blank\" href=https://colab.research.google.com/notebooks/data_table.ipynb>data table notebook</a>'\n",
              "          + ' to learn more about interactive tables.';\n",
              "        element.innerHTML = '';\n",
              "        dataTable['output_type'] = 'display_data';\n",
              "        await google.colab.output.renderOutput(dataTable, element);\n",
              "        const docLink = document.createElement('div');\n",
              "        docLink.innerHTML = docLinkHtml;\n",
              "        element.appendChild(docLink);\n",
              "      }\n",
              "    </script>\n",
              "  </div>\n",
              "\n",
              "\n",
              "<div id=\"df-9af2361a-ae59-479b-ac28-47a654eeefd0\">\n",
              "  <button class=\"colab-df-quickchart\" onclick=\"quickchart('df-9af2361a-ae59-479b-ac28-47a654eeefd0')\"\n",
              "            title=\"Suggest charts\"\n",
              "            style=\"display:none;\">\n",
              "\n",
              "<svg xmlns=\"http://www.w3.org/2000/svg\" height=\"24px\"viewBox=\"0 0 24 24\"\n",
              "     width=\"24px\">\n",
              "    <g>\n",
              "        <path d=\"M19 3H5c-1.1 0-2 .9-2 2v14c0 1.1.9 2 2 2h14c1.1 0 2-.9 2-2V5c0-1.1-.9-2-2-2zM9 17H7v-7h2v7zm4 0h-2V7h2v10zm4 0h-2v-4h2v4z\"/>\n",
              "    </g>\n",
              "</svg>\n",
              "  </button>\n",
              "\n",
              "<style>\n",
              "  .colab-df-quickchart {\n",
              "      --bg-color: #E8F0FE;\n",
              "      --fill-color: #1967D2;\n",
              "      --hover-bg-color: #E2EBFA;\n",
              "      --hover-fill-color: #174EA6;\n",
              "      --disabled-fill-color: #AAA;\n",
              "      --disabled-bg-color: #DDD;\n",
              "  }\n",
              "\n",
              "  [theme=dark] .colab-df-quickchart {\n",
              "      --bg-color: #3B4455;\n",
              "      --fill-color: #D2E3FC;\n",
              "      --hover-bg-color: #434B5C;\n",
              "      --hover-fill-color: #FFFFFF;\n",
              "      --disabled-bg-color: #3B4455;\n",
              "      --disabled-fill-color: #666;\n",
              "  }\n",
              "\n",
              "  .colab-df-quickchart {\n",
              "    background-color: var(--bg-color);\n",
              "    border: none;\n",
              "    border-radius: 50%;\n",
              "    cursor: pointer;\n",
              "    display: none;\n",
              "    fill: var(--fill-color);\n",
              "    height: 32px;\n",
              "    padding: 0;\n",
              "    width: 32px;\n",
              "  }\n",
              "\n",
              "  .colab-df-quickchart:hover {\n",
              "    background-color: var(--hover-bg-color);\n",
              "    box-shadow: 0 1px 2px rgba(60, 64, 67, 0.3), 0 1px 3px 1px rgba(60, 64, 67, 0.15);\n",
              "    fill: var(--button-hover-fill-color);\n",
              "  }\n",
              "\n",
              "  .colab-df-quickchart-complete:disabled,\n",
              "  .colab-df-quickchart-complete:disabled:hover {\n",
              "    background-color: var(--disabled-bg-color);\n",
              "    fill: var(--disabled-fill-color);\n",
              "    box-shadow: none;\n",
              "  }\n",
              "\n",
              "  .colab-df-spinner {\n",
              "    border: 2px solid var(--fill-color);\n",
              "    border-color: transparent;\n",
              "    border-bottom-color: var(--fill-color);\n",
              "    animation:\n",
              "      spin 1s steps(1) infinite;\n",
              "  }\n",
              "\n",
              "  @keyframes spin {\n",
              "    0% {\n",
              "      border-color: transparent;\n",
              "      border-bottom-color: var(--fill-color);\n",
              "      border-left-color: var(--fill-color);\n",
              "    }\n",
              "    20% {\n",
              "      border-color: transparent;\n",
              "      border-left-color: var(--fill-color);\n",
              "      border-top-color: var(--fill-color);\n",
              "    }\n",
              "    30% {\n",
              "      border-color: transparent;\n",
              "      border-left-color: var(--fill-color);\n",
              "      border-top-color: var(--fill-color);\n",
              "      border-right-color: var(--fill-color);\n",
              "    }\n",
              "    40% {\n",
              "      border-color: transparent;\n",
              "      border-right-color: var(--fill-color);\n",
              "      border-top-color: var(--fill-color);\n",
              "    }\n",
              "    60% {\n",
              "      border-color: transparent;\n",
              "      border-right-color: var(--fill-color);\n",
              "    }\n",
              "    80% {\n",
              "      border-color: transparent;\n",
              "      border-right-color: var(--fill-color);\n",
              "      border-bottom-color: var(--fill-color);\n",
              "    }\n",
              "    90% {\n",
              "      border-color: transparent;\n",
              "      border-bottom-color: var(--fill-color);\n",
              "    }\n",
              "  }\n",
              "</style>\n",
              "\n",
              "  <script>\n",
              "    async function quickchart(key) {\n",
              "      const quickchartButtonEl =\n",
              "        document.querySelector('#' + key + ' button');\n",
              "      quickchartButtonEl.disabled = true;  // To prevent multiple clicks.\n",
              "      quickchartButtonEl.classList.add('colab-df-spinner');\n",
              "      try {\n",
              "        const charts = await google.colab.kernel.invokeFunction(\n",
              "            'suggestCharts', [key], {});\n",
              "      } catch (error) {\n",
              "        console.error('Error during call to suggestCharts:', error);\n",
              "      }\n",
              "      quickchartButtonEl.classList.remove('colab-df-spinner');\n",
              "      quickchartButtonEl.classList.add('colab-df-quickchart-complete');\n",
              "    }\n",
              "    (() => {\n",
              "      let quickchartButtonEl =\n",
              "        document.querySelector('#df-9af2361a-ae59-479b-ac28-47a654eeefd0 button');\n",
              "      quickchartButtonEl.style.display =\n",
              "        google.colab.kernel.accessAllowed ? 'block' : 'none';\n",
              "    })();\n",
              "  </script>\n",
              "</div>\n",
              "\n",
              "    </div>\n",
              "  </div>\n"
            ],
            "application/vnd.google.colaboratory.intrinsic+json": {
              "type": "dataframe",
              "variable_name": "dbt",
              "summary": "{\n  \"name\": \"dbt\",\n  \"rows\": 768,\n  \"fields\": [\n    {\n      \"column\": \"Pregnancies\",\n      \"properties\": {\n        \"dtype\": \"number\",\n        \"std\": 3,\n        \"min\": 0,\n        \"max\": 17,\n        \"num_unique_values\": 17,\n        \"samples\": [\n          6,\n          1,\n          3\n        ],\n        \"semantic_type\": \"\",\n        \"description\": \"\"\n      }\n    },\n    {\n      \"column\": \"Glucose\",\n      \"properties\": {\n        \"dtype\": \"number\",\n        \"std\": 31,\n        \"min\": 0,\n        \"max\": 199,\n        \"num_unique_values\": 136,\n        \"samples\": [\n          151,\n          101,\n          112\n        ],\n        \"semantic_type\": \"\",\n        \"description\": \"\"\n      }\n    },\n    {\n      \"column\": \"BloodPressure\",\n      \"properties\": {\n        \"dtype\": \"number\",\n        \"std\": 19,\n        \"min\": 0,\n        \"max\": 122,\n        \"num_unique_values\": 47,\n        \"samples\": [\n          86,\n          46,\n          85\n        ],\n        \"semantic_type\": \"\",\n        \"description\": \"\"\n      }\n    },\n    {\n      \"column\": \"SkinThickness\",\n      \"properties\": {\n        \"dtype\": \"number\",\n        \"std\": 15,\n        \"min\": 0,\n        \"max\": 99,\n        \"num_unique_values\": 51,\n        \"samples\": [\n          7,\n          12,\n          48\n        ],\n        \"semantic_type\": \"\",\n        \"description\": \"\"\n      }\n    },\n    {\n      \"column\": \"Insulin\",\n      \"properties\": {\n        \"dtype\": \"number\",\n        \"std\": 115,\n        \"min\": 0,\n        \"max\": 846,\n        \"num_unique_values\": 186,\n        \"samples\": [\n          52,\n          41,\n          183\n        ],\n        \"semantic_type\": \"\",\n        \"description\": \"\"\n      }\n    },\n    {\n      \"column\": \"BMI\",\n      \"properties\": {\n        \"dtype\": \"number\",\n        \"std\": 7.8841603203754405,\n        \"min\": 0.0,\n        \"max\": 67.1,\n        \"num_unique_values\": 248,\n        \"samples\": [\n          19.9,\n          31.0,\n          38.1\n        ],\n        \"semantic_type\": \"\",\n        \"description\": \"\"\n      }\n    },\n    {\n      \"column\": \"DiabetesPedigreeFunction\",\n      \"properties\": {\n        \"dtype\": \"number\",\n        \"std\": 0.33132859501277484,\n        \"min\": 0.078,\n        \"max\": 2.42,\n        \"num_unique_values\": 517,\n        \"samples\": [\n          1.731,\n          0.426,\n          0.138\n        ],\n        \"semantic_type\": \"\",\n        \"description\": \"\"\n      }\n    },\n    {\n      \"column\": \"Age\",\n      \"properties\": {\n        \"dtype\": \"number\",\n        \"std\": 11,\n        \"min\": 21,\n        \"max\": 81,\n        \"num_unique_values\": 52,\n        \"samples\": [\n          60,\n          47,\n          72\n        ],\n        \"semantic_type\": \"\",\n        \"description\": \"\"\n      }\n    },\n    {\n      \"column\": \"Outcome\",\n      \"properties\": {\n        \"dtype\": \"number\",\n        \"std\": 0,\n        \"min\": 0,\n        \"max\": 1,\n        \"num_unique_values\": 2,\n        \"samples\": [\n          0,\n          1\n        ],\n        \"semantic_type\": \"\",\n        \"description\": \"\"\n      }\n    }\n  ]\n}"
            }
          },
          "metadata": {},
          "execution_count": 18
        }
      ]
    },
    {
      "cell_type": "markdown",
      "source": [
        "- dbt = pd.read_csv('diabetes.csv'): Menggunakan Pandas untuk membaca file diabetes.csv dan menyimpannya dalam sebuah dataframe bernama dbt.\n",
        "- dbt.head(): Menampilkan 5 baris pertama dari dataframe dbt untuk memberikan gambaran tentang isi data."
      ],
      "metadata": {
        "id": "N9vxe9nYKMLV"
      }
    },
    {
      "cell_type": "code",
      "source": [
        "# Cek nama kolom\n",
        "dbt.columns"
      ],
      "metadata": {
        "colab": {
          "base_uri": "https://localhost:8080/"
        },
        "id": "WYsmPu_bKZVu",
        "outputId": "b962ef32-32fc-430f-c1ed-fbeefc609379"
      },
      "execution_count": null,
      "outputs": [
        {
          "output_type": "execute_result",
          "data": {
            "text/plain": [
              "Index(['Pregnancies', 'Glucose', 'BloodPressure', 'SkinThickness', 'Insulin',\n",
              "       'BMI', 'DiabetesPedigreeFunction', 'Age', 'Outcome'],\n",
              "      dtype='object')"
            ]
          },
          "metadata": {},
          "execution_count": 19
        }
      ]
    },
    {
      "cell_type": "markdown",
      "source": [
        "Kode dbt.columns digunakan untuk menampilkan semua nama kolom yang ada di dalam dataframe dbt."
      ],
      "metadata": {
        "id": "G__eEG6UKmDK"
      }
    },
    {
      "cell_type": "code",
      "source": [
        "# Cek kolom null\n",
        "dbt.isnull().sum()"
      ],
      "metadata": {
        "colab": {
          "base_uri": "https://localhost:8080/",
          "height": 366
        },
        "id": "KLbxScGQKmv0",
        "outputId": "240aa8d8-9a8d-4935-d892-9e138e9f1603"
      },
      "execution_count": null,
      "outputs": [
        {
          "output_type": "execute_result",
          "data": {
            "text/plain": [
              "Pregnancies                 0\n",
              "Glucose                     0\n",
              "BloodPressure               0\n",
              "SkinThickness               0\n",
              "Insulin                     0\n",
              "BMI                         0\n",
              "DiabetesPedigreeFunction    0\n",
              "Age                         0\n",
              "Outcome                     0\n",
              "dtype: int64"
            ],
            "text/html": [
              "<div>\n",
              "<style scoped>\n",
              "    .dataframe tbody tr th:only-of-type {\n",
              "        vertical-align: middle;\n",
              "    }\n",
              "\n",
              "    .dataframe tbody tr th {\n",
              "        vertical-align: top;\n",
              "    }\n",
              "\n",
              "    .dataframe thead th {\n",
              "        text-align: right;\n",
              "    }\n",
              "</style>\n",
              "<table border=\"1\" class=\"dataframe\">\n",
              "  <thead>\n",
              "    <tr style=\"text-align: right;\">\n",
              "      <th></th>\n",
              "      <th>0</th>\n",
              "    </tr>\n",
              "  </thead>\n",
              "  <tbody>\n",
              "    <tr>\n",
              "      <th>Pregnancies</th>\n",
              "      <td>0</td>\n",
              "    </tr>\n",
              "    <tr>\n",
              "      <th>Glucose</th>\n",
              "      <td>0</td>\n",
              "    </tr>\n",
              "    <tr>\n",
              "      <th>BloodPressure</th>\n",
              "      <td>0</td>\n",
              "    </tr>\n",
              "    <tr>\n",
              "      <th>SkinThickness</th>\n",
              "      <td>0</td>\n",
              "    </tr>\n",
              "    <tr>\n",
              "      <th>Insulin</th>\n",
              "      <td>0</td>\n",
              "    </tr>\n",
              "    <tr>\n",
              "      <th>BMI</th>\n",
              "      <td>0</td>\n",
              "    </tr>\n",
              "    <tr>\n",
              "      <th>DiabetesPedigreeFunction</th>\n",
              "      <td>0</td>\n",
              "    </tr>\n",
              "    <tr>\n",
              "      <th>Age</th>\n",
              "      <td>0</td>\n",
              "    </tr>\n",
              "    <tr>\n",
              "      <th>Outcome</th>\n",
              "      <td>0</td>\n",
              "    </tr>\n",
              "  </tbody>\n",
              "</table>\n",
              "</div><br><label><b>dtype:</b> int64</label>"
            ]
          },
          "metadata": {},
          "execution_count": 20
        }
      ]
    },
    {
      "cell_type": "markdown",
      "source": [
        "Kode dbt.isnull().sum() digunakan untuk memeriksa apakah ada nilai yang hilang (null) atau kosong di setiap kolom dalam dataframe dbt.\n",
        "\n",
        "- dbt.isnull(): Menghasilkan dataframe boolean dengan True di tempat di mana ada nilai null dan False jika tidak ada.\n",
        "- .sum(): Menghitung jumlah nilai True (yaitu jumlah nilai null) untuk setiap kolom."
      ],
      "metadata": {
        "id": "cS7CpAhXKrNt"
      }
    },
    {
      "cell_type": "code",
      "source": [
        "# Pada kasus ini, agak tidak masuk akal jika beberapa parameter bernilai 0\n",
        "# sebagai contoh adalah nilai 'Glucose', 'BloodPlessure' ataupun 'Insulin'.\n",
        "# Sekecil apapun nilainya, setiap manusia yang hidup pasti miliki nilai-nilai tersebut\n",
        "\n",
        "# Kita akan manipulasi nilai yang 0 dengan melakukan 'imputasi' atau mengganti nilainya dengan nilai sintetis\n",
        "# Pada kasus ini, kita akan menggunakan nilai mean\n",
        "\n",
        "# Cek kolom neng nilai 0\n",
        "feature_columns = ['Pregnancies', 'Glucose', 'BloodPressure', 'SkinThickness', 'Insulin', 'BMI', 'DiabetesPedigreeFunction', 'Age']\n",
        "for column in feature_columns:\n",
        "    print(\"============================================\")\n",
        "    print(f\"{column} ==> Missing zeros : {len(dbt.loc[dbt[column] == 0])}\")"
      ],
      "metadata": {
        "colab": {
          "base_uri": "https://localhost:8080/"
        },
        "id": "QPZP9oXtKxaQ",
        "outputId": "f9c6f02e-218c-4151-e8b3-498a366d36ae"
      },
      "execution_count": null,
      "outputs": [
        {
          "output_type": "stream",
          "name": "stdout",
          "text": [
            "============================================\n",
            "Pregnancies ==> Missing zeros : 111\n",
            "============================================\n",
            "Glucose ==> Missing zeros : 5\n",
            "============================================\n",
            "BloodPressure ==> Missing zeros : 35\n",
            "============================================\n",
            "SkinThickness ==> Missing zeros : 227\n",
            "============================================\n",
            "Insulin ==> Missing zeros : 374\n",
            "============================================\n",
            "BMI ==> Missing zeros : 11\n",
            "============================================\n",
            "DiabetesPedigreeFunction ==> Missing zeros : 0\n",
            "============================================\n",
            "Age ==> Missing zeros : 0\n"
          ]
        }
      ]
    },
    {
      "cell_type": "markdown",
      "source": [
        "- feature_columns: Mendefinisikan daftar kolom yang akan diperiksa untuk nilai 0.\n",
        "- Loop for:\n",
        "  - for column in feature_columns:: Melakukan iterasi pada setiap kolom dalam daftar feature_columns.\n",
        "- dbt.loc[dbt[column] == 0]: Menggunakan fungsi .loc untuk menemukan semua baris di mana nilai kolom tertentu sama dengan 0.\n",
        "- len(dbt.loc[dbt[column] == 0]): Menghitung jumlah baris yang memiliki nilai 0 pada kolom tersebut dan mencetak hasilnya."
      ],
      "metadata": {
        "id": "AnTZ5OZsK8KD"
      }
    },
    {
      "cell_type": "code",
      "source": [
        "# Impute nilai 0 dengan mean\n",
        "from sklearn.impute import SimpleImputer\n",
        "\n",
        "fill_values = SimpleImputer(missing_values=0, strategy=\"mean\", copy=False)\n",
        "\n",
        "dbt[feature_columns] = fill_values.fit_transform(dbt[feature_columns])"
      ],
      "metadata": {
        "id": "aEB_AThELIJ1"
      },
      "execution_count": null,
      "outputs": []
    },
    {
      "cell_type": "markdown",
      "source": [
        "- from sklearn.impute import SimpleImputer: Mengimpor SimpleImputer dari scikit-learn, yang digunakan untuk mengisi nilai yang hilang atau tidak logis (seperti nilai 0) dengan metode tertentu, dalam hal ini menggunakan nilai rata-rata (mean).\n",
        "- fill_values = SimpleImputer(missing_values=0, strategy=\"mean\", copy=False): Membuat instance dari SimpleImputer:\n",
        "  - missing_values=0: Menentukan bahwa nilai 0 dianggap sebagai nilai \"hilang\" yang akan digantikan.\n",
        "  - strategy=\"mean\": Menentukan bahwa nilai-nilai yang hilang akan digantikan dengan rata-rata (mean) dari kolom tersebut.\n",
        "  - copy=False: Artinya transformasi akan dilakukan langsung pada data yang ada, bukan membuat salinan baru.\n",
        "- dbt[feature_columns] = fill_values.fit_transform(dbt[feature_columns]): Menerapkan imputasi dengan fit_transform() pada kolom-kolom dalam feature_columns.\n",
        "  - fit_transform() menghitung rata-rata dari setiap kolom, lalu mengganti nilai 0 dengan nilai rata-rata di kolom tersebut."
      ],
      "metadata": {
        "id": "dSTlhmtmLReQ"
      }
    },
    {
      "cell_type": "markdown",
      "source": [
        "### Split data training dan testing"
      ],
      "metadata": {
        "id": "KML-q-wyLj6c"
      }
    },
    {
      "cell_type": "code",
      "source": [
        "X = dbt[feature_columns]\n",
        "y = dbt.Outcome\n",
        "\n",
        "X_train, X_test, y_train, y_test = train_test_split(X, y, test_size=0.3, random_state=42)"
      ],
      "metadata": {
        "id": "WC2X_HvaLnWj"
      },
      "execution_count": null,
      "outputs": []
    },
    {
      "cell_type": "markdown",
      "source": [
        "- X = dbt[feature_columns]: Mengambil kolom-kolom yang berisi fitur-fitur yang relevan dari dataframe dbt. feature_columns berisi daftar kolom seperti Pregnancies, Glucose, dan lain-lain. Data ini akan digunakan sebagai input untuk model machine learning.\n",
        "- y = dbt.Outcome: Mengambil kolom Outcome sebagai target (label) yang akan diprediksi oleh model. Kolom Outcome berisi kelas diagnosis diabetes (misalnya: 0 untuk tidak diabetes, 1 untuk diabetes).\n",
        "- train_test_split(): Membagi dataset menjadi data pelatihan (training set) dan data pengujian (testing set):\n",
        "  - X_train, X_test: Fitur-fitur untuk pelatihan dan pengujian.\n",
        "  - y_train, y_test: Label untuk pelatihan dan pengujian.\n",
        "  - test_size=0.3: 30% dari data digunakan untuk pengujian, sedangkan 70% untuk pelatihan.\n",
        "  - random_state=42: Menetapkan seed untuk pembagian data agar hasilnya konsisten setiap kali kode dijalankan."
      ],
      "metadata": {
        "id": "9c95bQ0MNWev"
      }
    },
    {
      "cell_type": "markdown",
      "source": [
        "### Training dengan GaussianNB"
      ],
      "metadata": {
        "id": "Rw8-Gv-1NgUp"
      }
    },
    {
      "cell_type": "markdown",
      "source": [
        "#### Standarisasi Fitur"
      ],
      "metadata": {
        "id": "cUCOIDalNrEs"
      }
    },
    {
      "cell_type": "code",
      "source": [
        "# Karena asumsi Gaussian NB adalah data terdistribusi secara normal,\n",
        "# maka kita perlu melakukan standarisasi\n",
        "\n",
        "from sklearn.preprocessing import StandardScaler\n",
        "\n",
        "sc = StandardScaler()\n",
        "\n",
        "# Standarisasi pada fitur di X_train dan X_test\n",
        "X_train_std = sc.fit_transform(X_train)\n",
        "X_test_std = sc.transform(X_test)"
      ],
      "metadata": {
        "id": "WS7ZB1_BNvWZ"
      },
      "execution_count": null,
      "outputs": []
    },
    {
      "cell_type": "markdown",
      "source": [
        "- from sklearn.preprocessing import StandardScaler: Mengimpor StandardScaler dari scikit-learn, yang digunakan untuk standarisasi fitur, yaitu mengubah data sehingga memiliki rata-rata 0 dan standar deviasi 1.\n",
        "- sc = StandardScaler(): Membuat instance dari StandardScaler.\n",
        "- X_train_std = sc.fit_transform(X_train): Menerapkan standarisasi pada X_train:\n",
        "  - fit_transform() menghitung rata-rata dan standar deviasi dari data pelatihan, lalu mengubah data berdasarkan perhitungan tersebut.\n",
        "  - Data pada X_train diubah sehingga setiap fitur memiliki distribusi dengan rata-rata 0 dan standar deviasi 1.\n",
        "- X_test_std = sc.transform(X_test): Menerapkan transformasi yang sama pada X_test, menggunakan rata-rata dan standar deviasi yang dihitung dari X_train.\n",
        "  - transform() memastikan bahwa X_test mengalami perubahan yang konsisten dengan X_train, tanpa menghitung ulang rata-rata dan standar deviasi."
      ],
      "metadata": {
        "id": "NuQNK02nN_ye"
      }
    },
    {
      "cell_type": "markdown",
      "source": [
        "##### Training dan Evaluasi"
      ],
      "metadata": {
        "id": "dbffPXfEN1Wx"
      }
    },
    {
      "cell_type": "code",
      "source": [
        "# Buat obyek GaussianNB\n",
        "gnb_std = GaussianNB()\n",
        "\n",
        "# Fit dengan data yang telah di standarisasi\n",
        "gnb_std.fit(X_train_std, y_train)\n",
        "\n",
        "# Prediksi dengan data test\n",
        "y_pred_gnb = gnb_std.predict(X_test_std)\n",
        "\n",
        "# Evaluasi akurasi testing data\n",
        "acc_gnb = accuracy_score(y_test, y_pred_gnb)\n",
        "\n",
        "# Print hasil evaluasi\n",
        "print(\"Test set accuracy: {:.2f}\".format(acc_gnb))\n",
        "print(f\"Test set accuracy: {acc_gnb}\")"
      ],
      "metadata": {
        "colab": {
          "base_uri": "https://localhost:8080/"
        },
        "id": "lOUPDl3RN4LZ",
        "outputId": "7953689c-2e20-41f2-9a4a-2eb8a216523f"
      },
      "execution_count": null,
      "outputs": [
        {
          "output_type": "stream",
          "name": "stdout",
          "text": [
            "Test set accuracy: 0.74\n",
            "Test set accuracy: 0.7359307359307359\n"
          ]
        }
      ]
    },
    {
      "cell_type": "markdown",
      "source": [
        "- gnb_std = GaussianNB(): Membuat objek Gaussian Naive Bayes (GaussianNB), yang merupakan model berbasis probabilitas yang mengasumsikan bahwa fitur-fitur dalam data terdistribusi secara normal (Gaussian).\n",
        "- gnb_std.fit(X_train_std, y_train): Melatih model GaussianNB menggunakan data pelatihan yang telah distandarisasi (X_train_std) dan label y_train.\n",
        "- y_pred_gnb = gnb_std.predict(X_test_std): Memprediksi label untuk data pengujian (X_test_std) yang juga telah distandarisasi, menghasilkan prediksi y_pred_gnb.\n",
        "- acc_gnb = accuracy_score(y_test, y_pred_gnb): Menghitung akurasi prediksi dengan membandingkan hasil prediksi y_pred_gnb dengan label sebenarnya y_test menggunakan fungsi accuracy_score dari scikit-learn.\n",
        "- print(\"Test set accuracy: {:.2f}\".format(acc_gnb)) dan print(f\"Test set accuracy: {acc_gnb}\"): Menampilkan akurasi model pada data pengujian. Akurasi dihitung sebagai persentase dari prediksi yang benar terhadap total data."
      ],
      "metadata": {
        "id": "yEFVsTPiOSEF"
      }
    },
    {
      "cell_type": "markdown",
      "source": [
        "### Training dengan SVM Linier"
      ],
      "metadata": {
        "id": "I24UdKMnOiug"
      }
    },
    {
      "cell_type": "code",
      "source": [
        "# Model SVM linier tanpa tunnning hyperparameter\n",
        "svm_lin = SVC(kernel='linear')\n",
        "\n",
        "# Fit ke model\n",
        "svm_lin.fit(X_train_std, y_train)\n",
        "\n",
        "# Prediksi\n",
        "y_pred_svm_lin = svm_lin.predict(X_test_std)\n",
        "\n",
        "# Evaluasi akurasi testing data\n",
        "acc_svm_lin = accuracy_score(y_test, y_pred_svm_lin)\n",
        "\n",
        "# Print hasil evaluasi\n",
        "print(\"Test set accuracy: {:.2f}\".format(acc_svm_lin))\n",
        "print(f\"Test set accuracy: {acc_svm_lin}\")"
      ],
      "metadata": {
        "colab": {
          "base_uri": "https://localhost:8080/"
        },
        "id": "6fnomujwOh2T",
        "outputId": "d5f8db97-d950-42dd-e28d-46593bd45f75"
      },
      "execution_count": null,
      "outputs": [
        {
          "output_type": "stream",
          "name": "stdout",
          "text": [
            "Test set accuracy: 0.74\n",
            "Test set accuracy: 0.7402597402597403\n"
          ]
        }
      ]
    },
    {
      "cell_type": "markdown",
      "source": [
        "- svm_lin = SVC(kernel='linear'): Membuat objek SVM dengan kernel linear. Kernel linear berarti SVM akan mencari hyperplane yang memisahkan data dalam ruang dimensi linear tanpa melakukan transformasi non-linear.\n",
        "- svm_lin.fit(X_train_std, y_train): Melatih model SVM dengan data pelatihan yang telah distandarisasi (X_train_std) dan label target y_train.\n",
        "- y_pred_svm_lin = svm_lin.predict(X_test_std): Memprediksi label untuk data pengujian (X_test_std) menggunakan model yang telah dilatih, menghasilkan prediksi y_pred_svm_lin.\n",
        "- acc_svm_lin = accuracy_score(y_test, y_pred_svm_lin): Menghitung akurasi dari prediksi SVM dengan membandingkan prediksi y_pred_svm_lin dengan label sebenarnya y_test menggunakan fungsi accuracy_score dari scikit-learn.\n",
        "- print(\"Test set accuracy: {:.2f}\".format(acc_svm_lin)) dan print(f\"Test set accuracy: {acc_svm_lin}\"): Menampilkan akurasi prediksi SVM pada data pengujian. Akurasi adalah persentase prediksi yang benar dibandingkan dengan jumlah total data pengujian."
      ],
      "metadata": {
        "id": "Lq-AUGAzOnrk"
      }
    },
    {
      "cell_type": "markdown",
      "source": [
        "### Training dengan SVM RBF"
      ],
      "metadata": {
        "id": "a74UkoS2O5JJ"
      }
    },
    {
      "cell_type": "code",
      "source": [
        "# Model SVM RBF tanpa tunnning hyperparameter\n",
        "svm_rbf = SVC(kernel='rbf')\n",
        "\n",
        "# Fit ke model\n",
        "svm_rbf.fit(X_train_std, y_train)\n",
        "\n",
        "# Prediksi\n",
        "y_pred_svm_rbf = svm_rbf.predict(X_test_std)\n",
        "\n",
        "# Evaluasi akurasi testing data\n",
        "acc_svm_rbf = accuracy_score(y_test, y_pred_svm_rbf)\n",
        "\n",
        "# Print hasil evaluasi\n",
        "print(\"Test set accuracy: {:.2f}\".format(acc_svm_rbf))\n",
        "print(f\"Test set accuracy: {acc_svm_rbf}\")"
      ],
      "metadata": {
        "colab": {
          "base_uri": "https://localhost:8080/"
        },
        "id": "PaEW_OHWO9PR",
        "outputId": "a7169a41-3f8c-419a-feca-5c9aec210525"
      },
      "execution_count": null,
      "outputs": [
        {
          "output_type": "stream",
          "name": "stdout",
          "text": [
            "Test set accuracy: 0.72\n",
            "Test set accuracy: 0.7229437229437229\n"
          ]
        }
      ]
    },
    {
      "cell_type": "markdown",
      "source": [
        "- svm_rbf = SVC(kernel='rbf'): Membuat objek SVM dengan kernel RBF. Kernel RBF adalah jenis kernel non-linear yang digunakan untuk mengatasi masalah di mana data tidak dapat dipisahkan secara linear. Kernel ini berfungsi dengan baik untuk dataset yang kompleks.\n",
        "- svm_rbf.fit(X_train_std, y_train): Melatih model SVM dengan kernel RBF menggunakan data pelatihan yang telah distandarisasi (X_train_std) dan label target y_train.\n",
        "- y_pred_svm_rbf = svm_rbf.predict(X_test_std): Memprediksi label untuk data pengujian (X_test_std) menggunakan model yang telah dilatih, menghasilkan prediksi y_pred_svm_rbf.\n",
        "- acc_svm_rbf = accuracy_score(y_test, y_pred_svm_rbf): Menghitung akurasi dari prediksi SVM RBF dengan membandingkan prediksi y_pred_svm_rbf dengan label sebenarnya y_test menggunakan fungsi accuracy_score dari scikit-learn.\n",
        "- print(\"Test set accuracy: {:.2f}\".format(acc_svm_rbf)) dan print(f\"Test set accuracy: {acc_svm_rbf}\"): Menampilkan akurasi prediksi SVM RBF pada data pengujian. Akurasi adalah persentase prediksi yang benar dibandingkan dengan jumlah total data pengujian."
      ],
      "metadata": {
        "id": "q-DtPjaPPGu1"
      }
    },
    {
      "cell_type": "markdown",
      "source": [
        "### Training dengan Voting"
      ],
      "metadata": {
        "id": "-CiNjpmHPSxV"
      }
    },
    {
      "cell_type": "code",
      "source": [
        "# Definisikan algoritma yang akan digunakan untuk voting\n",
        "\n",
        "clf1 = GaussianNB()\n",
        "clf2 = SVC(kernel='linear')\n",
        "clf3 = SVC(kernel='rbf', probability=True)\n",
        "\n",
        "# model hard voting\n",
        "voting = VotingClassifier(estimators=[('GaussianNB', clf1), ('SVM-LIN', clf2), ('SVM-RBF', clf3)], voting='hard')\n",
        "\n",
        "# Fit model\n",
        "voting.fit(X_train_std, y_train)\n",
        "\n",
        "# Prediksi\n",
        "y_pred_vt1 = voting.predict(X_test_std)\n",
        "\n",
        "# Evaluasi akurasi testing data\n",
        "acc_vt1 = accuracy_score(y_test, y_pred_vt1)\n",
        "\n",
        "# Print hasil evaluasi\n",
        "print('Voting Hard')\n",
        "print(\"Test set accuracy: {:.2f}\".format(acc_vt1))\n",
        "print(f\"Test set accuracy: {acc_vt1}\")"
      ],
      "metadata": {
        "colab": {
          "base_uri": "https://localhost:8080/"
        },
        "id": "ACXnNKRRPGBY",
        "outputId": "c07e1122-f582-40ff-c215-4fe3173473fd"
      },
      "execution_count": null,
      "outputs": [
        {
          "output_type": "stream",
          "name": "stdout",
          "text": [
            "Voting Hard\n",
            "Test set accuracy: 0.74\n",
            "Test set accuracy: 0.7402597402597403\n"
          ]
        }
      ]
    },
    {
      "cell_type": "markdown",
      "source": [
        "- clf1 = GaussianNB(): Membuat objek model Gaussian Naive Bayes.\n",
        "- clf2 = SVC(kernel='linear'): Membuat objek model Support Vector Machine (SVM) dengan kernel linear.\n",
        "- clf3 = SVC(kernel='rbf', probability=True): Membuat objek model SVM dengan kernel RBF. Parameter probability=True diaktifkan agar model dapat mengeluarkan probabilitas prediksi, yang berguna dalam beberapa strategi voting.\n",
        "- voting = VotingClassifier(estimators=[('GaussianNB', clf1), ('SVM-LIN', clf2), ('SVM-RBF', clf3)], voting='hard'): Membuat objek VotingClassifier yang menggabungkan ketiga model yang telah didefinisikan. Pendekatan hard voting berarti prediksi akhir ditentukan berdasarkan suara mayoritas dari semua model. Model yang memberikan prediksi terbanyak menjadi hasil akhir.\n",
        "- voting.fit(X_train_std, y_train): Melatih model VotingClassifier dengan data pelatihan yang telah distandarisasi (X_train_std) dan label target y_train.\n",
        "- y_pred_vt1 = voting.predict(X_test_std): Memprediksi label untuk data pengujian (X_test_std) menggunakan model VotingClassifier, menghasilkan prediksi y_pred_vt1.\n",
        "- acc_vt1 = accuracy_score(y_test, y_pred_vt1): Menghitung akurasi dari prediksi VotingClassifier dengan membandingkan prediksi y_pred_vt1 dengan label sebenarnya y_test menggunakan fungsi accuracy_score dari scikit-learn.\n",
        "- print('Voting Hard'): Menampilkan teks \"Voting Hard\" untuk menandakan bahwa ini adalah hasil dari model voting hard.\n",
        "- print(\"Test set accuracy: {:.2f}\".format(acc_vt1)) dan print(f\"Test set accuracy: {acc_vt1}\"): Menampilkan akurasi prediksi model voting pada data pengujian. Akurasi dihitung sebagai persentase dari prediksi yang benar terhadap total data pengujian."
      ],
      "metadata": {
        "id": "lOMmg0SVPn7E"
      }
    },
    {
      "cell_type": "markdown",
      "source": [
        "# TUGAS"
      ],
      "metadata": {
        "id": "Uo8-_dYBP5wh"
      }
    },
    {
      "cell_type": "markdown",
      "source": [
        "## TUGAS 1"
      ],
      "metadata": {
        "id": "yvRNJk4DihEg"
      }
    },
    {
      "cell_type": "code",
      "source": [
        "# Import libraries\n",
        "import pandas as pd\n",
        "from sklearn.model_selection import train_test_split, GridSearchCV\n",
        "from sklearn.tree import DecisionTreeClassifier\n",
        "from sklearn.ensemble import RandomForestClassifier\n",
        "from sklearn.metrics import accuracy_score, classification_report\n",
        "from sklearn.preprocessing import LabelEncoder\n",
        "\n",
        "# Load dataset\n",
        "data = pd.read_csv('mushrooms.csv')\n",
        "\n",
        "# Encode categorical data\n",
        "labelencoder = LabelEncoder()\n",
        "for column in data.columns:\n",
        "    data[column] = labelencoder.fit_transform(data[column])\n",
        "\n",
        "# Separate features and target variable\n",
        "X = data.drop(columns='class')\n",
        "y = data['class']\n",
        "\n",
        "# Split dataset into training and testing sets (80% training, 20% testing)\n",
        "X_train, X_test, y_train, y_test = train_test_split(X, y, test_size=0.2, random_state=42)\n",
        "\n",
        "# Define function for hyperparameter tuning using GridSearchCV\n",
        "def tune_model(model, param_grid, X_train, y_train):\n",
        "    grid_search = GridSearchCV(estimator=model, param_grid=param_grid, cv=5, n_jobs=-1, verbose=1)\n",
        "    grid_search.fit(X_train, y_train)\n",
        "    return grid_search\n",
        "\n",
        "# Decision Tree: Hyperparameter tuning\n",
        "dt_params = {\n",
        "    'max_depth': [None, 10, 20, 30, 40],\n",
        "    'min_samples_split': [2, 5, 10],\n",
        "    'min_samples_leaf': [1, 2, 4]\n",
        "}\n",
        "best_dt = tune_model(DecisionTreeClassifier(random_state=42), dt_params, X_train, y_train)\n",
        "\n",
        "# Random Forest: Hyperparameter tuning\n",
        "rf_params = {\n",
        "    'n_estimators': [50, 100, 200],\n",
        "    'max_depth': [None, 10, 20, 30],\n",
        "    'min_samples_split': [2, 5, 10],\n",
        "    'min_samples_leaf': [1, 2, 4]\n",
        "}\n",
        "best_rf = tune_model(RandomForestClassifier(random_state=42), rf_params, X_train, y_train)\n",
        "\n",
        "# Function to evaluate model and print results\n",
        "def evaluate_model(model, X_test, y_test):\n",
        "    y_pred = model.predict(X_test)\n",
        "    accuracy = accuracy_score(y_test, y_pred)\n",
        "    print(f\"Best Parameters: {model.best_params_}\")\n",
        "    print(f\"Accuracy: {accuracy:.4f}\")\n",
        "    print(classification_report(y_test, y_pred))\n",
        "\n",
        "# Evaluate Decision Tree\n",
        "print(\"Hasil Decision Tree\")\n",
        "evaluate_model(best_dt, X_test, y_test)\n",
        "\n",
        "# Evaluate Random Forest\n",
        "print(\"\\nHasil Random Forest\")\n",
        "evaluate_model(best_rf, X_test, y_test)"
      ],
      "metadata": {
        "id": "qyAQI5nlQauR",
        "colab": {
          "base_uri": "https://localhost:8080/"
        },
        "outputId": "67420d26-b2d2-4052-a57d-12a417cc8bf0"
      },
      "execution_count": 2,
      "outputs": [
        {
          "output_type": "stream",
          "name": "stdout",
          "text": [
            "Fitting 5 folds for each of 45 candidates, totalling 225 fits\n",
            "Fitting 5 folds for each of 108 candidates, totalling 540 fits\n",
            "Hasil Decision Tree\n",
            "Best Parameters: {'max_depth': None, 'min_samples_leaf': 1, 'min_samples_split': 2}\n",
            "Accuracy: 1.0000\n",
            "              precision    recall  f1-score   support\n",
            "\n",
            "           0       1.00      1.00      1.00       843\n",
            "           1       1.00      1.00      1.00       782\n",
            "\n",
            "    accuracy                           1.00      1625\n",
            "   macro avg       1.00      1.00      1.00      1625\n",
            "weighted avg       1.00      1.00      1.00      1625\n",
            "\n",
            "\n",
            "Hasil Random Forest\n",
            "Best Parameters: {'max_depth': None, 'min_samples_leaf': 1, 'min_samples_split': 2, 'n_estimators': 50}\n",
            "Accuracy: 1.0000\n",
            "              precision    recall  f1-score   support\n",
            "\n",
            "           0       1.00      1.00      1.00       843\n",
            "           1       1.00      1.00      1.00       782\n",
            "\n",
            "    accuracy                           1.00      1625\n",
            "   macro avg       1.00      1.00      1.00      1625\n",
            "weighted avg       1.00      1.00      1.00      1625\n",
            "\n"
          ]
        }
      ]
    },
    {
      "cell_type": "markdown",
      "source": [
        "- Import Library\n",
        "  - pandas: Digunakan untuk memuat dan memanipulasi dataset.\n",
        "  - train_test_split: Memisahkan data menjadi bagian pelatihan dan pengujian.\n",
        "  - GridSearchCV: Digunakan untuk tuning hyperparameter dengan cross-validation.\n",
        "  - DecisionTreeClassifier dan RandomForestClassifier: Model pembelajaran mesin untuk klasifikasi.\n",
        "  - accuracy_score dan classification_report: Untuk mengevaluasi kinerja model.\n",
        "  - LabelEncoder: Mengonversi data kategorikal menjadi numerik.\n",
        "\n",
        "- Load data\n",
        "  - pd.read_csv: Membaca file CSV berisi dataset jamur ke dalam dataframe data.\n",
        "\n",
        "- Encode kategorial data\n",
        "  - Mengonversi setiap kolom data kategorikal (teks) menjadi data numerik. Hal ini diperlukan karena model pembelajaran mesin bekerja dengan data numerik.\n",
        "  - fit_transform: Mengonversi data teks di setiap kolom menjadi angka yang dapat diproses.\n",
        "\n",
        "- Separate feature and target variable\n",
        "  - X: Semua fitur (variabel input) kecuali kolom class.\n",
        "  - y: Kolom class, yaitu label target yang berisi kelas jamur (edible atau poisonous) yang akan diprediksi.\n",
        "\n",
        "- Split dataset into training and testing sets\n",
        "  - Memisahkan dataset menjadi data latih dan data uji dengan proporsi 80% untuk latih dan 20% untuk uji.\n",
        "  - random_state=42 memastikan pemisahan dilakukan secara acak yang sama setiap kali kode dijalankan (reproducibility).\n",
        "\n",
        "- define function hyperparameter tunning\n",
        "  - Fungsi tune_model digunakan untuk mencari kombinasi terbaik dari hyperparameter menggunakan GridSearchCV.\n",
        "  - param_grid: Berisi parameter yang akan diuji.\n",
        "  - cv=5: Cross-validation dengan 5 fold, berarti dataset dibagi menjadi 5 bagian dan model dilatih serta diuji 5 kali dengan bagian yang berbeda.\n",
        "  - n_jobs=-1: Menjalankan secara paralel di semua prosesor yang tersedia, mempercepat proses.\n",
        "\n",
        "- decision tree: hyperparamater tunning\n",
        "  - dt_params: Berisi daftar nilai hyperparameter yang akan diuji untuk model Decision Tree:\n",
        "  - max_depth: Batasan kedalaman maksimal pohon.\n",
        "  - min_samples_split: Minimum jumlah sampel yang diperlukan untuk membagi node.\n",
        "  - min_samples_leaf: Minimum jumlah sampel yang harus dimiliki oleh setiap node daun.\n",
        "  - tune_model: Mencari kombinasi hyperparameter terbaik untuk Decision Tree.\n",
        "\n",
        "- random forest: hyperparameter tunning\n",
        "  - rf_params: Berisi daftar nilai hyperparameter yang akan diuji untuk Random Forest:\n",
        "  - n_estimators: Jumlah pohon dalam hutan.\n",
        "  - max_depth, min_samples_split, dan min_samples_leaf sama seperti pada Decision Tree.\n",
        "  - tune_model: Mencari kombinasi hyperparameter terbaik untuk Random Forest.\n",
        "\n",
        "- function to evaluate\n",
        "  - evaluate_model: Fungsi untuk mengevaluasi model setelah pelatihan:\n",
        "  - predict: Memprediksi nilai target dari data uji.\n",
        "  - accuracy_score: Menghitung akurasi model.\n",
        "  - classification_report: Menampilkan metrik evaluasi seperti precision, recall, dan f1-score.\n",
        "  - best_params_: Menampilkan hyperparameter terbaik yang ditemukan oleh GridSearchCV."
      ],
      "metadata": {
        "id": "nyjktMtXpUsx"
      }
    },
    {
      "cell_type": "markdown",
      "source": [
        "## TUGAS 2"
      ],
      "metadata": {
        "id": "wZBUA_gOl5GH"
      }
    },
    {
      "cell_type": "code",
      "source": [
        "# Import libraries\n",
        "import pandas as pd\n",
        "from sklearn.model_selection import train_test_split, GridSearchCV\n",
        "from sklearn.tree import DecisionTreeClassifier\n",
        "from sklearn.ensemble import AdaBoostClassifier\n",
        "from sklearn.metrics import accuracy_score, classification_report\n",
        "from sklearn.preprocessing import LabelEncoder\n",
        "\n",
        "# Load dataset\n",
        "data = pd.read_csv('mushrooms.csv')\n",
        "\n",
        "# Preprocessing: Encode categorical data\n",
        "labelencoder = LabelEncoder()\n",
        "for column in data.columns:\n",
        "    data[column] = labelencoder.fit_transform(data[column])\n",
        "\n",
        "# Separate features and target variable\n",
        "X = data.drop(columns='class')\n",
        "y = data['class']\n",
        "\n",
        "# Split dataset into training and testing sets (80% training, 20% testing)\n",
        "X_train, X_test, y_train, y_test = train_test_split(X, y, test_size=0.2, random_state=42)\n",
        "\n",
        "# Define function for hyperparameter tuning using GridSearchCV\n",
        "def tune_model(model, param_grid, X_train, y_train):\n",
        "    grid_search = GridSearchCV(estimator=model, param_grid=param_grid, cv=5, n_jobs=-1, verbose=1)\n",
        "    grid_search.fit(X_train, y_train)\n",
        "    return grid_search\n",
        "\n",
        "# Decision Tree: Hyperparameter tuning\n",
        "dt_params = {\n",
        "    'max_depth': [None, 10, 20, 30, 40],\n",
        "    'min_samples_split': [2, 5, 10],\n",
        "    'min_samples_leaf': [1, 2, 4]\n",
        "}\n",
        "best_dt = tune_model(DecisionTreeClassifier(random_state=42), dt_params, X_train, y_train)\n",
        "\n",
        "# AdaBoost: Hyperparameter tuning\n",
        "adaboost_params = {\n",
        "    'n_estimators': [50, 100, 200],\n",
        "    'learning_rate': [0.01, 0.1, 1, 10],\n",
        "    'estimator__max_depth': [1, 2, 3]  # Base estimator is Decision Tree\n",
        "}\n",
        "adaboost = AdaBoostClassifier(estimator=DecisionTreeClassifier(random_state=42))\n",
        "best_adaboost = tune_model(adaboost, adaboost_params, X_train, y_train)\n",
        "\n",
        "# Function to evaluate model and print results\n",
        "def evaluate_model(model, X_test, y_test):\n",
        "    y_pred = model.predict(X_test)\n",
        "    accuracy = accuracy_score(y_test, y_pred)\n",
        "    print(f\"Best Parameters: {model.best_params_}\")\n",
        "    print(f\"Accuracy: {accuracy:.2f}\")\n",
        "    print(classification_report(y_test, y_pred))\n",
        "\n",
        "# Evaluate Decision Tree\n",
        "print(\"Hasil Decision Tree\")\n",
        "evaluate_model(best_dt, X_test, y_test)\n",
        "\n",
        "# Evaluate AdaBoost\n",
        "print(\"\\nHasil AdaBoost\")\n",
        "evaluate_model(best_adaboost, X_test, y_test)"
      ],
      "metadata": {
        "colab": {
          "base_uri": "https://localhost:8080/"
        },
        "id": "_PeX5I9Tl7LZ",
        "outputId": "c44d4fb2-deea-4a96-f073-bf2d5d45b885"
      },
      "execution_count": 4,
      "outputs": [
        {
          "metadata": {
            "tags": null
          },
          "name": "stdout",
          "output_type": "stream",
          "text": [
            "Fitting 5 folds for each of 45 candidates, totalling 225 fits\n",
            "Fitting 5 folds for each of 36 candidates, totalling 180 fits\n"
          ]
        },
        {
          "output_type": "stream",
          "name": "stderr",
          "text": [
            "/usr/local/lib/python3.10/dist-packages/numpy/ma/core.py:2820: RuntimeWarning: invalid value encountered in cast\n",
            "  _data = np.array(data, dtype=dtype, copy=copy,\n",
            "/usr/local/lib/python3.10/dist-packages/sklearn/ensemble/_weight_boosting.py:527: FutureWarning: The SAMME.R algorithm (the default) is deprecated and will be removed in 1.6. Use the SAMME algorithm to circumvent this warning.\n",
            "  warnings.warn(\n"
          ]
        },
        {
          "output_type": "stream",
          "name": "stdout",
          "text": [
            "Hasil Decision Tree\n",
            "Best Parameters: {'max_depth': None, 'min_samples_leaf': 1, 'min_samples_split': 2}\n",
            "Accuracy: 1.00\n",
            "              precision    recall  f1-score   support\n",
            "\n",
            "           0       1.00      1.00      1.00       843\n",
            "           1       1.00      1.00      1.00       782\n",
            "\n",
            "    accuracy                           1.00      1625\n",
            "   macro avg       1.00      1.00      1.00      1625\n",
            "weighted avg       1.00      1.00      1.00      1625\n",
            "\n",
            "\n",
            "Hasil AdaBoost\n",
            "Best Parameters: {'estimator__max_depth': 1, 'learning_rate': 1, 'n_estimators': 50}\n",
            "Accuracy: 1.00\n",
            "              precision    recall  f1-score   support\n",
            "\n",
            "           0       1.00      1.00      1.00       843\n",
            "           1       1.00      1.00      1.00       782\n",
            "\n",
            "    accuracy                           1.00      1625\n",
            "   macro avg       1.00      1.00      1.00      1625\n",
            "weighted avg       1.00      1.00      1.00      1625\n",
            "\n"
          ]
        }
      ]
    },
    {
      "cell_type": "markdown",
      "source": [
        "- Import library\n",
        "  - pandas: Untuk membaca dan memanipulasi dataset.\n",
        "  - train_test_split: Memisahkan dataset menjadi data latih dan data uji.\n",
        "  - GridSearchCV: Untuk melakukan pencarian hyperparameter terbaik melalui cross-validation.\n",
        "  - DecisionTreeClassifier: Model pohon keputusan.\n",
        "  - AdaBoostClassifier: Model ensemble AdaBoost yang menggunakan pohon keputusan sebagai estimator dasar.\n",
        "  - accuracy_score: Untuk menghitung akurasi model.\n",
        "  - classification_report: Memberikan metrik evaluasi lain seperti precision, recall, dan f1-score.\n",
        "  - LabelEncoder: Mengubah data kategorikal menjadi numerik.\n",
        "- Load dataset\n",
        "  - data = pd.read_csv('mushrooms.csv'): Membaca dataset jamur ke dalam dataframe data menggunakan pandas.\n",
        "- Preprocessing: Encode categorical data\n",
        "  - labelencoder = LabelEncoder() for column in data.columns: data[column] = labelencoder.fit_transform(data[column]): LabelEncoder digunakan untuk mengubah setiap kolom data kategorikal (seperti teks) menjadi angka yang dapat digunakan oleh algoritma pembelajaran mesin.\n",
        "- separate feature and target variable\n",
        "  - X = data.drop(columns='class'), y = data['class'] : Memisahkan fitur (kolom X) dan target variabel (kolom y) yang akan diprediksi.\n",
        "  - X berisi semua kolom kecuali class, dan y berisi nilai kelas target (edible atau poisonous).\n",
        "- split dataset into training dan testing set: X_train, X_test, y_train, y_test = train_test_split(X, y, test_size=0.2, random_state=42)\n",
        "  - Membagi dataset menjadi data latih (80%) dan data uji (20%) dengan train_test_split.\n",
        "  - random_state=42 memastikan hasil pemisahan yang sama setiap kali kode dijalankan.\n",
        "- Define Function for Hyperparameter Tuning:\n",
        "  - tune_model adalah fungsi untuk melakukan tuning hyperparameter menggunakan GridSearchCV.\n",
        "    - param_grid berisi daftar hyperparameter yang akan diuji.\n",
        "    - cv=5 melakukan cross-validation dengan 5 fold (membagi data menjadi 5 bagian).\n",
        "    - n_jobs=-1 memastikan semua core CPU digunakan untuk mempercepat proses.\n",
        "- Decision Tree: Hyperparameter Tuning\n",
        "  - Menyiapkan parameter untuk Decision Tree:\n",
        "    - max_depth: Batas maksimal kedalaman pohon.\n",
        "    - min_samples_split: Jumlah minimal sampel yang diperlukan untuk memecah node.\n",
        "    - min_samples_leaf: Jumlah minimal sampel pada setiap daun.\n",
        "  - Fungsi tune_model digunakan untuk mencari kombinasi parameter terbaik menggunakan GridSearchCV.\n",
        "- AdaBoost: Hyperparameter Tuning\n",
        "  - Menyiapkan parameter untuk AdaBoost:\n",
        "    - n_estimators: Jumlah pohon keputusan yang akan dibuat oleh AdaBoost.\n",
        "    - learning_rate: Pengaturan kecepatan pembelajaran (learning rate) untuk memperbarui bobot pada tiap iterasi.\n",
        "    - estimator__max_depth: Pengaturan kedalaman maksimal untuk model pohon keputusan sebagai base estimator.\n",
        "  - tune_model digunakan untuk mencari kombinasi parameter terbaik untuk AdaBoost.\n",
        "- Function to Evaluate Model and Print Results\n",
        "  - evaluate_model adalah fungsi yang digunakan untuk mengevaluasi model dengan data uji:\n",
        "  - predict: Menghasilkan prediksi dari model.\n",
        "  - accuracy_score: Menghitung akurasi prediksi.\n",
        "  - classification_report: Menampilkan metrik evaluasi lainnya seperti precision, recall, dan f1-score.\n",
        "  - model.best_params_: Menampilkan hyperparameter terbaik yang ditemukan melalui GridSearchCV."
      ],
      "metadata": {
        "id": "7rHI9TOUrKOT"
      }
    },
    {
      "cell_type": "markdown",
      "source": [
        "## TUGAS 3"
      ],
      "metadata": {
        "id": "S2EEfEmPnG0x"
      }
    },
    {
      "cell_type": "code",
      "source": [
        "# Import libraries\n",
        "import pandas as pd\n",
        "from sklearn.model_selection import train_test_split, GridSearchCV\n",
        "from sklearn.ensemble import VotingClassifier\n",
        "from sklearn.linear_model import LogisticRegression\n",
        "from sklearn.svm import SVC\n",
        "from sklearn.tree import DecisionTreeClassifier\n",
        "from sklearn.metrics import accuracy_score, classification_report\n",
        "from sklearn.preprocessing import StandardScaler\n",
        "\n",
        "# Load dataset\n",
        "data = pd.read_csv('diabetes.csv')\n",
        "\n",
        "# Preprocessing: Separate features and target variable\n",
        "X = data.drop(columns='Outcome')  # Assuming 'Outcome' is the target column\n",
        "y = data['Outcome']\n",
        "\n",
        "# Standardize features\n",
        "scaler = StandardScaler()\n",
        "X_scaled = scaler.fit_transform(X)\n",
        "\n",
        "# Split dataset into training and testing sets (80% training, 20% testing)\n",
        "X_train, X_test, y_train, y_test = train_test_split(X_scaled, y, test_size=0.2, random_state=42)\n",
        "\n",
        "# Logistic Regression: Hyperparameter tuning\n",
        "lr_params = {'C': [0.01, 0.1, 1, 10, 100]}\n",
        "lr = GridSearchCV(LogisticRegression(random_state=42), param_grid=lr_params, cv=5, n_jobs=-1, verbose=1)\n",
        "lr.fit(X_train, y_train)\n",
        "\n",
        "# SVM with polynomial kernel: Hyperparameter tuning\n",
        "svm_params = {'C': [0.01, 0.1, 1, 10, 100], 'degree': [2, 3, 4], 'kernel': ['poly']}\n",
        "svm = GridSearchCV(SVC(probability=True, random_state=42), param_grid=svm_params, cv=5, n_jobs=-1, verbose=1)\n",
        "svm.fit(X_train, y_train)\n",
        "\n",
        "# Decision Tree: Hyperparameter tuning\n",
        "dt_params = {'max_depth': [None, 10, 20, 30], 'min_samples_split': [2, 5, 10]}\n",
        "dt = GridSearchCV(DecisionTreeClassifier(random_state=42), param_grid=dt_params, cv=5, n_jobs=-1, verbose=1)\n",
        "dt.fit(X_train, y_train)\n",
        "\n",
        "# Create Voting Classifier using best estimators from GridSearchCV\n",
        "voting_clf = VotingClassifier(\n",
        "    estimators=[\n",
        "        ('lr', lr.best_estimator_),\n",
        "        ('svm', svm.best_estimator_),\n",
        "        ('dt', dt.best_estimator_)\n",
        "    ],\n",
        "    voting='soft'  # 'soft' voting to use predicted probabilities\n",
        ")\n",
        "\n",
        "# Fit voting classifier on the training data\n",
        "voting_clf.fit(X_train, y_train)\n",
        "\n",
        "# Evaluate ensemble voting classifier\n",
        "y_pred = voting_clf.predict(X_test)\n",
        "accuracy = accuracy_score(y_test, y_pred)\n",
        "\n",
        "print(\"Akurasi Voting Classifier: {:.4f}\".format(accuracy))\n",
        "print(classification_report(y_test, y_pred))"
      ],
      "metadata": {
        "colab": {
          "base_uri": "https://localhost:8080/"
        },
        "id": "q0ukK1HFnIGf",
        "outputId": "daac2bd2-eb04-4787-9699-827ea5c441ba"
      },
      "execution_count": 5,
      "outputs": [
        {
          "output_type": "stream",
          "name": "stdout",
          "text": [
            "Fitting 5 folds for each of 5 candidates, totalling 25 fits\n",
            "Fitting 5 folds for each of 15 candidates, totalling 75 fits\n",
            "Fitting 5 folds for each of 12 candidates, totalling 60 fits\n",
            "Akurasi Voting Classifier: 0.7922\n",
            "              precision    recall  f1-score   support\n",
            "\n",
            "           0       0.84      0.84      0.84        99\n",
            "           1       0.71      0.71      0.71        55\n",
            "\n",
            "    accuracy                           0.79       154\n",
            "   macro avg       0.77      0.77      0.77       154\n",
            "weighted avg       0.79      0.79      0.79       154\n",
            "\n"
          ]
        }
      ]
    },
    {
      "cell_type": "markdown",
      "source": [
        "- Import Libraries\n",
        "  - pandas: Untuk membaca dan memproses dataset.\n",
        "  - train_test_split: Untuk membagi dataset menjadi data latih dan data uji.\n",
        "  - GridSearchCV: Untuk melakukan pencarian hyperparameter terbaik melalui cross-validation.\n",
        "  - VotingClassifier: Algoritma ensemble untuk menggabungkan beberapa model (Logistic Regression, SVM, Decision Tree).\n",
        "  - LogisticRegression, SVC, dan DecisionTreeClassifier: Model yang digunakan dalam ensemble.\n",
        "  - accuracy_score dan classification_report: Untuk mengukur akurasi dan performa klasifikasi.\n",
        "  - StandardScaler: Untuk menstandarisasi fitur sehingga tiap fitur memiliki mean 0 dan variansi 1.\n",
        "- Load Dataset\n",
        "  - data = pd.read_csv('diabetes.csv'): Membaca dataset diabetes ke dalam dataframe data.\n",
        "- Preprocessing: Separate Features and Target Variable\n",
        "  - X = data.drop(columns='Outcome')  # Asumsi kolom 'Outcome' adalah target\n",
        "  - y = data['Outcome']\n",
        "  - Memisahkan fitur (kolom selain 'Outcome') ke variabel X.\n",
        "  - y berisi target variabel yaitu Outcome yang menunjukkan apakah pasien mengidap diabetes (1) atau tidak (0).\n",
        "- Standardize Features\n",
        "  - scaler = StandardScaler(), X_scaled = scaler.fit_transform(X): StandardScaler digunakan untuk menstandarisasi fitur sehingga memiliki skala yang sama, yang penting untuk model seperti Logistic Regression dan SVM.\n",
        "- Split Dataset into Training and Testing Sets\n",
        "  - X_train, X_test, y_train, y_test = train_test_split(X_scaled, y, test_size=0.2, random_state=42):\n",
        "    - Membagi dataset menjadi data latih (80%) dan data uji (20%) dengan train_test_split.\n",
        "    - random_state=42 memastikan hasil pemisahan yang sama setiap kali kode dijalankan.\n",
        "- Logistic Regression: Hyperparameter Tuning\n",
        "  - lr_params = {'C': [0.01, 0.1, 1, 10, 100]}, lr = GridSearchCV(LogisticRegression(random_state=42), param_grid=lr_params, cv=5, n_jobs=-1, verbose=1), lr.fit(X_train, y_train)\n",
        "    - C adalah hyperparameter yang mengatur regularisasi di Logistic Regression. Pencarian nilai terbaik dilakukan menggunakan GridSearchCV.\n",
        "    - fit digunakan untuk melatih model Logistic Regression dengan data latih.\n",
        "- SVM with Polynomial Kernel: Hyperparameter Tuning\n",
        "  - SVM (Support Vector Machine) dengan kernel polinomial menggunakan GridSearchCV untuk menemukan kombinasi terbaik dari C, degree (tingkat polinomial), dan kernel.\n",
        "  - probability=True digunakan agar SVM bisa memberikan probabilitas untuk voting soft.\n",
        "- Decision Tree: Hyperparameter Tuning\n",
        "  - Decision Tree menggunakan GridSearchCV untuk mencari parameter terbaik untuk max_depth (kedalaman maksimal pohon) dan min_samples_split (jumlah minimal sampel untuk memecah node).\n",
        "- Create Voting Classifier Using Best Estimators\n",
        "  - VotingClassifier digunakan untuk menggabungkan tiga model terbaik:\n",
        "    - lr: Logistic Regression\n",
        "    - svm: SVM dengan kernel polinomial\n",
        "    - dt: Decision Tree\n",
        "  - Voting='soft' digunakan untuk menghitung probabilitas rata-rata dari setiap model (karena SVM dan Logistic Regression menghasilkan probabilitas).\n",
        "- Fit Voting Classifier on the Training Data\n",
        "  - voting_clf.fit(X_train, y_train): Melatih VotingClassifier menggunakan data latih.\n",
        "- Evaluate Ensemble Voting Classifier\n",
        "  - y_pred = voting_clf.predict(X_test); accuracy = accuracy_score(y_test, y_pred)\n",
        "  - Memprediksi hasil dengan data uji menggunakan model VotingClassifier.\n",
        "  - Menghitung akurasi dan menampilkan laporan klasifikasi yang berisi precision, recall, dan f1-score."
      ],
      "metadata": {
        "id": "OIax2Y6BCrdP"
      }
    }
  ]
}